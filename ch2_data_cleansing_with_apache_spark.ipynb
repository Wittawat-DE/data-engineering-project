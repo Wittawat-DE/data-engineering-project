{
  "cells": [
    {
      "cell_type": "markdown",
      "metadata": {
        "id": "vXwH7Ulavc22"
      },
      "source": [
        "**CHAPTER 2 Data Cleansing with Apache Spark**\n",
        "\n",
        "**2.1 Install Spark and PySpark**\n",
        "\n",
        "2.1.1  Update all Package in this VM"
      ]
    },
    {
      "cell_type": "code",
      "execution_count": null,
      "metadata": {
        "collapsed": true,
        "id": "4s_VPgwUvwVe"
      },
      "outputs": [],
      "source": [
        "!apt-get update\n",
        "!apt-get install openjdk-8-jdk-headless -qq > /dev/null\n",
        "!wget -q https://archive.apache.org/dist/spark/spark-3.5.1/spark-3.5.1-bin-hadoop3.tgz\n",
        "!tar xzvf spark-3.5.1-bin-hadoop3.tgz\n",
        "!pip install -q findspark"
      ]
    },
    {
      "cell_type": "markdown",
      "metadata": {
        "id": "dU79M_H0vygO"
      },
      "source": [
        "2.1.2 Set enviroment variable make Python know Spark"
      ]
    },
    {
      "cell_type": "code",
      "execution_count": 132,
      "metadata": {
        "id": "zHmCs4ncvz73"
      },
      "outputs": [],
      "source": [
        "import os\n",
        "os.environ[\"JAVA_HOME\"] = \"/usr/lib/jvm/java-8-openjdk-amd64\"\n",
        "os.environ[\"SPARK_HOME\"] = \"/content/spark-3.5.1-bin-hadoop3\""
      ]
    },
    {
      "cell_type": "markdown",
      "metadata": {
        "id": "-xLpyry2v1aq"
      },
      "source": [
        "2.1.3 Install PySpark version 3.5.1 in Python"
      ]
    },
    {
      "cell_type": "code",
      "execution_count": null,
      "metadata": {
        "collapsed": true,
        "id": "hQOqYTZfv2de"
      },
      "outputs": [],
      "source": [
        "!pip install pyspark==3.5.1"
      ]
    },
    {
      "cell_type": "markdown",
      "metadata": {
        "id": "oA9tJC9-v3Sm"
      },
      "source": [
        "2.1.4 Create Spark Session for use Spark"
      ]
    },
    {
      "cell_type": "code",
      "execution_count": 134,
      "metadata": {
        "id": "so38qd_0v4me"
      },
      "outputs": [],
      "source": [
        "from pyspark.sql import SparkSession\n",
        "spark = SparkSession.builder \\\n",
        "    .master(\"local[*]\") \\\n",
        "    .appName(\"Road to Data Engineer 3.0 App\") \\\n",
        "    .getOrCreate()"
      ]
    },
    {
      "cell_type": "markdown",
      "metadata": {
        "id": "wlgRmOlNv5fW"
      },
      "source": [
        "2.1.5 Get the data from chapter 1"
      ]
    },
    {
      "cell_type": "code",
      "execution_count": null,
      "metadata": {
        "collapsed": true,
        "id": "MtNAPLhqv7NO"
      },
      "outputs": [],
      "source": [
        "!wget https://file.designil.com/f/6BamyF+ -O w2_input.parquet\n",
        "dt = spark.read.parquet('w2_input.parquet')"
      ]
    },
    {
      "cell_type": "markdown",
      "metadata": {
        "id": "2hG_Apmfv9F6"
      },
      "source": [
        "**2.2 Data Profiling**\n",
        "\n",
        "2.2.1 Show all column and data type\n"
      ]
    },
    {
      "cell_type": "code",
      "execution_count": 136,
      "metadata": {
        "colab": {
          "base_uri": "https://localhost:8080/"
        },
        "id": "_gilUOwBwDW2",
        "outputId": "c5e50618-2490-4312-bb2f-4174722916b2"
      },
      "outputs": [
        {
          "output_type": "execute_result",
          "data": {
            "text/plain": [
              "DataFrame[transaction_id: string, date: string, product_id: string, price: double, quantity: bigint, customer_id: double, product_name: string, customer_country: string, customer_name: string, total_amount: double, thb_amount: double]"
            ]
          },
          "metadata": {},
          "execution_count": 136
        }
      ],
      "source": [
        "dt"
      ]
    },
    {
      "cell_type": "markdown",
      "metadata": {
        "id": "Vmjnq65TwEM3"
      },
      "source": [
        "2.2.2 Show data detail each of column"
      ]
    },
    {
      "cell_type": "code",
      "execution_count": 137,
      "metadata": {
        "colab": {
          "base_uri": "https://localhost:8080/"
        },
        "id": "l5G-whQkwFw2",
        "outputId": "bfabb8ea-8f85-4c15-b653-63a452dc879e"
      },
      "outputs": [
        {
          "output_type": "stream",
          "name": "stdout",
          "text": [
            "+--------------+----------+----------+-----+--------+-----------+--------------------+----------------+-------------+------------------+------------------+\n",
            "|transaction_id|      date|product_id|price|quantity|customer_id|        product_name|customer_country|customer_name|      total_amount|        thb_amount|\n",
            "+--------------+----------+----------+-----+--------+-----------+--------------------+----------------+-------------+------------------+------------------+\n",
            "|        581482|2024-05-10|     22485|21.47|      12|    17490.0|Set Of 2 Wooden M...|  United Kingdom| Sara Griffin|            257.64|        11792.1828|\n",
            "|        581475|2024-05-10|     22596|10.65|      36|    13069.0|Christmas Star Wi...|  United Kingdom| Michael Holt|383.40000000000003|17548.218000000004|\n",
            "|        581475|2024-05-10|     23235|11.53|      12|    13069.0|Storage Tin Vinta...|  United Kingdom| Michael Holt|138.35999999999999|         6332.7372|\n",
            "|        581475|2024-05-10|     23272|10.65|      12|    13069.0|Tree T-Light Hold...|  United Kingdom| Michael Holt|127.80000000000001| 5849.406000000001|\n",
            "|        581475|2024-05-10|     23239|11.94|       6|    13069.0|Set Of 4 Knick Kn...|  United Kingdom| Michael Holt|             71.64|3278.9628000000002|\n",
            "|        581475|2024-05-10|     21705|10.65|      24|    13069.0|Bag 500g Swirly M...|  United Kingdom| Michael Holt|255.60000000000002|11698.812000000002|\n",
            "|        581475|2024-05-10|     22118|11.53|      18|    13069.0|Joy Wooden Block ...|  United Kingdom| Michael Holt|            207.54| 9499.105800000001|\n",
            "|        581475|2024-05-10|     22119|12.25|      12|    13069.0|Peace Wooden Bloc...|  United Kingdom| Michael Holt|             147.0|6728.1900000000005|\n",
            "|        581475|2024-05-10|     22217|10.65|      12|    13069.0|T-Light Holder Ha...|  United Kingdom| Michael Holt|127.80000000000001| 5849.406000000001|\n",
            "|        581475|2024-05-10|     22216|10.55|      24|    13069.0|T-Light Holder Wh...|  United Kingdom| Michael Holt|253.20000000000002|11588.964000000002|\n",
            "|        581475|2024-05-10|     22380|11.06|      20|    13069.0|   Toy Tidy Spaceboy|  United Kingdom| Michael Holt|221.20000000000002|10124.324000000002|\n",
            "|        581475|2024-05-10|     22442|12.25|      12|    13069.0|Grow Your Own Flo...|  United Kingdom| Michael Holt|             147.0|6728.1900000000005|\n",
            "|        581475|2024-05-10|     22664|11.06|      20|    13069.0|Toy Tidy Dolly Gi...|  United Kingdom| Michael Holt|221.20000000000002|10124.324000000002|\n",
            "|        581475|2024-05-10|     22721|12.25|      12|    13069.0|Set Of 3 Cake Tin...|  United Kingdom| Michael Holt|             147.0|6728.1900000000005|\n",
            "|        581475|2024-05-10|     22723|11.53|      12|    13069.0|Set Of 6 Herb Tin...|  United Kingdom| Michael Holt|138.35999999999999|         6332.7372|\n",
            "|        581475|2024-05-10|     22785|11.53|      12|    13069.0|Squarecushion Cov...|  United Kingdom| Michael Holt|138.35999999999999|         6332.7372|\n",
            "|        581475|2024-05-10|     22955|11.06|      24|    13069.0|36 Foil Star Cake...|  United Kingdom| Michael Holt|            265.44|        12149.1888|\n",
            "|        581475|2024-05-10|     23141|11.06|      12|    13069.0|Triple Wire Hook ...|  United Kingdom| Michael Holt|            132.72|         6074.5944|\n",
            "|        581475|2024-05-10|     22956|11.06|      24|    13069.0|36 Foil Heart Cak...|  United Kingdom| Michael Holt|            265.44|        12149.1888|\n",
            "|        581475|2024-05-10|     22581|10.55|      48|    13069.0|Wood Stocking Chr...|  United Kingdom| Michael Holt|506.40000000000003|23177.928000000004|\n",
            "+--------------+----------+----------+-----+--------+-----------+--------------------+----------------+-------------+------------------+------------------+\n",
            "only showing top 20 rows\n",
            "\n"
          ]
        }
      ],
      "source": [
        "dt.show()"
      ]
    },
    {
      "cell_type": "markdown",
      "metadata": {
        "id": "V2XK1_3uwGnv"
      },
      "source": [
        "2.2.3 Show data detail each of column just 10 rows.\n",
        "\n"
      ]
    },
    {
      "cell_type": "code",
      "execution_count": 138,
      "metadata": {
        "colab": {
          "base_uri": "https://localhost:8080/"
        },
        "id": "gU_W8HExwId-",
        "outputId": "23a9eef0-24a1-4774-fad0-2da494b893a9"
      },
      "outputs": [
        {
          "output_type": "stream",
          "name": "stdout",
          "text": [
            "+--------------+----------+----------+-----+--------+-----------+--------------------+----------------+-------------+------------------+------------------+\n",
            "|transaction_id|      date|product_id|price|quantity|customer_id|        product_name|customer_country|customer_name|      total_amount|        thb_amount|\n",
            "+--------------+----------+----------+-----+--------+-----------+--------------------+----------------+-------------+------------------+------------------+\n",
            "|        581482|2024-05-10|     22485|21.47|      12|    17490.0|Set Of 2 Wooden M...|  United Kingdom| Sara Griffin|            257.64|        11792.1828|\n",
            "|        581475|2024-05-10|     22596|10.65|      36|    13069.0|Christmas Star Wi...|  United Kingdom| Michael Holt|383.40000000000003|17548.218000000004|\n",
            "|        581475|2024-05-10|     23235|11.53|      12|    13069.0|Storage Tin Vinta...|  United Kingdom| Michael Holt|138.35999999999999|         6332.7372|\n",
            "|        581475|2024-05-10|     23272|10.65|      12|    13069.0|Tree T-Light Hold...|  United Kingdom| Michael Holt|127.80000000000001| 5849.406000000001|\n",
            "|        581475|2024-05-10|     23239|11.94|       6|    13069.0|Set Of 4 Knick Kn...|  United Kingdom| Michael Holt|             71.64|3278.9628000000002|\n",
            "|        581475|2024-05-10|     21705|10.65|      24|    13069.0|Bag 500g Swirly M...|  United Kingdom| Michael Holt|255.60000000000002|11698.812000000002|\n",
            "|        581475|2024-05-10|     22118|11.53|      18|    13069.0|Joy Wooden Block ...|  United Kingdom| Michael Holt|            207.54| 9499.105800000001|\n",
            "|        581475|2024-05-10|     22119|12.25|      12|    13069.0|Peace Wooden Bloc...|  United Kingdom| Michael Holt|             147.0|6728.1900000000005|\n",
            "|        581475|2024-05-10|     22217|10.65|      12|    13069.0|T-Light Holder Ha...|  United Kingdom| Michael Holt|127.80000000000001| 5849.406000000001|\n",
            "|        581475|2024-05-10|     22216|10.55|      24|    13069.0|T-Light Holder Wh...|  United Kingdom| Michael Holt|253.20000000000002|11588.964000000002|\n",
            "+--------------+----------+----------+-----+--------+-----------+--------------------+----------------+-------------+------------------+------------------+\n",
            "only showing top 10 rows\n",
            "\n"
          ]
        }
      ],
      "source": [
        "dt.show(10)"
      ]
    },
    {
      "cell_type": "markdown",
      "metadata": {
        "id": "khFF1Rj4wJ6W"
      },
      "source": [
        "2.2.4 Show data detail each of column just 10 rows and no show “….”."
      ]
    },
    {
      "cell_type": "code",
      "execution_count": 139,
      "metadata": {
        "colab": {
          "base_uri": "https://localhost:8080/"
        },
        "id": "k7qmWML5wLNS",
        "outputId": "58deff85-c269-489e-cd61-a309758cd59a"
      },
      "outputs": [
        {
          "output_type": "stream",
          "name": "stdout",
          "text": [
            "+--------------+----------+----------+-----+--------+-----------+-----------------------------------+----------------+-------------+------------------+------------------+\n",
            "|transaction_id|date      |product_id|price|quantity|customer_id|product_name                       |customer_country|customer_name|total_amount      |thb_amount        |\n",
            "+--------------+----------+----------+-----+--------+-----------+-----------------------------------+----------------+-------------+------------------+------------------+\n",
            "|581482        |2024-05-10|22485     |21.47|12      |17490.0    |Set Of 2 Wooden Market Crates      |United Kingdom  |Sara Griffin |257.64            |11792.1828        |\n",
            "|581475        |2024-05-10|22596     |10.65|36      |13069.0    |Christmas Star Wish List Chalkboard|United Kingdom  |Michael Holt |383.40000000000003|17548.218000000004|\n",
            "|581475        |2024-05-10|23235     |11.53|12      |13069.0    |Storage Tin Vintage Leaf           |United Kingdom  |Michael Holt |138.35999999999999|6332.7372         |\n",
            "|581475        |2024-05-10|23272     |10.65|12      |13069.0    |Tree T-Light Holder Willie Winkie  |United Kingdom  |Michael Holt |127.80000000000001|5849.406000000001 |\n",
            "|581475        |2024-05-10|23239     |11.94|6       |13069.0    |Set Of 4 Knick Knack Tins Poppies  |United Kingdom  |Michael Holt |71.64             |3278.9628000000002|\n",
            "|581475        |2024-05-10|21705     |10.65|24      |13069.0    |Bag 500g Swirly Marbles            |United Kingdom  |Michael Holt |255.60000000000002|11698.812000000002|\n",
            "|581475        |2024-05-10|22118     |11.53|18      |13069.0    |Joy Wooden Block Letters           |United Kingdom  |Michael Holt |207.54            |9499.105800000001 |\n",
            "|581475        |2024-05-10|22119     |12.25|12      |13069.0    |Peace Wooden Block Letters         |United Kingdom  |Michael Holt |147.0             |6728.1900000000005|\n",
            "|581475        |2024-05-10|22217     |10.65|12      |13069.0    |T-Light Holder Hanging Lace        |United Kingdom  |Michael Holt |127.80000000000001|5849.406000000001 |\n",
            "|581475        |2024-05-10|22216     |10.55|24      |13069.0    |T-Light Holder White Lace          |United Kingdom  |Michael Holt |253.20000000000002|11588.964000000002|\n",
            "+--------------+----------+----------+-----+--------+-----------+-----------------------------------+----------------+-------------+------------------+------------------+\n",
            "only showing top 10 rows\n",
            "\n"
          ]
        }
      ],
      "source": [
        "dt.show(10, truncate = False)"
      ]
    },
    {
      "cell_type": "markdown",
      "metadata": {
        "id": "dn_It_JYwMUS"
      },
      "source": [
        "2.2.5 Show data types each of column"
      ]
    },
    {
      "cell_type": "code",
      "execution_count": 140,
      "metadata": {
        "colab": {
          "base_uri": "https://localhost:8080/"
        },
        "id": "-nm7W2hWwNOK",
        "outputId": "68d7da8d-8c9d-4706-9811-22c8f2590515"
      },
      "outputs": [
        {
          "output_type": "execute_result",
          "data": {
            "text/plain": [
              "[('transaction_id', 'string'),\n",
              " ('date', 'string'),\n",
              " ('product_id', 'string'),\n",
              " ('price', 'double'),\n",
              " ('quantity', 'bigint'),\n",
              " ('customer_id', 'double'),\n",
              " ('product_name', 'string'),\n",
              " ('customer_country', 'string'),\n",
              " ('customer_name', 'string'),\n",
              " ('total_amount', 'double'),\n",
              " ('thb_amount', 'double')]"
            ]
          },
          "metadata": {},
          "execution_count": 140
        }
      ],
      "source": [
        "dt.dtypes"
      ]
    },
    {
      "cell_type": "markdown",
      "metadata": {
        "id": "XSrFUWgJwOKK"
      },
      "source": [
        "2.2.6 Count row and column"
      ]
    },
    {
      "cell_type": "code",
      "execution_count": 141,
      "metadata": {
        "colab": {
          "base_uri": "https://localhost:8080/"
        },
        "id": "D5wslte5wPIi",
        "outputId": "7c58c716-142c-4140-96dd-d35be852de8a"
      },
      "outputs": [
        {
          "output_type": "stream",
          "name": "stdout",
          "text": [
            "(536350, 11)\n"
          ]
        }
      ],
      "source": [
        "print((dt.count(), len(dt.columns)))"
      ]
    },
    {
      "cell_type": "markdown",
      "metadata": {
        "id": "4DPhRvDJwP4C"
      },
      "source": [
        "2.2.7 Summary statistic data"
      ]
    },
    {
      "cell_type": "code",
      "execution_count": 142,
      "metadata": {
        "colab": {
          "base_uri": "https://localhost:8080/"
        },
        "id": "5o8ykOiewRwa",
        "outputId": "d254a0a1-9f48-4f88-f5d2-0ddb1ac6671c"
      },
      "outputs": [
        {
          "output_type": "stream",
          "name": "stdout",
          "text": [
            "+-------+------------------+----------+------------------+------------------+------------------+------------------+--------------------+----------------+-------------+------------------+--------------------+\n",
            "|summary|    transaction_id|      date|        product_id|             price|          quantity|       customer_id|        product_name|customer_country|customer_name|      total_amount|          thb_amount|\n",
            "+-------+------------------+----------+------------------+------------------+------------------+------------------+--------------------+----------------+-------------+------------------+--------------------+\n",
            "|  count|            536350|    536350|            536350|            536350|            536350|            536295|              536350|          536350|       536350|            536350|              536350|\n",
            "|   mean| 559978.9296258752|      NULL|27501.334602703962|12.662182287696377| 9.919347441036637|15227.893178194838|                NULL|            NULL|         NULL|112.38934326462667|   5030.301820556106|\n",
            "| stddev|13434.267079569996|      NULL|16621.547250098723| 8.490450200816936|216.66229978946325|1716.5829320559255|                NULL|            NULL|         NULL|2277.3839092737658|  102619.81305603826|\n",
            "|    min|            536365|2023-05-03|             10002|              5.13|            -80995|           12004.0|10 Colour Spacebo...|       Australia|   Aaron Bell|         -840113.8|-3.73506194342000...|\n",
            "|    max|           C581569|2024-05-10|            90214Z|            660.62|             80995|           18287.0|Zinc Wire Sweethe...|     Unspecified|    Zoe Pitts|1002718.1000000001| 4.589440743700001E7|\n",
            "+-------+------------------+----------+------------------+------------------+------------------+------------------+--------------------+----------------+-------------+------------------+--------------------+\n",
            "\n",
            "+-------+------------------+----------+------------------+------------------+------------------+------------------+--------------------+----------------+-------------+------------------+--------------------+\n",
            "|summary|    transaction_id|      date|        product_id|             price|          quantity|       customer_id|        product_name|customer_country|customer_name|      total_amount|          thb_amount|\n",
            "+-------+------------------+----------+------------------+------------------+------------------+------------------+--------------------+----------------+-------------+------------------+--------------------+\n",
            "|  count|            536350|    536350|            536350|            536350|            536350|            536295|              536350|          536350|       536350|            536350|              536350|\n",
            "|   mean| 559978.9296258752|      NULL|27501.334602703962|12.662182287696377| 9.919347441036637|15227.893178194838|                NULL|            NULL|         NULL|112.38934326462667|   5030.301820556106|\n",
            "| stddev|13434.267079569996|      NULL|16621.547250098723| 8.490450200816936|216.66229978946325|1716.5829320559255|                NULL|            NULL|         NULL|2277.3839092737658|  102619.81305603826|\n",
            "|    min|            536365|2023-05-03|             10002|              5.13|            -80995|           12004.0|10 Colour Spacebo...|       Australia|   Aaron Bell|         -840113.8|-3.73506194342000...|\n",
            "|    25%|          547898.0|      NULL|           21929.0|             10.99|                 1|           13808.0|                NULL|            NULL|         NULL|             16.18|            711.7672|\n",
            "|    50%|          560701.0|      NULL|           22568.0|             11.94|                 3|           15152.0|                NULL|            NULL|         NULL|             42.72|          1908.04608|\n",
            "|    75%|          571848.0|      NULL|           23159.0|             14.09|                10|           16729.0|                NULL|            NULL|         NULL|            116.47|   5230.699799999999|\n",
            "|    max|           C581569|2024-05-10|            90214Z|            660.62|             80995|           18287.0|Zinc Wire Sweethe...|     Unspecified|    Zoe Pitts|1002718.1000000001| 4.589440743700001E7|\n",
            "+-------+------------------+----------+------------------+------------------+------------------+------------------+--------------------+----------------+-------------+------------------+--------------------+\n",
            "\n"
          ]
        }
      ],
      "source": [
        "dt.describe().show()\n",
        "#or\n",
        "dt.summary().show()"
      ]
    },
    {
      "cell_type": "markdown",
      "metadata": {
        "id": "-8VIUhZxwWaX"
      },
      "source": [
        "2.2.8 Summary statistic data especially identified column"
      ]
    },
    {
      "cell_type": "code",
      "execution_count": 143,
      "metadata": {
        "colab": {
          "base_uri": "https://localhost:8080/"
        },
        "id": "5_pSftHfwY8X",
        "outputId": "db02f7a3-ed89-4b78-e4ec-3892f9f7e9a4"
      },
      "outputs": [
        {
          "output_type": "stream",
          "name": "stdout",
          "text": [
            "+-------+------------------+\n",
            "|summary|             price|\n",
            "+-------+------------------+\n",
            "|  count|            536350|\n",
            "|   mean|12.662182287696377|\n",
            "| stddev| 8.490450200816936|\n",
            "|    min|              5.13|\n",
            "|    max|            660.62|\n",
            "+-------+------------------+\n",
            "\n"
          ]
        }
      ],
      "source": [
        "dt.select(\"price\").describe().show()"
      ]
    },
    {
      "cell_type": "markdown",
      "metadata": {
        "id": "dkHhO3hdwaam"
      },
      "source": [
        "2.2.9 Which columns have missing values ​​and show the rows with missing values."
      ]
    },
    {
      "cell_type": "code",
      "execution_count": 144,
      "metadata": {
        "colab": {
          "base_uri": "https://localhost:8080/"
        },
        "id": "rXgoNpxQwbX2",
        "outputId": "4d51f95b-733c-4f87-c3ce-789b64ec74c7"
      },
      "outputs": [
        {
          "output_type": "stream",
          "name": "stdout",
          "text": [
            "+-------+--------------+------+----------+------+--------+-----------+------------+----------------+-------------+------------+----------+\n",
            "|summary|transaction_id|  date|product_id| price|quantity|customer_id|product_name|customer_country|customer_name|total_amount|thb_amount|\n",
            "+-------+--------------+------+----------+------+--------+-----------+------------+----------------+-------------+------------+----------+\n",
            "|  count|        536350|536350|    536350|536350|  536350|     536295|      536350|          536350|       536350|      536350|    536350|\n",
            "+-------+--------------+------+----------+------+--------+-----------+------------+----------------+-------------+------------+----------+\n",
            "\n"
          ]
        }
      ],
      "source": [
        "dt.summary(\"count\").show()"
      ]
    },
    {
      "cell_type": "markdown",
      "metadata": {
        "id": "iKESX4B9wdpq"
      },
      "source": [
        "2.2.10 Due to column of customer less than another column"
      ]
    },
    {
      "cell_type": "code",
      "execution_count": 145,
      "metadata": {
        "colab": {
          "base_uri": "https://localhost:8080/"
        },
        "id": "nKvKRkaFwizb",
        "outputId": "6eaef29b-6fbf-4b58-cb03-4bd6cdaed9bd"
      },
      "outputs": [
        {
          "output_type": "stream",
          "name": "stdout",
          "text": [
            "+--------------+----------+----------+-----+--------+-----------+--------------------+----------------+-------------+-------------------+-------------------+\n",
            "|transaction_id|      date|product_id|price|quantity|customer_id|        product_name|customer_country|customer_name|       total_amount|         thb_amount|\n",
            "+--------------+----------+----------+-----+--------+-----------+--------------------+----------------+-------------+-------------------+-------------------+\n",
            "|       C581406|2024-05-09|    46000M| 6.19|    -240|       NULL|Polyester Filler ...|  United Kingdom| Allen Morgan|-1485.6000000000001|         -68397.024|\n",
            "|       C581406|2024-05-09|    46000S| 6.19|    -300|       NULL|Polyester Filler ...|  United Kingdom| Allen Morgan|-1857.0000000000002| -85496.28000000001|\n",
            "|       C575153|2024-04-09|     22947|44.25|      -1|       NULL|Wooden Advent Cal...|  United Kingdom| Allen Morgan|             -44.25|-2036.4734999999998|\n",
            "|       C574288|2024-04-04|     22178|25.37|      -1|       NULL|Victorian Glass H...|  United Kingdom| Allen Morgan|             -25.37|        -1177.21874|\n",
            "|       C573180|2024-03-29|     23048| 14.5|      -1|       NULL|Set Of 10 Lantern...|  United Kingdom| Allen Morgan|              -14.5|           -665.463|\n",
            "|       C569495|2024-03-05|     21843|21.47|      -1|       NULL|Red Retrospot Cak...|  United Kingdom| Allen Morgan|             -21.47| -976.3911899999998|\n",
            "|       C567518|2024-02-20|     22846|27.62|      -1|       NULL|Bread Bin Diner S...|  United Kingdom| Allen Morgan|             -27.62|-1255.4947200000001|\n",
            "|       C567518|2024-02-20|     21871|11.94|     -12|       NULL| Save The Planet Mug|  United Kingdom| Allen Morgan|            -143.28|-6512.9356800000005|\n",
            "|       C563015|2024-01-11|    46000M|10.25|    -160|       NULL|Polyester Filler ...|  United Kingdom| Allen Morgan|            -1640.0|          -73367.04|\n",
            "|       C563015|2024-01-11|    46000S|10.25|    -220|       NULL|Polyester Filler ...|  United Kingdom| Allen Morgan|            -2255.0|         -100879.68|\n",
            "|       C562617|2024-01-08|     23243|15.32|      -2|       NULL|Set Of Tea Coffee...|  United Kingdom| Allen Morgan|             -30.64|         -1365.6248|\n",
            "|       C561966|2024-01-01|     22371|14.48|      -1|       NULL|Airline Bag Vinta...|  United Kingdom| Allen Morgan|             -14.48|         -633.25384|\n",
            "|       C562030|2024-01-01|    84595E|13.62|      -1|       NULL|Large Tortilla De...|  United Kingdom| Allen Morgan|             -13.62| -595.6434599999999|\n",
            "|       C561239|2023-12-26|     22427|16.35|      -1|       NULL|Enamel Flower Jug...|  United Kingdom| Allen Morgan|             -16.35|          -719.0076|\n",
            "|       C561239|2023-12-26|     22426|14.09|      -1|       NULL|Enamel Wash Bowl ...|  United Kingdom| Allen Morgan|             -14.09|         -619.62184|\n",
            "|       C561239|2023-12-26|     84755|10.92|      -4|       NULL|Colour Glass T-Li...|  United Kingdom| Allen Morgan|             -43.68|        -1920.87168|\n",
            "|       C559949|2023-12-14|     22699|13.27|      -2|       NULL|Roses Regency Tea...|  United Kingdom| Allen Morgan|             -26.54|-1182.1181399999998|\n",
            "|       C559296|2023-12-07|     23001|10.25|    -200|       NULL|Travel Card Walle...|  United Kingdom| Allen Morgan|            -2050.0|          -90669.45|\n",
            "|       C559296|2023-12-07|     22616|10.25|    -204|       NULL|Pack Of 12 London...|  United Kingdom| Allen Morgan|            -2091.0| -92482.83899999999|\n",
            "|       C559296|2023-12-07|     23298|10.25|    -170|       NULL|      Spotty Bunting|  United Kingdom| Allen Morgan|            -1742.5|        -77069.0325|\n",
            "+--------------+----------+----------+-----+--------+-----------+--------------------+----------------+-------------+-------------------+-------------------+\n",
            "only showing top 20 rows\n",
            "\n"
          ]
        }
      ],
      "source": [
        "dt.where( dt.customer_id.isNull() ).show()"
      ]
    },
    {
      "cell_type": "markdown",
      "metadata": {
        "id": "6Qh5Wt7CwkC6"
      },
      "source": [
        "2.2.11 YData Profiling is tooling make easily EDA"
      ]
    },
    {
      "cell_type": "code",
      "execution_count": null,
      "metadata": {
        "collapsed": true,
        "id": "eOTy7jDrwlMD"
      },
      "outputs": [],
      "source": [
        "!pip install ydata-profiling\n",
        "from ydata_profiling import ProfileReport\n",
        "profile = ProfileReport(dt.toPandas(), title=\"Profiling Report\")\n",
        "\n",
        "profile"
      ]
    },
    {
      "cell_type": "markdown",
      "metadata": {
        "id": "BH_W-gMWUoWb"
      },
      "source": [
        "![Ex.1 YData Profiling is tooling make easily EDA.JPG](data:image/jpeg;base64,/9j/4AAQSkZJRgABAQEAYABgAAD/4QLmRXhpZgAATU0AKgAAAAgABAE7AAIAAAAJAAABSodpAAQAAAABAAABVJydAAEAAAASAAACzOocAAcAAAEMAAAAPgAAAAAc6gAAAAEAAAAAAAAAAAAAAAAAAAAAAAAAAAAAAAAAAAAAAAAAAAAAAAAAAAAAAAAAAAAAAAAAAAAAAAAAAAAAAAAAAAAAAAAAAAAAAAAAAAAAAAAAAAAAAAAAAAAAAAAAAAAAAAAAAAAAAAAAAAAAAAAAAAAAAAAAAAAAAAAAAAAAAAAAAAAAAAAAAAAAAAAAAAAAAAAAAAAAAAAAAAAAAAAAAAAAAAAAAAAAAAAAAAAAAAAAAAAAAAAAAAAAAAAAAAAAAAAAAAAAAAAAAAAAAAAAAAAAAAAAAAAAAAAAAAAAAAAAAAAAAAAAAAAAAAAAAAAAAAAAAAAAAAAAAAAAAAAAAAAAAAAAAAAATWhvb01oZWUAAAAFkAMAAgAAABQAAAKikAQAAgAAABQAAAK2kpEAAgAAAAM4NQAAkpIAAgAAAAM4NQAA6hwABwAAAQwAAAGWAAAAABzqAAAAAQAAAAAAAAAAAAAAAAAAAAAAAAAAAAAAAAAAAAAAAAAAAAAAAAAAAAAAAAAAAAAAAAAAAAAAAAAAAAAAAAAAAAAAAAAAAAAAAAAAAAAAAAAAAAAAAAAAAAAAAAAAAAAAAAAAAAAAAAAAAAAAAAAAAAAAAAAAAAAAAAAAAAAAAAAAAAAAAAAAAAAAAAAAAAAAAAAAAAAAAAAAAAAAAAAAAAAAAAAAAAAAAAAAAAAAAAAAAAAAAAAAAAAAAAAAAAAAAAAAAAAAAAAAAAAAAAAAAAAAAAAAAAAAAAAAAAAAAAAAAAAAAAAAAAAAAAAAAAAAAAAAAAAAAAAAAAAAAAAAAAAAAAAAAAAyMDI1OjA0OjIzIDE5OjE1OjAyADIwMjU6MDQ6MjMgMTk6MTU6MDIAAABNAGgAbwBvAE0AaABlAGUAAAD/4QQbaHR0cDovL25zLmFkb2JlLmNvbS94YXAvMS4wLwA8P3hwYWNrZXQgYmVnaW49J++7vycgaWQ9J1c1TTBNcENlaGlIenJlU3pOVGN6a2M5ZCc/Pg0KPHg6eG1wbWV0YSB4bWxuczp4PSJhZG9iZTpuczptZXRhLyI+PHJkZjpSREYgeG1sbnM6cmRmPSJodHRwOi8vd3d3LnczLm9yZy8xOTk5LzAyLzIyLXJkZi1zeW50YXgtbnMjIj48cmRmOkRlc2NyaXB0aW9uIHJkZjphYm91dD0idXVpZDpmYWY1YmRkNS1iYTNkLTExZGEtYWQzMS1kMzNkNzUxODJmMWIiIHhtbG5zOmRjPSJodHRwOi8vcHVybC5vcmcvZGMvZWxlbWVudHMvMS4xLyIvPjxyZGY6RGVzY3JpcHRpb24gcmRmOmFib3V0PSJ1dWlkOmZhZjViZGQ1LWJhM2QtMTFkYS1hZDMxLWQzM2Q3NTE4MmYxYiIgeG1sbnM6eG1wPSJodHRwOi8vbnMuYWRvYmUuY29tL3hhcC8xLjAvIj48eG1wOkNyZWF0ZURhdGU+MjAyNS0wNC0yM1QxOToxNTowMi44NDY8L3htcDpDcmVhdGVEYXRlPjwvcmRmOkRlc2NyaXB0aW9uPjxyZGY6RGVzY3JpcHRpb24gcmRmOmFib3V0PSJ1dWlkOmZhZjViZGQ1LWJhM2QtMTFkYS1hZDMxLWQzM2Q3NTE4MmYxYiIgeG1sbnM6ZGM9Imh0dHA6Ly9wdXJsLm9yZy9kYy9lbGVtZW50cy8xLjEvIj48ZGM6Y3JlYXRvcj48cmRmOlNlcSB4bWxuczpyZGY9Imh0dHA6Ly93d3cudzMub3JnLzE5OTkvMDIvMjItcmRmLXN5bnRheC1ucyMiPjxyZGY6bGk+TWhvb01oZWU8L3JkZjpsaT48L3JkZjpTZXE+DQoJCQk8L2RjOmNyZWF0b3I+PC9yZGY6RGVzY3JpcHRpb24+PC9yZGY6UkRGPjwveDp4bXBtZXRhPg0KICAgICAgICAgICAgICAgICAgICAgICAgICAgICAgICAgICAgICAgICAgICAgICAgICAgICAgICAgICAgICAgICAgICAgICAgICAgICAgICAgICAgICAgICAgICAgICAgICAgIAogICAgICAgICAgICAgICAgICAgICAgICAgICAgICAgICAgICAgICAgICAgICAgICAgICAgICAgICAgICAgICAgICAgICAgICAgICAgICAgICAgICAgICAgICAgICAgICAgICAgCiAgICAgICAgICAgICAgICAgICAgICAgICAgICAgICAgICAgICAgICAgICAgICAgICAgICAgIDw/eHBhY2tldCBlbmQ9J3cnPz7/2wBDAAcFBQYFBAcGBQYIBwcIChELCgkJChUPEAwRGBUaGRgVGBcbHichGx0lHRcYIi4iJSgpKywrGiAvMy8qMicqKyr/2wBDAQcICAoJChQLCxQqHBgcKioqKioqKioqKioqKioqKioqKioqKioqKioqKioqKioqKioqKioqKioqKioqKioqKir/wAARCAHxBRsDASIAAhEBAxEB/8QAHwAAAQUBAQEBAQEAAAAAAAAAAAECAwQFBgcICQoL/8QAtRAAAgEDAwIEAwUFBAQAAAF9AQIDAAQRBRIhMUEGE1FhByJxFDKBkaEII0KxwRVS0fAkM2JyggkKFhcYGRolJicoKSo0NTY3ODk6Q0RFRkdISUpTVFVWV1hZWmNkZWZnaGlqc3R1dnd4eXqDhIWGh4iJipKTlJWWl5iZmqKjpKWmp6ipqrKztLW2t7i5usLDxMXGx8jJytLT1NXW19jZ2uHi4+Tl5ufo6erx8vP09fb3+Pn6/8QAHwEAAwEBAQEBAQEBAQAAAAAAAAECAwQFBgcICQoL/8QAtREAAgECBAQDBAcFBAQAAQJ3AAECAxEEBSExBhJBUQdhcRMiMoEIFEKRobHBCSMzUvAVYnLRChYkNOEl8RcYGRomJygpKjU2Nzg5OkNERUZHSElKU1RVVldYWVpjZGVmZ2hpanN0dXZ3eHl6goOEhYaHiImKkpOUlZaXmJmaoqOkpaanqKmqsrO0tba3uLm6wsPExcbHyMnK0tPU1dbX2Nna4uPk5ebn6Onq8vP09fb3+Pn6/9oADAMBAAIRAxEAPwD6QZgqkscAUzz09H/79t/hQ/NxGD02s348f41JQBH56ekn/ftv8KPPT0k/79t/hUlFAEfnp6Sf9+2/wo89PST/AL9t/hUlFAEfnp6Sf9+2/wAKPPT0k/79t/hUlFAEfnp6Sf8Aftv8KPPT0k/79t/hUlFAEfnp6Sf9+2/wo89PST/v23+FSUUAR+enpJ/37b/Cjz09JP8Av23+FSUUAR+enpJ/37b/AAo89PST/v23+FSUUAR+enpJ/wB+2/wo89PST/v23+FSUUAR+enpJ/37b/Cjz09JP+/bf4VJRQBH56ekn/ftv8KPPT0k/wC/bf4VJRQBH56ekn/ftv8ACjz09JP+/bf4VJRQBH56ekn/AH7b/Cjz09JP+/bf4VJRQBH56ekn/ftv8KPPT0k/79t/hUlFAEfnp6Sf9+2/wo89PST/AL9t/hUlFAEfnp6Sf9+2/wAKPPT0k/79t/hUlFAEfnp6Sf8Aftv8KPPT0k/79t/hUlFAEfnp6Sf9+2/wo89PST/v23+FSUUAR+enpJ/37b/Cjz09JP8Av23+FSUUAR+enpJ/37b/AAo89PST/v23+FSUUAR+enpJ/wB+2/wo89PST/v23+FSUUAR+enpJ/37b/Cjz09JP+/bf4VJRQBH56ekn/ftv8KPPT0k/wC/bf4VJRQBH56ekn/ftv8ACjz09JP+/bf4VJRQBH56ekn/AH7b/Cjz09JP+/bf4VJRQBH56ekn/ftv8KPPT0k/79t/hUlFAEfnp6Sf9+2/wo89PST/AL9t/hUlFAEfnp6Sf9+2/wAKPPT0k/79t/hUlFAEfnp6Sf8Aftv8KPPT0k/79t/hUlFAEfnp6Sf9+2/wo89PST/v23+FSUUAR+enpJ/37b/Cjz09JP8Av23+FSUUAR+enpJ/37b/AAo89PST/v23+FSUUAR+enpJ/wB+2/wo89PST/v23+FSUUAR+enpJ/37b/Cjz09JP+/bf4VJRQBH56ekn/ftv8KPPT0k/wC/bf4VJRQBH56ekn/ftv8ACjz09JP+/bf4VJRQBH56ekn/AH7b/Cjz09JP+/bf4VJRQBH56ekn/ftv8KPPT0k/79t/hUlFAEfnp6Sf9+2/wo89PST/AL9t/hUlFAEfnp6Sf9+2/wAKPPT0k/79t/hUlFAEfnp6Sf8Aftv8KPPT0k/79t/hUlFAEfnp6Sf9+2/wo89PST/v23+FSUUAR+enpJ/37b/Cjz09JP8Av23+FSUUAR+enpJ/37b/AAo89PST/v23+FSUUAR+enpJ/wB+2/wo89PST/v23+FSUUAR+enpJ/37b/Cjz09JP+/bf4VJRQBH56ekn/ftv8KPPT0k/wC/bf4VJRQBH56ekn/ftv8ACjz09JP+/bf4VJRQBH56ekn/AH7b/Cjz09JP+/bf4VJRQBH56ekn/ftv8KPPT0k/79t/hUlFAEfnp6Sf9+2/wo89PST/AL9t/hUlFAEfnp6Sf9+2/wAKPPT0k/79t/hUlFAEfnp6Sf8Aftv8KPPT0k/79t/hUlFAEfnp6Sf9+2/wo89PST/v23+FSUUAR+enpJ/37b/Cjz09JP8Av23+FSUUAR+enpJ/37b/AAo89PST/v23+FSUUAR+enpJ/wB+2/wo89PST/v23+FSUUAR+enpJ/37b/Cjz09JP+/bf4VJRQBH56ekn/ftv8KPPT0k/wC/bf4VJRQBH56ekn/ftv8ACjz09JP+/bf4VJRQBH56ekn/AH7b/Cjz09JP+/bf4VJRQBH56ekn/ftv8KPPT0k/79t/hUlFAEfnp6Sf9+2/wo89PST/AL9t/hUlFAEfnp6Sf9+2/wAKPPT0k/79t/hUlFAEfnp6Sf8Aftv8KPPT0k/79t/hUlFAEfnp6Sf9+2/wo89PST/v23+FSUUAR+enpJ/37b/Cjz09JP8Av23+FSUUAR+enpJ/37b/AAo89PST/v23+FSUUAR+enpJ/wB+2/wo89PST/v23+FSUUAR+enpJ/37b/Cjz09JP+/bf4VJRQBH56ekn/ftv8KPPT0k/wC/bf4VJRQBH56ekn/ftv8ACjz09JP+/bf4VJRQBH56ekn/AH7b/Cjz09JP+/bf4VJRQBH56ekn/ftv8KPPT0k/79t/hUlFAEfnp6Sf9+2/wo89PST/AL9t/hUlFAEfnp6Sf9+2/wAKPPT0k/79t/hUlFAEfnp6Sf8Aftv8KPPT0k/79t/hUlFAEfnp6Sf9+2/wo89PST/v23+FSUUAR+enpJ/37b/Cjz09JP8Av23+FSUUAR+enpJ/37b/AAo89PST/v23+FSUUAR+enpJ/wB+2/wo89PR/wDv23+FSUUAIrBlBU5B70tRpxcSAdMBvx5/wqSgCNv+PpP9xv5rUlRt/wAfSf7jfzWpKACozPEDgyoD6FhRN82xD0dsH6YJ/pUgAAwBgegoAj+0Q/8APaP/AL6FH2iH/ntH/wB9CpKKAI/tEP8Az2j/AO+hR9oh/wCe0f8A30KkooAj+0Q/89o/++hR9oh/57R/99CpKKAI/tEP/PaP/voUfaIf+e0f/fQqSigCP7RD/wA9o/8AvoUfaIf+e0f/AH0KkooAakiP9x1b6HNOqK4A8oyfxRjcD9KloAKKKKACiiigAooooAKKKKACiiigAooooAKKKKACiiigAooooAKKKKACiiigAooooAKKKKACiiigAooooAKKKKACiiigAooooAKKKKACiiigAooooAKKKKACiiigAooooAKKKKACiiigAooooAKKKKACiiigAooooAKKKKACiiigAooooAKKKKACiiigAooooAKKKKACiiigAooooAKKKKACiiigAooooAKKKKACiiigAooooAKKKKACiiigAooooAKKKKACiiigAooooAKKKKACiiigAooooAKKKKACiiigAooooAKKKKACiiigAooooAKKKKACiiigAooooAKKKKACiiigAooooAKKKKACiiigAooooAKKKKACiiigAooooAKKKKAI1/4+n/3F/m1SVGv/AB9P/uL/ADapKAI2/wCPpP8Acb+a1JUbf8fSf7jfzWpKAI5f9ZD/AL//ALKakqOX/WQ/7/8A7KakoAKyW8VeHk1r+x317TF1TcE+wm8jE+4jIHl53ZxzjFR+M7i+tPAuuXGklxfRafO9uYxlg4jJUgdznpVCDQ/DX/Cr000QWzeHzYCQ7gChTbv80n+9n592c55znmpbsm30/wCD/kO12l3/AOB/mdTRXl2i+MdZ0Lw/aXXiSaS6W68MxX1rHLGFkNzEoEkZwMln8yIgHnO7pT7rVvGB1aHw+JdXnu7HSoLi8utGjsA8s8pcHIuSFEY8sgBFyc8sMc3JWdv66/5fkStVf+un+Z6dRXnen6j4u1XxZpGlavfNokh0T7Zf29rFC7GdZgmAzCQBSOoBPXg55p9t4j1uYWnhw3o/txdae1urkRJn7LH+/wDM27doLQtEmcYDSUW/r0dr/eH9fhc7TStXsdbs2utMn8+FJpIGbYy4eNyjjBAPDKRnp6VdryweMfEV3pGk2dsb2e81HU9SieewS1E6Q288iqsYnKxZwFBJDHarcEncLVr4k8UaDNp1z4v+0WumG+uLR2vEtvNkiMPmwzSmAsisGSSP5SAcglQam6tdlWd7ev6/5HpNFeY+GvFXim+l03RtYlWLWJdS8+62wLhbEwicL0xwXSHPXIJ6816dVWa3Jv2I7j/j1l/3D/KpKjuP+PWX/cP8qkpDCori5gtIvNupo4I8hd8jhRknAGT6k4qWuQ8VTWmpa1Bo99Hcy2kMDz3At7WWch3BSMHYpx1due6it8PS9rPle3WxnUnyRudRc3tvaSW8dxJsa5l8qIbSdzYLY46cKetT1xNvqj6tp/hea43fao9SMFyGUqwkSKVWyDyM4zg+tO0/VvEWpPb6haW960Mt1teFvsotlh3lWwd3m7gBn/eBG3HFdMsFJLVpW3u7a3e33GCxKfS/odpRXE3j6lqfh/xTLcarPHFbPdQRQxRRAFFTOGJQk9xwRwfXmrEjapp+i6UUvdQaxEG66uraGGSePhdo2bMFAC2dqluB2zU/U3ouZXvbr2v2+XqU6+tuV9fwdja8Sav/AGF4cvNSCB2gT5FPQsSFXPtkivDrjxd4jvroudXvQ7twkEzIMnsFXAr1TxtKLj4VXEq3H2sSQ27faAm3zcuh3Y7Z647V5V4PAPjDTM3Edvi4U+ZIARxzj8en41zxjZ2ZpKV43RJdax4s0yVBf3+sWrsNyrcSyruH0Y816h8OPFF14i0q4i1FhJc2bKDLjG9WBwT7/Ka5D4gRqmh2GIWscXlyfskx3SNlyTJk87Tjp05HJ61o/Br/AJjP/bD/ANqVmnzRuXazseoUUUVJQUZx1opsn+rb6GgClaa9pGoXH2ew1WyupsE+XDcI7YHXgHNX6890N7i40zwna6lBDa2q7Jra5jk8wySKhxGcqvlkjJ43ZAI71es9W8RajIl9ZW160TXZTyT9lFsIVkKNyW83cACc/wB4Y24r06uB5ZNRkkl3a7tb+dvl1OKnibxu1f0X9ff1O0orjjeazNY69qA1gwDTbqcW8PkRlGWMBtshIyQenylSPU9rVrf6jqPiORftctraQ2Ftdm2SNCzO5fKkspOMLggYPAwRznB4SSTfMtPXy8vM29sr2s/w727nT1HPPHbW0k87bYokLu2M4AGSeK5RNR1ZfDtl4ifU9/ntDI9j5SeTskYLsU7d+4BhyWOWHTBxRqM1/q2l+ILhNUa1gs/Ot0tkjjZGCJ8xkJG7JyfulcDFUsG+b3pK17Pfe6028/QFXTtZPX/g+fkdXBPHc20c8DbopUDo2MZBGQeakrm/DN7M862byAwQ6VZyImB8pYOGOev8I/Kqelavqer2Oh232428t7ay3M90kaF2CMoCoCCoJ3gk7TwPfNTLCSUpJPRfqm/yRMcQnBN7v/gL82dhVeyv7bUI5Xs5PMWKV4XO0jDqcMOfQ1zL6deR+O9KWbWbuZlsrhi/lwruUSxfKQE7ggEjB+XjbzRb6xqV8bexS8EEl1qN3EbkRqWSKJ2wqAjbuIAGSDwCcE1X1T3bqSfXrpv5a7f8AHXtKzVv+GT7+Z11Fcbqmr6tpen67ax3wnnsY7eS3upI03jzGIKuFAUkbT0A4I781qWk1/ZeK10661CS+huLJrgGWNFMTq6ghdgHykP0OSMdaiWFko811+Ouifbs+pSrK+z/AKdvzN6iiiuQ3CiiigAooooAKKKKACiiigAooooAKKKKACiiigAooooAKKKKACiiigAooooAKKKKACiiigAooooAKKKKACiiigAooooAKKKKACiiigAooooAKKKKACiiigAooooAKKKKACiiigAooooAKKKKACiiigAooooAKKKKACiiigAooooAKKKKACiiigAooooAKKKKACiiigAooooAKKKKACiiigAooooAKKKKACiiigAooooAKKKKACiiigAooooAKKKKACiiigAooooAKKKKACiiigAooooAKKKKACiiigAooooAKKKKACiiigAooooAjX/j6f8A3F/m1SVGv/H0/wDuL/NqkoAjb/j6T/cb+a1JUbf8fSf7jfzWpKAI5f8AWQ/7/wD7KakqOX/WQ/7/AP7KakoAK5n/AIV54Z3FfsEv2UyeYdP+2TfYi2d3/Hrv8n73zY2Yzz15rpqKOtw6WM/VdB03W2sjqlqJzYXKXVtlmXZKv3W4IzjPQ5HTjiq+r+FNJ1u+ivb2K4jvIYzEtzZ3s1rL5ZIJQvE6sy5GcEkZ5rYooAzrXQNMs9Qgvba28u4gtBZRvvY7YQQ23BODyBz196VNC02PxFJrqWoGpS24tnn3NzGDnGM4645xk4HPArQooAwpvBegz6VHpzWTJBDdPdxNFcSxyxTO7OzpKrB0JLt0YcMR04pbjwboV54dfQ76ze8sJJVmkS6uZZnkdWDBmkZi7EFR1Y8ADpxW5RQtNg3M1fD2lL4mbxCtmg1VrUWZucnJhDbtuM4698Z960qKKAI7j/j1l/3D/KpKjuP+PWX/AHD/ACqSgAqvBY29tdXNzDHtmumVpnLEliBgdTwAOw4/OrFFNNpWQrJlD+xNP+2G6+z/AL43Auc+Y2PNCbN2M4+7x7/Wo4/D2mw3xuoYpUZpfOMa3EgiL/3vK3bM55zjrz15rTorT21T+Z9tyfZwe6RVh020ghuYo4R5d1I8kyklg7Nw3X19OlUj4X0z7PDABeLHChRNt/OCFOMqSHyRwODwO1a9FCrVIu6k/vBwg90Ur3SbS90WXS3iVLWSLygiDARccYHbHGPpXltz8H9XWYi01Cyli7NLvRj+AB/nXr9FRzMrlR44vwh10sN95pwXuRI5/wDZK9F8I+FofCuktbJL588rb5ptu3cewA9B/jW9RScmwSSCiiikMKCMgg9DRRQBntoenPo8Wlm3/wBEh2eWgkYFNhBUhgdwIIHOc0xPD2mx3zXUcUqO8vnNGlxIImk4+YxBthOQDnHUZ61p0Vqq1RXtJ6+ZHs4Pojl9O8J20s+py6vauftGoSTKguGEcyZBUuittbp0YGuhSxt47+W9SPFxNGkbvuPKqSVGOnG4/nU9FVUr1Kj95/1/SFGnCOyMqLw1pUF0s8duw2SmZIjPIYUcnO5Yi2wHJJyB1OaLzwzpV/cTzXNu5NwoWdEnkRJuMAuisFY47kE8D0FatFL29W9+Z39WP2cOyMubw5pc7QM8Dg28IgTy55E3Rj+BtrDevHRsjr6mg+HNLOn2tkts0cNmc25imdHi6j5XUhhwSOtalFL29Xbmf3i9nDsjO/sHT/8ARCI5Q1mzNFItxIH+Y5bc27LgkZIYkHvSS+H9MmszavbHy/tBuQVkdWSUsWLq4O5TknoR1x0rSoo9tV/mf3j9nDsjNHh/TRp01ibdnhuGDzF5XZ5CCCCzk7ieB1PQAdKttZW7ail8Y83KRNCr7jwhIJGOnVRU9FJ1JvdsahFaJBRRRWZQUUUUAFFFFABRRRQAUUUUAFFFFABRRRQAUUUUAFFFFABRRRQAUUUUAFFFFABRRRQAUUUUAFFFFABRRRQAUUUUAFFFFABRRRQAUUUUAFFFFABRRRQAUUUUAFFFFABRRRQAUUUUAFFFFABRRRQAUUUUAFFFFABRRRQAUUUUAFFFFABRRRQAUUUUAFFFFABRRRQAUUUUAFFFFABRRRQAUUUUAFFFFABRRRQAUUUUAFFFFABRRRQAUUUUAFFFFABRRRQAUUUUAFFFFABRRRQAUUUUAFFFFABRRRQAUUUUAFFFFABRRRQAUUUUAFFFFAEa/wDH0/8AuL/NqkqNf+Pp/wDcX+bVJQBG3/H0n+4381qSo2/4+k/3G/mtSUAGKKKKACiiigAooooAKKKKACiiigAooooACMjB5FR/Z4f+eMf/AHyKkooAj+zw/wDPGP8A75FH2eH/AJ4x/wDfIqSigCP7PD/zxj/75FH2eH/njH/3yKkooAj+zw/88Y/++RR9nh/54x/98ipKKAI/s8P/ADxj/wC+RR9nh/54x/8AfIqSigCP7PD/AM8Y/wDvkUfZ4f8AnjH/AN8ipKKAI/s8P/PGP/vkUfZ4f+eMf/fIqSigCP7PD/zxj/75FH2eH/njH/3yKkooAj+zw/8APGP/AL5FH2eH/njH/wB8ipKKAI/s8P8Azxj/AO+RR9nh/wCeMf8A3yKkooAj+zw/88Y/++RR9nh/54x/98ipKKAI/s8P/PGP/vkUfZ4f+eMf/fIqSigCP7PD/wA8Y/8AvkUfZ4f+eMf/AHyKkooAj+zw/wDPGP8A75FH2eH/AJ4x/wDfIqSigCP7PD/zxj/75FH2eH/njH/3yKkooAj+zw/88Y/++RR9nh/54x/98ipKKAI/s8P/ADxj/wC+RR9nh/54x/8AfIqSigCP7PD/AM8Y/wDvkUfZ4f8AnjH/AN8ipKKAI/s8P/PGP/vkUfZ4f+eMf/fIqSigCP7PD/zxj/75FH2eH/njH/3yKkooAj+zw/8APGP/AL5FH2eH/njH/wB8ipKKAI/s8P8Azxj/AO+RR9nh/wCeMf8A3yKkooAj+zw/88Y/++RR9nh/54x/98ipKKAI/s8P/PGP/vkUfZ4f+eMf/fIqSigCP7PD/wA8Y/8AvkUfZ4f+eMf/AHyKkooAj+zw/wDPGP8A75FH2eH/AJ4x/wDfIqSigCP7PD/zxj/75FH2eH/njH/3yKkooAj+zw/88Y/++RR9nh/54x/98ipKKAI/s8P/ADxj/wC+RR9nh/54x/8AfIqSigCP7PD/AM8Y/wDvkUfZ4f8AnjH/AN8ipKKAI/s8P/PGP/vkUfZ4f+eMf/fIqSigCP7PD/zxj/75FH2eH/njH/3yKkooAj+zw/8APGP/AL5FH2eH/njH/wB8ipKKAI/s8P8Azxj/AO+RR9nh/wCeMf8A3yKkooAj+zw/88Y/++RR9nh/54x/98ipKKAI/s8P/PGP/vkUfZ4f+eMf/fIqSigCP7PD/wA8Y/8AvkUfZ4f+eMf/AHyKkooAj+zw/wDPGP8A75FH2eH/AJ4x/wDfIqSigCP7PD/zxj/75FH2eH/njH/3yKkooAj+zw/88Y/++RR9nh/54x/98ipKKAI/s8P/ADxj/wC+RR9nh/54x/8AfIqSigCP7PD/AM8Y/wDvkUfZ4f8AnjH/AN8ipKKAI/s8P/PGP/vkUfZ4f+eMf/fIqSigCP7PD/zxj/75FH2eH/njH/3yKkooAj+zw/8APGP/AL5FH2eH/njH/wB8ipKKAI/s8P8Azxj/AO+RR9nh/wCeMf8A3yKkooAj+zw/88Y/++RR9nh/54x/98ipKKAI/s8P/PGP/vkUfZ4f+eMf/fIqSigCP7PD/wA8Y/8AvkUfZ4f+eMf/AHyKkooAj+zw/wDPGP8A75FH2eH/AJ4x/wDfIqSigCP7PD/zxj/75FH2eH/njH/3yKkooAj+zw/88Y/++RR9nh/54x/98ipKKAI/s8P/ADxj/wC+RR9nh/54x/8AfIqSigCP7PD/AM8Y/wDvkUfZ4f8AnjH/AN8ipKKAI/s8P/PGP/vkUfZ4f+eMf/fIqSigCP7PD/zxj/75FH2eH/njH/3yKkooAj+zw/8APGP/AL5FH2eH/njH/wB8ipKKAI/s8P8Azxj/AO+RR9nh/wCeMf8A3yKkooAj+zw/88Y/++RR9nh/54x/98ipKKAI/s8P/PGP/vkUfZ4f+eMf/fIqSigCP7PD/wA8Y/8AvkUfZ4f+eMf/AHyKkooAj+zw/wDPGP8A75FH2eH/AJ4x/wDfIqSigCP7PD/zxj/75FH2eH/njH/3yKkooAj+zw/88Y/++RR9nh/54x/98ipKKAI/s8P/ADxj/wC+RR9nh/54x/8AfIqSigCP7PD/AM8Y/wDvkUfZ4f8AnjH/AN8ipKKAI/s8P/PGP/vkUfZ4f+eMf/fIqSigCP7PD/zxj/75FH2eH/njH/3yKkooAj+zw/8APGP/AL5FH2eH/njH/wB8ipKKAI/s8P8Azxj/AO+RR9nh/wCeMf8A3yKkooAj+zw/88Y/++RR9nh/54x/98ipKKAI/s8P/PGP/vkUfZ4f+eMf/fIqSigCP7PD/wA8Y/8AvkUfZ4f+eMf/AHyKkooAREVBhFCj0AxS0UUARr/x9P8A7i/zapKjX/j6f/cX+bVJQBG3/H0n+4381qSo2/4+k/3G/mtSUAFFFFABRRRQAUUUUAFFFFABRRRQAUUUUAFFFFABRRRQAUUVWsdSsdUieXTb23vI43MbvbyrIFcdVJB4I9KALNFFFABRVaDUrG6vriztr23murXHnwRyqzxZ6blByuferNABRRRQAUUUUAFFFFABRRRQAUUUUAFFFFABRRRQAUUUUAFFFFABRRRQAUUUUAFFFFABRRRQAUUUUAFFFFABRRRQAUUUUAFFFFABRRRQAUUUUAFFFFABRRRQAUUUUAFFFFABRRRQAUUUUAFFFFABRRRQAUUUUAFFFFABRRRQAUUUUAFFVrPUrHUGnWwvbe6a3kMUwhlVzE46q2DwfY1ZoAKKqXGq6faX9vY3V/bQ3dznyLeSZVklx12qTlvwq3QAUVUj1XTptUl02K/tXv4VDy2qzKZY1OMEpnIHI5I7irdABRRRQAUUUUAFFFFABRRRQAUUUUAFFFFABRRRQAUUUUAFFFFABRRRQAUUUUAFFFFABRRRQAUUUUAFFFFABRRRQAUUUUAFFFFABRRRQAUUUUAFFFFABRRRQAUUUUAFFFFABRRRQAUUUUAFFFFABRRRQAUUUUAFFFFABRRRQAUUUUAFFFFABRRRQBGv/H0/+4v82qSo1/4+n/3F/m1SUARt/wAfSf7jfzWpKjb/AI+k/wBxv5rUlAGF44/5J94h/wCwZcf+imryj4c/CDwt4m+G+matex3kOoXKuWube5KspEjAEA5A4A7V6v44/wCSfeIf+wZcf+imrz34YfEPwn4e+E+lW+r65a29xbpJ5kGS0i5kYj5VBPQjtRG3vfL9Qle0fn+hb+HWra1ofxB1fwDr+oS6rHaQi6sbyckyGM7flYnk8OOvQg9sY0774x6LYmWY6N4gm06KTy31OLTj9mBB2k7yQcZ46Vz/AILOo6/408SfEsadPFZNZNBpdvKuHuVVQd2PQ7B7ZY4ziuQu/EUfin4W6hq3iDx1fHVpUmWPQrCVIkGCdqtEq7mTaMlicY6niht2Te6Wv36fgCSvps3+mv4nb/GP4gXGm+CbV/DD6gn9orHNFqlrF+5ERz8pkPKseCBjP0rqbH4hWX/CGtrmo6XrNhHDKtuILuyInnchcbEBO4EnAPHOa8y8VK7/ALKmhsAzBDAWOM7RuYf1ArpfHvxG+y+DNHn8JavbrBdXsVndapEomFmNgY8Hjdg9+gB6GqatzRX81vy/r8RXvyy8rnR6L8UdJ1bxFDod3pms6Lf3ClrePVrPyPPx/d5PoeuPzpNW+Kmj6drdzpNhpus65dWZxdjSbIzi3PoxyP0z3HUV5dqx01fi54K/srxZqPiVvto86e4ulmhiJZfljKgKCRyQM/w5rY8UvpnhXVte8TeBvHVlp+otK73+i3LJILmVGO5Qh+ZSTu6A8k4IFLTlUn5/hYOrS8j0vVfHmiaL4Ystc1CSaOK/RGtbYRZnmZhkIEH8XP0HrVLQviZpOuanNpbWGraXqccJnSx1K08maZAM5QZIP0zn8jXmPjrVdV1S6+H3i6+uG8PQzQsHu/souEs5W5D7G6hhgjPIAz1Fb2jaRFrPxG0PU734oWPiO/sBI0FtaWMSMyFTuBaJ+Bz/ABD+dPl1d+7Xpb+vuE5aJrsn6/1+ZV8I/FDUb74p61De6b4ins53hhtbP7JzYZOC0qA/IOc55OK9pkkSKNpJWVEQFmZjgADqTXj3hXWNO0X49eNYtWvIbOS7aBbdZm2mUnGAvqTuHAr1u/NsNNuTf4+y+S/nZBxswd3T2zU3/dRa7FL+JJPucTbfF/Rb67VdM0jXr6xaYQf2pBp5NqGJA5ckEAE+lcv4z+JOo6b8X9Hsbex14afamQXFnBa83zYYBoxn94o46kDjpWM2tj4Z/YP+EA8Y2fiPSbq7CLoDsksyb+flZfmHPqAMkZBNdD8Qb620n46eCtR1SZLSzWCVWnmO1FOGHJ6Dlh+dUl70fX9BP4Zen6nY6t8Q7HSYNP3aPrd3e39sLlNPtLAyXEaH++ucKQeCM9aj0j4maRrei6nfafY6o9zpZAutLNri7Uk4AEecE8Hv2Nch4k8avqnxMh0KXxV/wjfh59NW7ivoGSNrwtgjErghRgnGP7p9Rij8Hmtj8WvFv2DUL3UrUwRGO7vnLyzjIw5YgZB7HHTFKK5nb1/AJPlV/T8S58IPiHqOt31/Y6za61ey3V/IY7xrfNvaoEyI3bOEPHQDqR61v+B/EngjTvBmsavoVnLomk2l7ILs3AyTLhckAMxwcqAB9AK574H6xp1l/b2i3l5FDqc2szGO0dsSOAvJC9Tja2fTFZnw3tND1D4P+J7PxVc/ZNMn1l0ln3bfLJEW1s4IGGxyePXil00/lX6f16lW1d/5v8z0TQfiZY+INStrW30HxBax3as1veXdh5cEwClvlfcc5AJHFcJofxT1G4+L+qpc6X4km09oI4rfTVs/ntCSmZJI93yjOTu5OCKn8K+J9S8O+PdH8I6f4ns/GOjXcTKjwhWlsVUHGXQkEAAdSeB0HGX6XrGn6F+0h4qfWbyKyW4soVhM7bfMbbFwuep4PA61cUudW2s/6/r5ESb5Wnvodf4ZvPC03xI8TW+jaXPba1D5f9o3T/cmz02/Oce/yrn3qpd/GTw/HqNza6Vp+s64tocXFzpdl50UR75YkccHkZHoTXMaFbXV58TfilbaexW7mtBHAQcYcoQvP1xU3wg8a+FtA+Hkek6tqFtpGo2EkovILs+U7PvJzg8scYGBkjGPSojrBPyX6/gipaSfrb8Dstf+JWjaFfW2npbalqupXMInSx0y1M0wjIyGIyAPpnPtW34d16HxJpC39vaXlmC7Rtb3sPlSxspwQy5OK898a2egTeLf7f0fx1beGPEkNqqsbh02TxFdyhkfGcjHIz0HGRXRfCrxbqXjPwUupaxbpHcJO8HmxKVS4C4/eKD05JH1B6dKpK6fl/mJ6W/rodpRRRUjCiiigAooooAKKKKACiiigAooooAKKKKACiiigAooooAKKKKACiiigAooooAKKKKACiiigAooooAKKKKACiiigAooooAKKKKACiiigAooooAKKKKACiiigAooooAKKKKACiiigAooooAKKKKACvOvjfocmqfDyTULPK3mjzLewuvUBeG/Q7v+A16LUVzbxXlpLbXCB4ZkMbqejKRgj8qmV7abjja+uxyd745hj+EDeL42UF9PEyDPAmYbQv4OcVyvgPUbT4b/AA40eK/sdS1DVtb33xtdPtWnmkzg5xwBhSmcnqa4Gzjvrt7P4QzCQi3192mfpm0Ub/1yzflXofjzxPd2nxI0nws+u/8ACL6JLZmWW+jCI0h+YBBI4IQDaOff6Vpo3zR+1t6Wv/XoRqlyv7O/re39ep13hP4gaT4uuryztIL6w1CywZ7HUIPKmRT/ABbckY/HPTPUVkaJ8YtD8RPDHo+l63dzSXAgkihsw5twSAJJCrEKmSec54PFcR8Nzaf8L81oaZq19rFr/ZRCX19L5rzYaLJDYG5QcgEDGBxW7+ztFGngHUJFQB31OQM2OThExRFJ6+V/xsN6X9bfhc3/AANqnhLf4ouPDmnT6aLS9k/tOSUZ8yRdxZlAZvl4PAA69KrP8Z9CgkgkvtI8QWWnzuEj1O504pbNnoQ2c4P0rjvBms3fh/w38TtV06ET3Nrqczxoy5GdzDJHcDOT9K5nxpqVrrHwrg1G98dajrOs3axSTaZFMiwQncN3mQovyhTwCSMnGOtQns/KP4r+vQdr39Zfh/XzO6+Jmp2el/GLwRqN/OsNpBHPJJKeQFx7dfoOtdTpHxX0PVPEsWhXFnquk3lwP9GGp2nkrcem3knnHGQM9OvFcD451Cz0zx18Nb/VgTaW9oJJW2F9gCqd5H+yfm/Cr3xB13SvGnjfwZpXhS7h1K+t9RW6kntWDrBECpOWHH8Ocf7PuK0jGyUf7zX47kN3vL+6n+BoeHv+TnvFX/YMi/8AQYa29U+L2g6ff3lva2Or6tFYEreXem2fmwWxHUO+R0x1GRXPaSkkv7SPjCOBtkraQio3oSkODXF/DyW+svDt3o8/xJtPCc1tcSJc6ZfabAx3HgnfIwL56e2PpUK7hFdo/qy3o2/Nfkj6F0jVrHXdJt9T0q4W4tLlN8Ui5GR9DyDngg9K8v8AjH471LQNS0bTdKi1a3BvIpLie3hxHcpn/VI+cl+Pu8da6v4WaHaaB4CtrTTdYXWbRpZJIrtYTErAsQQFJPGQec81zHx4kW2tPCt3OdlvBrMbSyEcIMZyfwB/KnJJTVu6/MlXcHfszpbD4m6bea9pOkXWk6xplzq0bvb/ANoWyxD5CwKt85IPy8cfxL61qal4wsNM8X6X4aeG5n1DUkaSMQqpWJFzlnJYEDg9AehrkPimLfXPBVn4v8MXMN7P4fu1vIZ4GDK6KwEihhwRwCf900z4cSr4z8eeIPHW1vsgC6bp28dEUBnP4nH5miOr9L39On4u3yG9F67evX8NTQj+M3h+f7ZHZ6frN5eWdw8DWVraCWZthw0gCsQEyerEfSt/wp450Txjo02paVO0cduStzHcr5b25Az84zgcc5BI688GvL/hH4p8P+H9U8Ww63f2+nXE2qSOktyQiyopPyhjwSCc7evzVU0W0uvFGn/FLWPDcUgsdUBjs9qY+0Mu4vtHXJB/8f8AWpv7l/7t/wAire9bzt+Z3Unxq8No7TLZazJpSy+U2sJYE2YOcffznr7VteJPiHonhtrGFxdaleagnmWlnpsPnyzJ/eABAx+PPOM4NeOaBKusfDSLTbz4s6fpdh9m8ifSbjSoBJEB1UEsHb/eHJ69a6vVvDPhyyt/DYTx5FofiHSdNjW01GYrGs8ByFJjkOCPvDG7jJyDxVtW08/8yU7/ANeh6P4Y8TQ+KLCa5h0/UdOaCYwyW+o2/kyq20N93J4wwrargfhN4w1bxbouof215NxJp92bZNQtl2x3YA+8B69+ABhhwK76iSswTuFFFFSMKKKKACiiigAooooAKKKKACiiigAooooAKKKKACiiigAooooAKKKKACiiigAooooAKKKKACiiigAooooAKKKKACiiigAooooAKKKKACiiigAooooAKKKKACiiigAooooAKKKKACiiigAooooAKKKKAI1/4+n/ANxf5tUlRr/x9P8A7i/zapKAI2/4+k/3G/mtSVG3/H0n+4381qSgBk8EV1byQXMSTQyqUkjkUMrqRggg8EEdqxofBHhS3mWW38MaNFIhyrpp8SlT6gha22cIMscCmefH/e/SgCTp0rLHhjQBNczDQ9NEt2pS5cWke6ZT1DnHzA9wa0PPj/vfpR58f979KAIV0vT00v8As1LG2Ww2eX9lEKiLb/d2Yxj2xVeLw5okGlyaZBo2nx2ErbpLRLVBE545KAYJ4HbtV7z4/wC9+lHnx/3v0oAoR+GtCh+yeVounJ9iYva7bRB9nYnJKcfKcgcjHSmTeFfD1xqBv7jQdMlvC283D2cbSbvXcRnNaXnx/wB79KPPj/vfpQAl1aW99avbXsEVxBIMPFKgdWHoQeDVPTPD2i6K7vo+kWGns4wzWtskRYe+0DNXfPj/AL36UefH/e/SgCndaDo99qEV/faVY3N5Djyria2R5I8HIwxGRg+lX2UOpVwGUjBBGQRTPPj/AL36UefH/e/SjyAzrLwv4f028+16doWm2lzz++gs40fnr8wGas6lo+mazAsOsadaX8SNuWO6gWVVPqAwPNWPPj/vfpR58f8Ae/SgCjd+HNE1CG3iv9G0+5itQFgSa1R1hA7KCPl6DpU9vpOnWl/NfWun2sF3cALNcRwqskgHQMwGTjA61P58f979KPPj/vfpQBTXQNHXVzqq6TYjUT1vBbJ5x4x9/GenHWkh8P6Nb6fNYwaRYRWdwxea3S2QRyMcZLKBgngcn0q758f979KPPj/vfpQBT0zQNH0UudG0mx08yffNpbJFu+u0DNF9oOj6neRXWpaVY3dzBjypri2SR48HPysRkc+lXPPj/vfpR58f979KAILfStPtL64vbWwtoLu6x59xHCqyS46bmAy341WvfDGg6lei81HRNOu7oYxPPaRu4x0+YjNaHnx/3v0o8+P+9+lAFDUPDOg6tOs+q6Jp17KoCrJc2kcjAegLA1oRRRwQpFBGscaAKqIuAoHYAdKTz4/736UefH/e/SgCSio/Pj/vfpR58f8Ae/SgCSio/Pj/AL36UefH/e/SgCSio/Pj/vfpR58f979KAJKKj8+P+9+lHnx/3v0oAkoqPz4/736UefH/AHv0oAkoqPz4/wC9+lHnx/3v0oAkoqPz4/736UefH/e/SgCSio/Pj/vfpR58f979KAJKKj8+P+9+lHnx/wB79KAJKKj8+P8AvfpR58f979KAJKKj8+P+9+lHnx/3v0oAkoqPz4/736UefH/e/SgCSio/Pj/vfpR58f8Ae/SgCSio/Pj/AL36UefH/e/SgCSio/Pj/vfpR58f979KAJKKj8+P+9+lHnx/3v0oAkoqPz4/736UefH/AHv0oAkoqPz4/wC9+lHnx/3v0oAkoqPz4/736UefH/e/SgCSio/Pj/vfpR58f979KAJKKj8+P+9+lHnx/wB79KAJKKj8+P8AvfpR58f979KAJKKj8+P+9+lHnx/3v0oAkoqPz4/736UefH/e/SgCSio/Pj/vfpR58f8Ae/SgCSio/Pj/AL36UefH/e/SgCSio/Pj/vfpR58f979KAJKKj8+P+9+lOV1fO05xQA6iims6pjccZoAqLoulpq7aqmm2a6i67WvBAomYYxgvjOMADr2o1LRdL1mNI9Y02zv0jO5FuoFlCn1AYHFWfPj/AL36UefH/e/SgCtDo2l22oNfW+m2kV40QhNxHAqyFBjCbgM7eBx04FO07StP0i3a30mwtbGFnLmO2hWNSx6nCgDPA5qfz4/736UefH/e/SgCCz0nTtPNwdP0+1tTdOZJ/IhVPNY9WbA+Y89TVNfCXhxLWe2Tw/pawXJDTxCyjCykHILDGDg881p+fH/e/Sjz4/736UAVpdF0qe4trifTLOSa0XZbyPbqWhXGMISMqMelN07QdH0eSSTSdKsbF5f9Y1rbJGX+pUDNW/Pj/vfpR58f979KAII9K06HVJdSisLVL+ZQkt0sKiWRRjAL4yRwOCewqtqHhnQdWuhc6romnXs4GBLc2kcjAfVgTWh58f8Ae/Sjz4/736UAOiijghWKFFjjQbVRBgKPQDtUN9YWep2j2upWkF3bv96G4jEiN9VPBqTz4/736UefH/e/SgDgfHV5e6Zosng/wX4TupJNRtmijmtbVY7K2WQsrbmHCsBk4wOoOa6bwZ4bi8I+D9P0WIq5tosSuo4eQ8u34sT+FbHnx/3v0o8+P+9+lNPR+YPVo8s+FvhQS2vii38U6CHhm1mSaCPUrPKuOzqHGCPcV6lbW0FnbR29nBHbwRjakUSBVUegA4FL58f979KPPj/vfpS6Jen4Kwdb+v4mbN4U8O3N+b640HS5bstuNw9nG0hPruIzmpdS8PaLrLI2saRYX7RjCG6tklKj0G4HFXfPj/vfpR58f979KAEtrW3srZLezgjt4IxhIokCqo9ABwKlqPz4/wC9+lHnx/3v0oAkoqPz4/736UefH/e/SgCSio/Pj/vfpR58f979KAJKKj8+P+9+lHnx/wB79KAJKKj8+P8AvfpR58f979KAJKKj8+P+9+lHnx/3v0oAkoqPz4/736UefH/e/SgCSio/Pj/vfpR58f8Ae/SgCSio/Pj/AL36UefH/e/SgCSio/Pj/vfpR58f979KAJKKj8+P+9+lHnx/3v0oAkoqPz4/736UefH/AHv0oAkoqPz4/wC9+lHnx/3v0oAkoqPz4/736UefH/e/SgCSio/Pj/vfpR58f979KAJKKj8+P+9+lHnx/wB79KAJKKj8+P8AvfpR58f979KAJKKj8+P+9+lHnx/3v0oAkoqPz4/736UefH/e/SgCSio/Pj/vfpR58f8Ae/SgCSio/Pj/AL36UefH/e/SgCSio/Pj/vfpR58f979KAJKKj8+P+9+lHnx/3v0oAkoqPz4/736UefH/AHv0oAkoqPz4/wC9+lHnx/3v0oAkoqPz4/736UefH/e/SgCSio/Pj/vfpR58f979KAJKKj8+P+9+lHnx/wB79KAJKKj8+P8AvfpR58f979KAJKKRXDjKnIpaAI1/4+n/ANxf5tUlRr/x9P8A7i/zapKAI2/4+k/3G/mtSVG3/H0n+4381qSgCK5/1Y+tVatXP+rH1rB8TeILXwr4avdb1COaS2so/MkSBQXIyBwCQO/rSbSV2NJt2RqUVxSfFbw9N8M5vHFuLqbTYCFlgRF8+Ni4TaVLYBywP3uhzXXWV2l/p9vdwhljuIllUMOQGGRn35qrPXyJuieiiikMKK5W68bfZvipZeDP7P3fatPa9+2edjbhmG3Zt5+713d+ldVR0uHW39dwooooAKKK4nxB8QbrTviBY+EdC8PyaxfTQC6un+1JAltCX27ssDvI5JHHbGc8HVIOlztqKKKACiiuf1/xDqGka/odhY+H7vUrfUp2jubyEnZZKMYZ8KeDk9SOnWjrYOlzoKKK5Xwd42/4S3VfEdl/Z/2T+w9Qay3+dv8AOwSN2No29OnP1o3DY6qiuVuvG32b4qWXgz+z932rT2vftnnY24Zht2befu9d3fpXVUdLh1t/XcKKKKACiiigAooooAKKKKACiiigAooooAKKKKACiiigAooooAKKKKACiiigAooooAKKKKACiiigAooooAKKKKACiiigAooooAKKKKACiiigAooooAKKwdN8Z6Rq/iSfRNOeea4gieV5fIZYfkk8tgrkAOQ2R8uQCCCc8UW/jLSLvxYfD1o8814qSs8iwMIUMZQMvmEBWYGQZC5xyDg4yLW1uoPTc3qKKKACiiigAooooAKKKKACiiigAooooAKKKKACrFt/F+FV6sW38X4UAT1Bc/w/jU9QXP8AD+NAFeiud8XeMF8IW8E8mha3q6S7t39k2fn+SFAOX+YbRz19jWZ4J+J9l48uFGl6B4gtbVomkS/vbJUtn2ttKrIrsC2c8ex9KFrsD03O1ooqK6uYbK0murqQRQQI0kjt0VQMk/kKG7K7Ba6Iloqhomt6f4j0W31bRrj7TY3SloZdjJuAJHRgCOQeoq/TaadmF76oKKKKQBRRRQAUUUUAFFFFABRRRQAUUUUAFFFFABRRRQAUUUUAFFFFABRRRQAUUUUAFFFFABRRRQAUUUUAFFFFABRRRQAUUUUAFFFFABRRRQAUUUUAFFFFABRRRQAUUUUAFFFFABRRRQAUUUUAFFFFABRVLWdWtNC0a61PUHKW9rGZH2jLN6Ko7sTgAdyQKNF1WDXdBsdWtEkSC+t0uI1lADBXUMAQCRnB9TQBdooooAKKKKACiiigAooooAKKKKACiiigC1bf6s/Wpaitv9WfrUtAEa/8fT/7i/zapKjX/j6f/cX+bVJQBG3/AB9J/uN/NakqNv8Aj6T/AHG/mtSUARXP+rH1rz74y/8AJHfEf/Xr/wCzrXoNz/qx9aq1Mo80XHuVGXLJM+XPHei6h4S+FdvfaLDv0LxPpdkuowrwLa7URuswHbeFIPqevOK6y81q08KfGTwtq2ti4isrrwtHawSR27y+bNn/AFahASW5HA/vD1r3eirk7383+jVvx0M+XRL+r3Tv+B8n6Bbpf+Cvh5byNLGk/imZGMbmNwCyA4YcqfccjtU9/wCDtJi0b4o2ka3ItPD11HLptt9qkMcDsSC+3PzNtAXLZOK+qaKT1Tt1/wAor8LfiWnrd97/AIt/r+B81eIbvRZ/H/g658dXF42lzeEIWv5IjKS+4P8A6wx/PtLEZx1OM8ZrJmOvQ/A+7/sWO8j8KyeInMPnmXAsCD9/b8/lFvvY757mvquinL3r/wBfav8A8AS0t/XS3/BPkWWIr8GvFTafqml3GkvfWflWmmNd+Xay7juwLlQ3zDBJ3HkduK+n/C3hfTfCeitZ6LE6CZzcTPLM8jTTMBudmYk5OBntW3RRfRrv/kl+n9WFbVPsfJV59gfSNV/tj+1m+Lg1QfZQn2gzDDpt2Y+TbszjvjGOMV3tr4N0q5/aYtxqtiGuRo0WqzYmcD7aJBmThvUfd+77V7xRSj7tvL/K2nbu/NDl71/P/O//AAF5M8y+NNodP0/Q/GdvHmfw5qUU0pXqbd2CyLx/wH9a8u1X7N/wr8+JfEOlwzp4w19rl7jUftHk2dum8RbhAVdvlZtozg56cV9PUUkrL+vK/wB9l+I7/wBffb8/yPkeaUx/CHxzpdtM7adZa1bCziMUkSxqztkrHKzOgOAcMSfXnNekeJvC+meE/iB8NLPR4pEWbUrm4neSZ5XmlZItzksScnA9q9woqk7NNd1+CS/S5LV1byf43/K58itqlpN4usvEGl2kOi64fEyx3Fvbx3pnhR3bImlkfytzYYFFUZGegytWNYbwmbr4kReJ/tz6k+r3H9jRx+d5ZuNzjI2fIW5XO/t06mvrKipt7vL/AF02+78Sm/e5v66/5/gfP0H/AAkMXxK8NfaFkbxCvgd8LMfnM+JNobP8WcZz3zXHfC0Xb/ETRpBq2m2Wui5m/tKKY34vrpcsZUm3I0JYBSQARyBnmvrKiqv71/63b/XXuTb3eX+tkv0Pmn4SSaVB8YY49MFt4qln+0Str0X2yK5twQcvOkuIzuzt4HU53ZwD9LUUUX91LsP7TfcKKKKQBRRRQAUUUUAFFFFABRRRQAUUUUAFFFFABRRRQAUUUUAFFFFABRRRQAUUUUAFFFFABRRRQAUUUUAFFFFABRRRQAUUUUAFFFFABRRRQByTf8lnj/7F9v8A0oWl1P8A5K34f/7BV9/6Mt66yihaW8r/AI3/AMwerb72/C3+QUUUUAFFFFABRRRQAUUUUAFFFFABRRRQAUUUUAFWLb+L8Kr1Ytv4vwoAnqC5/h/Gp6guf4fxoAyta/5AGof9esn/AKCa+b7iTV0/ZU8NDTA/2Jr+Qakw37BB50vEnl/N5ZON2OelfTtFTbfzt+F/8x328r/irHyppUehL8K/F39o6npVzpskkP8AZVlpLXeba/2nb5QuVD/NwWIJ4DdBXQ+GNFXxJb+OtM+INpJdeODYptgdsFoUiVovK2nk7wpYDgnb719FUVT1v5q3/B9f008xR0afZ3/4Hp+up5L+zqPDw+HQGiDGpB/+JsP3n+ty2373H3cfd4/GvWqKKqUuZ3JiuVWCiiipKCiiigAooooAKKKKACiiigAooooAKKKKACiiigAooooAKKKKACiiigAooooAKKKKACiiigAooooAKKKKACiiigAooooAKKKKACiiigAooooAKKKKACiiigAooooAKKKKACiiigAooooAKKKKAOL8X6b4jvdXS5trTTLzSbK3MkVvcX8kDG4wf3jBYXDbR90ZGCSx5C7bXwwa6f4XeHftkMMRGnQCMRSmTcnlrtY5VcEjqOQPU11VFEdE13/4P+YPVp/10CiiigAooooAKKKKACiiigAooooAKKKKALVt/qz9alqK2/1Z+tS0ARr/AMfT/wC4v82qSo1/4+n/ANxf5tUlAEbf8fSf7jfzWpKjb/j6T/cb+a1JQBDc/wCrGATz2BNVuf7kn/fB/wAKv0UAUOf7kn/fB/wo5/uSf98H/Cr9FAFDn+5J/wB8H/Cjn+5J/wB8H/Cr9FAFDn+5J/3wf8KOf7kn/fB/wq/RQBQ5/uSf98H/AAo5/uSf98H/AAq/RQBQ5/uSf98H/Cjn+5J/3wf8Kv0UAUOf7kn/AHwf8KOf7kn/AHwf8Kv0UAUOf7kn/fB/wo5/uSf98H/Cr9FAFDn+5J/3wf8ACjn+5J/3wf8ACr9FAFDn+5J/3wf8KOf7kn/fB/wq/RQBQ5/uSf8AfB/wo5/uSf8AfB/wq/RQBQ5/uSf98H/Cjn+5J/3wf8Kv0UAUOf7kn/fB/wAKOf7kn/fB/wAKv0UAUOf7kn/fB/wo5/uSf98H/Cr9FAFDn+5J/wB8H/Cjn+5J/wB8H/Cr9FAFDn+5J/3wf8KOf7kn/fB/wq/RQBQ5/uSf98H/AAo5/uSf98H/AAq/RQBQ5/uSf98H/Cjn+5J/3wf8Kv0UAUOf7kn/AHwf8KOf7kn/AHwf8Kv0UAUOf7kn/fB/wo5/uSf98H/Cr9FAFDn+5J/3wf8ACjn+5J/3wf8ACr9FAFDn+5J/3wf8KOf7kn/fB/wq/RQBQ5/uSf8AfB/wo5/uSf8AfB/wq/RQBQ5/uSf98H/Cjn+5J/3wf8Kv0UAUOf7kn/fB/wAKOf7kn/fB/wAKv0UAUOf7kn/fB/wo5/uSf98H/Cr9FAFDn+5J/wB8H/Cjn+5J/wB8H/Cr9FAFDn+5J/3wf8KOf7kn/fB/wq/RQBQ5/uSf98H/AAo5/uSf98H/AAq/RQBQ5/uSf98H/Cjn+5J/3wf8Kv0UAUOf7kn/AHwf8KOf7kn/AHwf8Kv0UAUOf7kn/fB/wo5/uSf98H/Cr9FAFDn+5J/3wf8ACjn+5J/3wf8ACr9FAFDn+5J/3wf8KOf7kn/fB/wq/RQBQ5/uSf8AfB/wo5/uSf8AfB/wq/RQBQ5/uSf98H/Cjn+5J/3wf8Kv0UAUOf7kn/fB/wAKOf7kn/fB/wAKv0UAUOf7kn/fB/wo5/uSf98H/Cr9FAFDn+5J/wB8H/Cjn+5J/wB8H/Cr9FAFDn+5J/3wf8Kntc/NlWHT7ykVYooAKr3WflwrHr91SasUUAUOf7kn/fB/wo5/uSf98H/Cr9FAFDn+5J/3wf8ACjn+5J/3wf8ACr9FAFDn+5J/3wf8KOf7kn/fB/wq/RQBQ5/uSf8AfB/wo5/uSf8AfB/wq/RQBQ5/uSf98H/Cjn+5J/3wf8Kv0UAUOf7kn/fB/wAKOf7kn/fB/wAKv0UAUOf7kn/fB/wo5/uSf98H/Cr9FAFDn+5J/wB8H/Cjn+5J/wB8H/Cr9FAFDn+5J/3wf8KOf7kn/fB/wq/RQBQ5/uSf98H/AAo5/uSf98H/AAq/RQBQ5/uSf98H/Cjn+5J/3wf8Kv0UAUOf7kn/AHwf8KOf7kn/AHwf8Kv0UAUOf7kn/fB/wo5/uSf98H/Cr9FAFDn+5J/3wf8ACjn+5J/3wf8ACr9FAFDn+5J/3wf8KOf7kn/fB/wq/RQBQ5/uSf8AfB/wo5/uSf8AfB/wq/RQBQ5/uSf98H/Cjn+5J/3wf8Kv0UAUOf7kn/fB/wAKOf7kn/fB/wAKv0UAUOf7kn/fB/wo5/uSf98H/Cr9FAFDn+5J/wB8H/Cjn+5J/wB8H/Cr9FAFDn+5J/3wf8KOf7kn/fB/wq/RQBQ5/uSf98H/AAo5/uSf98H/AAq/RQBQ5/uSf98H/Cjn+5J/3wf8Kv0UAUOf7kn/AHwf8KOf7kn/AHwf8Kv0UAUOf7kn/fB/wo5/uSf98H/Cr9FAFDn+5J/3wf8ACjn+5J/3wf8ACr9FAFDn+5J/3wf8KOf7kn/fB/wq/RQBQ5/uSf8AfB/wo5/uSf8AfB/wq/RQBQ5/uSf98H/Cjn+5J/3wf8Kv0UAUOf7kn/fB/wAKOf7kn/fB/wAKv0UAUOf7kn/fB/wo5/uSf98H/Cr9FAFDn+5J/wB8H/Cjn+5J/wB8H/Cr9FAFDn+5J/3wf8KOf7kn/fB/wq/RQBQ5/uSf98H/AAo5/uSf98H/AAq/RQBQ5/uSf98H/Cjn+5J/3wf8Kv0UAUOf7kn/AHwf8KOf7kn/AHwf8Kv0UAUOf7kn/fB/wo5/uSf98H/Cr9FAFDn+5J/3wf8ACjn+5J/3wf8ACr9FAENt/qzkEc9wRU1FFAEa/wDH0/8AuL/NqkqNf+Pp/wDcX+bVJQBG3/H0n+4381qSo2/4+k/3G/mtSUAFUda1qw8O6Lc6trE/2axtU3zS7GfaM4zhQSevYVerhfjV/wAkX8S/9en/ALOtROTjFtdC4R5pJM2D4+8MjwQfF/8AaqNoQAJu1idsZfZygXdnccYxkVu21zFeWkNzbNvhmRZI2wRuUjIODz0NfKPi+1vfAPwj+wW0Mk3hzxfp1ncRkHP2O+URPIOf4XVSceo4wAa9Ej8XDw98YfDtvrOvNp2iv4SikMVzdmO3aXnDbSdpbAxnrxitZJLm8nb8G3+Whld2Xn/mkvz19D2+ivlzRPE/iXUvBngLb4n1eKfUfEs1tNdC7dnePcgAO4kMBk4VgR7dqfejxNBo/wAR7ZPHniTyfCd0j2RN6fNlLEqRJLjcV2j7oIXJzipeibfTX8E//bkWld2Xe34tfoe/3HjTTrb4hWvg54bo6jdWRvUlCL5IQFhgndnPyntj3roa+btc1CPVfix4LuvEHieTw8NR8Ixtc6nDMlu+5xIxCyMNsZJ749hgkVl3HxC8V2Xwku4tO1rUL+0/4SZ9Nt9akuAk0lrtLY89h8hJ6SH7uewAFOS5dHvr/wClcv8AkStX93/pN/8AM+paK+VrnxN40svhN4nmGuXotYry0+w3aeI4dQuYSzESI08DA4OAQCAMZ98/RvhXQp/D2itDdazqWtXE0huJJ9QmEjBmAyqYACpkcL2zR0b7f5J/qF9Uu5uVyPiL4kaV4e8XWHhr7DqmqareoJfI021877PGW2iSTkYXOeRnABJxxnwO68ZapP4N1fxhefELU7Dxjaap5cHh1L1UhVVkRdhtcfMApbJ6HHOTknrLXw7Nf/tQW8t3rGtWs8mixapKkd3t2t5gzbdP9Rnqn60o6uPb/gXHL3U11/4Nv+GPfqyvFHiK08J+GL7XdRjmltbGPzJEgUFyMgcAkDv6iuB+Nuv6lpS+GNOt9WuNC0rVtSFvqWq27iN4I+DgSH/V5+Y7v9nnjIPnGpa1df8ACP8AxM8Oaf4mvPFXh2y06Ce31G7uhdOkrlMp5w4YH5uOg2cc5zDb5ZNdL/grlxS5kn1t+LsfR2kanDrWiWWqWqyJBe26XEayABgrqGAIBIzg+pq5XzZ4X12bTPFHw6Xw344vdbl1S3WHVNJN0slvZxrEgwIl4i2AE8/MdhOeua3hrxjrWi+Mb9dW8Qan4j1drW+nsW0zXor3Trh0jZwGtUG6IYHAyOQMKB01nZN221/AzjdpfL8T6cor5c+F3ivxpqvi7R70azdXy3pm/tKC68SWsyuhyd0dllXh243YAJwOMA4PTfC/QvEfjD4SX+tXPjPxFLqlxBc2tlH/AGi6xxMrbkfj5i+9SN277p29Kl3Sb7K4002l3PfaK+d/C3j/AFHxVdabqNzqmqRab4T8Ny3OtR28zK9zdANHtfkBmwm8bu/1NY/gbxHq11498NWFt4q1aSz8RWtzHdWtx4kXU57ZfLJRjiJRBJwGHVuxxyC7e9yr+t/zsK9ld/1t+Vz33xB470Pw94V1PX3uP7RtNLk8m6TTmSZ45NwUoRuADAsMgkYrb0+9j1LTba+gV1iuYUmQSDDAMARkdjzXynohbw78LviHdaZ4s1S31q01F4Es11LawjFxADclBht55QydCCRXda9r11qvj/RvD3ibxlqHhPQh4fhvUvLa+W0e7uCADumbr1PynuvvmlHWN+9vyb/T9BvR/f8Ag0v1PeqK+Yrfxh4s1Twb4SiTxJqEZbxb/ZkGqRuVe7thtCs46Sck/eyDjnPNaFzeeKdFuPiP4U07xzcKNPS1ksr/AF3UAsi7wC0aztgIzA7QeBkD7vJpX/r5J/kx/wBfi1+aPo2ivKfgRr0er6PrFs13rl3d2d0q3D6pqyakgJBwIZ0AVlwuSAOCepr1aqasSncKKKKQwooooAKKKKACiiigAooooAKKKKACiiigAooooAKKKKACiiigAooooAKKKKACiiigAooooAKKKKACiiigAooooAKKKKAMPT/GGk6rqTWNh/aE0izSQmX+y7kQB4yVcecY/L4KkZ3dRgUR+MdFk1pdKM9xDdSSvDEbiymiimkXO5I5XQI7cHhWJOD6GuZjgl8F6voEOi69PqWna3qMyHTrhYGXEoed5onjRW+U5J3FgQ2ODg1L4tluU17w7fX15Z3+kvrEK2dpaqYpRKysocuWcTBcs21RHwMkkKQSOrXm7fl/n6eYS0v6X+Wv+R0upeKdK0vUVsLh7qa7ZQ5gsrKa6aNScBnESNsBIOC2AcHHQ1HqnjHRdGvvsupz3FuQyI9w1lMbeMuQFDzhPLQnI+8w6j1rz2S61jSrPx9rkPiBrG80vVJJhY+TE0dyojjMKyl1L4dAqLsZPbJrf+I897P4F1C8murJdKgtVbUdNIKXEjAhmiW43MqEgqNvlEnOAylgyi2Tfk/v/r/gDtq16r7jpdW8WaVoupJYXn26S7ki84RWem3F0Qmdu4+UjYGeOcUureK9J0Vbb7fLceZcoZIoILKaeYoACzGKNGdVGRkkAAkA8msbxJpKG5u/E9h4kudEvrXSwsi7LeSJY1LyKZVkQsBnOdrLkDgjGazvCWqy6j46bU9ZiWzutR8M2FzFExwIxvlMyrnsGePPplc9qXl1/wCHt+Qr9Vt/wyf5neWV7balYQXthOlxbXEYkiljOVdSMgg1PXJfDGNk8A2rYxDNcXU9t6GB7iR4iPYoykexrrap7iQUUUUhhRRRQAUUUUAFFFFABRRRQAUUUUAZHifxVo3g7RzqviS8+x2QkWMy+U8nzHoMICe3pWP4Z+K3gnxhqR0/w9r8FzeYysEkckLvwT8okVd2ACSFzgcmuV/aRIX4UqWIAGpW5JPbk1gfEjWtB8X/ABL8A2ng27tNV1u31FJ5rrT3WUQ2ysCweRcjHDHbzgAnjIyQ1eve34LX8fwHPRX8r/me8VWXU7B9UfTUvbdr+OMSvaiVTKqE4DFM5Az3xivl3xD8QL+PxDP4h8N+JdWg2695Edhe+IVmEqFm3YsVj+SLjALPxxjJ5G9NZJoH7Rfiu6HiDUxe2+nG+sbeW+AN/MVDrbbSAZIx0WMcgKOeKSd0pPZ3/BXBp3cVurfnY+ip5o7a3knmbbHEhd2xnAAyTXnP/DQfwx/6Gb/yQuf/AI3Xkvws8W+NdZ8a6FejWLm+N9cONRt7rxJayJJESSxjsSVeIqBu4zwvAAOK9Kuv+TtLL/sWm/8ARrVXK7pPrf8ABNkuSs7dLfi7HZ+GvHuk+K/EGsaTpUd35ukiEyyzQ7I5BKpZSnOeg7ge2a6avn/WvEmuRSfGbytZ1BP7NW1+xbbpx9lznPl8/JnvjFU7G38SzeOvBulHx54iEPijQBPet9pBMREW79yCMIflHz4L9TuJJpR961uyf3pv9CmuW9+jf4W/zPoyivlmXx/4usvgzBbrrGoTu3iaXTZdRe7Ec4gADBPtD58skk/OegHoMV6Z8CtR8RXttrcWtXj32mxTRmxlm1u31SVCQfMR5ojz/CQCBgHinH3r28vxSf5MUvd3/rVr9D1qiiikAUUUUAFFFFABRRRQAUUUUAFFFFABRRRQAUUUUAFFFFABRRRQAUUUUAFFFFABRRRQAUUUUAFFFFABRRRQAUUUUAFFFFABRRRQAUUUUAFFFFABRRRQAUUUUAFFFFABRRRQAUUUUAZmveJNG8L6ab/xDqVtp9sMgPO4BcgE7VHVmwD8qgk+laSkMoI6EZFcf8VrS2l+GXiG6kt4nuIdLuFimZAXjDL8wVuoBwM464FddD/qI/8AdH8qAfT5/p/mPooooAKKKKACiiigAooooAKKKKACiiigAooooAjX/j6f/cX+bVJUa/8AH0/+4v8ANqkoAjb/AI+k/wBxv5rUlRt/x9J/uN/NakoAKgvbG01Kyls9RtYbu1mG2SCeMOjj0Kng1M7qgy7BR6k4pn2iH/ntH/30KAKl3oWkX+kppd9pdlc6fGFVLOa3R4VC/dAQjAx244pt34d0XUHs3v8AR7C5ewINo01qjm3xjGzI+X7o6Y6D0q79oh/57R/99Cj7RD/z2j/76FAGbF4U8OwRW0UGgaXHHZzGe2RLOMCCU9XQAfK3A5HPFSN4b0N1v1fRtPYakQb0G1Q/aiOhk4+f8c1e+0Q/89o/++hR9oh/57R/99CgDMufCXhy98v7Z4f0u48u3Fqnm2UbbIRyIxkcIP7vSrA0LSBov9jjSrIaXt2fYRbp5G3OceXjbjPOMVb+0Q/89o/++hR9oh/57R/99CjcDIj8F+FodNm0+Hw1pEdlO6yS2y2EQjkYdGZduCR2JrbAwMDgVH9oh/57R/8AfQo+0Q/89o/++hQBnP4W8Pya0NYk0LTX1QMGF81nGZwQMA+ZjdkDjrVr+ytO/tb+1fsFr/aPleT9s8lfO8vOdm/GduecZxU/2iH/AJ7R/wDfQo+0Q/8APaP/AL6FAEWoadZatYyWWq2dve2kuPMguYlkjfByMqwIPIB/CqsHhnQbbR5dIttE06HTZiTLZR2kawyE4ySgG09B1Har/wBoh/57R/8AfQo+0Q/89o/++hQBn2PhjQNLvXvNM0PTbO6eLyWnt7SON2TgbCwAJX5Rx04HpTdK8KeHtCunudE0HTNNnddjy2dnHCzLnOCVAJGQOPatL7RD/wA9o/8AvoUfaIf+e0f/AH0KeoGXbeEfDdnqjanZ+HtKt79mZjdxWUayktncd4XOTk555yavabpen6NZLZ6RY21hbKSwgtYViQE8k7VAHNTfaIf+e0f/AH0KPtEP/PaP/voUgKlhoOkaUbk6XpVlZG7bfc/Z7dI/Obnl9oG48nr6mq1l4Q8NabNby6d4e0q0ktWZ4Hgso0MTMAGKkL8pIABI64rU+0Q/89o/++hR9oh/57R/99CgDLm8H+Grme7muPDukyy3wxdSPYxs1wNwbDkr83Kg855APapdS8N6HrNrBbavoun38Ft/qIrq1SVYuMfKGBA4GOKv/aIf+e0f/fQo+0Q/89o/++hR0sHW5Tl0DR5oLGGbSbGSLT2VrON7ZCtsV4UxjHyEY4xjFQ3fhTw9qEt1Jf6Dpl1JebPtLTWcbmfb93eSPmx2z0rS+0Q/89o/++hR9oh/57R/99CgCDTNJ07RbMWmjafa6fbBiwgtIViQE9TtUAZq3Uf2iH/ntH/30KPtEP8Az2j/AO+hRqBJRUf2iH/ntH/30KPtEP8Az2j/AO+hQBJRUf2iH/ntH/30KPtEP/PaP/voUASUVH9oh/57R/8AfQo+0Q/89o/++hQBJRUf2iH/AJ7R/wDfQo+0Q/8APaP/AL6FAElFR/aIf+e0f/fQo+0Q/wDPaP8A76FAElFR/aIf+e0f/fQo+0Q/89o/++hQBJRUf2iH/ntH/wB9Cj7RD/z2j/76FAElFR/aIf8AntH/AN9Cj7RD/wA9o/8AvoUASUVH9oh/57R/99Cj7RD/AM9o/wDvoUASUVH9oh/57R/99Cj7RD/z2j/76FAElFR/aIf+e0f/AH0KPtEP/PaP/voUASUVH9oh/wCe0f8A30KPtEP/AD2j/wC+hQBJRUf2iH/ntH/30KPtEP8Az2j/AO+hQBJRUf2iH/ntH/30KPtEP/PaP/voUASUVH9oh/57R/8AfQo+0Q/89o/++hQBJRUf2iH/AJ7R/wDfQo+0Q/8APaP/AL6FAElFR/aIf+e0f/fQo+0Q/wDPaP8A76FAElFR/aIf+e0f/fQo+0Q/89o/++hQBn6b4Y0DRr2W80jQ9NsLqYFZJ7W0jidwTkgsoBPIzSWXhbw/puqSalp2habaX8u7zLqCzjSV9xy2XAycnk881o/aIf8AntH/AN9Cj7RD/wA9o/8AvoUAU7rw/o19qsGp32kWNzqFsAILua2R5YsEkbXIyuCSeD3qKbwt4fuNaXWJ9C02XU1ZXF69nGZgyjCnzCN2QAMc8YrR+0Q/89o/++hR9oh/57R/99CjYDPv/DGgarqMWoapoem3t7CFEVzcWkckiYORhmBIwTkY71Lq2g6Rr0McWuaVZalHE2+NLy3SZUbpkBgcGrf2iH/ntH/30KPtEP8Az2j/AO+hQBIBgYHAoqP7RD/z2j/76FH2iH/ntH/30KAJKKj+0Q/89o/++hR9oh/57R/99CgCSio/tEP/AD2j/wC+hR9oh/57R/8AfQoAkoqP7RD/AM9o/wDvoUfaIf8AntH/AN9CgCSio/tEP/PaP/voUfaIf+e0f/fQoAkoqP7RD/z2j/76FOSRJM+W6tjrtOcUAOoopryJHjzHVc9NxxmgCrqekabrdn9k1nT7XULbcG8m7gWVMjodrAjNQ6R4b0Pw/wCb/YOjafpnnY837FapD5mM43bQM4yevqavfaIf+e0f/fQo+0Q/89o/++hQBlTeDvDFxPPNceHNJlluZBNO72MTNK4JIZiV5YZPJ55NWbnQNHvNWg1S80mxuNQtgBBdy2yNNEASQFcjI5J6HuaufaIf+e0f/fQo+0Q/89o/++hQG5mW/hLw5aawdWtfD+lwakXaQ3kdlGs25s7m3gbsnJyc85NXDpOnNqy6q1hanUVi8lbwwr5wjznZvxnbntnFT/aIf+e0f/fQo+0Q/wDPaP8A76FAFGTw3ocv2/zdG09/7Sx9t3WqH7Vjp5nHz47ZzT00HSEu7S6TSrJbixi8m1mFuge3jxjYjYyq44wMCrf2iH/ntH/30KPtEP8Az2j/AO+hQBQXw1oSaXcaami6cthdOZJ7UWiCKVjglmTGGPA5I7CpNJ0HSNBgkh0LSrLTYpG3ulnbpCrNjGSFAyat/aIf+e0f/fQo+0Q/89o/++hQBJRUf2iH/ntH/wB9Cj7RD/z2j/76FAElFR/aIf8AntH/AN9Cj7RD/wA9o/8AvoUASUVH9oh/57R/99Cj7RD/AM9o/wDvoUASUVH9oh/57R/99Cj7RD/z2j/76FAElFR/aIf+e0f/AH0KPtEP/PaP/voUASUVH9oh/wCe0f8A30KPtEP/AD2j/wC+hQBJRUf2iH/ntH/30KPtEP8Az2j/AO+hQBJRUf2iH/ntH/30KPtEP/PaP/voUASUVH9oh/57R/8AfQo+0Q/89o/++hQBJRUf2iH/AJ7R/wDfQo+0Q/8APaP/AL6FAElFR/aIf+e0f/fQo+0Q/wDPaP8A76FAElFR/aIf+e0f/fQo+0Q/89o/++hQBJRUf2iH/ntH/wB9Cj7RD/z2j/76FAElFR/aIf8AntH/AN9Cj7RD/wA9o/8AvoUASUVH9oh/57R/99Cj7RD/AM9o/wDvoUASUVH9oh/57R/99Cj7RD/z2j/76FAElFR/aIf+e0f/AH0KPtEP/PaP/voUASUVH9oh/wCe0f8A30KPtEP/AD2j/wC+hQBJRUf2iH/ntH/30KPtEP8Az2j/AO+hQBJRUf2iH/ntH/30KPtEP/PaP/voUASUVH9oh/57R/8AfQo+0Q/89o/++hQBJRUf2iH/AJ7R/wDfQo+0Q/8APaP/AL6FAElFR/aIf+e0f/fQo+0Q/wDPaP8A76FAElFR/aIf+e0f/fQo+0Q/89o/++hQBJRUf2iH/ntH/wB9Cj7RD/z2j/76FAElFR/aIf8AntH/AN9Cj7RD/wA9o/8AvoUAJdWlvfWktrewRXNvMpSSGZA6Op6gqeCPapQMDA4FR/aIf+e0f/fQo+0Q/wDPaP8A76FAElFR/aIf+e0f/fQo+0Q/89o/++hQBJRUf2iH/ntH/wB9Cj7RD/z2j/76FAElFR/aIf8AntH/AN9Cj7RD/wA9o/8AvoUASUVH9oh/57R/99Cj7RD/AM9o/wDvoUASUVH9oh/57R/99Cj7RD/z2j/76FAElFR/aIf+e0f/AH0KPtEP/PaP/voUASUUiOrjKMGHqDmloAjX/j6f/cX+bVJUa/8AH0/+4v8ANqkoAjb/AI+k/wBxv5rUlRt/x9J/uN/NakoAiuf9WPrVWrVz/qx9azr29tdOs5LvULmG0tohukmnkCIg9Sx4FAE9FU7TV9N1DTP7RsNQtbqxwzfaoZ1eLC/eO8HHGDnnjFZN/wDEDwnp2gtrc+v2UmmrOLdrm1k+0KJDyE/d7ucc+w5o62A6KigEEAjkHpQSFUknAHJJoAKKyvDvifR/FmlnUfD16t5aCVojIEZfnXqMMAe4rVoAKKKKACiisrXvE2keGYrSTXLv7Kl5crawHy3ffK2dq/KDjODyeKANWisrSvE2ka1qup6bpl3593pUgivI/KdfKY5wMkAHoehNatABRRRQAUUUUAFFFFABRRRQAUUUUAFFFFABRRRQAUUUUAFFFFABRRRQAUUUUAFFFFABRRRQAUUUUAFFFFABRRRQAUUUUAFFFFABRRRQAUUUUAFFFFABRRRQAUUUUAFFFFABRWTB4r8O3WrHSrXXtMm1EOyGzjvI2m3LncNgOcjByMcYNH/CV+HTrH9kjXtM/tHf5f2P7ZH52/8Au7M7s+2KANaiiigAooooAKKKKACiiigAooooAKKKKACiiigAqxbfxfhVerFt/F+FAE9QXP8AD+NT1Bc/w/jQBXoqpqWrado1n9r1i/tbC23BfOupliTJ6DcxAzTbvWdL0+1gur/UrS1t7h1SGWadUSVmGVCknBJHQDrQBdooooAKKKKACiisnRvFGjeILzUrXR71bmbS5/s92qoy+VJzxkgA9DyMjigDWooooAKKKKACiiigAooooAKKKKACiiigAooooAKKKKACiiigAooooAKKKKACiiigAooooAKKKKACiiigAooooAKKKKACiiigAooooAKKKKACiiigAooooAKKKKACiiigAooooAKKKKACiiigAorP1XxBo2grE2uatY6asxIjN5cpCHI643EZxkVatLu2v7SK6sbiK5t5lDRzQuHRx6hhwRQBNRRRQAUUUUAFFFFABRRRQAUUUUAFFFFAFq2/1Z+tS1Fbf6s/WpaAI1/4+n/3F/m1SVGv/H0/+4v82qSgCNv+PpP9xv5rUlRt/wAfSf7jfzWpKAIrn/Vj61598Zf+SO+I/wDr1/8AZ1r0G5/1Y+tZGs6NYeINHudK1eD7RZXSbJot7JuGc4ypBHTsamcXKLSKg+WSbPm3Sb+/8P8Ah2/+GltLKJvEZsZdMk2/diukU3B46KACPzqLT7iTw38D/EEenLbusPi424F1axXClQEHKSKVzwOccdq+hh4I8OjW9L1f+zV+36TbC1spjI5MUQBULjOG4J5IJ5qnJ8M/CUui3WkPpObG7vjqE0X2mX55/wC/ndkdOgOPatL+/wA39WTVvwT+bISsrf1dp3/Fo4DxL4w8Y6J8UBFr2rXnh/wy1zClpPb6NHdW1whySskxO6N2wVwASOuABkln4w8Y2fxb/s7xpq15otjcX7Q2FomjRyWd4mAI1W6zvDHIJ4OD1I6DupPhT4Km8UnxHNoccuqNN55mknlZTJ/e2Ftn6UaZ8KvBWkeIzr1hocaamZGl8955ZMOxyWCsxUHk8gcdqhLRX8/0/wCD/kOWt7f1v/X6nkOg+OPE9r8O/CkmiXVlZ3WqeJXs5tlhDHFIpYDDIiADk8lcMfWtpviR4t8Hx+P7HXtRg1660CO3ezujaLAMzEABkTjA3g9c8Hnnj0m3+GnhK0sNOsrfSdlvpt79vtE+0yny58535LZPTocj2pNc8IabFa+I9U0vQYtR1bV7Xy7iCadgl5tXCodzbU44yMetEtn6fov1T+8a+L5/+3N/kzzyw8SeOdJ8beBNP1fxfbaxaeIEa5mSKwhidVMYIUlRyuejDaT82e2Os+Kvi3WNBk8PaN4euIdPvNfvha/2jPEJFtVyuSFPyljuGAfQ/Uch4J+F1+vxB0zWpfB9r4N0vRw8i2y6gL2e7mdSuTICSFUAcHpzgHcSPXPEfhfRvF2ktpniOwjvrQsHCOSpVh0KspDKe2QRwSOhNXK1l63+V9iY6S+X49zynx54u8Z+A9L0jQv7ffWdX1W/dDqVppUbTxRKsZ8tLcEIzkv0J5B7ZBHL694g8T634R0KLxjZ6hHcWni22W3ur/TTZSXMTByGMY+UEHIO0kYx35Psh+FXgo+FR4cbQYm0tZjcLC00hZZDjLCQtvBOAOD046Utt8LPBtnotvpNto+yytr4ahFF9qmO2cDAfJfJ4HQnHtSjo7vuvwa/yfqEleNl2f43/wA0eZWF34lsdZ+Llx4JtxPq6X0BiXYHYL8+5kU8MwGSBzk9j0Pc/CTxLea/pupxaxrt7qepWdwFnt7/AElLCazyDhWRCQc7Sc5z64rYvvhp4S1KPVkvdJ81dZnS4vh9plHnSISVPDfLjJ4XArQ8MeD9B8G6e9j4a06OxgkfzHCszs7epZiWP4nilHRWfZL7kv8AgjnrK67tm1RRRQAUUUUAFFFFABRRRQAUUUUAFFFFABRRRQAUUUUAFFFFABRRRQAUUUUAFFFFABRRRQAUUUUAFFFFABRRRQAUUUUAFFFFABRRRQAUUUUAFFFFABRRRQAUUUUAFFFFAHC2Sax4FvtNsbm7stS0rVdTmiUR2zw3EMszSTBixkdZFB3AjCkDB5wQR01jwLefaGu7LUNL1XWsSQC1eO4iNzIFUiTzGVwpK5GxflBOeMHd0/wZomm6hDe28FxJPbhhb/ar2e4W33DB8tJHZY+OMqBxx04pYPBuiwaomoCC4mmjmaeJLi9nmiikYkl0idyiN8xwVUYycYzRHS39aaafhuEtb2/p66/jsblFFFABRRRQAUUUUAFFFFABRRRQAUUUUAFFFFABVi2/i/Cq9WLb+L8KAJ6guf4fxqeoLn+H8aAPIv2i0EnwrCN0bUYAfzNebeNbu88M6dpnw61hppjp2uWt1pN24z9osjvABPTcjHb29hgV9E+IvDOkeLNLGna/afa7QSrKI/MdPmXocqQf1qDxF4L8P+LJLF/EGnJdvYSebbP5jo0bcd1IJHA4PHAoh7rv53/L8dAn70beTX33/DU4K68ca5B4v+JdkdSVLbQ9KW405DFH+5kMO7dnblvmxw2RWFp3jbxvrupeBdMsfEEdnNrukTTXVxLYxSjzBvxIFAHICjABAz1B5B9L134X+DfE2uNq+uaFDd3zxeU8pkddy7SvKqwBIB4YjIwMHgYs2PgHw1pt9pN5Zab5U+jQNb2L+fIfJjbOVwWw33jy2TzRHZKX9aS/zX3A93b+vh/yf3niK/Ef4jReAk8TTeIbN00zWv7Nntxp8e6+G4Es7dFAHygIFOMknNavjj4l+NpfiFrOi+EP7Tij0eNAkWm6Kt8biRlDfvmY5jXJwCoPGeDXqLfDPwi3h+bRG0nOnT3n26SH7TL8039/dvz26Zx7UzxL8LfBni/Ul1DxBocd1dhAhmWaSJmA6btjLux0yc8UtbL+ui/W+nmN21t/Wr/Sxwlx4q8eeIviHoegaZqg8NHUPD8d9eRzacsrW025t+EkAbOQFwxwAScZrEk+IeseF9G8fXdolk18viL+z4Lj7HHEse4v+9k2KN5AXq5PJGc9D7VD4R0O38QW2tw2W3UbWzFjDN5rnbAOibd2D9SM+9Vh4B8MfY9ZtW0mOSDXJjPqEcju4mkJzu5J2nJyNuMHBGMVTt08/wD0q/5aEq+l/L/0m356jPB+neI9MF1H4o8VReInkWOSFkso7Ywg7sjCdQcDBPoa6WsDwp4H8O+CLe4h8MacLGO6YPMPOkk3kDA5die5rfobu9AV0tQooopDCiiigAooooAKKKKACiiigAooooAKKKKACiiigAooooAKKKKACiiigAooooAKKKKACiiigAooooAKKKKACiiigAooooAKKKKACiiigAooooAKKKKACiiigAooooAKKKKACiiigDnfEGg6rf65puraJqVnZ3FhDPEI7yzedJPN2c/LKhBGz36mrXhTXH8R+GbXU5YFgll3pIiNuUOjsjFTgZUlSQcDginax4a07XJo5b83qvGjRhrTUJ7bKnBIbynXcOO+a0LKyttOsYbOwt47a2gQJFDEoVUUdAAOlC2B7k1FFFABRRRQAUUUUAFFFFABRRRQAUUUUAWrb/Vn61LUVt/qz9aloAjX/j6f/cX+bVJUa/8AH0/+4v8ANqkoAjb/AI+k/wBxv5rUlRt/x9J/uN/NakoAiuf9WPrVWrzorjDqGHoRmmfZ4f8AnjH/AN8igCpRVv7PD/zxj/75FH2eH/njH/3yKAKlFW/s8P8Azxj/AO+RR9nh/wCeMf8A3yKAKlFW/s8P/PGP/vkUfZ4f+eMf/fIoAqUVb+zw/wDPGP8A75FH2eH/AJ4x/wDfIoAqUVb+zw/88Y/++RR9nh/54x/98igCpRVv7PD/AM8Y/wDvkUfZ4f8AnjH/AN8igCpRVv7PD/zxj/75FH2eH/njH/3yKAKlFW/s8P8Azxj/AO+RR9nh/wCeMf8A3yKAKlFW/s8P/PGP/vkUfZ4f+eMf/fIoAqUVb+zw/wDPGP8A75FH2eH/AJ4x/wDfIoAqUVb+zw/88Y/++RR9nh/54x/98igCpRVv7PD/AM8Y/wDvkUfZ4f8AnjH/AN8igCpRVv7PD/zxj/75FH2eH/njH/3yKAKlFW/s8P8Azxj/AO+RR9nh/wCeMf8A3yKAKlFW/s8P/PGP/vkUfZ4f+eMf/fIoAqUVb+zw/wDPGP8A75FH2eH/AJ4x/wDfIoAqUVb+zw/88Y/++RR9nh/54x/98igCpRVv7PD/AM8Y/wDvkUfZ4f8AnjH/AN8igCpRVv7PD/zxj/75FH2eH/njH/3yKAKlFW/s8P8Azxj/AO+RR9nh/wCeMf8A3yKAKlFW/s8P/PGP/vkUfZ4f+eMf/fIoAqUVb+zw/wDPGP8A75FH2eH/AJ4x/wDfIoAqUVb+zw/88Y/++RR9nh/54x/98igCpRVv7PD/AM8Y/wDvkUfZ4f8AnjH/AN8igCpRVv7PD/zxj/75FH2eH/njH/3yKAKlFW/s8P8Azxj/AO+RR9nh/wCeMf8A3yKAKlFW/s8P/PGP/vkUfZ4f+eMf/fIoAqUVb+zw/wDPGP8A75FH2eH/AJ4x/wDfIoAqUVb+zw/88Y/++RR9nh/54x/98igCpRVv7PD/AM8Y/wDvkUfZ4f8AnjH/AN8igCpRVv7PD/zxj/75FH2eH/njH/3yKAKlFW/s8P8Azxj/AO+RR9nh/wCeMf8A3yKAKlFW/s8P/PGP/vkUfZ4f+eMf/fIoAqUVb+zw/wDPGP8A75FH2eH/AJ4x/wDfIoAqUVb+zw/88Y/++RR9nh/54x/98igCpRVv7PD/AM8Y/wDvkUfZ4f8AnjH/AN8igCpRVv7PD/zxj/75FH2eH/njH/3yKAKlFW/s8P8Azxj/AO+RR9nh/wCeMf8A3yKAKlWLb+L8Kf8AZ4f+eMf/AHyKckaR58tFXPXaMZoAdUFz/D+NT0140kx5iK2Om4ZxQBSoq39nh/54x/8AfIo+zw/88Y/++RQBUoq39nh/54x/98ij7PD/AM8Y/wDvkUAVKKt/Z4f+eMf/AHyKPs8P/PGP/vkUAVKKt/Z4f+eMf/fIo+zw/wDPGP8A75FAFSirf2eH/njH/wB8ij7PD/zxj/75FAFSirf2eH/njH/3yKPs8P8Azxj/AO+RQBUoq39nh/54x/8AfIo+zw/88Y/++RQBUoq39nh/54x/98ij7PD/AM8Y/wDvkUAVKKt/Z4f+eMf/AHyKPs8P/PGP/vkUAVKKt/Z4f+eMf/fIo+zw/wDPGP8A75FAFSirf2eH/njH/wB8ij7PD/zxj/75FAFSirf2eH/njH/3yKPs8P8Azxj/AO+RQBUoq39nh/54x/8AfIo+zw/88Y/++RQBUoq39nh/54x/98ij7PD/AM8Y/wDvkUAVKKt/Z4f+eMf/AHyKPs8P/PGP/vkUAVKKt/Z4f+eMf/fIo+zw/wDPGP8A75FAFSirf2eH/njH/wB8ij7PD/zxj/75FAFSirf2eH/njH/3yKPs8P8Azxj/AO+RQBUoq39nh/54x/8AfIo+zw/88Y/++RQBUoq39nh/54x/98ij7PD/AM8Y/wDvkUAVKKt/Z4f+eMf/AHyKPs8P/PGP/vkUAVKKt/Z4f+eMf/fIo+zw/wDPGP8A75FAFSirf2eH/njH/wB8ij7PD/zxj/75FAFSirf2eH/njH/3yKPs8P8Azxj/AO+RQBUoq39nh/54x/8AfIo+zw/88Y/++RQBUoq39nh/54x/98ij7PD/AM8Y/wDvkUAVKKt/Z4f+eMf/AHyKPs8P/PGP/vkUAVKKt/Z4f+eMf/fIo+zw/wDPGP8A75FAFSirf2eH/njH/wB8ij7PD/zxj/75FAFSirf2eH/njH/3yKPs8P8Azxj/AO+RQBUoq39nh/54x/8AfIo+zw/88Y/++RQBUoq39nh/54x/98ij7PD/AM8Y/wDvkUAVKKt/Z4f+eMf/AHyKPs8P/PGP/vkUAVKKt/Z4f+eMf/fIo+zw/wDPGP8A75FAFSirf2eH/njH/wB8ij7PD/zxj/75FAFSirf2eH/njH/3yKPs8P8Azxj/AO+RQBUoq39nh/54x/8AfIo+zw/88Y/++RQBUoq39nh/54x/98ij7PD/AM8Y/wDvkUAJbf6s/WpaREVBhFCj0AxS0ARr/wAfT/7i/wA2qSo1/wCPp/8AcX+bVJQBG3/H0n+4381qSo2/4+k/3G/mtSUAFFFcL8av+SL+Jf8Ar0/9nWpnLli5diox5pKPc7qquo6pYaPZm61a+trG2DBTNczLGgJOANzEDJr5p8N+I9Q8L/DfWvh5HMP7Vv3tE0c9C0d8qlseyAtz6ms7S1ttA+AWv211ptnq0Vv4v+ziK78wJwqLuHlurA8f3u5zmtOX3uX0/NJr5XXzJWqv6/k2n87H1jRXjeq/FjxBZfFw+FWHh/QrBJoUibWVuBJexH7zxSIPLHAIAYj5sDJOQDRvix4g1X4sXXhnU/8AhH9FtYbx4Bp+oLcLfTxgfKyPjymLkggZBIPAPBMXuk11/r9Qel79D1rTtU0/V7U3Ok31tfQByhltplkXcOoypIyPSrVfOnhD4h6h4a+GvhuTwt4e0mBtY8RyWUlmrTBGyQMqzyMVY8DJyB/d7V00Hxi17QbfxrB430zTX1HwykMkY0t3WGfzcBFy5J6svOOhPHHLdl/Xkn+oW1t52/Fr9D2WivHNP+IvxBs/F3g7SvFWneHkt/Em6US2HnFkTyw2zDN8rjPJ+YHPHTnqviV46v8Awn/Yul+HrO3u9c167FrZi7crBHyNzvjkgbhwMdc9sFtNffb5iTT+6/yO5qpqGradpKQtql/a2SzyiGI3MyxiSQ9EXcRljjoOa8n8bfFLxX8PPDunweJ4fD66/qV48cVxD9oaxhgUITIyjMrHLkYAHrzjB4fX/iRL8RPB+gvfLZG907xfawSS2AkEE6kOUkRZAHUEZGG54zxnAEuZ6d1+LS/UJPlV32f4J/5H0haatp1/d3VrY39rc3FmwS5hhmV3gY9A6g5U8Hg+lW6+fdP8S6l4Q1v4w63ommf2ld2t/AViIYqg/eAyMF5KqPmOMcDqOo9H+FXjO+8a6DdXupan4fv5I5gqDRROojXHSRJgHUkg44wR0pR95XXZP70v8xy92VvNr7ju6K8jjtLrxl8XvG0iXAgu9A01NN0d25FrLPEzNMPRs4GRzjiuKvJ9S8ERS6bFYS+GWvtFtodRjhkjlkjEbFZ7wCJmBkkLrFGzEMzNk420ldpef63t+CT8rjas/T/gf5/O3ofSNFeQ+JI9G1L4PaxYaFp1xoN/4NVZ7eCdE86ymiQSowZGZTuXOSGOdxzzmvSPCurPr3g/R9XlQJJfWUNw6jsXQMR+tVbe3l9z2Jvt/W25rUUUUhhRRRQAUUUUAFFFFABRRRQAUUUUAFFFFABRRRQAUUUUAFFFFABRRRQAUUUUAFFFFABRRRQAUUUUAFFFFABRRRQAUUUUAFFFFABRRRQAUUUUAFFFFABRXLT+LZr/AMQ3Hh/w3bRvqNsoa5l1BjCkCZxuWL/Wy9QQQqxtyPNB4rT8U6hcaR4O1jUbMBrmzsZp4gRnLrGWHH1FTJ2jzFKLcuU1qK8xh0PT/DF14G1LRolW/wBQuRbX92v+t1BJbaSR2mbrId6K+TnB6YBNanxg0sX3w31m5e9voFs9PuJBBbXDRJMxTjzNuC4HPyk7Tk5B4xcly38nYmHvteev3ndUVwnjnQ5NUksZ7rw6viTTYrKeNrJpYl8qZgmyY+ayrgKrruBLLu+UHJrF8N+I0jms9T1m11DUxYWcFol/GqtFbRvhTcvvcOTMRu+VWIjCEhdxylr/AF6/18/Jivon/XQ9VooooGFFFFABRRRQAUUUUAFFFFABRRRQAUUUUAFFeX/HjxDqmi+EtLstIvZNNOsanFZT38TbWt42ySQcjB4656A1b0z4X+D/AIbWs/iDw/bpY39jYyq17fXcjRyfJy0oJIAyATsA9vSldWcnsv8AK/6odtVFbv8Azsei0V4d4V+MHi7W/EtvocsXh+7l1exnm0q9tLW9ggEqKxG/z1VnTKkEp09c8Vi+CPid4t8N/CfX/FPiWa21i3jv3gs1lnlM5uWZQVJbIEIByFXngjim9N+362/MS127/pc+i6K8E8OftEzSWevNrq6TqL6dpwvreXSFnhjkO9Y/JYTqG3bnX5gMYz1rTsviV8QbLX/Bdr4n0/w6ln4obzFlsvOLxx7FbaQzYVxu5PzA59uXbW39df8AJivpf1/DX9T2iivDJfjJ40n8M33jrTNG0M+ELK9EBtppZft0qB1QsGHyDJbuOPRsZO3b/ETxhr/xWv8Awz4XsdG/s60t7W8a5vxKriGRI2ZflJBc7zt4AGOc0RTl/Xlf8hvS/wDXW35np1hqmn6oszaZfW14LeVoJjbzLJ5ci9UbBOGGeQeatV8++HPiH/wingzW5NA8PafHquo+LJtNsreJ5FhkmYLiSTe7HHqFKjpgL1rsPEPjDxz4R8HfafE134Ps9Xmv0htiEvJLeaMp0VEDStJu9BjFSneKfp97S/zG1Ztev4X/AMj0fUtW07RrX7Vq9/a2FvuCeddTLEm49BliBk+lW6+ZfHPxA1Pxt8JNXtNfs7e31LRtdtreZ7WOWKOQEvgiOUCRCNpBDAH2HSvplPuL9Kq2l/P9E/1E90v63a/QWiiikAUUUUAFFFFABRRRQAUUUUAFFFFABRRRQAUUUUAFFFFABRRRQAUUUUAFFFFABRRRQAUUUUAFFFFABRRRQAUUUUAFFFFABRRRQAUUUUAFFFFABRRRQAUUUUAFFFFABRRRQAUVwvxg0sX3w31m5e9voFs9PuJBBbXDRJMxTjzNuC4HPyk7Tk5B4x28P+oj/wB0fyoB6W/rt/mPooooAKKKKACiiigAooooAKKKKACiiigAooooAjX/AI+n/wBxf5tUlRr/AMfT/wC4v82qSgCNv+PpP9xv5rUlRt/x9J/uN/NakoAKyvFHh208WeGL7QtRkmitb6Py5HgYBwMg8Egjt6GtWik0mrMabTuji/8AhVfh4+LdA8RMbpr3QbNLO3BddkiopVWcbclhuJyCOccVRm+C/h2fwrf6A97qYtb/AFU6tK4lj8wSnHyg7MbeOhBPvXoVFVd3v/W9/wAxf1+FvyOC1X4R6XrviIanreveIr+2W6F0ukz6huslcfdAj28AegP6UQfCPS/+Ert9e1TXfEWsyWlw1za2mpah5tvbyE5BRNoxjsM9h1rvaKWysD1PPbL4L+HbDR9F02G81NodF1T+1Ldmlj3PLkHa/wAmCvHQAH3pfE3w90OKDxjr1zZajrEmuWaLd6fCQxcRKNvkqF3b+ARknkCvQaKTV1/Xa35JDvrf+t7/AJnzt4H8F3uqfE/w9f6dpXi2z0bw9G7SXfi1yszZUrHBDH90IuM/KO5z/CD7N408DaT470uC01c3MEtrMs9reWcvlz20gP3kbBA/EH16gEdHRVPVW/q5K0dzgLr4PaNf+H7bT7/Wdfuby0uzd22sy3+b6GQhQdsu3phFGMdh3ANSTfCfTrzQrDS9U8QeIdTWw1NNTiuL69WabzFGAhZk+53wADknmu7oovb+v67Ba6t/X9anESfCzTvP8Qz2Ot67ptx4guY7m5nsbtYZI2TOFjYJkKdxyDnNaHgvwFpfgeG9/s+4vr671CXzru+1Gfzp52HTc2B0ye3eunopLTb+v6sN66s4Sw8O6roPxl1PV7G0NxoniG0jN3KsiA2tzCNqkqxBKspx8oJz1AHNX7r4c6Nf2niGLUZbu7l8QMDc3Msi+bEFx5SxkKAqxkZUYPPJzXWUUdEv6/r9A63POPFngrU4fA+saR4X+0anq3iSdYr/AFO9liUxxkBGkcKEGFjXaFRc85wTk13ekaZBouiWWl2mRBZW6W8ef7qKFH8quUUbL+umwf194UUUUAFFFFABRRRQAUUUUAFFFFABRRRQAUUUUAFFFFABRRRQAUUUUAFFFFABRRRQAUUUUAFFFFABRRRQAUUUUAFFFFABRRRQAUUUUAFFFFABRRRQAUUUUAUdV0TTdcgji1ayiuhE/mQs6/PC46OjD5kcdmUgjsatzQx3FvJBOiyRSKUdGGQykYIP4U+ijdWDzOb0jwVa6Td2kralqN9Fp6MmnW13IjJZKRtwhVAzEL8oaQuwGQDyczz+FLe78DzeF73UNQu7ee2a2ku55g9y6tnJLkYLc9cVu0Ub7gtHdGfq+jQ61pLabdSzJbSFRMsTAecgPMbEg/Kw4OMEgkZFZmp+CrLU9TkujfX1tBceV9rsrd0WG68o5TflSw7A7GXcAAciujoo63FbSwUUUUDCiiigAooooAKKKKACiiigAooooAKKKKAMjxP4W0jxjoMuj+IbRbqzlIbbkqyMOjKw5BHqPcdCRXI6f8F9ItLWe0v/ABD4m1izlsnsktdS1LzI4EYAZjUKNpAUAdsdq9FopWWq7ju9PI8+8P8Awc0Xw/4k0rXE1jXtQvNKheCA6heiZfLZSoXBXgKGOAu0fWo7f4JeGINN1rTHutWn0vV3MjafLd5htZC24PCoUFWBA5JOQMHIzXotFN67iWn9djzub4dWegeDfEEN9qfijxda3Niytp2o3xuWIUEgQgKNrk4xjuBXm3g3wTeat8SPDVxpek+L7PRvDoaSW78WsVlwVxHBBH90INuflH8RzjCg/RtFNaS5v66/5iaTjynmlx8CPC1xfXB+3a3FpVzc/aptCivytjJJwSTGBnkgH73HbAAFdRpfgfS9H8b6p4os5LgXmpwRQSwsy+SixqFXYoUEcKOpNdHRSWm39dBvV3f9dfzPP2+DHheXwtqWhXD300F/qT6n5zTKJbe4YAbo2VQBgDgEHqc5qK4+DOl3mkwWl54l8UXF3bXn2y31SXU913C2wLtWTbgLgemQc4PNei0UrWVvT8NvyQ79f61/4c80f4FeGX0nVdPbUNZaLVb6K+uJJLpZJPMj3Yw7ISQdxzuyT616WBgAelFFVd/1936CCiiikAUUUUAFFFFABRRRQAUUUUAFFFFABRRRQAUUUUAFFFFABRRRQAUUUUAFFFFABRRRQAUUUUAFFFFABRRRQAUUUUAFFFFABRRRQAUUUUAFFFFABRRRQAUUUUAFFFFABRRRQBn6/otv4i8PX+jXryx299A0EjQkBwrDBIJBGfwNX1XYgUdAMUtFABRRRQAUUUUAFFFFABRRRQAUUUUAFFFFABRRRQBGv/H0/wDuL/NqkqNf+Pp/9xf5tUlAEbf8fSf7jfzWpKjb/j6T/cb+a1JQBDc/6sYJHPYkVW5/vyf99n/GrVz/AKsfWqtABz/fk/77P+NHP9+T/vs/40UUAHP9+T/vs/40c/35P++z/jRRQAc/35P++z/jRz/fk/77P+NFFABz/fk/77P+NHP9+T/vs/40UUAHP9+T/vs/40c/35P++z/jRRQAc/35P++z/jRz/fk/77P+NFFABz/fk/77P+NHP9+T/vs/40UUAHP9+T/vs/40c/35P++z/jRRQAc/35P++z/jRz/fk/77P+NFFABz/fk/77P+NHP9+T/vs/40UUAHP9+T/vs/40c/35P++z/jRRQAc/35P++z/jRz/fk/77P+NFFABz/fk/77P+NHP9+T/vs/40UUAHP9+T/vs/40c/35P++z/jRRQAc/35P++z/jRz/fk/77P+NFFABz/fk/77P+NHP9+T/vs/40UUAHP9+T/vs/40c/35P++z/jRRQAc/35P++z/jRz/fk/77P+NFFABz/fk/77P+NHP9+T/vs/40UUAHP9+T/vs/40c/35P++z/jRRQAc/35P++z/jRz/fk/77P+NFFABz/fk/77P+NHP9+T/vs/40UUAHP9+T/vs/40c/35P++z/jRRQAc/35P++z/jRz/fk/77P+NFFABz/fk/77P+NHP9+T/vs/40UUAHP9+T/vs/40c/35P++z/jRRQAc/35P++z/jRz/fk/77P+NFFABz/fk/77P+NHP9+T/vs/40UUAHP9+T/vs/40c/35P++z/jRRQAc/35P++z/jRz/fk/77P+NFFABz/fk/77P+NHP9+T/vs/40UUAHP9+T/vs/40c/35P++z/jRRQAc/35P++z/jRz/fk/77P+NFFABz/fk/77P+NHP9+T/vs/40UUAHP9+T/vs/40c/35P++z/jRRQAc/35P++z/jRz/fk/77P+NFFABz/fk/77P+NHP9+T/vs/40UUAHP9+T/vs/40c/35P++z/jRRQAc/35P++z/jU9rn5ssx6feYmoKsW38X4UAT014w+Mlhj+6xH8qdRQBH5Cesn/fxv8aPIT1k/wC/jf41JRQBH5Cesn/fxv8AGjyE9ZP+/jf41JRQBH5Cesn/AH8b/GjyE9ZP+/jf41JRQBH5Cesn/fxv8aPIT1k/7+N/jUlFAEfkJ6yf9/G/xo8hPWT/AL+N/jUlFAEfkJ6yf9/G/wAaPIT1k/7+N/jUlFAEfkJ6yf8Afxv8aPIT1k/7+N/jUlFAEfkJ6yf9/G/xo8hPWT/v43+NSUUAR+QnrJ/38b/GjyE9ZP8Av43+NSUUAR+QnrJ/38b/ABo8hPWT/v43+NSUUAR+QnrJ/wB/G/xo8hPWT/v43+NSUUAR+QnrJ/38b/GjyE9ZP+/jf41JRQBH5Cesn/fxv8aPIT1k/wC/jf41JRQBH5Cesn/fxv8AGjyE9ZP+/jf41JRQBH5Cesn/AH8b/GjyE9ZP+/jf41JRQBH5Cesn/fxv8aPIT1k/7+N/jUlFAEfkJ6yf9/G/xo8hPWT/AL+N/jUlFAEfkJ6yf9/G/wAaPIT1k/7+N/jUlFAEfkJ6yf8Afxv8aPIT1k/7+N/jUlFAEfkJ6yf9/G/xo8hPWT/v43+NSUUAR+QnrJ/38b/GjyE9ZP8Av43+NSUUAR+QnrJ/38b/ABo8hPWT/v43+NSUUAR+QnrJ/wB/G/xo8hPWT/v43+NSUUAR+QnrJ/38b/GjyE9ZP+/jf41JRQBH5Cesn/fxv8aPIT1k/wC/jf41JRQBH5Cesn/fxv8AGjyE9ZP+/jf41JRQBH5Cesn/AH8b/GjyE9ZP+/jf41JRQBH5Cesn/fxv8aPIT1k/7+N/jUlFAEfkJ6yf9/G/xo8hPWT/AL+N/jUlFAEfkJ6yf9/G/wAaPIT1k/7+N/jUlFAEfkJ6yf8Afxv8aPIT1k/7+N/jUlFAEfkJ6yf9/G/xo8hPWT/v43+NSUUAR+QnrJ/38b/GjyE9ZP8Av43+NSUUAR+QnrJ/38b/ABo8hPWT/v43+NSUUAR+QnrJ/wB/G/xo8hPWT/v43+NSUUAR+QnrJ/38b/GjyE9ZP+/jf41JRQBH5Cesn/fxv8aPIT1k/wC/jf41JRQBH5Cesn/fxv8AGjyE9ZP+/jf41JRQAiIEGBk/Vif50tFFAEa/8fT/AO4v82qSo1/4+n/3F/m1SUARt/x9J/uN/NakqNv+PpP9xv5rUlAEVz/qx9a4X4sXt1p3wp1+70+5mtLmK23RzQSFHQ7hyGHIrurn/Vj61zXjLw5/wl3g7UtB+1fZPt0Xl+f5fmbOQc7cjPT1FRNNwaRcGlJNnjGtQeJPAXw60Px9pHjTXb+WSO2e9sNWu/tMEqyhSVUEfLzxnk4PBBHPoo+JwOseL7EaTx4a09b0SG5/4+d0Xmbcbfk9M5b6Vj23wZ1C+/sqz8aeM7nXdG0gIbXTIrFLRNyYC7ypJcBQRzzycEZObXiL4SXereKtb1bSPFdxpEGvWf2XULVLNJfMxHsGHY/KOmQBk/MAwzxpJ6u3nby00/Ezitr+V/PXX8CA/GS6kXwqmn+FZb268SWctxDbxXqgxugOEyygEEjliRtGTg4xXIfEvx43jL4P+ILW/wBJk0bVdI1SC3vLJ5xMEJfghwACDg9u3frT9c8IXuifEH4beGNL12S1vLTT7uOHU47ZSVYIzBvLYkEdipPIzyK6if4IC78F6xpV54jluNW1q+S8vdVktB87IxKqIg4Cjk/xd/TAC0bv0v8AlP8AyT/AcW00nvZfjF/qVbfxFoPhr4teOdXvre9jk0/SrZ7qb7SJElUom1Ui2Aq2SBy5GfTJre0f4g+JtQ0K81e/8DHTbNdPa+spZ9XiC3I4IVyVAhypzl+gB9Kde/Cex1XxH4nv9Vv3ntPENnDavbJCEaDywoDhyTk5QEfLx71nf8Kl1y98G3nhnX/HdxqOnyWiW1mg06OL7NsdWVmIYmT7gGCc4zyM0a8tvL/P/gW6Cirb+X5L/g3/AAKukfGu+1w6vp9r4at/7Zs7A3ltBa61BdwzKGAbMyfKpXO7bzkA9OM5nhf4z6xp3wmg8QeMtMN1PcXH2bT7kXMMQ1CQvJncAAIVTZgsRz1rpvDfwoudI8VDWtW8SHVG/sk6WYU0+O1VUzxsEZwqhQBtwe5z2GSnwId/BA8NX/il7q3s7kXOksdOjAs2y5YOpJ85W38hsdPTih9fl+b/ABtby/AfRf10/wAzp/h18SYvHjanbSWEdhf6a6CaKC+jvImVwSrLLH8rdCCB0/lTuvibqZ+Jt/4N0bwpJqU1iIZJbkX6RKsThCzkMv8ADvGFBJbnpWl8P/AknguG8+13un39xcsuJrPRYNPKqP4SIvvc889Km0vwQNN+JOu+LDf+cNXt4oTaGDHlbFUZ37juzt6YHWnpzLtb8bC15X/XX/I5Cf443As7rXbLwdd3XhK0uhbS6wLyNX+8qllgIyRlhjnnvg5Av6h8Yo9P/wCEmQ6K0s2jG1NpGtz/AMhBbgjyyvyfL1HHzVQl+B0/2S70G08YXdt4Ru7r7TLoy2cZcchiqzk5A3KCOPrk5J2dW+E1lqXxH0jxPFe/ZoNPiijk08QbhcGLd5ZL7hjGV7H7opLZf101f37eupT3dv610X3b/gUk+NNtJDHcw6NJNar4f/tu5eK4DND8+zyQu35juHLZGACccVsfDjx5qHjyyuL250O2020QJ5UsGrRXnmMwyVYIAY2A2nDYPPSs7wr8KLjwfp+vR6N4jZLvUQsdncvYo/2GJXdggRmIf77dcD2qx8PPhavgfV9R1a61WPUL6+jWI/ZtPjsYUReeIo/l3ZHX/wCuS1bmfb/h/wBLL/Ml3tp/W3/Bf+R39FFFIYUUUUAFFFFABRRRQAUUUUAFFFFABRRRQAUUUUAFFFFABRRRQAUUUUAFFFFABRRRQAUUUUAFFFFABRRRQAUUUUAFFFFABRRRQAUUUUAFFFFABRRRQAUjMEUs5CqoySTgAUtMmhiubeSC4jSWGVSjxyKGV1IwQQeoI7UPyD1PPBrupax8SfDd9a3M8GgXJuorWBWKreqsO7z2GeVJxsz2Bb+IVPqvh+D/AITLR9K0jUNaimLm/vnOuXjqtuhwE2NKV+dyB0+6r+lX5vhj4Y/4SLSNUsNF0myGnSSSNFDp0S+cSuFJIAwVPzA4PPp1rasND+yeJtV1mW486S/WGKNNmPIjjU4TOecsztnA+9jtT6ry/r8/8geqa7/1+X4nm/iPxDHYQeJdQ1DX72z8S6ZcySadpqXUiK8EeGjxbBts0bqCXcq2Mtyuz5dX4heItRvNJmi8O3M1nFp01u+oXkTFTvaSPFsrA9cNufHQYX+LjptW8O6rrk8tpqOsQHQ5ZA0lnDZFJpEGD5TTeYQUJHOEBI4z3qp4m+GfhrxFYXSLo2k2t7cyrK98NOjaQkOGYk4BJbBBOe560o6JX8v6/wA/MJWbfz/r/LyOuoqO2toLO1itrSGOCCFAkcUSBVRQMAADgADtUlABRRRQAUUUUAFFFFABRRRQAUUUUAFWLb+L8Kr1Ytv4vwoAnooooAKKKKACiiigAooooAKKKKACiiigAooooAKKKKACiiigAooooAKKKKACiiigAooooAKKKKACiiigAooooAKKKKACiiigAooooAKKKKACiiigAooooAKKKKACiiigAooooAKKKKACiiigAooooAKKKKACiiigAooooAKKKKACiiigAooooAKKKKACiiigAooooAKKKKACiiigAooooAjX/j6f/cX+bVJUa/8AH0/+4v8ANqkoAjb/AI+k/wBxv5rUlRt/x9J/uN/NakoAiuf9WPrVWrksfmrgsV5zkYqL7IP+esn6f4UAQUVP9kH/AD1k/T/Cj7IP+esn6f4UAQUVP9kH/PWT9P8ACj7IP+esn6f4UAQUVP8AZB/z1k/T/Cj7IP8AnrJ+n+FAEFFT/ZB/z1k/T/Cj7IP+esn6f4UAQUVP9kH/AD1k/T/Cj7IP+esn6f4UAQUVP9kH/PWT9P8ACj7IP+esn6f4UAQUVP8AZB/z1k/T/Cj7IP8AnrJ+n+FAEFFT/ZB/z1k/T/Cj7IP+esn6f4UAQUVP9kH/AD1k/T/Cj7IP+esn6f4UAQUVP9kH/PWT9P8ACj7IP+esn6f4UAQUVP8AZB/z1k/T/Cj7IP8AnrJ+n+FAEFFT/ZB/z1k/T/Cj7IP+esn6f4UAQUVP9kH/AD1k/T/Cj7IP+esn6f4UAQUVP9kH/PWT9P8ACj7IP+esn6f4UAQUVP8AZB/z1k/T/Cj7IP8AnrJ+n+FAEFFT/ZB/z1k/T/Cj7IP+esn6f4UAQUVP9kH/AD1k/T/Cj7IP+esn6f4UAQUVP9kH/PWT9P8ACj7IP+esn6f4UAQUVP8AZB/z1k/T/Cj7IP8AnrJ+n+FAEFFT/ZB/z1k/T/Cj7IP+esn6f4UAQUVP9kH/AD1k/T/Cj7IP+esn6f4UAQUVP9kH/PWT9P8ACj7IP+esn6f4UAQUVP8AZB/z1k/T/Cj7IP8AnrJ+n+FAEFFT/ZB/z1k/T/Cj7IP+esn6f4UAQUVP9kH/AD1k/T/Cj7IP+esn6f4UAQUVP9kH/PWT9P8ACj7IP+esn6f4UAQUVP8AZB/z1k/T/Cj7IP8AnrJ+n+FAEFFT/ZB/z1k/T/Cj7IP+esn6f4UAQUVP9kH/AD1k/T/Cj7IP+esn6f4UAQUVP9kH/PWT9P8ACj7IP+esn6f4UAQUVP8AZB/z1k/T/Cj7IP8AnrJ+n+FAEFFT/ZB/z1k/T/Cj7IP+esn6f4UAQUVP9kH/AD1k/T/Cj7IP+esn6f4UAQUVP9kH/PWT9P8ACj7IP+esn6f4UAQUVP8AZB/z1k/T/Cj7IP8AnrJ+n+FAEFFT/ZB/z1k/T/Cj7IP+esn6f4UAQUVP9kH/AD1k/T/Cj7IP+esn6f4UAQUVP9kH/PWT9P8ACj7IP+esn6f4UAQVYtv4vwpPsg/56yfp/hUkUIizhmbP97FAElFFFABRRRQAUUUUAFFFFABRRRQAUUUUAFFFFABRRRQAUUUUAFFFFABRRRQAUUUUAFFFFABRRRQAUUUUAFFFFABRRRQAUUUUAFFFFABRRRQAUUUUAFFFFABRRRQAUUUUAFFFFABRRRQAUUUUAFFFFABRRRQAUUUUAFFFFABRRRQAUUUUAFFFFABRRRQAUUUUAFFFFABRRRQAUUUUAFFFFAEa/wDH0/8AuL/NqkqNf+Pp/wDcX+bVJQBG3/H0n+4381qSo2/4+k/3G/mtSUAFFFcp8T9av/Dvwx1zVtHn+zX1rb74ZdivtO4DOGBB69xUykoxbfQqMXJpI6uivBdR8UfEnwN4N0TxzqXii18SaVeJA97p02mxWzQrKFI2PHyxGSMnAGQdp7elf8LM0Y6p4lsRb3xk8N2S3t23lptkQx+YBH82SceoXnvVtWun0vf5ELW3n/wx2FFedXHxr8PW9voEv9nazM3iC1kubKKC1WSQ7M/IVVyd7EYAGRkjJAya5L4j/FKPxF8G9W1Dwrcatomo6dqMNrcwy5tbq3bfyG2txnkdexBpa3t52/G35jVn/Xlc9yory7T/ABPZaX8WvGE2reJNTFnpmmW809ndIPslqCiHfGQ5LMc9NgJJIy3FamhfFmz8QWd3dWXhbxSkMFm15A0umgfbkBAxBhj5hO4EDjg0dL+V/wA/8hJ3/D8Un+p3tFecQfGfTLqHVYh4c8SWmq6dZ/bBpd7p/l3FxHu27kXccgEjOccZIzg1leD/AI5w33w3HiHxdpd7aXAmEEYtbJvLv5WZwkdtliXYBMNkgA0d/wCt9B/1+p65RXMeDfHmm+NPt8VpZ6jpt7p7ql1YapbeRPFuGUYrk8EA457fSszUPizpFj48ufCEeka3fapbGLzBZWYlQJIFPmEhshF3ruJAxnjNO2qQdG+x3VFeaXXx38LWt9OBY63PpVtci1n1yCwLWMb5AIMmc8EgcLz2yCCdG9+Lvh7T4vEz3EF/nw2YBcqsSEziY4jMXzfMDkdcdam+l/6/rUdnex3VFcG3xg8NIIHdb1YJdFGtvP5SlIYCdoV8NneW4wAee9aXgrx5D43immtdA17S4EjSSObVbIQpcK+cGNgxDcDP4j1qrO9v66r9GTfS/wDX9ao6qiuE1vxFqt38XdG8JaJdmzggtH1TVZFjRmkiDbI4gWBChm6kc46EVxWlfFjVrCeG91i+bUZJYrwX+ixQxh9PulnEdtbptUOGcnbhyxOCwwAalO/4/hf/ACt/w6Kat+H4/wBf1qe4UV5vDq2vah8J9QvNJ8XWOo+JrNGu5jYfZ5oYnAL/AGTCg/Lgbck7yed3auv8IeIovFng/S9dgTy1vrdZTHnOxujLnvhgR+FVbfy/Um+3nf8AA2aKKKQwooooAKKKKACiiigAooooAKKKKACiiigAooooAKKKKACiiigAooooAKKKKACiiigAooooAKKKKACiiigAooooAKKKKACiiigAooooAKKKZLKsMLyv91FLHHoBSbSV2NK7sh9FebWfiDxAmieH/F93qrS2ms3dukuk+REIYILlgsRRwvmb13ISWYg/NwOMb/iXUL+TxZonh+y1RtIj1CK4ne7ijjaZzFsxFH5isgJ3ljlScIcY6h2f6fhcX/DnVUV5fH40uptJjtb/AMSx2ENnrNxpl94gijiUERoWQkupijZiVViV27gwUAsuLWh+OTeR6Mur+ILOwjiyLu6uGigOoSH/AFMaq/QtGUmYKARvjAwCQBa7eX46g9N/6toejUUUUAFFFFABRRRQAUUUUAFFFFABRRRQAUUUUAFFFFABRRRQAUUUUAFFFFABRRRQAUUUUAFFFFABRRRQAUUUUAFFFFABRRRQAUUUUAFFFFABRRRQAUUUUAFFFFABRRRQAUUUUAFFFFABRRRQAUUUUAFFFFABRRRQAUUUUAFFFFABRRRQAUUUUAFFFFABRRRQAUUUUAFFFFABRRRQAUUUUAFFFFABRRRQAUUUUAFFFFABRRRQAUUUUAFFFFAEa/8AH0/+4v8ANqkqNf8Aj6f/AHF/m1SUARt/x9J/uN/NakqNv+PpP9xv5rUlABXN/ELw7d+LPh9q+hadJDFdX0HlxvOxCA7geSAT29DXSUUpJSTTHFuLujxY/C7x74o0nRvDfjjWNDtfDWlLFug0ZZmmvPLCqqyGQAAYB5HGT908YteI/hh4vk8Z+KdQ8K6losOneJtOFpcrfRymWErEUAQLxg4HzE8Bj8pwM+v0U3rv5/juJaf121PnTUfDniLwv44+FuhaZc6aNdsdNvEjkmDyWzOEY4ONrbSOMgZGc4OMVtX/AMFfEuqeBvEkV/qelyeJPEWpRXlwYzIlrEsbEhVO0seCeo9B2yfZp9J0651K31G5sLWW+tQwt7qSFWlhDDBCsRlcjrjrVui73e92/wDybm/yDZ6bWS+5WPKNV+EN5r3irxrc6hfW8Gn+ItPt7aBoSzSwyRBPmZSACNydA3I9KhfwP8TdW+HF94T1rWPD9tEunJaWc2n+eHlKsnExIGFKKVO0fxng9K9doo6W/rr/AJgtNV/Wy/RHjXgj4P61oPjNtW1JfDtlaSaI+mtbaLHKmxyww37wEyHaMl2bcTxjjJyW+Bviq++F9v4S1XUNDYaPefadLMRn23AZpDIlweCud4wU5HI9697ooev9ed/zYLT+vK35HnHwl+HM/gWPUpdQ0vRLC6uyig6Nc3ciOi5++Lhjg5Jxj1q9ovgi/wBP+MXiXxZcy2rWOrWkMECI7echRUDbhtAAJXsT2ruaKd7u/lYVtGv63ueGP8G/GkHhq/8AAthrOiL4QvbzzzczRSm/jQsr7Qo+Q4KgcnnrkZwNrW/g/d33xP0rWLC7t00COG2TUbSWRvMuGt8+V8u0qRwmckdDXrNFJdPL/Kw3rfz/AFd2eO+DvhLr3hTSfESSvoeqXVzbCw0qK8WR4FtRI7lJhtB538gZ6DmtH4R/DPWvAmoardapc6fbW14FEWk6TNcSWsbDGZczktvOMfTv0A9RopptO4PXT5nmOsEeGv2htJ1m/ISw17Sm0qOduFjuVk8xUJ9WHAHc9K1/Efgi+8X+IbmXWruKHS7aykg0qKB2Z0nlQq9zICANyg4QAnGScgmu3oqbJx5X5/jf/N/8OO7vdeX4f8N/SPIJNKvfh/4W1TxB4lbT47iLQINEs7PT5XkW5dAwQ/Minc7OAEAOADye3bfDLQbjwz8MtC0i+BW5t7VTMh6o7Euy/gWI/CupoqrvW/X/AIL/ADbJstLdP+B+iQUUUUhhRRRQAUUUUAFFFFABRRRQAUUUUAFFFFABRRRQAUUUUAFFFFABRRRQAUUUUAFFFFABRRRQAUUUUAFFFFABRRRQAUUUUAFFFFABRRRQAU2RFkjZHGVYEEeoNOopNJqzA4PTfB2tR6fo3h3UnsH0PRZ4pYbmOVzcXSwnMCNGUCpghCWDtnZwo3fLoarpmu6tocFtrGg+GNdk8+Vpba8ldIFUMfJZd0UmW2HDZA5JwcV1lFN6rX+v6sHX+vP/ADOa0Xw/f+G/CVza6Y9lNq07vOWdDDbiVuAAqgkRooVQvXCAZ5zWJf8AgPUrWGWHQjYXi3+mSWF7Nqbsrh5HZnuBtVg5YuSyfIDtQBgBgegUUPXf+un5Anbb+uv5kVrB9ms4YN5fyo1Tc3VsDGaloopttu7EkkrIKKKKQwooooAKKKKACiiigAooooAKKKKACiiigAooooAKKKKACiiigAooooAKKKKACiiigAooooAKKKKACiiigAooooAKKKKACiiigAooooAKKKKACiiigAooooAKKKKACiiigAooooAKKKKACiiigAooooAKKKKACiiigAooooAKKKKACiiigAooooAKKKKACiiigAooooAKKKKACiiigAooooAKKKKACiiigAooooAKKKKACiiigCNf+Pp/9xf5tUlRr/x9P/uL/NqkoAjb/j6T/cb+a1JUbf8AH0n+4381qSgCOd2RAUxnPcZqv9om9Y/++T/jU9z/AKsfWqtAD/tE3rH/AN8n/Gj7RN6x/wDfJ/xplFAD/tE3rH/3yf8AGj7RN6x/98n/ABplFAD/ALRN6x/98n/Gj7RN6x/98n/GmUUAP+0Tesf/AHyf8aPtE3rH/wB8n/GmUUAP+0Tesf8A3yf8aPtE3rH/AN8n/GmUUAP+0Tesf/fJ/wAaPtE3rH/3yf8AGmUUAP8AtE3rH/3yf8aPtE3rH/3yf8aZRQA/7RN6x/8AfJ/xo+0Tesf/AHyf8aZRQA/7RN6x/wDfJ/xo+0Tesf8A3yf8aZRQA/7RN6x/98n/ABo+0Tesf/fJ/wAaZRQA/wC0Tesf/fJ/xo+0Tesf/fJ/xplFAD/tE3rH/wB8n/Gj7RN6x/8AfJ/xplFAD/tE3rH/AN8n/Gj7RN6x/wDfJ/xplFAD/tE3rH/3yf8AGj7RN6x/98n/ABplFAD/ALRN6x/98n/Gj7RN6x/98n/GmUUAP+0Tesf/AHyf8aPtE3rH/wB8n/GmUUAP+0Tesf8A3yf8aPtE3rH/AN8n/GmUUAP+0Tesf/fJ/wAaPtE3rH/3yf8AGmUUAP8AtE3rH/3yf8aPtE3rH/3yf8aZRQA/7RN6x/8AfJ/xo+0Tesf/AHyf8aZRQA/7RN6x/wDfJ/xo+0Tesf8A3yf8aZRQA/7RN6x/98n/ABo+0Tesf/fJ/wAaZRQA/wC0Tesf/fJ/xo+0Tesf/fJ/xplFAD/tE3rH/wB8n/Gj7RN6x/8AfJ/xplFAD/tE3rH/AN8n/Gj7RN6x/wDfJ/xplFAD/tE3rH/3yf8AGj7RN6x/98n/ABplFAD/ALRN6x/98n/Gj7RN6x/98n/GmUUAP+0Tesf/AHyf8aPtE3rH/wB8n/GmUUAP+0Tesf8A3yf8aPtE3rH/AN8n/GmUUAP+0Tesf/fJ/wAaPtE3rH/3yf8AGmUUAP8AtE3rH/3yf8aPtE3rH/3yf8aZRQA/7RN6x/8AfJ/xo+0Tesf/AHyf8aZRQA/7RN6x/wDfJ/xo+0Tesf8A3yf8aZRQA/7RN6x/98n/ABo+0Tesf/fJ/wAaZRQA/wC0Tesf/fJ/xo+0Tesf/fJ/xplFAD/tE3rH/wB8n/Gj7RN6x/8AfJ/xplFAD/tE3rH/AN8n/Gj7RN6x/wDfJ/xplFAD/tE3rH/3yf8AGj7RN6x/98n/ABplFAD/ALRN6x/98n/GpoJHfd5m3jGNox/Wq1WLb+L8KAJ6KKKACiiigAooooAKKKKACiiigAooooAKKKKACiiigAooooAKKKKACiiigAooooAKKKKACiiigAooooAKKKKACiiigAooooAKKKKACiiigAooooAKKKKACiiigAooooAKKKKACiiigAooooAKKKKACiiigAooooAKKKKACiiigAooooAKKKKACiiigAooooAKKKKACiiigAooooAKKKKAI1/4+n/3F/m1SVGv/H0/+4v82qSgCNv+PpP9xv5rUlRt/wAfSf7jfzWpKAIrn/Vj61zvib/hJP7JH/CG/wBlf2h5gz/avmeVswc/6vndnHt1rorn/Vj61VoGeReBPiD4219r3VPEb+FLDw/pN7LaajKPPjlBRR8yFmK4yy/ex346V1mi/FnwR4hN2NI16OdrOBriZGgljYRqCWZVZQWwBkhcmuDtfhd4jvvhR4w8P3MaWF9qWtyX1oJJVZZo9yMuSpOAdp68g4zWjo3h3xh4j+IvhvXvEfhy28M2vh21eIKl7HcPdl0K4XZ91R1wemeM54UbuyfZflf89LbilZXa8/z/AFXXY0PCvx18LeIrPWbm8l/s1NLd3O5ZJDJbBlVZuEGMs4GzkipdZ+Kui6z8O/EepeA9cjmv9MtGlB8hlaM9m2SqMj3wRXI2nhT4k6H4c8X6DoWmfZ3vdSkv7TVYNSjjeZGdAYkHVGKAncSMdPQ1Rj+HPjS6vfFN3c6FcQHU/Dv2O3W61pb2V5sp8ryuwOTtJ6BB0FS7yhp2/Gzf56evlYpWUvn+F/6fp8z2Xwjq8t78PNG1jWLlPNm02G5urh9qLkxhmY4wAOp7AVy+o/Fnw3r3hnXU8GeJ4ItSsbF7gXM1lMY4ACBvIMZ3DJHQN1zg1uaPpN3Y/COz0i/0sXl3Doq202nNMqiZxDtMW8EgZPy7s45zXlGleA/iCvh3xLpUen3um6LcaW0Nno1/rEN8TOWyoicBRGgGQQSM5Gd3Vbq/FO3nb8f60/Amn8MW/L9Du7f4v+FfD+iaRb+L/Esb6pPp0FzLNFZTlJt6A+YNsfAPJxgH2HStbVPiv4J0bS9P1DUtdjht9Si861/cys8if3tiqWUe5ArznxF4e+IN7ofhTw2PCMmoaBpdlbHUbWPVYLc3syRj92zFiQisOgHJBIP3SGeNPAXjTVfFlj4o0zSL+D7RpaWk+maRrkNlNZMv/LPzSpV48dlHX0AGXPd27v7tf6/EIra/b8dD26z1K01TSI9R0y6intZ4vMhnT5lYY4P/ANavP/BfxGs7LwHpuoeN/FdnfTahfSW0F/DayRROwbhSDEm3HdmUD3PWui8A+HW8NfDmw0f7Pc2zxwuTbXVyk7ws7FihkRVVsFjyBXlemfDHxTH4F8EaZeaOpm0zxCby+ha4hYRwF87j82G47DJ9qLe+0ttPz1/D+rE3fIn11/J/qeveFfHPhzxtFcyeGNTS+FqwWYCN4yhPThwDg4PPTg1V1/4l+EfC+pz6fr2spZ3UEC3DxNDIx2MwUEYUhjk9Bk4ycYBNZHhbwvqul/GTxjrlzZCHTdTjtxazCRD5rKgD/KDuHOeoGaqX3g/V7n40avrp09ZNMuPDrWUM7SR/NMSPl2k7hxnnGPeok3yprqv0f6r8S0lzNPuv0/z/AANuz+LHgfUNXsNMsvEVtNeaiqtbRqj/ADbs4UttwjHH3WIbpxyKk1n4o+C/D3iBdE1jX7e21BioMRR2EZY8b3VSqevzEYBBPHNeaab8NPEtr4F+Hli2jql9pGu/bNRUTxZij84tuLBsN8u3gEngelZfiT4T+LR4w8ReXp+r6xpGtXZuSdN16GxjKsxbZLFIjbyueO358X9q3m/0/wA3r5CW13/W/wDkvvPXNa+K3grw9qF5Y6xrsdtdWRRZ4jBKxBcblxhTu45+XOO+Kl0z4neDdZ8RRaHpevW91qE0YkjijVirjbuwHxtzj+HORzxxXCN8Otci1z4hvFp5ng1TRYrLTJ5Zoi9wywBCDyNp3KMkhRkZpNO+H2v2l38LXGlLEugxTDUyssQ8hnUejfNls/dzRHW1+tv1/wAl95Lbs7f1t/m/uO0v/i54E0zxA2i33iO2ivkkETrsdkR84w0gXYuD1ywx3xU+t/E7wf4d1p9J1nWktb5FRzCYZGJDkBcFVIOcjgZx1PSvKn+H/juw8Ia74As/D1nfWOqaibhPEEl/GiorMjbnixvLDZgkDg9AQMnsvDXgbVNI+NE+sXNt5umRaDDYwXzSJl5UEYPy53AkKeSMe9EdUr/1pf5a6eZUtL2/rVL8tTqo/iD4Yl0nV9SXVFFposzQX7vDIpgcHBBUruPPHAOe1b1ndw39jBd2rFoLiNZY2ZCpKsMg4IBHB6EZrwfxv4YmufjmvhrTZI/7N8VfZr/VYQTlVt2Ytkdg238TXvqqFUKoAUDAAHSlHWHM/wCrb/jsEtJcq/q+34bi0UUUAFFFFABRRRQAUUUUAFFFFABRRRQAUUUUAFFFFABRRRQAUUUUAFFFFABRRRQAUUUUAFFFFABRRRQAUUUUAFFFFABRRRQAUUUUAFFFR3ERntZYVmkgaRColixuTIxuGQRkdeQaGBydz40uG+JOm6BpsEMunyGeK8u2ySJ0j3iNCDjKjG7IP3gOoOK+geLbzXfFV/Yr4g0CIWl/NbjShAWvHjjOC2fP4zzz5eKpJ8PdR0rxF4W/szXdVuNO015zKZhZ5iDJ7QhnLtkMx3NyTkHmtHW4dY8T3unWR8PT6etjqkd0dSuLiBkEcT5zFsdpNzqNuCq/K7AnsWviX9dVr8uwns/66PT59zX8Ta1daadNsdKSF9R1W6+zW5nBMcQCM7yMAQWCqh+UEZJAyM5DPDes391qWq6Prf2ZtQ0x4yZrWNo454pF3IwRmYqeGUjceVznnAz9bttcv76x1aLRsTaHqjtFbLdIWvrZojGXUnCo3z5CsR9zBIzV3w3p16da1jXtTtXsZdSMMcVpI6O8UUSkDeUJXcWZzgMwA285yAl/X4f199xv+vxKFv4yvP8Aha974Zu7eFdPWCP7NcqpDGcpvMbEtg5UORgD7h61JfeLruP4n6b4bsoIXspI3+23DglklMbPGikHAO1MtkHhl9aqX/hfUrrXvE1/DAqTSGyudKlaQANPAjcHByoJOw5xlWNSWPh3Uo9T8Pajcwf6S13c3upnzFPlPLCyhBz8wX5IxjPCg0L8v1/p/cu4S8uv9f16vsQL4h1hrLw1a6NrdlqEur3VzG+pXmmsF2xiRwBCrx4I2bM55xnvW/4R1m81rTLptRFu81pezWhuLVWWG4CNjegYkgfwkbmwysMmuHPg/UE8N+ErfVvDH9tR6beXct7p+beT5X83YcSuqNy6nrx+Fdh4J0q80u01D7RaHTbS4uzLY6YZFb7FDsVdnykouWVm2oSo3cHrRHd/12/4IS6W/rf/AIB0tFFFABRRRQAUUUUAFFFFABVi2/i/Cq9WLb+L8KAJ6KKKACiiigAooooAKKKKACiiigAooooAKKKKACiiigAooooAKKKKACiiigAooooAKKKKACiiigAooooAKKKKACiiigAooooAKKKKACiiigAooooAKKKKACiiigAooooAKKKKACiiigAooooAKKKKACiiigAooooAKKKKACiiigAooooAKKKKACiiigAooooAKKKKACiiigAooooAKKKKAI1/4+n/ANxf5tUlRr/x9P8A7i/zapKAI2/4+k/3G/mtSVG3/H0n+4381qSgCK5/1Y+tVatzozoAmM57nFV/s83pH/30f8KAGUU/7PN6R/8AfR/wo+zzekf/AH0f8KAGUU/7PN6R/wDfR/wo+zzekf8A30f8KAGUU/7PN6R/99H/AAo+zzekf/fR/wAKAGUU/wCzzekf/fR/wo+zzekf/fR/woAZRT/s83pH/wB9H/Cj7PN6R/8AfR/woAZRT/s83pH/AN9H/Cj7PN6R/wDfR/woAZRT/s83pH/30f8ACj7PN6R/99H/AAoAZRT/ALPN6R/99H/Cj7PN6R/99H/CgBlFP+zzekf/AH0f8KPs83pH/wB9H/CgDndC8DeG/DWrX+qaJpcdtfag5e5uC7uzksWOCxO0EnJC4HT0Fb9P+zzekf8A30f8KPs83pH/AN9H/CjpYBlFP+zzekf/AH0f8KPs83pH/wB9H/CgBlFP+zzekf8A30f8KPs83pH/AN9H/CgBlFP+zzekf/fR/wAKPs83pH/30f8ACgBlFP8As83pH/30f8KPs83pH/30f8KAGUU/7PN6R/8AfR/wo+zzekf/AH0f8KAGUU/7PN6R/wDfR/wo+zzekf8A30f8KAGUU/7PN6R/99H/AAo+zzekf/fR/wAKAGUU/wCzzekf/fR/wo+zzekf/fR/woAZRT/s83pH/wB9H/Cj7PN6R/8AfR/woAZRT/s83pH/AN9H/Cj7PN6R/wDfR/woAZRT/s83pH/30f8ACj7PN6R/99H/AAoAZRT/ALPN6R/99H/Cj7PN6R/99H/CgBlFP+zzekf/AH0f8KPs83pH/wB9H/CgBlFP+zzekf8A30f8KPs83pH/AN9H/CgBlFP+zzekf/fR/wAKPs83pH/30f8ACgBlFP8As83pH/30f8KPs83pH/30f8KAGUU/7PN6R/8AfR/wo+zzekf/AH0f8KAGUU/7PN6R/wDfR/wo+zzekf8A30f8KAGUU/7PN6R/99H/AAo+zzekf/fR/wAKAGUU/wCzzekf/fR/wo+zzekf/fR/woAZRT/s83pH/wB9H/Cj7PN6R/8AfR/woAZRT/s83pH/AN9H/Cj7PN6R/wDfR/woAZRT/s83pH/30f8ACj7PN6R/99H/AAoAZRT/ALPN6R/99H/Cj7PN6R/99H/CgBlFP+zzekf/AH0f8KPs83pH/wB9H/CgBlFP+zzekf8A30f8KPs83pH/AN9H/CgBlFP+zzekf/fR/wAKPs83pH/30f8ACgBlFP8As83pH/30f8KPs83pH/30f8KAGVYtv4vwqL7PN6R/99H/AAqaCN493mBecY2nP9KAJqKKKACiiigAooooAKKKKACiiigAooooAKKKKACiiigAooooAKKKKACiiigAooooAKKKKACiiigAooooAKKKKACiiigAooooAKKKKACiiigAooooAKKKKACiiigAooooAKKKKACiiigAooooAKKKKACiiigAooooAKKKKACiiigAooooAKKKKACiiigAooooAKKKKACiiigAooooAKKKKAI1/wCPp/8AcX+bVJUa/wDH0/8AuL/NqkoAjb/j6T/cb+a1JUbf8fSf7jfzWpKACiigkKpLHAHJJoAKK818BfGS18c+Mr7Q49JeyhjiknsLx5twvoklMZcKVG3kZxk9D6V2qeKPD8mkz6omuaa2nW7+XNeC7jMMTZA2s+cA5I4J7ijon3Dq12NWisq68U+H7K8trS813Tbe5vFVraGW8jR5wxwpRScsCeBjrRc+KfD9nfvY3muabBdxsiPby3cayKz/AHAVJyC3Yd+1AGrRWRb+LfDl3rB0m18QaXPqQdozZx3sbTblzuXYDuyMHIxxg0t74r8O6ZfvY6lr2mWl3HH5r2895HHIqYzuKk5Axzn0oA1qKy73xPoGm6dbX+o65ptpZ3QBt7me7jSOYEZGxicNkc8dq0YZ4ri3jnt5UlhkUOkiMGV1IyCCOCCO9AD6KyrDxT4f1WdIdM13TLyV0Z1jt7yORmVThmABOQDwT2p+k+I9D18zDQtZ0/UzBjzRZ3STeXnON20nGcHr6GgDSorLsfE+ganqcum6brmm3d9Du821t7uOSWPacNlAcjB4ORwaSw8U+H9V1KTT9L13Tb29iDGS2t7yOSRNpwcqpJGDwaANWisq18U+H769Szstd024unkeNYIbyN3Z0GXUKDklQQSO2ea4zxX8U4LHxB4XsfCl/o+qxapqq2N8Y5hO0Ckjpsf5W5P3s9OlC1aXf9XYO/l/w56RRVXUtUsNHsXvdXvrawtUIDT3UyxIpJwMsxAGTxXJaz43uG1/wtH4Tu9B1HStVupIru4bUI9+1dv+pAcb2GTkKGI44Gc0LV2QPRXO3orATx54QlvVs4vFWiPctIIlgXUYS5fONoXdnOeMVc/4SXQv7c/sX+2tP/tXp9g+1J5/3d3+rzu+7z06c0bgadFcr8R/EGr+GPBk2peHk0t75JY0UarcrBDgtg/MzoM46DcPx6HSufFnh/T2nj1PXtLtJ7VUNzHNexoYN+Nu7J+UHIxnrmjcHobFFR29xDdW0dzazRzQSoHjljYMrqRkEEcEEd6yoPGPhm5ktY7bxFpMz3jmO2WO+iYzsDgqgDfMQSBgUdbB0ubNFUNM13SNaacaNqtlqBt22TC0uEl8pueG2k4PB4PpUNl4q8P6nJcpp2u6ZdvaKXuVgvI3MKjqXAPygY6mgDVorHt/F3hu8uLe3tPEOlTzXUZlt44r2NmmQbssoDZYDa3I/un0NWdM13SNbs5LvRtUstQto2KPNaXCSorAAkFlJAOCD+NAF+isvSvFGga80q6Hrmm6k0KhpRZ3ccxjB6E7ScD61WHjjwmYTMPFGjGIR+aXGoRbQm7Zuzu6bvlz0zx1oA3aKovrelRy2MUmp2ayaiM2SNcKDcjAOYxn5+CDxng1eoAKKKKACiiigAooooAKKKKACiiigAooooAKKKKACiiigAooooAKKKKACiiigAooooAKKKKACiiigAooooAKK4rTfH1xfXWlXE2jpBoutXL2tjdi73zF1DlTJDsARWEb4IdiPlyBk4I/H9xJdQXX9joNBuNVOlR3v2v9/wCaHaLeYNmAhlUrnfuwQdo5wLXT+v61QPTf+t/8mdrRWP4j186HDZx21r9t1DULkWtnbeZ5YdypYlmwdqKqsxOCcDgE4FR+HfEE+rXGo2Gp2SWGp6bKqXEEU/nRlXXcjo5VSVI9VBBBGOhItQ2NyiuL1fxrq9lrGvW+m6FZ3droNvHcXUs2pNDI6sjOQieSykgKfvOoJxyK66zuo76wt7uDd5VxEsqbhg4YZGfzo3B6E1FFFABRRRQAUUUUAFFFFABRRRQAUUUUAFFFFABRRRQAUUUUAFFFFABRRRQAUUUUAFFFFABRRRQAUUUUAFFFFABRRRQAUUUUAFFFFABRRRQAUUUUAFFFFABRRRQAUUUUAFFFFABRRRQAUUUUAFFFFABRRRQAUUUUAFFFFABRRRQAUUUUAFFFFABRRRQAUUUUAFFFFABRRRQAUUUUAFFFFABRRRQAUUUUAFFFFABRRRQAUUUUAFFFFAEa/wDH0/8AuL/NqkqNf+Pp/wDcX+bVJQBG3/H0n+4381qSo2/4+k/3G/mtSUAFcd8V9R1bTvhpqv8AwjtjeX2p3Mf2a3js7d5XUvwzYUHGF3HPTIFdjRUyjzKzKi+V3Pm4+DfiH4JufA2r3Ok6Xd2vh+UWpi0CK4mumhl5lMqlcH+Llf4m96ta74I12b4j6l4NtdIvH8K6/rVtrE96sLCGOMKzTxs4GASwGBnsPWvoeirvqn53/FP81ci2lvK35r8nY+UvHXgTxF/wsPxQNU03WZ7PU51ktbnS/DcWqZh5CqJWdWgKgBcKQTj0xn0Pwr4CZ/jvrt94l0h9SgtdMs47S/vbH9zNMsUQaRN2V35TsSRzzXtVFKPupW/rSw5e835/5p/ofKd1oXirVdZsb+88H6raavD4mjmuXs9At7e3hi8xjlZo186bkZLltvTJJ2sZPFOjzaNpHxFt/FXgi81DVLu9kvLPxA1uv2eGEspXFwxBUjPCLkknaRX1RXnusfBrRtf1ie61jXPEV1YXFybmTRm1DFkWJ3Y8sKCBnng5z3qbacv9dP8AIq/vc3n/AJ/5njPiXwr4kuY/BWsRaff3mk/8Ixa2yGy0SLVmhk2ZYNbyEBc5B3/gK90+E2iy+H/hbpWnSyXsmxHZFv7P7LPGrOzBHj3ttIz69MV2UUUcEKRQosccahURRgKBwAB6U6rlqpJdb/jd/qZpbX6f5WPnLwp8MtTf9nnXobPw+1n4rvZpVV7u28m5eHemY1ZwGCsqkYzgkn1rL8BeBvEV3LqT2Eet6RqY8Pz2iLd+GI9LhkZlACiZJPnfdg72XcQMnFfUNFJ6381b8LF31v53/G/6Hz94U0R7r4d3fhbSfh7qPh/xTHo09tNrFzYiGO4fgMq3GcuXJ4zwOoyBWb4e8N3epan4CstC+H+peHNT0CeOXWNXurEW0c6JtEmJesxY54PPPHGSPpOinf3ub0/Bt/qTb3eX1/FW/Q8A8I/Dq/n8B/ECZNB+y+JbzUL2PT7i8tvKlMTKABG7gFVYM43AgHPJrndM0Ce4vPhsulfDbWNHudIv4V1bUZdN8rzmBQs5I+ZlyGO9wAOgr6hopQ9xp9uX/wAlHL3r+d/xPMPjrpEGseFtOjk0/XLy5gvVmtjpGmLqAjdQeZoWIVkIyME9cdRkHhdG0bxXc33wwuNV8LmwWy1O7eQWWmfZxHCRHtlnjjG2J2IbI46dK+iaKI+7LmXe4S95W8mvvv8A5nzhpsNrqnxnXWNT+GGuafp9tMsWlR2fh0RxmRm5urp/lJwfmA5C9eoJbmNC+HvieHxZb6dr1rrdrfprS3P9oW3hmK6hL7wwla+8xZNhJyRyB6ZyB9bUUQ9xprp/w/8AX/AQS96/n/wV/X/BPNPj9pWoaz8J7qz0iwub+5a6gYQWsLSuQH5O1QTxXLXvgX+2/iz8QLzWvDkt5ayaLGthNcWjNG83kKP3RIwXBGAV+Yc4xzXulFTy6Pzv+KS/Qrm1T7f53OE+DFjqGnfB3Q7PV7W5tLyGORXguo2SRB5r4BVuRxjHtivDovhreSfBnRzL4RvP7abxKPtJ+wSC5W1O7OTjesfQ9hnnrX1ZRWjlebn3/wA7kJWhyr+tGv1PBpfAmrW/jb4m2HhLRW0y0v8ARoodPMVuYLeWTy13KjYCZOWHB4JOe9cj8PvBWsrqcclzYa9YXVhpF3G0UnhSO0hnLQlDGbhH3TNkgqWUk47Zr6norO2lvK35/wCZV9b+d/y/yPmGx+Gkj+Efhj9o8IXAvG1RxrJawcSiHzf+W5xkJt6buMe1aN18PvEEuk/FfSPDejzWEN3e2z2EAgMEVzErszrEThSMenHQd6+jaKuXvc3nf9P8vxYR0t5f8H/M8B8NaJLrPxM8O6r4X8B6j4QsdIsJY9UkvLEWf2pnjKqqqOZef4uvOTjitT4O/DOwk+EF3aeI/D5sdU1P7TBcS3Vp5dysbHC4LDcB8qsB0yM17VWfruk/25olzpv2++07z1A+1afN5U8eCDlHwcHjHToTSeqa7q343FFWa8rfgrHh/wAFLHVde8YxS+IYvl8C2T6NbnfuU3BkYMw+kYC/TBr6ArC8IeD9K8EaCulaIknl7zLLNO++WeRvvO7cZY4HYdK3apu9v613f4iS1b/q3T8AoooqRhRRRQAUUUUAFFFFABRRRQAUUUUAFFFFABRRRQAUUUUAFFFFABRRRQAUUUUAFFFFABRRRQAU19/lt5YBfB2humfenUUnqgPING0+eO88Pva6TrEfieO/36oLm0lWwhDbvtLxlh9nXcCdrQ/O2Rknc+Wrp9z9otWj0jVl8X/20LiYG0l/s1f3vzy5K/ZseRkCRf3xOATuJFew0VS0af8AXTT0029Qet/67/jqcP4huri71bSdag0jU/J8P6vLFdRm1JklieBkM0KLlpEBkX7oyQGwDirvhaCa98Ta94ja3uLa21D7Pb2sd1A0MjpCrZcowDLlnYAMAcLnGCK6uikv6/r+v8h6nkviLSrKfxx4rOtaf4imF5bWq2X9nQXjQTssbZDeWPJbDbeJcr68Zr0rQP7S/wCEb03+3tn9qfZYvtmzG3zto34xx97PTj0rQooWit/X9dwer/r+vQKKKKACiiigAooooAKKKKACiiigAooooAKKKKACiiigAooooAKKKKACiiigAooooAKKKKACiiigAooooAKKKKACiiigAooooAKKKKACiiigAooooAKKKKACiiigAooooAKKKKACiiigAooooAKKKKACiiigAooooAKKKKACiiigAooooAKKKKACiiigAooooAKKKKACiiigAooooAKKKKACiiigAooooAKKKKACiiigAooooAKKKKAI1/4+n/3F/m1SVGv/AB9P/uL/ADapKAI2/wCPpP8Acb+a1JUbf8fSf7jfzWpKAEdioyELewx/Wmea/wDzwk/Nf8akooAj81/+eEn5r/jR5r/88JPzX/GpKKAI/Nf/AJ4Sfmv+NHmv/wA8JPzX/GpKKAI/Nf8A54Sfmv8AjR5r/wDPCT81/wAakooAj81/+eEn5r/jR5r/APPCT81/xqSigCPzX/54Sfmv+NHmv/zwk/Nf8akooAj81/8AnhJ+a/40ea//ADwk/Nf8akooAj81/wDnhJ+a/wCNHmv/AM8JPzX/ABqSigCPzX/54Sfmv+NHmv8A88JPzX/GpKKAI/Nf/nhJ+a/40ea//PCT81/xqSigCPzX/wCeEn5r/jR5r/8APCT81/xqSigCPzX/AOeEn5r/AI0ea/8Azwk/Nf8AGpKKAI/Nf/nhJ+a/40ea/wDzwk/Nf8akooAj81/+eEn5r/jR5r/88JPzX/GpKKAI/Nf/AJ4Sfmv+NHmv/wA8JPzX/GpKKAI/Nf8A54Sfmv8AjR5r/wDPCT81/wAakooAj81/+eEn5r/jR5r/APPCT81/xqSigCPzX/54Sfmv+NHmv/zwk/Nf8akooAj81/8AnhJ+a/40ea//ADwk/Nf8akooAj81/wDnhJ+a/wCNHmv/AM8JPzX/ABqSigCPzX/54Sfmv+NHmv8A88JPzX/GpKKAI/Nf/nhJ+a/40ea//PCT81/xqSigCPzX/wCeEn5r/jR5r/8APCT81/xqSigCPzX/AOeEn5r/AI0ea/8Azwk/Nf8AGpKKAI/Nf/nhJ+a/40ea/wDzwk/Nf8akooAj81/+eEn5r/jR5r/88JPzX/GpKKAI/Nf/AJ4Sfmv+NHmv/wA8JPzX/GpKKAI/Nf8A54Sfmv8AjR5r/wDPCT81/wAakooAj81/+eEn5r/jR5r/APPCT81/xqSigCPzX/54Sfmv+NHmv/zwk/Nf8akooAj81/8AnhJ+a/40ea//ADwk/Nf8akooAj81/wDnhJ+a/wCNHmv/AM8JPzX/ABqSigCPzX/54Sfmv+NHmv8A88JPzX/GpKKAI/Nf/nhJ+a/40ea//PCT81/xqSigCPzX/wCeEn5r/jR5r/8APCT81/xqSigCPzX/AOeEn5r/AI0ea/8Azwk/Nf8AGpKKAI/Nf/nhJ+a/40ea/wDzwk/Nf8akooAj81/+eEn5r/jR5r/88JPzX/GpKKAI/Nf/AJ4Sfmv+NHmv/wA8JPzX/GpKKAI/Nf8A54Sfmv8AjTkYtnKMn+9jn8jTqKACiiigAooooAKKKKACiiigAooooAKKKKACiiigAooooAKKKKACiiigAooooAKKKKACiiigAooooAKKKKACiiigAooooAKKKKACiiigAooooAKKKKACiiigAooooAKKKKACiiigAooooAKKKKACiiigAooooAKKKKACiiigAooooAKKKKACiiigAooooAKKKKACiiigAooooAKKKKACiiigCNf+Pp/9xf5tUlRr/wAfT/7i/wA2qSgCNv8Aj6T/AHG/mtSVG3/H0n+4381qSgAooooAKKKKACiiigAooooAKKKKACiiigAooooAKKKKACiiigAooooAKKKKACiiigAooooAKKKKACiiigAooooAKKKKACiiigAooooAKKKKACiiigAooooAKKKKACiiigAooooAKKKKACiiigAooooAKKKKACiiigAooooAKKKKACiiigAooooAKKKKACiiigAooooAKKKKACiiigAooooAKKKKACiiigAooooAKKKKACiiigAooooAKKKKACiiigAooooAKKKKACiiigAooooAKKKKACiiigAooooAKKKKACiiigAooooAKKKKACiiigAooooAKKKKACiiigAooooAKKKKACiiigAooooAKKKKACiiigAooooAKKKKACiiigAooooAKKKKACiiigAooooAKKKKACiiigAooooAKKKKAI1/4+n/ANxf5tUlRr/x9P8A7i/zapKAGSKQ6yKMlQQR6g//AKqTz1/uyf8Aftv8KkooAj89PST/AL9t/hR56ekn/ftv8KkooAj89PST/v23+FHnp6Sf9+2/wqSigCPz09JP+/bf4UeenpJ/37b/AAqSigCPz09JP+/bf4UeenpJ/wB+2/wqSigCPz09JP8Av23+FHnp6Sf9+2/wqSigCPz09JP+/bf4UeenpJ/37b/CpKKAI/PT0k/79t/hR56ekn/ftv8ACpKKAI/PT0k/79t/hR56ekn/AH7b/CpKKAI/PT0k/wC/bf4UeenpJ/37b/CpKKAI/PT0k/79t/hR56ekn/ftv8KkooAj89PST/v23+FHnp6Sf9+2/wAKkooAj89PST/v23+FHnp6Sf8Aftv8KkooAj89PST/AL9t/hR56ekn/ftv8KkooAj89PST/v23+FHnp6Sf9+2/wqSigCPz09JP+/bf4UeenpJ/37b/AAqSigCPz09JP+/bf4UeenpJ/wB+2/wqSigCPz09JP8Av23+FHnp6Sf9+2/wqSigCPz09JP+/bf4UeenpJ/37b/CpKKAI/PT0k/79t/hR56ekn/ftv8ACpKKAI/PT0k/79t/hR56ekn/AH7b/CpKKAI/PT0k/wC/bf4UeenpJ/37b/CpKKAI/PT0k/79t/hR56ekn/ftv8KkooAj89PST/v23+FHnp6Sf9+2/wAKkooAj89PST/v23+FHnp6Sf8Aftv8KkooAj89PST/AL9t/hR56ekn/ftv8KkooAj89PST/v23+FHnp6Sf9+2/wqSigCPz09JP+/bf4UeenpJ/37b/AAqSigCPz09JP+/bf4UeenpJ/wB+2/wqSigCPz09JP8Av23+FHnp6Sf9+2/wqSigCPz09JP+/bf4UeenpJ/37b/CpKKAI/PT0k/79t/hR56ekn/ftv8ACpKKAI/PT0k/79t/hR56ekn/AH7b/CpKKAI/PT0k/wC/bf4UeenpJ/37b/CpKKAI/PT0k/79t/hR56ekn/ftv8KkooAj89PST/v23+FHnp6Sf9+2/wAKkooAj89PST/v23+FHnp6Sf8Aftv8KkooAj89PST/AL9t/hR56ekn/ftv8KkooAj89PST/v23+FHnp6Sf9+2/wqSigCPz09JP+/bf4UeenpJ/37b/AAqSigCPz09JP+/bf4UeenpJ/wB+2/wqSigCPz09JP8Av23+FHnp6Sf9+2/wqSigCPz09JP+/bf4UeenpJ/37b/CpKKAI/PT0k/79t/hR56ekn/ftv8ACpKKAI/PT0k/79t/hR56ekn/AH7b/CpKKAI/PT0k/wC/bf4UeenpJ/37b/CpKKAI/PT0k/79t/hR56ekn/ftv8KkooAj89PST/v23+FHnp6Sf9+2/wAKkooAj89PST/v23+FHnp6Sf8Aftv8KkooAj89PST/AL9t/hR56ekn/ftv8KkooAj89PST/v23+FHnp6Sf9+2/wqSigCPz09JP+/bf4UeenpJ/37b/AAqSigCPz09JP+/bf4UeenpJ/wB+2/wqSigCPz09JP8Av23+FHnp6Sf9+2/wqSigCPz09JP+/bf4UeenpJ/37b/CpKKAI/PT0k/79t/hR56ekn/ftv8ACpKKAI/PT0k/79t/hR56ekn/AH7b/CpKKAI/PT0k/wC/bf4UeenpJ/37b/CpKKAI/PT0k/79t/hR56ekn/ftv8KkooAj89PST/v23+FHnp6Sf9+2/wAKkooAj89PST/v23+FHnp6Sf8Aftv8KkooAj89PST/AL9t/hR56ekn/ftv8KkooAj89PST/v23+FHnp6Sf9+2/wqSigCPz09JP+/bf4UeenpJ/37b/AAqSigCPz09JP+/bf4UeenpJ/wB+2/wqSigCPz09JP8Av23+FHnp6Sf9+2/wqSigCPz09JP+/bf4UeenpJ/37b/CpKKAI/PT0k/79t/hR56ekn/ftv8ACpKKAI/PT0k/79t/hR56ekn/AH7b/CpKKAI/PT0k/wC/bf4UeenpJ/37b/CpKKAI/PT0k/79t/hR56ekn/ftv8KkooAj89PST/v23+FHnp6Sf9+2/wAKkooAj89PST/v23+FHnp6Sf8Aftv8KkooAj89PST/AL9t/hR56ekn/ftv8KkooAj89PST/v23+FHnp6Sf9+2/wqSigCPz09JP+/bf4UeenpJ/37b/AAqSigCPz09JP+/bf4UeenpJ/wB+2/wqSigCPz09JP8Av23+FHnp6Sf9+2/wqSigCPz09JP+/bf4UeenpJ/37b/CpKKAI/PT0k/79t/hR56ekn/ftv8ACpKKAI/PT0k/79t/hR56/wB2T/v23+FSUUAMjBLtIwwWAAHoB/8Arp9FFABRRRQAUUUUAFFFFABRRRQAUUUUAFFFFABRRRQAUUUUAFFFFABRRRQAUUUUAFFFFABRRRQAUUUUAFFFFABRRRQAUUUUAFFFFABRRRQAUUUUAFFFFABRRRQAUUUUAFFFFABRRRQAUUUUAFFFFABRRRQAUUUUAFFFFABRRRQAUUUUAFFFFABRRRQAUUUUAFFFFABRRRQAUUUUAFFFFABRRRQAUUUUAFFFFABRRRQAUUUUAFFFFABRRRQAUUUUAFFFFABRRRQAUUUUAFFFFABRRRQAUUUUAFFFFABRRRQAUUUUAFFFFABRRRQAUUUUAFFFFABRRRQAUUUUAFFFFABRRRQAUUUUAFFFFABRRRQAUUUUAFFFFABRRRQAUUUUAFFFFABRRRQAUUUUAFFFFABRRRQAUUUUAFFFFABRRRQAUUUUAFFFFABRRRQB/9k=)\n",
        "\n",
        "![Ex.2 YData Profiling is tooling make easily EDA.JPG](data:image/jpeg;base64,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)"
      ]
    },
    {
      "cell_type": "markdown",
      "metadata": {
        "id": "1BC0DGCpwmpS"
      },
      "source": [
        "**2.3 EDA - Exploratory Data Analysis**\n",
        "\n",
        "2.3.1 Non-Graphical EDA\n",
        "\n",
        "2.3.1.1 Numeric data"
      ]
    },
    {
      "cell_type": "code",
      "execution_count": 147,
      "metadata": {
        "colab": {
          "base_uri": "https://localhost:8080/"
        },
        "id": "1fh9WiHkwrMG",
        "outputId": "c1e0de99-46c5-4701-d0df-4bd4a0a6f972"
      },
      "outputs": [
        {
          "output_type": "stream",
          "name": "stdout",
          "text": [
            "+--------------+----------+----------+------+--------+-----------+--------------------+----------------+--------------------+------------+------------------+\n",
            "|transaction_id|      date|product_id| price|quantity|customer_id|        product_name|customer_country|       customer_name|total_amount|        thb_amount|\n",
            "+--------------+----------+----------+------+--------+-----------+--------------------+----------------+--------------------+------------+------------------+\n",
            "|        577130|2024-04-18|     22827|179.37|       1|    15861.0|Rustic Seventeen ...|  United Kingdom|        Kelly Barnes|      179.37|        8207.79183|\n",
            "|       C577131|2024-04-18|     22827|179.37|      -1|    15861.0|Rustic Seventeen ...|  United Kingdom|        Kelly Barnes|     -179.37|       -8207.79183|\n",
            "|        576635|2024-04-17|     22828|158.88|       2|    15269.0|Regency Mirror Wi...|  United Kingdom|     Jerry Henderson|      317.76|         14545.464|\n",
            "|        576512|2024-04-16|     22823| 123.0|       4|    15524.0|Chest Natural Woo...|  United Kingdom|       Joseph Glover|       492.0|         22460.292|\n",
            "|        574705|2024-04-07|     22827|179.37|       1|    14553.0|Rustic Seventeen ...|  United Kingdom|      Michael Murray|      179.37|        8300.34675|\n",
            "|        573905|2024-04-02|     22655| 594.5|       1|    16971.0|Vintage Red Kitch...|  United Kingdom|      Brittany Grant|       594.5|        27351.1615|\n",
            "|        573504|2024-04-01|     22827|158.88|       2|    13983.0|Rustic Seventeen ...|  United Kingdom|         Tyrone Wong|      317.76|       14608.38048|\n",
            "|        572911|2024-03-27|     22655| 594.5|       2|    16345.0|Vintage Red Kitch...|  United Kingdom|       Bethany Wells|      1189.0|         54596.502|\n",
            "|        572281|2024-03-24|     22655| 594.5|       1|    17211.0|Vintage Red Kitch...|  United Kingdom|        John Patrick|       594.5|         27238.801|\n",
            "|        571034|2024-03-14|     22827|158.88|       2|    12359.0|Rustic Seventeen ...|          Cyprus|     Courtney Wilson|      317.76|14498.753279999999|\n",
            "|        570827|2024-03-13|     22656| 594.5|       1|    15831.0|Vintage Blue Kitc...|  United Kingdom|        Scott Graham|       594.5|         27112.767|\n",
            "|        568065|2024-02-23|     22827|158.88|       2|    16240.0|Rustic Seventeen ...|  United Kingdom|    Daniel Henderson|      317.76|       14455.85568|\n",
            "|        567868|2024-02-22|     22655| 594.5|       2|    17603.0|Vintage Red Kitch...|  United Kingdom|         Sean Obrien|      1189.0|         54110.201|\n",
            "|        567616|2024-02-21|     22827|179.37|       1|    14911.0|Rustic Seventeen ...|            EIRE|   Stephanie Navarro|      179.37|        8137.29942|\n",
            "|        567139|2024-02-16|     22828|179.37|       1|    13563.0|Regency Mirror Wi...|  United Kingdom|   Danielle Harrison|      179.37| 8121.694230000001|\n",
            "|        566557|2024-02-13|     22823| 123.0|       2|    14646.0|Chest Natural Woo...|     Netherlands|Stephanie Williamson|       246.0|11175.287999999999|\n",
            "|        566283|2024-02-11|     22655| 594.5|       1|    17838.0|Vintage Red Kitch...|  United Kingdom|       Joseph Powell|       594.5|        26970.6815|\n",
            "|        566184|2024-02-09|     22827|179.37|       1|    16723.0|Rustic Seventeen ...|  United Kingdom|         Mary Barton|      179.37|        8134.60887|\n",
            "|        565616|2024-02-05|     22823|138.38|       1|    15238.0|Chest Natural Woo...|  United Kingdom|         Amanda Mayo|      138.38|6203.8521599999995|\n",
            "|        565056|2024-01-31|     22823| 123.0|       2|    16278.0|Chest Natural Woo...|  United Kingdom|      Brandon Berger|       246.0|         11094.354|\n",
            "+--------------+----------+----------+------+--------+-----------+--------------------+----------------+--------------------+------------+------------------+\n",
            "only showing top 20 rows\n",
            "\n"
          ]
        }
      ],
      "source": [
        "dt.where(dt.price >= 100).show()"
      ]
    },
    {
      "cell_type": "markdown",
      "metadata": {
        "id": "pr5pqL6HwtNm"
      },
      "source": [
        "2.3.1.2 Alphabet data"
      ]
    },
    {
      "cell_type": "code",
      "execution_count": 148,
      "metadata": {
        "colab": {
          "base_uri": "https://localhost:8080/"
        },
        "id": "BL-EVfy3wuwm",
        "outputId": "b2569f80-2419-4bae-db40-1d6e705ec888"
      },
      "outputs": [
        {
          "output_type": "stream",
          "name": "stdout",
          "text": [
            "+--------------+----------+----------+-----+--------+-----------+--------------------+----------------+----------------+------------------+------------------+\n",
            "|transaction_id|      date|product_id|price|quantity|customer_id|        product_name|customer_country|   customer_name|      total_amount|        thb_amount|\n",
            "+--------------+----------+----------+-----+--------+-----------+--------------------+----------------+----------------+------------------+------------------+\n",
            "|        578459|2024-04-25|     22338| 6.19|      96|    12388.0|Star Decoration P...|       Australia|Stephanie Morris|            594.24|27531.139199999998|\n",
            "|        578459|2024-04-25|     22600| 6.19|      20|    12388.0|Christmas Retrosp...|       Australia|Stephanie Morris|123.80000000000001|          5735.654|\n",
            "|        578459|2024-04-25|     22910| 6.19|      20|    12388.0|Paper Chain Kit V...|       Australia|Stephanie Morris|123.80000000000001|          5735.654|\n",
            "|        578459|2024-04-25|     22086| 6.19|      20|    12388.0|Paper Chain Kit 5...|       Australia|Stephanie Morris|123.80000000000001|          5735.654|\n",
            "|        578459|2024-04-25|     22340| 6.19|      24|    12388.0|Noel Garland Pain...|       Australia|Stephanie Morris|            148.56| 6882.784799999999|\n",
            "|        578459|2024-04-25|     22576| 6.19|      20|    12388.0|Swallow Wooden Ch...|       Australia|Stephanie Morris|123.80000000000001|          5735.654|\n",
            "|        578459|2024-04-25|     22580| 6.19|      12|    12388.0|Advent Calendar G...|       Australia|Stephanie Morris|             74.28|3441.3923999999997|\n",
            "|        578459|2024-04-25|     22669| 6.19|      12|    12388.0|    Red Baby Bunting|       Australia|Stephanie Morris|             74.28|3441.3923999999997|\n",
            "|        576394|2024-04-16|     22629|11.94|      64|    12415.0|  Spaceboy Lunch Box|       Australia|    Sarah Lucero|            764.16|       34884.66816|\n",
            "|        576394|2024-04-16|     22630|11.94|      64|    12415.0|Dolly Girl Lunch Box|       Australia|    Sarah Lucero|            764.16|       34884.66816|\n",
            "|        576394|2024-04-16|     22631|11.94|      64|    12415.0|Circus Parade Lun...|       Australia|    Sarah Lucero|            764.16|       34884.66816|\n",
            "|        576394|2024-04-16|     23192|11.74|      48|    12415.0|Bundle Of 3 Alpha...|       Australia|    Sarah Lucero|            563.52|       25725.25152|\n",
            "|        576394|2024-04-16|     22326|12.86|      96|    12415.0|Round Snack Boxes...|       Australia|    Sarah Lucero|           1234.56|       56358.89856|\n",
            "|        576394|2024-04-16|     21068|11.34|      36|    12415.0|Vintage Billboard...|       Australia|    Sarah Lucero|            408.24|18636.564240000003|\n",
            "|        576394|2024-04-16|     23084|12.08|     960|    12415.0|  Rabbit Night Light|       Australia|    Sarah Lucero|           11596.8|       529405.5168|\n",
            "|        576394|2024-04-16|     22466|11.94|      96|    12415.0|Fairy Tale Cottag...|       Australia|    Sarah Lucero|           1146.24|       52327.00224|\n",
            "|        576394|2024-04-16|     21731|11.74|     144|    12415.0|Red Toadstool Led...|       Australia|    Sarah Lucero|           1690.56|       77175.75456|\n",
            "|        576394|2024-04-16|     22331|11.74|      48|    12415.0|Woodland Party Ba...|       Australia|    Sarah Lucero|            563.52|       25725.25152|\n",
            "|        576394|2024-04-16|     21770|14.61|      36|    12415.0|Open Closed Metal...|       Australia|    Sarah Lucero|            525.96|24010.599960000003|\n",
            "|        576394|2024-04-16|    47590A|15.02|      50|    12415.0|Blue Happy Birthd...|       Australia|    Sarah Lucero|             751.0|34283.901000000005|\n",
            "+--------------+----------+----------+-----+--------+-----------+--------------------+----------------+----------------+------------------+------------------+\n",
            "only showing top 20 rows\n",
            "\n"
          ]
        }
      ],
      "source": [
        "dt.where(dt.customer_country == 'Australia').show()"
      ]
    },
    {
      "cell_type": "markdown",
      "metadata": {
        "id": "8cA-uEqr0Jpf"
      },
      "source": [
        "2.3.1.3 How many rows of total purchases occurred in May 2024?"
      ]
    },
    {
      "cell_type": "code",
      "execution_count": 149,
      "metadata": {
        "colab": {
          "base_uri": "https://localhost:8080/"
        },
        "id": "MMVsy3x_0Q37",
        "outputId": "21afd4b5-44fd-4ffc-8e2d-67b7c3b1de3b"
      },
      "outputs": [
        {
          "output_type": "execute_result",
          "data": {
            "text/plain": [
              "28771"
            ]
          },
          "metadata": {},
          "execution_count": 149
        }
      ],
      "source": [
        "dt.where( dt.date.startswith(\"2024-05\") ).count()"
      ]
    },
    {
      "cell_type": "markdown",
      "metadata": {
        "id": "pGOheXmu0SDT"
      },
      "source": [
        "2.3.2 Graphical EDA\n",
        "\n",
        "2.3.2.1 Spark is not designed for plotting data, so we will use pandas with the seaborn, matplotlib packages to plot the data instead."
      ]
    },
    {
      "cell_type": "code",
      "execution_count": 150,
      "metadata": {
        "id": "zTENX-nk0Vy_"
      },
      "outputs": [],
      "source": [
        "import seaborn as sns\n",
        "import matplotlib.pyplot as plt\n",
        "import pandas as pd"
      ]
    },
    {
      "cell_type": "markdown",
      "metadata": {
        "id": "hA5_LEhc0XIQ"
      },
      "source": [
        "2.3.2.2 Convert Spark Dataframe to Pandas Dataframe"
      ]
    },
    {
      "cell_type": "code",
      "execution_count": 151,
      "metadata": {
        "colab": {
          "base_uri": "https://localhost:8080/",
          "height": 206
        },
        "id": "4s-LqQ3g0Ymj",
        "outputId": "11125afd-78d4-4f9f-8f45-5c7a41b71744"
      },
      "outputs": [
        {
          "output_type": "execute_result",
          "data": {
            "text/plain": [
              "  transaction_id        date product_id  price  quantity  customer_id  \\\n",
              "0         581482  2024-05-10      22485  21.47        12      17490.0   \n",
              "1         581475  2024-05-10      22596  10.65        36      13069.0   \n",
              "2         581475  2024-05-10      23235  11.53        12      13069.0   \n",
              "3         581475  2024-05-10      23272  10.65        12      13069.0   \n",
              "4         581475  2024-05-10      23239  11.94         6      13069.0   \n",
              "\n",
              "                          product_name customer_country customer_name  \\\n",
              "0        Set Of 2 Wooden Market Crates   United Kingdom  Sara Griffin   \n",
              "1  Christmas Star Wish List Chalkboard   United Kingdom  Michael Holt   \n",
              "2             Storage Tin Vintage Leaf   United Kingdom  Michael Holt   \n",
              "3    Tree T-Light Holder Willie Winkie   United Kingdom  Michael Holt   \n",
              "4    Set Of 4 Knick Knack Tins Poppies   United Kingdom  Michael Holt   \n",
              "\n",
              "   total_amount  thb_amount  \n",
              "0        257.64  11792.1828  \n",
              "1        383.40  17548.2180  \n",
              "2        138.36   6332.7372  \n",
              "3        127.80   5849.4060  \n",
              "4         71.64   3278.9628  "
            ],
            "text/html": [
              "\n",
              "  <div id=\"df-e95932b0-2f87-4dc6-bcf4-c6b9350ec83d\" class=\"colab-df-container\">\n",
              "    <div>\n",
              "<style scoped>\n",
              "    .dataframe tbody tr th:only-of-type {\n",
              "        vertical-align: middle;\n",
              "    }\n",
              "\n",
              "    .dataframe tbody tr th {\n",
              "        vertical-align: top;\n",
              "    }\n",
              "\n",
              "    .dataframe thead th {\n",
              "        text-align: right;\n",
              "    }\n",
              "</style>\n",
              "<table border=\"1\" class=\"dataframe\">\n",
              "  <thead>\n",
              "    <tr style=\"text-align: right;\">\n",
              "      <th></th>\n",
              "      <th>transaction_id</th>\n",
              "      <th>date</th>\n",
              "      <th>product_id</th>\n",
              "      <th>price</th>\n",
              "      <th>quantity</th>\n",
              "      <th>customer_id</th>\n",
              "      <th>product_name</th>\n",
              "      <th>customer_country</th>\n",
              "      <th>customer_name</th>\n",
              "      <th>total_amount</th>\n",
              "      <th>thb_amount</th>\n",
              "    </tr>\n",
              "  </thead>\n",
              "  <tbody>\n",
              "    <tr>\n",
              "      <th>0</th>\n",
              "      <td>581482</td>\n",
              "      <td>2024-05-10</td>\n",
              "      <td>22485</td>\n",
              "      <td>21.47</td>\n",
              "      <td>12</td>\n",
              "      <td>17490.0</td>\n",
              "      <td>Set Of 2 Wooden Market Crates</td>\n",
              "      <td>United Kingdom</td>\n",
              "      <td>Sara Griffin</td>\n",
              "      <td>257.64</td>\n",
              "      <td>11792.1828</td>\n",
              "    </tr>\n",
              "    <tr>\n",
              "      <th>1</th>\n",
              "      <td>581475</td>\n",
              "      <td>2024-05-10</td>\n",
              "      <td>22596</td>\n",
              "      <td>10.65</td>\n",
              "      <td>36</td>\n",
              "      <td>13069.0</td>\n",
              "      <td>Christmas Star Wish List Chalkboard</td>\n",
              "      <td>United Kingdom</td>\n",
              "      <td>Michael Holt</td>\n",
              "      <td>383.40</td>\n",
              "      <td>17548.2180</td>\n",
              "    </tr>\n",
              "    <tr>\n",
              "      <th>2</th>\n",
              "      <td>581475</td>\n",
              "      <td>2024-05-10</td>\n",
              "      <td>23235</td>\n",
              "      <td>11.53</td>\n",
              "      <td>12</td>\n",
              "      <td>13069.0</td>\n",
              "      <td>Storage Tin Vintage Leaf</td>\n",
              "      <td>United Kingdom</td>\n",
              "      <td>Michael Holt</td>\n",
              "      <td>138.36</td>\n",
              "      <td>6332.7372</td>\n",
              "    </tr>\n",
              "    <tr>\n",
              "      <th>3</th>\n",
              "      <td>581475</td>\n",
              "      <td>2024-05-10</td>\n",
              "      <td>23272</td>\n",
              "      <td>10.65</td>\n",
              "      <td>12</td>\n",
              "      <td>13069.0</td>\n",
              "      <td>Tree T-Light Holder Willie Winkie</td>\n",
              "      <td>United Kingdom</td>\n",
              "      <td>Michael Holt</td>\n",
              "      <td>127.80</td>\n",
              "      <td>5849.4060</td>\n",
              "    </tr>\n",
              "    <tr>\n",
              "      <th>4</th>\n",
              "      <td>581475</td>\n",
              "      <td>2024-05-10</td>\n",
              "      <td>23239</td>\n",
              "      <td>11.94</td>\n",
              "      <td>6</td>\n",
              "      <td>13069.0</td>\n",
              "      <td>Set Of 4 Knick Knack Tins Poppies</td>\n",
              "      <td>United Kingdom</td>\n",
              "      <td>Michael Holt</td>\n",
              "      <td>71.64</td>\n",
              "      <td>3278.9628</td>\n",
              "    </tr>\n",
              "  </tbody>\n",
              "</table>\n",
              "</div>\n",
              "    <div class=\"colab-df-buttons\">\n",
              "\n",
              "  <div class=\"colab-df-container\">\n",
              "    <button class=\"colab-df-convert\" onclick=\"convertToInteractive('df-e95932b0-2f87-4dc6-bcf4-c6b9350ec83d')\"\n",
              "            title=\"Convert this dataframe to an interactive table.\"\n",
              "            style=\"display:none;\">\n",
              "\n",
              "  <svg xmlns=\"http://www.w3.org/2000/svg\" height=\"24px\" viewBox=\"0 -960 960 960\">\n",
              "    <path d=\"M120-120v-720h720v720H120Zm60-500h600v-160H180v160Zm220 220h160v-160H400v160Zm0 220h160v-160H400v160ZM180-400h160v-160H180v160Zm440 0h160v-160H620v160ZM180-180h160v-160H180v160Zm440 0h160v-160H620v160Z\"/>\n",
              "  </svg>\n",
              "    </button>\n",
              "\n",
              "  <style>\n",
              "    .colab-df-container {\n",
              "      display:flex;\n",
              "      gap: 12px;\n",
              "    }\n",
              "\n",
              "    .colab-df-convert {\n",
              "      background-color: #E8F0FE;\n",
              "      border: none;\n",
              "      border-radius: 50%;\n",
              "      cursor: pointer;\n",
              "      display: none;\n",
              "      fill: #1967D2;\n",
              "      height: 32px;\n",
              "      padding: 0 0 0 0;\n",
              "      width: 32px;\n",
              "    }\n",
              "\n",
              "    .colab-df-convert:hover {\n",
              "      background-color: #E2EBFA;\n",
              "      box-shadow: 0px 1px 2px rgba(60, 64, 67, 0.3), 0px 1px 3px 1px rgba(60, 64, 67, 0.15);\n",
              "      fill: #174EA6;\n",
              "    }\n",
              "\n",
              "    .colab-df-buttons div {\n",
              "      margin-bottom: 4px;\n",
              "    }\n",
              "\n",
              "    [theme=dark] .colab-df-convert {\n",
              "      background-color: #3B4455;\n",
              "      fill: #D2E3FC;\n",
              "    }\n",
              "\n",
              "    [theme=dark] .colab-df-convert:hover {\n",
              "      background-color: #434B5C;\n",
              "      box-shadow: 0px 1px 3px 1px rgba(0, 0, 0, 0.15);\n",
              "      filter: drop-shadow(0px 1px 2px rgba(0, 0, 0, 0.3));\n",
              "      fill: #FFFFFF;\n",
              "    }\n",
              "  </style>\n",
              "\n",
              "    <script>\n",
              "      const buttonEl =\n",
              "        document.querySelector('#df-e95932b0-2f87-4dc6-bcf4-c6b9350ec83d button.colab-df-convert');\n",
              "      buttonEl.style.display =\n",
              "        google.colab.kernel.accessAllowed ? 'block' : 'none';\n",
              "\n",
              "      async function convertToInteractive(key) {\n",
              "        const element = document.querySelector('#df-e95932b0-2f87-4dc6-bcf4-c6b9350ec83d');\n",
              "        const dataTable =\n",
              "          await google.colab.kernel.invokeFunction('convertToInteractive',\n",
              "                                                    [key], {});\n",
              "        if (!dataTable) return;\n",
              "\n",
              "        const docLinkHtml = 'Like what you see? Visit the ' +\n",
              "          '<a target=\"_blank\" href=https://colab.research.google.com/notebooks/data_table.ipynb>data table notebook</a>'\n",
              "          + ' to learn more about interactive tables.';\n",
              "        element.innerHTML = '';\n",
              "        dataTable['output_type'] = 'display_data';\n",
              "        await google.colab.output.renderOutput(dataTable, element);\n",
              "        const docLink = document.createElement('div');\n",
              "        docLink.innerHTML = docLinkHtml;\n",
              "        element.appendChild(docLink);\n",
              "      }\n",
              "    </script>\n",
              "  </div>\n",
              "\n",
              "\n",
              "    <div id=\"df-56a9b53f-2bd3-41b1-bb61-295ef6e8a2ae\">\n",
              "      <button class=\"colab-df-quickchart\" onclick=\"quickchart('df-56a9b53f-2bd3-41b1-bb61-295ef6e8a2ae')\"\n",
              "                title=\"Suggest charts\"\n",
              "                style=\"display:none;\">\n",
              "\n",
              "<svg xmlns=\"http://www.w3.org/2000/svg\" height=\"24px\"viewBox=\"0 0 24 24\"\n",
              "     width=\"24px\">\n",
              "    <g>\n",
              "        <path d=\"M19 3H5c-1.1 0-2 .9-2 2v14c0 1.1.9 2 2 2h14c1.1 0 2-.9 2-2V5c0-1.1-.9-2-2-2zM9 17H7v-7h2v7zm4 0h-2V7h2v10zm4 0h-2v-4h2v4z\"/>\n",
              "    </g>\n",
              "</svg>\n",
              "      </button>\n",
              "\n",
              "<style>\n",
              "  .colab-df-quickchart {\n",
              "      --bg-color: #E8F0FE;\n",
              "      --fill-color: #1967D2;\n",
              "      --hover-bg-color: #E2EBFA;\n",
              "      --hover-fill-color: #174EA6;\n",
              "      --disabled-fill-color: #AAA;\n",
              "      --disabled-bg-color: #DDD;\n",
              "  }\n",
              "\n",
              "  [theme=dark] .colab-df-quickchart {\n",
              "      --bg-color: #3B4455;\n",
              "      --fill-color: #D2E3FC;\n",
              "      --hover-bg-color: #434B5C;\n",
              "      --hover-fill-color: #FFFFFF;\n",
              "      --disabled-bg-color: #3B4455;\n",
              "      --disabled-fill-color: #666;\n",
              "  }\n",
              "\n",
              "  .colab-df-quickchart {\n",
              "    background-color: var(--bg-color);\n",
              "    border: none;\n",
              "    border-radius: 50%;\n",
              "    cursor: pointer;\n",
              "    display: none;\n",
              "    fill: var(--fill-color);\n",
              "    height: 32px;\n",
              "    padding: 0;\n",
              "    width: 32px;\n",
              "  }\n",
              "\n",
              "  .colab-df-quickchart:hover {\n",
              "    background-color: var(--hover-bg-color);\n",
              "    box-shadow: 0 1px 2px rgba(60, 64, 67, 0.3), 0 1px 3px 1px rgba(60, 64, 67, 0.15);\n",
              "    fill: var(--button-hover-fill-color);\n",
              "  }\n",
              "\n",
              "  .colab-df-quickchart-complete:disabled,\n",
              "  .colab-df-quickchart-complete:disabled:hover {\n",
              "    background-color: var(--disabled-bg-color);\n",
              "    fill: var(--disabled-fill-color);\n",
              "    box-shadow: none;\n",
              "  }\n",
              "\n",
              "  .colab-df-spinner {\n",
              "    border: 2px solid var(--fill-color);\n",
              "    border-color: transparent;\n",
              "    border-bottom-color: var(--fill-color);\n",
              "    animation:\n",
              "      spin 1s steps(1) infinite;\n",
              "  }\n",
              "\n",
              "  @keyframes spin {\n",
              "    0% {\n",
              "      border-color: transparent;\n",
              "      border-bottom-color: var(--fill-color);\n",
              "      border-left-color: var(--fill-color);\n",
              "    }\n",
              "    20% {\n",
              "      border-color: transparent;\n",
              "      border-left-color: var(--fill-color);\n",
              "      border-top-color: var(--fill-color);\n",
              "    }\n",
              "    30% {\n",
              "      border-color: transparent;\n",
              "      border-left-color: var(--fill-color);\n",
              "      border-top-color: var(--fill-color);\n",
              "      border-right-color: var(--fill-color);\n",
              "    }\n",
              "    40% {\n",
              "      border-color: transparent;\n",
              "      border-right-color: var(--fill-color);\n",
              "      border-top-color: var(--fill-color);\n",
              "    }\n",
              "    60% {\n",
              "      border-color: transparent;\n",
              "      border-right-color: var(--fill-color);\n",
              "    }\n",
              "    80% {\n",
              "      border-color: transparent;\n",
              "      border-right-color: var(--fill-color);\n",
              "      border-bottom-color: var(--fill-color);\n",
              "    }\n",
              "    90% {\n",
              "      border-color: transparent;\n",
              "      border-bottom-color: var(--fill-color);\n",
              "    }\n",
              "  }\n",
              "</style>\n",
              "\n",
              "      <script>\n",
              "        async function quickchart(key) {\n",
              "          const quickchartButtonEl =\n",
              "            document.querySelector('#' + key + ' button');\n",
              "          quickchartButtonEl.disabled = true;  // To prevent multiple clicks.\n",
              "          quickchartButtonEl.classList.add('colab-df-spinner');\n",
              "          try {\n",
              "            const charts = await google.colab.kernel.invokeFunction(\n",
              "                'suggestCharts', [key], {});\n",
              "          } catch (error) {\n",
              "            console.error('Error during call to suggestCharts:', error);\n",
              "          }\n",
              "          quickchartButtonEl.classList.remove('colab-df-spinner');\n",
              "          quickchartButtonEl.classList.add('colab-df-quickchart-complete');\n",
              "        }\n",
              "        (() => {\n",
              "          let quickchartButtonEl =\n",
              "            document.querySelector('#df-56a9b53f-2bd3-41b1-bb61-295ef6e8a2ae button');\n",
              "          quickchartButtonEl.style.display =\n",
              "            google.colab.kernel.accessAllowed ? 'block' : 'none';\n",
              "        })();\n",
              "      </script>\n",
              "    </div>\n",
              "\n",
              "    </div>\n",
              "  </div>\n"
            ],
            "application/vnd.google.colaboratory.intrinsic+json": {
              "type": "dataframe",
              "variable_name": "dt_pd"
            }
          },
          "metadata": {},
          "execution_count": 151
        }
      ],
      "source": [
        "dt_pd = dt.toPandas()\n",
        "dt_pd.head()"
      ]
    },
    {
      "cell_type": "markdown",
      "metadata": {
        "id": "90LXhFgV0ZeP"
      },
      "source": [
        "2.3.3 Boxplot"
      ]
    },
    {
      "cell_type": "code",
      "execution_count": null,
      "metadata": {
        "collapsed": true,
        "id": "i4e8Mzu_0agg"
      },
      "outputs": [],
      "source": [
        "sns.boxplot(x = dt_pd['price'])"
      ]
    },
    {
      "cell_type": "markdown",
      "metadata": {
        "id": "QqmiHWmzU9sK"
      },
      "source": [
        "![Boxplot.JPG](data:image/jpeg;base64,/9j/4AAQSkZJRgABAQEAYABgAAD/2wBDAAcFBQYFBAcGBQYIBwcIChELCgkJChUPEAwRGBUaGRgVGBcbHichGx0lHRcYIi4iJSgpKywrGiAvMy8qMicqKyr/2wBDAQcICAoJChQLCxQqHBgcKioqKioqKioqKioqKioqKioqKioqKioqKioqKioqKioqKioqKioqKioqKioqKioqKir/wAARCAGvAgYDASIAAhEBAxEB/8QAHwAAAQUBAQEBAQEAAAAAAAAAAAECAwQFBgcICQoL/8QAtRAAAgEDAwIEAwUFBAQAAAF9AQIDAAQRBRIhMUEGE1FhByJxFDKBkaEII0KxwRVS0fAkM2JyggkKFhcYGRolJicoKSo0NTY3ODk6Q0RFRkdISUpTVFVWV1hZWmNkZWZnaGlqc3R1dnd4eXqDhIWGh4iJipKTlJWWl5iZmqKjpKWmp6ipqrKztLW2t7i5usLDxMXGx8jJytLT1NXW19jZ2uHi4+Tl5ufo6erx8vP09fb3+Pn6/8QAHwEAAwEBAQEBAQEBAQAAAAAAAAECAwQFBgcICQoL/8QAtREAAgECBAQDBAcFBAQAAQJ3AAECAxEEBSExBhJBUQdhcRMiMoEIFEKRobHBCSMzUvAVYnLRChYkNOEl8RcYGRomJygpKjU2Nzg5OkNERUZHSElKU1RVVldYWVpjZGVmZ2hpanN0dXZ3eHl6goOEhYaHiImKkpOUlZaXmJmaoqOkpaanqKmqsrO0tba3uLm6wsPExcbHyMnK0tPU1dbX2Nna4uPk5ebn6Onq8vP09fb3+Pn6/9oADAMBAAIRAxEAPwD6RoorlviJ5h8JxxxXFxb+fqmnwO9tO8L7HvIUcB0IYZViOCOtAHU0Vy//AAr3Rv8An88Qf+FFf/8Ax6j/AIV7o3/P54g/8KK//wDj1AHUUVy//CvdG/5/PEH/AIUV/wD/AB6j/hXujf8AP54g/wDCiv8A/wCPUAdRRXL/APCvdG/5/PEH/hRX/wD8eo/4V7o3/P54g/8ACiv/AP49QB1FFcv/AMK90b/n88Qf+FFf/wDx6j/hXujf8/niD/wor/8A+PUAdRRXL/8ACvdG/wCfzxB/4UV//wDHqP8AhXujf8/niD/wor//AOPUAdRRXL/8K90b/n88Qf8AhRX/AP8AHqP+Fe6N/wA/niD/AMKK/wD/AI9QB1FFcv8A8K90b/n88Qf+FFf/APx6j/hXujf8/niD/wAKK/8A/j1AHUUVy/8Awr3Rv+fzxB/4UV//APHqP+Fe6N/z+eIP/Civ/wD49QB1FFcv/wAK90b/AJ/PEH/hRX//AMeo/wCFe6N/z+eIP/Civ/8A49QB1FFcv/wr3Rv+fzxB/wCFFf8A/wAeo/4V7o3/AD+eIP8Awor/AP8Aj1AHUUVy/wDwr3Rv+fzxB/4UV/8A/HqP+Fe6N/z+eIP/AAor/wD+PUAdRRXL/wDCvdG/5/PEH/hRX/8A8eo/4V7o3/P54g/8KK//APj1AHUUVy//AAr3Rv8An88Qf+FFf/8Ax6j/AIV7o3/P54g/8KK//wDj1AHUUVy//CvdG/5/PEH/AIUV/wD/AB6j/hXujf8AP54g/wDCiv8A/wCPUAdRRXL/APCvdG/5/PEH/hRX/wD8eo/4V7o3/P54g/8ACiv/AP49QB1FFcv/AMK90b/n88Qf+FFf/wDx6j/hXujf8/niD/wor/8A+PUAdRRXL/8ACvdG/wCfzxB/4UV//wDHqP8AhXujf8/niD/wor//AOPUAdRRXL/8K90b/n88Qf8AhRX/AP8AHqP+Fe6N/wA/niD/AMKK/wD/AI9QB1FFcv8A8K90b/n88Qf+FFf/APx6j/hXujf8/niD/wAKK/8A/j1AHUUVy/8Awr3Rv+fzxB/4UV//APHqP+Fe6N/z+eIP/Civ/wD49QB1FFcv/wAK90b/AJ/PEH/hRX//AMeo/wCFe6N/z+eIP/Civ/8A49QB1FFcv/wr3Rv+fzxB/wCFFf8A/wAeo/4V7o3/AD+eIP8Awor/AP8Aj1AHUUVy/wDwr3Rv+fzxB/4UV/8A/HqP+Fe6N/z+eIP/AAor/wD+PUAdRRXL/wDCvdG/5/PEH/hRX/8A8eo/4V7o3/P54g/8KK//APj1AHUUVy//AAr3Rv8An88Qf+FFf/8Ax6j/AIV7o3/P54g/8KK//wDj1AHUUVy//CvdG/5/PEH/AIUV/wD/AB6j/hXujf8AP54g/wDCiv8A/wCPUAdRRXL/APCvdG/5/PEH/hRX/wD8eo/4V7o3/P54g/8ACiv/AP49QB1FFcv/AMK90b/n88Qf+FFf/wDx6j/hXujf8/niD/wor/8A+PUAdRRXL/8ACvdG/wCfzxB/4UV//wDHqP8AhXujf8/niD/wor//AOPUAdRRXL/8K90b/n88Qf8AhRX/AP8AHqP+Fe6N/wA/niD/AMKK/wD/AI9QB1FFcv8A8K90b/n88Qf+FFf/APx6sXxT4Ws9A02y1DTL/XEuF1bT4/3uuXkqlXvIUdSjylSCrEYI70AehUUUUAFcv8Qv+Ratf+w1pf8A6XwV1Fcv8Qv+Ratf+w1pf/pfBQB1FFFFABRRRQAUUUUAFFFFABRRRQAUUUUAFFFFABRRRQAUUUUAFFFFABRRRQAUUUUAFFFFABRRRQAUUUUAFFFFABRRRQAUUUUAFFFFABRRRQAUUUUAFFFFABRRRQAUUUUAFFFFABRRRQAUUUUAFFFFABRRRQAUUUUAFcv8Qv8AkWrX/sNaX/6XwV1Fcv8AEL/kWrX/ALDWl/8ApfBQB1FFFFABXL/EL/kWrX/sNaX/AOl8FdRXL/EL/kWrX/sNaX/6XwUAdRRRRQAUUjMEUsxwFGSfSsLw1410Lxa1wug3bXBtgpkDROmA2cH5gM9DQBvUUUUAFFFFABRRRQAUUUUAFFFFABRRRQAUUUUAFFFFABRRRQAUUUUAFFFFABRRRQAUUUUAFFFFABRRRQAUUUUAFFFFABRRRQAUUUUAFFFFABRRRQAUUUUAFFFFABRRRQAUUUUAFFFFABRRRQAUUUUAFcv8Qv8AkWrX/sNaX/6XwV1Fcv8AEL/kWrX/ALDWl/8ApfBQB1FFFFABXL/EL/kWrX/sNaX/AOl8FdRXL/EL/kWrX/sNaX/6XwUAdRRRRQBFd/8AHnN/1zb+VeKfs9f8fOtf9cYP/QpK9ru/+POb/rm38q8U/Z6/4+da/wCuMH/oUlUtmS90e4UUUVJQUUUUAFFFFABRRRQAUUUUAFFFFABRRRQAUUUUAFFFFABRRRQAUUUUAFFFFABRRRQAUUUUAFFFFABRRRQAUUUUAFFFFABRRRQAUUUUAFFFFABRRRQAUUUUAFFFFABRRRQAUUUUAFFFFABRRRQAVy/xC/5Fq1/7DWl/+l8FdRXL/EL/AJFq1/7DWl/+l8FAHUUUUUAFcv8AEL/kWrX/ALDWl/8ApfBXUVy/xC/5Fq1/7DWl/wDpfBQB1FFFFAEV3/x5zf8AXNv5V4p+z1/x861/1xg/9Ckr2u7/AOPOb/rm38q8U/Z6/wCPnWv+uMH/AKFJVLZkvdHuFFFFSUFFFFABRRRQAUUUUAFFFFABRRRQAUUUUAFFFFABRRRQAUUUUAFFFFABRRRQAUUUUAFFFFABRRRQAUUUUAFFFFABRRRQAUUUUAFFFFABRRRQAUUUUAFFFFABRRRQAUUUUAFFFFABRRRQAUUUUAFcv8Qv+Ratf+w1pf8A6XwV1Fcv8Qv+Ratf+w1pf/pfBQB1FFFFABXL/EL/AJFq1/7DWl/+l8FdRXL/ABC/5Fq1/wCw1pf/AKXwUAdRRRRQBFd/8ec3/XNv5V4p+z1/x861/wBcYP8A0KSva7v/AI85v+ubfyrxT9nr/j51r/rjB/6FJVLZkvdHuFFFFSUFFFFABRRRQAUUUUAFFFFABRRRQAUUUUAFFFFABRRRQAUUUUAFFFFABRRRQAUUUUAFFFFABRRRQAUUUUAFFFFABRRRQAUUUUAFFFFABRRRQAUUUUAFFFFABRRRQAUUUUAFFFFABRRRQAUUUUAFcv8AEL/kWrX/ALDWl/8ApfBXUVy/xC/5Fq1/7DWl/wDpfBQB1FFFFABXL/EL/kWrX/sNaX/6XwV1Fcv8Qv8AkWrX/sNaX/6XwUAdRRRRQBFd/wDHnN/1zb+VeKfs9f8AHzrX/XGD/wBCkr2u7/485v8Arm38q8U/Z6/4+da/64wf+hSVS2ZL3R7hRRRUlBRRRQAUUUUAFFFFABRRRQAUUUUAFFFFABRRRQAUUUUAFFFFABRRRQAUUUUAFFFFABRRRQAUUUUAFFFFABRRRQAUUUUAFFFFABRRRQAUUUUAFFFFABRRRQAUUUUAFFFFABRRRQAUUUUAFFFFABXL/EL/AJFq1/7DWl/+l8FdRXL/ABC/5Fq1/wCw1pf/AKXwUAdRRRRQAVy/xC/5Fq1/7DWl/wDpfBXUVy/xC/5Fq1/7DWl/+l8FAHUUUUUAQ3jAWcoJAJRgMnrwa8U/Z7YLca0WIA8mAcn/AG5K9F8af8hXw1/1/wAn/pLNXivw3/5A+o/9ful/+lZqlsyXuj6WoooqSgooooAKKKKACiiigAooooAKKKKACiiigAooooAKKKKACiiigAooooAKKKKACiiigAooooAKKKKACiiigAooooAKKKKACiiigAooooAKKKKACiiigAooooAKKKKACiiigAooooAKKKKACiiigArl/iF/yLVr/wBhrS//AEvgrqK5f4hf8i1a/wDYa0v/ANL4KAOoooooAK5f4hf8i1a/9hrS/wD0vgrqK5f4hf8AItWv/Ya0v/0vgoA6iiiigDk/Gn/IV8Nf9f8AJ/6SzV4r8N/+QPqP/X7pf/pWa9q8af8AIV8Nf9f8n/pLNXivw3/5A+o/9ful/wDpWapbMl7o+lqKKKkoKKKKACiiigAooooAKKKKACiiigAooooAKKKKACiiigAooooAKKKKACiiigAooooAKKKKACiiigAooooAKKKKACiiigAooooAKKKKACiiigAooooAKKKKACiiigAooooAKKKKACiiigAooooAK5f4hf8AItWv/Ya0v/0vgrqK5f4hf8i1a/8AYa0v/wBL4KAOoooooAK5f4hf8i1a/wDYa0v/ANL4K6iuX+IX/ItWv/Ya0v8A9L4KAOoooooA5Pxp/wAhXw1/1/yf+ks1eK/Df/kD6j/1+6X/AOlZr2rxp/yFfDX/AF/yf+ks1eK/Df8A5A+o/wDX7pf/AKVmqWzJe6PpaiiipKCiiigAooooAKKKKACiiigAooooAKKKKACiiigAooooAKKKKACiiigAooooAKKKKACiiigAooooAKKKKACiiigAooooAKKKKACiiigAooooAKKKKACiiigAooooAKKKKACiiigAooooAKKKKACuX+IX/ItWv/Ya0v8A9L4K6iuX+IX/ACLVr/2GtL/9L4KAOoooooAK5f4hf8i1a/8AYa0v/wBL4K6iuX+IX/ItWv8A2GtL/wDS+CgDqKKKKAOT8af8hXw1/wBf8n/pLNXivw3/AOQPqP8A1+6X/wClZr2rxp/yFfDX/X/J/wCks1eK/Df/AJA+o/8AX7pf/pWapbMl7o+lqKKKkoKKKKACiiigAooooAKKKKACiiigAooooAKKKKACiiigAooooAKKKKACiiigAooooAKKKKACiiigAooooAKKKKACiiigAooooAKKKKACiiigAooooAKKKKACiiigAooooAKKKKACiiigAooooAK5f4hf8i1a/wDYa0v/ANL4K6iuX+IX/ItWv/Ya0v8A9L4KAOoooooAK5f4hf8AItWv/Ya0v/0vgrqK5f4hf8i1a/8AYa0v/wBL4KAOoooooA5Pxp/yFfDX/X/J/wCks1eK/Df/AJA+o/8AX7pf/pWa7Xxr8WPDTa9pkVk9xerpt28k01uimNsxSR4Qlhu5Yc9COQTXmPhPxRZaBp91DeRzyNPcWcq+SqkAQzmRgckckdP6U1sxPdH1fRXlv/DQPhX/AKB+sf8AfmL/AOOUf8NA+Ff+gfrH/fmL/wCOUhnqVFeXx/H7wo8qI1nq0aswBdoI8L7nEhOPoDU8vx38IR3zwINQljU8XKW48tuOwLBvblRQB6TRXmA+PvhQws/2TVgwYAR+RHuYHPI+fGBj1zyMZ5xbvvjj4NtDD9nmvL7zPvG3tiPL/wB7eV/TPSgD0SivN0+Ovg9r6OAm/WJ/vXJt/wB2n1AO78lNdDrHxC0DSLiK38+XULiWITrDp8RnYREZEhK8Bcc9ehB6UAdPRXCT/GPwjHIgtri7vY8Bppra0cpbKSBukyAQOewJrX1Xx/4b0jw/a6zcaistreAm0EALvcEDkKvXI6HOACQDg0AdJRXO+F/HOi+LHmg06SaG9txmeyuo/LmjGcZI6H8CcZGcZqn4p+Jnh/wnffYLxri8vgod7WyjEjxrgtubJAHAzjOcEHGDmgDrqKzdC8QaX4m0tdR0S7W6tmYoWAIKsOqspwQehwexB6EVyd38aPB9prBsTc3M0SNskvoYd8CNzxkHc3TqqkHsSKAO+orm7fx94fubqKKO5mWKaTy4bt7aRbeV842rKV2n8+e1aWu+INL8M6W2o63dra2ysEDEElmPRVUZJPU4HYE9AaANKiuR8LfEzw/4svvsFm1xZ3xUulrexiN5FwG3LgkHg5xnOATjAzXXUAFFFFABRRRQAUUUUAFFFFABRRRQAUUUUAFFFFABRRRQAUUUUAFFFFABRRRQAUUUUAFFFFABRRRQAUUUUAFFVdT1Oy0bTJ9Q1S4S2tLdd8kr9FH8ySeABySQBzXIeH/i94X8Q60ul28lzazytsga7jCJO2TgKQTgnHAbGSQOvFAHc0UUUAFFFFABRXM+LviBoXgsRJq0ssl1MN0dpbIHlZc43YJAAz6kZwcZwas+FfGOj+MtOa70S4L+WQs0Ei7ZISRkBh+fIyDg4PBoA3a5f4hf8i1a/wDYa0v/ANL4K6iuX+IX/ItWv/Ya0v8A9L4KAOoooooAK4Dx9o18kFtqDeItSktjremH+zmjt/IGb2EAZEQk4PP3+o5yOK7+uX+IX/ItWv8A2GtL/wDS+CgDqKpa1ZS6loOoWNtN9nmuraSGObn92zKQG454JzV2igD5QnuJPDWg3PhrWdKnsdTW8edp9i7pEMDxBCSOVDHIIJBDsQQcE8oQQAT3GRX1d40/5Cvhr/r/AJP/AElmrxX4b/8AIH1H/r90v/0rNNCbPOqK+26KQz4mjjeaVIoUaSR2CqijJYnoAO5rSmhuorMaNLZ3cN9DctJJbtCQxBRcbl6grg446Oenf7HooA+L7Fnhnguh50EcFwha7gUl4j1GOQN3ykgZGcHn00r2y1HSbi8Oq2OpRNqKkW895bNHJIfMVi+D1JAwcE/e619fUUAfHFlaXsctxp39nXUl5eRBIYFhYuTvVshep4Ujj1Ney+CXuPhWt3beLtOvD9ujgljv7eEzrkR4+zsVJwVOQvY8ngYr2KigDxDwH4mbwImqW/iXT/EDz6pdmezjksTuuScDgFv9Y24ZHbA5JqHRtE1nwRL4f8Vazp17c6fGLppdOgQudJEgJUqpfgEfezjbyD82K91ooA8z0O7fxt8U7XxNo9peWmkWFg9u93PEYxfMWYBBz8ygndnHBXBxxVBdbHwx8ceJrvxNZahcWmsTpPaajDFvVhhyISS2AVztA68ZOFxXrdFAHmvgfQNVvNJ8YXsi3WjL4huJjY28ysj24IcCYruyrEsMjj7gI4K1yVr4o/sT4bz/AA9vtB1aLxA8M8CQw2wcSl2chwd2WHuAR6ZFe70UAeT6Y9z/AMKrj8Etp2pXWtvA9s63Fo6R25ZyQ5kPy7UBGCCc7RgVr/EnSdRx4a1e1gudUg0S+SW7s4FLPMuV/ehQRuZdpwOfvkngGvQaKAPJG1sfE7xx4Zu/DNnqFvaaPO893qE0WxVGEJhBDYJbG0jrzkZXNet0UUAFFFFABRRRQAUUUUAFFFFABRRRQAUUUUAFFFFABRRRQAUUUUAFFFFABRRRQAUUUUAFFFFABRRRQAUUUUAcN8XvD+peIfAUkOjo809tOly1vHndOihgVA7n5t2Op24HOK4rxL4lT4qx6X4d8LaRqNpe2t6ks9xNCqLZKqsp5VuMde2doA5wK9uooAKKKKACiiigDyfxHdy+A/i3deLdYsry90e+sVgjnt0D/ZXGwbTkgLnaT2zvOM4arXw9iute+IWu+NIbO50/SL+COG2iuE2NcMAmZMA442Hnod5weGr06igArl/iF/yLVr/2GtL/APS+Cuorl/iF/wAi1a/9hrS//S+CgDqKKKKACuX+IX/ItWv/AGGtL/8AS+Cuorl/iF/yLVr/ANhrS/8A0vgoA6iiiigDk/Gn/IV8Nf8AX/J/6SzV4r8N/wDkD6j/ANful/8ApWa9q8af8hXw1/1/yf8ApLNXivw3/wCQPqP/AF+6X/6VmqWzJe6PpaiiipKCiiigAooooAKKKKACiiigAooooAKKKKACiiigAooooAKKKKACiiigAooooAKKKKACiiigAooooAKKKKACiiigAooooAKKKKACiiigAooooAKKKKACiiigAooooAKKKKACiiigAooooAKKKKACuX+IX/ItWv8A2GtL/wDS+Cuorl/iF/yLVr/2GtL/APS+CgDqKKKKACuX+IX/ACLVr/2GtL/9L4K6iuX+IX/ItWv/AGGtL/8AS+CgDqKKKKAOT8af8hXw1/1/yf8ApLNXivw3/wCQPqP/AF+6X/6VmvavGn/IV8Nf9f8AJ/6SzV4r8N/+QPqP/X7pf/pWapbMl7o+lqKKKkoKKKKACiiigAooooAKKKKACiiigAooooAKKKKACiiigAooooAKKKKACiiigAooooAKKKKACiiigAooooAKKKKACiiigAooooAKKKKACiiigAooooAKKKKACiiigAooooAKKKKACiiigAooooAK5f4hf8i1a/8AYa0v/wBL4K6iuX+IX/ItWv8A2GtL/wDS+CgDqKKKKACuX+IX/ItWv/Ya0v8A9L4K6iuX+IX/ACLVr/2GtL/9L4KAOoooooA5Pxp/yFfDX/X/ACf+ks1eK/Df/kD6j/1+6X/6VmvavGn/ACFfDX/X/J/6SzV4r8N/+QPqP/X7pf8A6VmqWzJe6PpaiiipKCiiigAooooAKKKKACiiigAooooAKKKKACiiigAooooAKKKKACiiigAooooAKKKKACiiigAooooAKKKKACiiigAooooAKKKKACiiigAooooAKKKKACiiigAooooAKKKKACiiigAooooAKKKKACuX+IX/ACLVr/2GtL/9L4K6iuX+IX/ItWv/AGGtL/8AS+CgDqKKKKACuX+IX/ItWv8A2GtL/wDS+Cuorl/iF/yLVr/2GtL/APS+CgDqKKKKAOT8af8AIV8Nf9f8n/pLNXivw3/5A+o/9ful/wDpWa948S6Vcahc6TcwFAlhcvPLuOCVMEicepywrxX4RaVcazZ6pbWhQOk1hOd5wNsdwzt+OFNUtmS90fRFFFFSUFFFFABRRRQAUUUUAFFFFABRRRQAUUUUAFFFFABRRRQAUUUUAFFFFABRRRQAUUUUAFFFFABRRRQAUUUUAFFFFABRRRQAUUUUAFFFFABRRRQAUUUUAFFFFABRRRQAUUUUAFFFFABRRRQAUUUUAFcv8Qv+Ratf+w1pf/pfBXUVy/xC/wCRatf+w1pf/pfBQB1FFFFABXL/ABC/5Fq1/wCw1pf/AKXwV1Fcv8Qv+Ratf+w1pf8A6XwUAdRRRRQBFd/8ec3/AFzb+VeKfs9f8fOtf9cYP/QpK9ru/wDjzm/65t/KvFP2ev8Aj51r/rjB/wChSVS2ZL3R7hRRRUlBRRRQAUUUUAFFFFABRRRQAUUUUAFFFFABRRRQAUUUUAFFFFABRRRQAUUUUAFFFFABRRRQAUUUUAFFFFABRRRQAUUUUAFFFFABRRRQAUUUUAFFFFABRRRQAUUUUAFFFFABRRRQAUUUUAFFFFABXL/EL/kWrX/sNaX/AOl8FdRXL/EL/kWrX/sNaX/6XwUAdRRRRQAVy/xC/wCRatf+w1pf/pfBXUVy/wAQv+Ratf8AsNaX/wCl8FAHUUUUUARXf/HnN/1zb+VeKfs9f8fOtf8AXGD/ANCkr2u7/wCPOb/rm38q8U/Z6/4+da/64wf+hSVS2ZL3R7hRRRUlBRRRQAUUUUAFFFFABRRRQAUUUUAFFFFABRRRQAUUUUAFFFFABRRRQAUUUUAFFFFABRRRQAUUUUAFFFFABRRRQAUUUUAFFFFABRRRQAUUUUAFFFFABRRRQAUUUUAFFFFABRRRQAUUUUAFFFFABXL/ABC/5Fq1/wCw1pf/AKXwV1Fcv8Qv+Ratf+w1pf8A6XwUAdRRRRQAVy/xC/5Fq1/7DWl/+l8FdRXL/EL/AJFq1/7DWl/+l8FAHUUUUUARXf8Ax5zf9c2/lXin7PX/AB861/1xg/8AQpK9ru/+POb/AK5t/KvFP2ev+PnWv+uMH/oUlUtmS90e4UUUVJQUUUUAFFFFABRRRQAUUUUAFFFFABRRRQAUUUUAFFFFABRRRQAUUUUAFFFFABRRRQAUUUUAFFFFABRRRQAUUUUAFFFFABRRRQAUUUUAFFFFABRRRQAUUUUAFFFFABRRRQAUUUUAFFFFABRRRQAVy/xC/wCRatf+w1pf/pfBXUVy/wAQv+Ratf8AsNaX/wCl8FAHUUUUUAFcv8Qv+Ratf+w1pf8A6XwV1Fcv8Qv+Ratf+w1pf/pfBQB1FFFFAEV3/wAec3/XNv5V4p+z1/x861/1xg/9Ckr2u7/485v+ubfyrxT9nr/j51r/AK4wf+hSVS2ZL3R7hRRRUlBRRRQAUUUUAFFFFABRRRQAUUUUAFFFFABRRRQAUUUUAFFFFABRRRQAUUUUAFFFFABRRRQAUUUUAFFFFABRRRQAUUUUAFFFFABRRRQAUUUUAFFFFABRRRQAUUUUAFFFFABRRRQAUUUUAFFFFABXL/EL/kWrX/sNaX/6XwV1Fcv8Qv8AkWrX/sNaX/6XwUAdRRRRQAVy/wAQv+Ratf8AsNaX/wCl8FdRXL/EL/kWrX/sNaX/AOl8FAHUUUUUAR3KlrWVVGSUIA9eK8f+A+kalplxrJ1LT7qzDRwqpuIWj3ENISBkDPUfnXslFO4gooopDCiiigAooooAKKKKACiiigAooooAKKKKACiiigAooooAKKKKACiiigAooooAKKKKACiiigAooooAKKKKACiiigAooooAKKKKACiiigAooooAKKKKACiiigAooooAKKKKACiiigAooooAKKKKACuX+IX/ACLVr/2GtL/9L4K6iuX+IX/ItWv/AGGtL/8AS+CgDqKKKKACuX+IX/ItWv8A2GtL/wDS+Cuorl/iF/yLVr/2GtL/APS+CgDqKKKKACiiigAooooAKKKKACiiigAooooAKKKKACiiigAooooAKKKKACiiigAooooAKKKKACiiigAooooAKKKKACiiigAooooAKKKKACiiigAooooAKKKKACiiigAooooAKKKKACiiigAooooAKKKKACiiigAooooAK5f4hf8AItWv/Ya0v/0vgrqK5f4hf8i1a/8AYa0v/wBL4KAOoooooAK5f4hf8i1a/wDYa0v/ANL4K6isXxZolx4g0H7FZXcdncJdW11FNLCZVDQzpKAVDKSCUx1HWgDaorl/sHjz/oY/D/8A4Ipv/kuj7B48/wChj8P/APgim/8AkugDqKK4Pw9deO9e02W7Gt+H4PLvbq12f2LM2fJneHdn7UOvl5x2zjnrWp9g8ef9DH4f/wDBFN/8l0AdRRXL/YPHn/Qx+H//AARTf/JdH2Dx5/0Mfh//AMEU3/yXQB1FFcv9g8ef9DH4f/8ABFN/8l0fYPHn/Qx+H/8AwRTf/JdAHUUVy/2Dx5/0Mfh//wAEU3/yXR9g8ef9DH4f/wDBFN/8l0AdRRXB+Ibrx3oOmxXZ1vw/P5l7a2uz+xZlx506Q7s/aj08zOO+Mcda1PsHjz/oY/D/AP4Ipv8A5LoA6iiuX+wePP8AoY/D/wD4Ipv/AJLo+wePP+hj8P8A/gim/wDkugDqKK5f7B48/wChj8P/APgim/8Akuj7B48/6GPw/wD+CKb/AOS6AOoorl/sHjz/AKGPw/8A+CKb/wCS6PsHjz/oY/D/AP4Ipv8A5LoA6iiuX+wePP8AoY/D/wD4Ipv/AJLrL0m68d6pqWtWn9t+H4v7KvVtd/8AYsx83MEU27H2rj/W4xz93PfFAHeUVy/2Dx5/0Mfh/wD8EU3/AMl0fYPHn/Qx+H//AARTf/JdAHUUVy/2Dx5/0Mfh/wD8EU3/AMl0fYPHn/Qx+H//AARTf/JdAHUUVy/2Dx5/0Mfh/wD8EU3/AMl0fYPHn/Qx+H//AARTf/JdAHUUVy/2Dx5/0Mfh/wD8EU3/AMl1meJbnx34e8K6rrR1zw/cf2dZy3Xk/wBizL5mxC23P2o4zjGcGgDu6K5ZbHx4yg/8JF4f5Gf+QFN/8l0v2Dx5/wBDH4f/APBFN/8AJdAHUUVy/wBg8ef9DH4f/wDBFN/8l0fYPHn/AEMfh/8A8EU3/wAl0AdRRXL/AGDx5/0Mfh//AMEU3/yXR9g8ef8AQx+H/wDwRTf/ACXQB1FFcv8AYPHn/Qx+H/8AwRTf/JdH2Dx5/wBDH4f/APBFN/8AJdAHUUVwdxdeO4PFlhon9t+H2+2WVxded/Ysw2eU8K7dv2rnPnZznjb3zxqfYPHn/Qx+H/8AwRTf/JdAHUUVy/2Dx5/0Mfh//wAEU3/yXR9g8ef9DH4f/wDBFN/8l0AdRRXL/YPHn/Qx+H//AARTf/JdH2Dx5/0Mfh//AMEU3/yXQB1FFcv9g8ef9DH4f/8ABFN/8l0fYPHn/Qx+H/8AwRTf/JdAHUUVy/2Dx5/0Mfh//wAEU3/yXWX4euvHevabLdjW/D8Hl3t1a7P7FmbPkzvDuz9qHXy847Zxz1oA7yiuX+wePP8AoY/D/wD4Ipv/AJLo+wePP+hj8P8A/gim/wDkugDqKK5f7B48/wChj8P/APgim/8Akuj7B48/6GPw/wD+CKb/AOS6AOoorl/sHjz/AKGPw/8A+CKb/wCS6PsHjz/oY/D/AP4Ipv8A5LoA6iiuX+wePP8AoY/D/wD4Ipv/AJLrL8Q3XjvQdNiuzrfh+fzL21tdn9izLjzp0h3Z+1Hp5mcd8Y460Ad5RXL/AGDx5/0Mfh//AMEU3/yXR9g8ef8AQx+H/wDwRTf/ACXQB1FFcv8AYPHn/Qx+H/8AwRTf/JdH2Dx5/wBDH4f/APBFN/8AJdAHUUVy/wBg8ef9DH4f/wDBFN/8l0fYPHn/AEMfh/8A8EU3/wAl0AdRXL/EL/kWrX/sNaX/AOl8FH2Dx5/0Mfh//wAEU3/yXVTUPDXi7WY7a31bxDo7WkV7bXUiW+jyxu/kzJKFDG5YDJQDOD1oA7OiiigAooooAKr39/a6Xp899qNxHbWtuhklmkOFRR1JNWK5P4nW81x4BuvIhknEFxa3M0MalmeKK4jkkAA5PyK3HfpQBp+HvEmia8txHoc3zW7BpoHtnt5E35YMUdVbDckNjB55NbNcJoWqWXib4q3GseH7hL3TrfRVtZruHmN5mmLqgboSqhiQOm8Z613dABRRRQAUUUUAFY154t0Ww8RWuh3d06ahdsEhjFvIysxUsBvC7QcKxwSOlbNedfErxRoWl+IvCNtqWr2VrPb60l1NHNOqtHF9muF8wgnhdxAz6mgDpNb8ZeGtI1D+ztavUSVfLlkBgeRIAW+RpHVSsfI4LkdM1LrvjLQvDdxHBq96YpXiM2yOCSYpGDgyMEU7Ez/E2B7159q2t6ZpifEGy1KQSXOvoJtLjCljqMUlnHEiRY+/h1YYHTOTwc1cstStPA3ii+bxpOsIu9CsIoJZRuE7QrKssKn+J9zA7Ryd9AHp0M0VxBHPbyLLFIodHQ5VlIyCD3BFPrmvhzYXml/DTw9ZalG0V1BYRLJE/wB6M7R8h9wOPwrpaACiiigAqpqep2mjadLf6jKYreLG5gjOckhQAqgkkkgYA71brM8ReINP8K+HrzWtZm8mys03yMBk8kAAD1JIA9zQBFpXivRdahu5LG8I+xANdJcwvbvACCQzpIqsoIBIJGDg+lQ6B4t8PeILuaLRLoPOUFw6vbyQtKhwolXeq+YvAG9cjpz0rz15I/G/gzxrqWm6pp9/4g1XSTAum6ddpObSBVkMcJKE7nYu+49MtgcDJv3Wp2fjjxTpjeDJhL9j0W+S4kjBUWxmWNYoXP8AC+5Sdp5Gw8UAdlpPjfw9rmp/YNM1ETXDK7R5hkRJwhwxidlCyAHqUJxW/XkmhanY60vw50jRs/2johD6jAEIewSOzkidJR/AS7KoB69Rkc163QAUUUUAFFFFAGPrXirSvD8yR6m90rMhk/cWM84VfVjGjBR9cVT1Xxv4XsrO3N/qEc9vf2xuIxDA9yHgxzIwRWxHz95sL71V8ca7plpANOufGX/CL3jp5qOoiLyody4AkVt3I6LhuByM1w/gvWLHwfcR3niy2XRLa98O2UVksqOFPkvPviXdlt7b0fYSWO7uQaAPTNU8XaHo1rZ3F5e7kvhutRbRPcPOu3cWRI1ZioBBJAwAR61o6dqNnq+mwX+m3EdzaXCB4pYzlXU15P4XceCZvCF94ub+zbQ+HJLNZrn5UtpjLHIInP8ACxQAAHr5ZHWuz+GcMsfg3znhkghvL+8u7aKRCrJBLcyPH8p6ZVgce9AHXUUUUAFFFFABWXqniXSNG1PTtO1K8WG71OUxWkOxmMjfgDgcjk4HPWtSvGvFNn4ssfEGnahfaPpd1c3XiOD7Pcf2o65iQS+TDs8g+WoBJJBb5ixxyMAHoj+MvDQ8SLpb3qf2gsv2QP5DlFlYA+T523YHOB8m7JwOKdqHjfw7pWsf2Xf6iIrpWRZP3MjRwl/uCSQKUjLZGAxGcivNpbuAeC7nwWzH/hKZPETOtrtPmtu1Dzxc/wC4IsNv6cYznipdevrTT9B+Ifhm/BOuazdzNp1oUJkvRNBGkLR/3grDBI+7sOcUAex0VHbI8drEkzb5FQB29Tjk1JQAUUUUAFZuua/p3hywS81eWSOGSZIE8q3kmd5GOFUJGrMST6CtKub8cR+HZNFtx4t1A6fZrdxyR3AuWt9sq5Zf3ikFehOcjp1oAnbxnosWhtq9zNdWtoJhAPtVjPDI8hxhUidA7k542qc846Gi18WeHT4buNagvYodNt5HFw7RtEYpN3zKyEBg5Zh8pG4lhxzXmsOpyR6pp+rT393qXhDR/EBNvqV2WkIjeydN5cjLxpM+0SHPXqQM0+/kXUW1vxRYI8+gDxLp12ZY0LLNFAkSyzKB95VYA5Gc+WT2oA9Q0PxHpfiKKd9JuGkNu4jmilheGSJiMgNG4DLkHIyOa1K4fwrfWuvfEjX9c0SVbjSmsLO0+1Rcx3E6NMzbW6NtWRASPXHau4oAKKKKACiiigDEu/GGiWWtf2VLcyyXisqyJb2kswhLfdEjIpWPOQfmI4OelQ634y8NaRqH9na1eokq+XLIDA8iQAt8jSOqlY+RwXI6Zry2WSfQrvxQia3qMHixtfkn0rS0mYJdRSSKY/3Q+WVCp2s5ztC4yu2trXdUsdDl+Iul61n7frQ36dAUJe/R7NIUjiH8ZDqykDpnJ4OaAO913xloXhu4jg1e9MUrxGbZHBJMUjBwZGCKdiZ/ibA962YZoriCOe3kWWKRQ6OhyrKRkEHuCK8xstStPA3ii+bxpOsIu9CsIoJZRuE7QrKssKn+J9zA7Ryd9dZ8ObC80v4aeHrLUo2iuoLCJZIn+9Gdo+Q+4HH4UAdLRRRQAUUUUAFFFFABRRRQAUUUUAFFFFABRRRQAUUUUAFFFFABRRRQAUUUUAFFFFABRRRQAUUUUAFFFFABRRRQAUUUUAFFFFABRRRQAUVieMfEf/CJeE7zW/sbXv2XZ/o6PtZ90ipwcHn5s+9czrHxLv8Aw5DeprvhoxXsNvFdW1vb3wlFzE06QsN2wbXUyplcEHIw3cAHoNFca/ia4s/EtjH4j00afI2nXt2zQak8sccURhzuQKqsx39cHbtIBO41LpvjHUZtEl8QazoaaZoS2T3yTm9Ek4iC7xviCAKSvOA7Y6GgDraK4Dwz8VLPX/ENjpUqaaj6jG72osdXivJFKrvKTIoHlttyeCw4Iz0rv6ACiiigAooooAKKKKACiiigAooooAKKKKACiiigAooooAKKKKACiiigAooooAKKKKACiiigAooooAKKKKACiiigAooooAKKKKACiiigAooooAKKKKACiiigAooooAKKKKACiiigAooooAKKKKACiiigAooooAKKKKAOS+KOn3Oq/DfUrKxiuJZ5mgCrbIWk/wBehJAAPQAn8Kz9R+HN/rj3Nxr3iFbq8aKG3tpYrERJDElxHO2U3nczmJQWyAMDC9q72igDC1XwvDq/iW01O6mzBDp91YyWpT/WrOYyTuzxgR4xjnd1GOc7TvBuoxaHL4f1nXE1PQmsnsUgNl5c5iK7BvlDkMQvGQi56muuooA5rQPD2t6TPbpfa9bX1lbR+WiLpqxTOMYBkk3kEj/ZVc10tFFABRRRQAUUUUAFFFFABRRRQAUUUUAFFFFABRRRQAUUUUAFFFFABRRRQAUUUUAFFFFABRRRQAUUUUAFFFFAH//Z)"
      ]
    },
    {
      "cell_type": "markdown",
      "metadata": {
        "id": "DtvLOQQr0bp3"
      },
      "source": [
        "2.3.4 Histogram"
      ]
    },
    {
      "cell_type": "code",
      "execution_count": null,
      "metadata": {
        "collapsed": true,
        "id": "X9HbpxoZ0cp3"
      },
      "outputs": [],
      "source": [
        "sns.histplot(dt_pd['price'], bins=10)"
      ]
    },
    {
      "cell_type": "markdown",
      "metadata": {
        "id": "BihrO1eLVQCO"
      },
      "source": [
        "![Histrogram.JPG](data:image/jpeg;base64,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)"
      ]
    },
    {
      "cell_type": "markdown",
      "metadata": {
        "id": "A7TGZ7NM0duH"
      },
      "source": [
        "2.3.4.1 Added bin to show more detailed information"
      ]
    },
    {
      "cell_type": "code",
      "execution_count": null,
      "metadata": {
        "collapsed": true,
        "id": "ugzgY8530ftv"
      },
      "outputs": [],
      "source": [
        "sns.histplot(dt_pd['price'], bins=100)"
      ]
    },
    {
      "cell_type": "markdown",
      "metadata": {
        "id": "c1anU5e7VkUL"
      },
      "source": [
        "![Histrogram 2.JPG](data:image/jpeg;base64,/9j/4AAQSkZJRgABAQEAYABgAAD/4QLmRXhpZgAATU0AKgAAAAgABAE7AAIAAAAJAAABSodpAAQAAAABAAABVJydAAEAAAASAAACzOocAAcAAAEMAAAAPgAAAAAc6gAAAAEAAAAAAAAAAAAAAAAAAAAAAAAAAAAAAAAAAAAAAAAAAAAAAAAAAAAAAAAAAAAAAAAAAAAAAAAAAAAAAAAAAAAAAAAAAAAAAAAAAAAAAAAAAAAAAAAAAAAAAAAAAAAAAAAAAAAAAAAAAAAAAAAAAAAAAAAAAAAAAAAAAAAAAAAAAAAAAAAAAAAAAAAAAAAAAAAAAAAAAAAAAAAAAAAAAAAAAAAAAAAAAAAAAAAAAAAAAAAAAAAAAAAAAAAAAAAAAAAAAAAAAAAAAAAAAAAAAAAAAAAAAAAAAAAAAAAAAAAAAAAAAAAAAAAAAAAAAAAAAAAAAAAAAAAAAAAAAAAAAAAAAAAAAAAATWhvb01oZWUAAAAFkAMAAgAAABQAAAKikAQAAgAAABQAAAK2kpEAAgAAAAMzNQAAkpIAAgAAAAMzNQAA6hwABwAAAQwAAAGWAAAAABzqAAAAAQAAAAAAAAAAAAAAAAAAAAAAAAAAAAAAAAAAAAAAAAAAAAAAAAAAAAAAAAAAAAAAAAAAAAAAAAAAAAAAAAAAAAAAAAAAAAAAAAAAAAAAAAAAAAAAAAAAAAAAAAAAAAAAAAAAAAAAAAAAAAAAAAAAAAAAAAAAAAAAAAAAAAAAAAAAAAAAAAAAAAAAAAAAAAAAAAAAAAAAAAAAAAAAAAAAAAAAAAAAAAAAAAAAAAAAAAAAAAAAAAAAAAAAAAAAAAAAAAAAAAAAAAAAAAAAAAAAAAAAAAAAAAAAAAAAAAAAAAAAAAAAAAAAAAAAAAAAAAAAAAAAAAAAAAAAAAAAAAAAAAAAAAAAAAAyMDI1OjA1OjA1IDE5OjA1OjA2ADIwMjU6MDU6MDUgMTk6MDU6MDYAAABNAGgAbwBvAE0AaABlAGUAAAD/4QQbaHR0cDovL25zLmFkb2JlLmNvbS94YXAvMS4wLwA8P3hwYWNrZXQgYmVnaW49J++7vycgaWQ9J1c1TTBNcENlaGlIenJlU3pOVGN6a2M5ZCc/Pg0KPHg6eG1wbWV0YSB4bWxuczp4PSJhZG9iZTpuczptZXRhLyI+PHJkZjpSREYgeG1sbnM6cmRmPSJodHRwOi8vd3d3LnczLm9yZy8xOTk5LzAyLzIyLXJkZi1zeW50YXgtbnMjIj48cmRmOkRlc2NyaXB0aW9uIHJkZjphYm91dD0idXVpZDpmYWY1YmRkNS1iYTNkLTExZGEtYWQzMS1kMzNkNzUxODJmMWIiIHhtbG5zOmRjPSJodHRwOi8vcHVybC5vcmcvZGMvZWxlbWVudHMvMS4xLyIvPjxyZGY6RGVzY3JpcHRpb24gcmRmOmFib3V0PSJ1dWlkOmZhZjViZGQ1LWJhM2QtMTFkYS1hZDMxLWQzM2Q3NTE4MmYxYiIgeG1sbnM6eG1wPSJodHRwOi8vbnMuYWRvYmUuY29tL3hhcC8xLjAvIj48eG1wOkNyZWF0ZURhdGU+MjAyNS0wNS0wNVQxOTowNTowNi4zNDk8L3htcDpDcmVhdGVEYXRlPjwvcmRmOkRlc2NyaXB0aW9uPjxyZGY6RGVzY3JpcHRpb24gcmRmOmFib3V0PSJ1dWlkOmZhZjViZGQ1LWJhM2QtMTFkYS1hZDMxLWQzM2Q3NTE4MmYxYiIgeG1sbnM6ZGM9Imh0dHA6Ly9wdXJsLm9yZy9kYy9lbGVtZW50cy8xLjEvIj48ZGM6Y3JlYXRvcj48cmRmOlNlcSB4bWxuczpyZGY9Imh0dHA6Ly93d3cudzMub3JnLzE5OTkvMDIvMjItcmRmLXN5bnRheC1ucyMiPjxyZGY6bGk+TWhvb01oZWU8L3JkZjpsaT48L3JkZjpTZXE+DQoJCQk8L2RjOmNyZWF0b3I+PC9yZGY6RGVzY3JpcHRpb24+PC9yZGY6UkRGPjwveDp4bXBtZXRhPg0KICAgICAgICAgICAgICAgICAgICAgICAgICAgICAgICAgICAgICAgICAgICAgICAgICAgICAgICAgICAgICAgICAgICAgICAgICAgICAgICAgICAgICAgICAgICAgICAgICAgIAogICAgICAgICAgICAgICAgICAgICAgICAgICAgICAgICAgICAgICAgICAgICAgICAgICAgICAgICAgICAgICAgICAgICAgICAgICAgICAgICAgICAgICAgICAgICAgICAgICAgCiAgICAgICAgICAgICAgICAgICAgICAgICAgICAgICAgICAgICAgICAgICAgICAgICAgICAgIDw/eHBhY2tldCBlbmQ9J3cnPz7/2wBDAAcFBQYFBAcGBQYIBwcIChELCgkJChUPEAwRGBUaGRgVGBcbHichGx0lHRcYIi4iJSgpKywrGiAvMy8qMicqKyr/2wBDAQcICAoJChQLCxQqHBgcKioqKioqKioqKioqKioqKioqKioqKioqKioqKioqKioqKioqKioqKioqKioqKioqKir/wAARCAGuAlQDASIAAhEBAxEB/8QAHwAAAQUBAQEBAQEAAAAAAAAAAAECAwQFBgcICQoL/8QAtRAAAgEDAwIEAwUFBAQAAAF9AQIDAAQRBRIhMUEGE1FhByJxFDKBkaEII0KxwRVS0fAkM2JyggkKFhcYGRolJicoKSo0NTY3ODk6Q0RFRkdISUpTVFVWV1hZWmNkZWZnaGlqc3R1dnd4eXqDhIWGh4iJipKTlJWWl5iZmqKjpKWmp6ipqrKztLW2t7i5usLDxMXGx8jJytLT1NXW19jZ2uHi4+Tl5ufo6erx8vP09fb3+Pn6/8QAHwEAAwEBAQEBAQEBAQAAAAAAAAECAwQFBgcICQoL/8QAtREAAgECBAQDBAcFBAQAAQJ3AAECAxEEBSExBhJBUQdhcRMiMoEIFEKRobHBCSMzUvAVYnLRChYkNOEl8RcYGRomJygpKjU2Nzg5OkNERUZHSElKU1RVVldYWVpjZGVmZ2hpanN0dXZ3eHl6goOEhYaHiImKkpOUlZaXmJmaoqOkpaanqKmqsrO0tba3uLm6wsPExcbHyMnK0tPU1dbX2Nna4uPk5ebn6Onq8vP09fb3+Pn6/9oADAMBAAIRAxEAPwD6RooooAKKKKACiiigAooooAKKKKACkLqpAZgCemTS1xHibQ9K174n+H7XXNNtNRt10jUJFiu4FlUMJbQBsMCM4J59zQB2vmJ/fX86PMT++v51zf8AwrXwN/0J2g/+C2H/AOJo/wCFa+Bv+hO0H/wWw/8AxNAHSeYn99fzo8xP76/nXN/8K18Df9CdoP8A4LYf/iaP+Fa+Bv8AoTtB/wDBbD/8TQB0nmJ/fX86PMT++v51zf8AwrXwN/0J2g/+C2H/AOJo/wCFa+Bv+hO0H/wWw/8AxNAHSeYn99fzo8xP76/nXN/8K18Df9CdoP8A4LYf/iaP+Fa+Bv8AoTtB/wDBbD/8TQB0nmJ/fX86PMT++v51zf8AwrXwN/0J2g/+C2H/AOJo/wCFa+Bv+hO0H/wWw/8AxNAHSeYn99fzo8xP76/nXN/8K18Df9CdoP8A4LYf/iaP+Fa+Bv8AoTtB/wDBbD/8TQB0nmJ/fX86PMT++v51zf8AwrXwN/0J2g/+C2H/AOJo/wCFa+Bv+hO0H/wWw/8AxNAHSeYn99fzo8xP76/nXN/8K18Df9CdoP8A4LYf/iaP+Fa+Bv8AoTtB/wDBbD/8TQB0nmJ/fX86PMT++v51zf8AwrXwN/0J2g/+C2H/AOJo/wCFa+Bv+hO0H/wWw/8AxNAHSeYn99fzo8xP76/nXN/8K18Df9CdoP8A4LYf/iaP+Fa+Bv8AoTtB/wDBbD/8TQB0nmJ/fX86PMT++v51zf8AwrXwN/0J2g/+C2H/AOJo/wCFa+Bv+hO0H/wWw/8AxNAHSeYn99fzo8xP76/nXN/8K18Df9CdoP8A4LYf/iaP+Fa+Bv8AoTtB/wDBbD/8TQB0nmJ/fX86PMT++v51zf8AwrXwN/0J2g/+C2H/AOJo/wCFa+Bv+hO0H/wWw/8AxNAHSeYn99fzo8xP76/nXN/8K18Df9CdoP8A4LYf/iaP+Fa+Bv8AoTtB/wDBbD/8TQB0nmJ/fX86PMT++v51zf8AwrXwN/0J2g/+C2H/AOJo/wCFa+Bv+hO0H/wWw/8AxNAHSeYn99fzo8xP76/nXN/8K18Df9CdoP8A4LYf/iaP+Fa+Bv8AoTtB/wDBbD/8TQB0nmJ/fX86PMT++v51zf8AwrXwN/0J2g/+C2H/AOJo/wCFa+Bv+hO0H/wWw/8AxNAHSeYn99fzo8xP76/nXN/8K18Df9CdoP8A4LYf/iaP+Fa+Bv8AoTtB/wDBbD/8TQB0nmJ/fX86PMT++v51zf8AwrXwN/0J2g/+C2H/AOJo/wCFa+Bv+hO0H/wWw/8AxNAHSeYn99fzo8xP76/nXN/8K18Df9CdoP8A4LYf/iaP+Fa+Bv8AoTtB/wDBbD/8TQB0nmJ/fX86PMT++v51zf8AwrXwN/0J2g/+C2H/AOJo/wCFa+Bv+hO0H/wWw/8AxNAHSeYn99fzo8xP76/nXN/8K18Df9CdoP8A4LYf/iaP+Fa+Bv8AoTtB/wDBbD/8TQB0nmJ/fX86PMT++v51zf8AwrXwN/0J2g/+C2H/AOJo/wCFa+Bv+hO0H/wWw/8AxNAHSeYn99fzo8xP76/nXN/8K18Df9CdoP8A4LYf/iaP+Fa+Bv8AoTtB/wDBbD/8TQB0nmJ/fX86PMT++v51zf8AwrXwN/0J2g/+C2H/AOJo/wCFa+Bv+hO0H/wWw/8AxNAHSeYn99fzo8xP76/nXN/8K18Df9CdoP8A4LYf/iaP+Fa+Bv8AoTtB/wDBbD/8TQB0nmJ/fX86PMT++v51zf8AwrXwN/0J2g/+C2H/AOJo/wCFa+Bv+hO0H/wWw/8AxNAHSeYn99fzo8xP76/nXN/8K18Df9CdoP8A4LYf/iaP+Fa+Bv8AoTtB/wDBbD/8TQB0nmJ/fX86PMT++v51zf8AwrXwN/0J2g/+C2H/AOJo/wCFa+Bv+hO0H/wWw/8AxNAHSeYn99fzo8xP76/nXN/8K18Df9CdoP8A4LYf/iaP+Fa+Bv8AoTtB/wDBbD/8TQB0nmJ/fX86UOpOAwJ9Aa5r/hWvgb/oTtB/8FsP/wATWTb+GtD8PfFrR/7B0aw0zz9Gv/N+x2yReZia0xnaBnGT+ZoA7yiiigAooooAKKKKACiiigAooooAKKKKACuXv/8AkrWg/wDYF1H/ANHWddRXL3//ACVrQf8AsC6j/wCjrOgDqKKKKACisfxZdz2PhHU7mzlMM8VuzJIoGVPrzWH8N9V1DVLDUDqd5JdNFcKqNIBlQUBxwB3q1BuDmQ5pTUOrO0oooqCwooooAKKKKACiiigAooooAKKKKACiiigAooooAKKKKACiiigAooooAKKKKACiiigAooooAKKKKACiiigAooooAKKKKACiiigAooooAKKKKACiiigAooooAKKKKACiiigAooooAKKKKACiiigArl7/AP5K1oP/AGBdR/8AR1nXUVy9/wD8la0H/sC6j/6Os6AOoooooAKKKKACorv7QLOb7CIjc+W3kiYkIXx8u4jnGcZxUtQXxuxp9ydNWFrzym+zi4YiMyYO3cQCQucZwCcUAczpmua9beNofD3iBtMu2ubCS9SXTopIjBsdF2uru2Q2/wCVgRkqwxWP4E8b6t4gv7WHXdR021uJ45HGl/2Rc20x2n+CWSQrJgYJ2qeD2q/4J0TxPo89zL4gs9JlvL0GS81OHUJZpZpB91RGYECxryAob5R6kkmT+xPE2t+IdFvPEa6TZ22jzvdIunzSTSXEhieMZLomxcSMSPmzgc0AZ0XjnXWtbfxG9vp48NXGqCwWIK/2pI2n+zrOX3bcF8HZt4U/ezRqnjnXbaDW9esrbTzoGhXjW1xDKrm5nWMqJpEcNtXaS2FKnOw8jNEXgbXVtbfw49xp/wDwjVvqgv1lDP8AanjWf7QsBTbt4fA37uVH3c0ap4G124t9b0GyuNPGga7eNc3E0rOLmBZCpmjRAu1txDYYsMbzwcUAWda8V+IjqPiA+G7fTns/Dkam5S7DmS7kMQmaONlYCPCMvzENknoAKfJ4r1vX9WFn4KTT1SLTINRmm1FHcP5+7yolCMu0kRsSxzjI4NM1rwp4iGo+IB4buNOSz8RxqLl7tnElpIIhC0kaqpEmUVflJXBHU5p8nhTW9A1YXngp9PdZdMg06aHUXdAnkbvKlUorbiBIwKnGcDkUAb/hvxFB4g8H2GvlfssV1bCeRJGH7k4+YE+xBGfauctvEuh+Ifizo/8AYGsWGp+Ro1/5v2O5SXy8zWmN20nGcHH0NdL4X0KPwz4V07RY5TOLK3WJpWGDIwHzNjtk5OPesy+UL8WtB2gD/iS6j0H/AE2s6AOpooooAwvG/wDyI+r/APXs1c78Kf8Ajw1X/r5X/wBAFdF43/5EfV/+vZq534U/8eGq/wDXyv8A6AK6Y/wJeqOaX8ePozv6KKK5jpCiiigAooooAKKKKACiiigAooooAKKKKACiiigAooooAKKKKACiiigAooooAKKKKACiiigAooooAKKKKACiiigAooooAKKKKACiiigAooooAKKKKACiiigAooooAKKKKACiiigAooooAKKKKACuXv8A/krWg/8AYF1H/wBHWddRXL3/APyVrQf+wLqP/o6zoA6iiiigAooooAKKKKACiiigAooooAKKKKACuXv/APkrWg/9gXUf/R1nXUVy9/8A8la0H/sC6j/6Os6AOoooooAwvG//ACI+r/8AXs1c78Kf+PDVf+vlf/QBXReN/wDkR9X/AOvZq534U/8AHhqv/Xyv/oArpj/Al6o5pfx4+jO/ooormOkKKKKACiiigAooooAKKKKACiiigAooooAKKKKACiiigAooooAKKKKACiiigAooooAKKKKACiiigAooooAKKKKACiiigAooooAKKKKACiiigAooooAKKKKACiiigAooooAKKKKACiiigAooooAK5e//AOStaD/2BdR/9HWddRXL3/8AyVrQf+wLqP8A6Os6AOoooooAKKKKACiiigAooooAKKKKACiiigArl7//AJK1oP8A2BdR/wDR1nXUVy9//wAla0H/ALAuo/8Ao6zoA6iiiigDynx949u4otZ0ZdPgMCkW/mmU7iDt5xjH8Va/wp/48NV/6+V/9AFef/EP/kO65/19L/7JXoHwp/48NV/6+V/9AFehUhGOHVutjzac5TxLT6XO/ooorzz0gooooAKKKKACiiigAooooAKKKKACiiigAooooAKKKKACiiigAooooAKKKKACiiigAooooAKKKKACiiigAooooAKKKKACiiigAooooAKKKKACiiigAooooAKKKKACiiigAooooAKKKKACiiigArl7/wD5K1oP/YF1H/0dZ11Fcvf/APJWtB/7Auo/+jrOgDqKKKKACiiigAooooAKKKKACiiigAooooAK5e//AOStaD/2BdR/9HWddRXL3/8AyVrQf+wLqP8A6Os6AOoooooA8A+If/Id1z/r6X/2SvQPhT/x4ar/ANfK/wDoArz/AOIf/Id1z/r6X/2SvQPhT/x4ar/18r/6AK9Ot/u6+R5VH/eZfM7+iiivMPVCiiigAooooAKKKKACiiigAooooAKKKKACiiigAooooAKKKKACiiigAooooAKKKKACiiigAooooAKKKKACiiigAooooAKKKKACiiigAooooAKKKKACiiigAooooAKKKKACiiigAooooAKKKKACuXv/APkrWg/9gXUf/R1nXUVy9/8A8la0H/sC6j/6Os6AOoooooAKKKKACmySJDE8krrHGilmdjgKB1JPYU6obwWzWM4vxEbUxsJhNjYUx827PGMZznjFAFXS9f0fW/N/sXVrHUfJOJPslykuw++0nFLba7pF7qU+nWeqWVxfW/8ArrWK4RpYu3zIDkfjXHaPH/wkniWTxVotvHZ2Frps1jphCBHv97K3mkdogUAQHruZuARnnNC/s3/hF/hZ/ZHk/wBrfao/O2Y87/j2k+17+/387s/xY74oA9UXXdIbWDpC6pZHUlXcbIXCecBjOdmd2Mc9KJtd0i21aLS7jVLKLUJhmK0e4RZXHqEJyfwFeSwfY/8AhXWmbfJ/4SX/AIStd3Tz/tX9oHzc9/8AVb85/g9qNb+x/wDCC/EH7T5P9vf23J5G7Hn+buj+x7e/Ty9uPfHegD1q913SNMvLe01LVLK0ubk4ghnuEjeU5x8qk5b8KXU9c0nRREdZ1Sy08Ttti+1XCReYfRdxGT9K821j+yftXxQ/4ST7P5v2WPy/Pxu+zfZF2bM8483zcY/i96m0L7N/wltz/wAJz5Hnf8IpYbft2MbP3v2r73+1s3f8Bz2oA9RBBGRyDXL3/wDyVrQf+wLqP/o6zqL4apdSfCfQEuZJopW09Ajt99Ux8h+YHnbt6iqFrpN5pfxZ0f7br2oax5mjX+37akC+Via0zt8qNOuec56DGOaAO8ooooA8A+If/Id1z/r6X/2SvQPhT/x4ar/18r/6AK8/+If/ACHdc/6+l/8AZK9A+FP/AB4ar/18r/6AK9Ot/u6+R5VH/eZfM7+iiivMPVCiiigAooooAKKKKACiiigAooooAKKKKACiiigAooooAKKKKACiiigAooooAKKKKACiiigAooooAKKKKACiiigAooooAKKKKACiiigAooooAKKKKACiiigAooooAKKKKACiiigAooooAKKKKACuXv8A/krWg/8AYF1H/wBHWddRXL3/APyVrQf+wLqP/o6zoA6iiiigAooooAKjubaC8tZbW8hjnt5kMcsUqBkkUjBVgeCCDgg1JRQBj6Z4P8NaJefa9G8O6Vp9ztKedaWMcT7T1G5VBxVm20LSLLU59Rs9Lsre+uP9ddRW6LLL3+ZwMn8TV+igCguhaQusHV10uyGpMu03ot084jGMb8bsY460TaFpFzq0WqXGl2UuoQjEV29ujSoPQORkfgav0UAUL7QtI1O8t7vUtLsru5tjmCa4t0keI5z8rEZX8KXU9D0nWhENZ0uy1AQNui+1W6S+WfVdwOD9KvUUAAAAAAwB0Fcvf/8AJWtB/wCwLqP/AKOs66iuXv8A/krWg/8AYF1H/wBHWdAHUUUUUAeAfEP/AJDuuf8AX0v/ALJXoHwp/wCPDVf+vlf/AEAV5/8AEP8A5Duuf9fS/wDslegfCn/jw1X/AK+V/wDQBXp1v93XyPKo/wC8y+Z39FFFeYeqFFFFABRRRQAUUUUAFFFFABRRRQAUUUUAFFFFABRRRQAUUUUAFFFFABRRRQAUUUUAFFFFABRRRQAUUUUAFFFFABRRRQAUUUUAFFFFABRRRQAUUUUAFFFFABRRRQAUUUUAFFFFABRRRQAUUUUAFcvf/wDJWtB/7Auo/wDo6zrqK5e//wCStaD/ANgXUf8A0dZ0AdRRRRQAUUUUAFFFFABRRRQAUUUUAFFFFABXL3//ACVrQf8AsC6j/wCjrOuorl7/AP5K1oP/AGBdR/8AR1nQB1FFFFAHgHxD/wCQ7rn/AF9L/wCyV6B8Kf8Ajw1X/r5X/wBAFef/ABD/AOQ7rn/X0v8A7JXoHwp/48NV/wCvlf8A0AV6db/d18jyqP8AvMvmd/RRRXmHqhRRRQAUUUUAFFFFABRRRQAUUUUAFFFFABRRRQAUUUUAFFFFABRRRQAUUUUAFFFFABRRRQAUUUUAFFFFABRRRQAUUUUAFFFFABRRRQAUUUUAFFFFABRRRQAUUUUAFFFFABRRRQAUUUUAFFFFABXL3/8AyVrQf+wLqP8A6Os66iuXv/8AkrWg/wDYF1H/ANHWdAHUUUUUAFFFFABRRRQAUUUUAFFFFABRRRQAVy9//wAla0H/ALAuo/8Ao6zrqK5e/wD+StaD/wBgXUf/AEdZ0AdRRRRQB4B8Q/8AkO65/wBfS/8AslegfCn/AI8NV/6+V/8AQBXn/wAQ/wDkO65/19L/AOyV6B8Kf+PDVf8Ar5X/ANAFenW/3dfI8qj/ALzL5nf0UUV5h6oUUUUAFFFFABRRRQAUUUUAFFFFABRRRQAUUUUAFFFFABRRRQAUUUUAFFFFABRRRQAUUUUAFFFFABRRRQAUUUUAFFFFABRRRQAUUUUAFFFFABRRRQAUUUUAFFFFABRRRQAUUUUAFFFFABRRRQAVy9//AMla0H/sC6j/AOjrOuorl7//AJK1oP8A2BdR/wDR1nQB1FFFFABRRUctxDBJCk00cbzv5cSuwBkbaW2r6nCscDsCe1AElFRm4hW6S2aaMTyI0iRFhuZVIDMB1IBZQT23D1p0vmeS/k7fM2nZv6Z7Z9qAHUVxOk+JvEDWvi+HV49Plv8AQWxB9jhkWOQm1SYAhmJPL44xnHaofBfjS71aKaTXtW08zQ2IuptPi0m4sp4BgFm/fSNvUcjKrjOOe1AHeUVwGjeMvEMj+G9Q1y10+PSvEzBLaK3DiazZ4mliEjFiJNyoQcKuGI61Ha+Oddlt7DxDNb6ePDmoamLGOFVf7TGjzGGOZn3bTl9pKBRgN94kUAeh0V55qHjrXYLfV9ftrfTz4e0fUGs54ZFf7TMsbhJpVcNtXaxbClTkIeRmp9a8XeIheeIp/D1tpz6f4aAFzHdBzLeOIhM6RsrAR4RlAJDZY9hzQB3lcvf/APJWtB/7Auo/+jrOt621CG70mHUYd7QTQLOuELMVK7hwMknHYVxtr4hs9e+LOj/YodQi8nRr/d9t06e1zma0xt81F3dOcZxxnqKAO8ooooA8A+If/Id1z/r6X/2SvQPhT/x4ar/18r/6AK8/+If/ACHdc/6+l/8AZK9A+FP/AB4ar/18r/6AK9Ot/u6+R5VH/eZfM7+iiivMPVCiiigAooooAKKKKACiiigAooooAKKKKACiiigAooooAKKKKACiiigAooooAKKKKACiiigAooooAKKKKACiiigAooooAKKKKACiiigAooooAKKKKACiiigAooooAKKKKACiiigAooooAKKKKACuXv8A/krWg/8AYF1H/wBHWddRXL3/APyVrQf+wLqP/o6zoA6iiiigArgfiTpUL3OkaxdeJNc077LdKltZaVBHM88xjlUeWpjY+YVdsk5Xap4B+Yd9XH/EkQpolhcS642hS22oJLBeJYtdsrhHG0IOmVLAk8YyO9AGf4IgSXxNJd3Q8YXN5HZvFFceILeOOOONnQsibFUbmKoeQThPau/fdsbYAWx8oJwCa4LwL4m/tjxBcWZ8aLrrxWxka0GjtaGP5lAcsfxGO+c9q76gDhNA0nxtp+v+IdQu7PQE/td1uEEV/NJ5UiW6RIpBhXKkxgk5BAPANWYfDmt614oh1bxWunW0VrY3FnDa6fM8xk84pvZ5HROAIxhQvUk5rsqKAOA0bwd4hjfw3p+uXOnyaV4ZYPbS27OZrxkiaKIyKVAj2q5JwzZYDpUdr4G12K2sPD01xp58OafqYvo5lZ/tMiJMZo4WTbtGH2guGOQv3QTXodFAHnmoeBtdnt9X0C2uNPHh7WNQa8nmkZ/tMKyOHmiVAu1tzBsMWGA/Q4qfWvCXiI3niKDw9c6clh4lANzJdM4ls3MQhd41VSJMoqkAlcMO44rvKKAILGzi07TraytwRDbRLFGD12qAB+grnr//AJK1oP8A2BdR/wDR1nXUVy9//wAla0H/ALAuo/8Ao6zoA6iiiigDwD4h/wDId1z/AK+l/wDZK9A+FP8Ax4ar/wBfK/8AoArz/wCIf/Id1z/r6X/2SvQPhT/x4ar/ANfK/wDoAr063+7r5HlUf95l8zv6KKK8w9UKKKKACiiigAooooAKKKKACiiigAooooAKKKKACiiigAooooAKKKKACiiigAooooAKKKKACiiigAooooAKKKKACiiigAooooAKKKKACiiigAooooAKKKKACiiigAooooAKKKKACiiigAooooAK5e//AOStaD/2BdR/9HWddRXL3/8AyVrQf+wLqP8A6Os6AOoooooAKxPFmo32k6E19p95pNl5Lgzz6u7JCseD3UjnO3H41t1yXjS3bV7rTbHS2tbjV9NuF1ZLG7DCKeNQ0eHcKQhzJlSQfmQHBwcAGd4IvZPE/iOXxBP4h0PUWtbRrIW+i7iFDur7pCzE5+TCjAAy3rXfVw2hDUb74lSahr1nZaTexaUYo7K3nad542lUmR5NiqQpTAUZI3knG4Z7mgAooooAKKKKACiiigArl7//AJK1oP8A2BdR/wDR1nXUVy9//wAla0H/ALAuo/8Ao6zoA6iiiigDwD4h/wDId1z/AK+l/wDZK9A+FP8Ax4ar/wBfK/8AoArz/wCIf/Id1z/r6X/2SvQPhT/x4ar/ANfK/wDoAr063+7r5HlUf95l8zv6KKK8w9UKKKKACiiigAooooAKKKKACiiigAooooAKKKKACiiigAooooAKKKKACiiigAooooAKKKKACiiigAooooAKKKKACiiigAooooAKKKKACiiigAooooAKKKKACiiigAooooAKKKKACiiigAooooAK5e//AOStaD/2BdR/9HWddRXL3/8AyVrQf+wLqP8A6Os6AOoooooAK4/X4td0XxcPEWh6SdbgubJLK7s4p0imj8t3dJE3kKw/eOCuQfukZ6V2FFAHH6BFruteLj4i1zSTokFtZPZWlnLOks0nmOjvI+wlVH7tAFyT94nHSuwoooAKKKKACiiigAooooAK5e//AOStaD/2BdR/9HWddRXL3/8AyVrQf+wLqP8A6Os6AOoooooA8A+If/Id1z/r6X/2SvQPhT/x4ar/ANfK/wDoArz/AOIf/Id1z/r6X/2SvQPhT/x4ar/18r/6AK9Ot/u6+R5VH/eZfM7+iiivMPVCiiigAooooAKKKKACiiigAooooAKKKKACiiigAooooAKKKKACiiigAooooAKKKKACiiigAooooAKKKKACiiigAooooAKKKKACiiigAooooAKKKKACiiigAooooAKKKKACiiigAooooAKKKKACuXv/APkrWg/9gXUf/R1nXUVy9/8A8la0H/sC6j/6Os6AOoooooAKKKKACiimyyJDC8sh2oilmPoB1oAdRWNoni3RfENveT6VeF47F9ly00MkPlnaH58xV42kHPTBqPQ/Geg+JLprbR74zTLF5yo8EkXmR5x5ib1G9M4+Zcjkc80AbtFYGl+N/Dus6qNO03URNcNv8vMMipPsOH8uRlCyY77CcUReN/Ds+vf2PFqIN55zW4/cyCNpVGWjEu3YXGDlQ2eDxQBv0VgXPjfw7Z65/ZFxqIS7EqQt+5kMaSPjbG0oXYrnIwpYE5HHNGr+N/D2hal9g1TURDOqq8mIZHSBWOFMrqpWMEjguRQBv1y9/wD8la0H/sC6j/6Os66iuXv/APkrWg/9gXUf/R1nQB1FFFFAHgHxD/5Duuf9fS/+yV6B8Kf+PDVf+vlf/QBXn/xD/wCQ7rn/AF9L/wCyV6B8Kf8Ajw1X/r5X/wBAFenW/wB3XyPKo/7zL5nf0UUV5h6oUUUUAFFFFABRRRQAUUUUAFFFFABRRRQAUUUUAFFFFABRRRQAUUUUAFFFFABRRRQAUUUUAFFFFABRRRQAUUUUAFFFFABRRRQAUUUUAFFFFABRRRQAUUUUAFFFFABRRRQAUUUUAFFFFABRRRQAVy9//wAla0H/ALAuo/8Ao6zrqK5e/wD+StaD/wBgXUf/AEdZ0AdRRRRQAUUUUAFI7rGjO5CqoySewpaKAPGG13SvFA+KOl+G9Ys73UNWj/0CG3nVmuQNPiQ7MHn5gVyO+a1jqll4z8TaAPCEwkbT9JvBcuilfsfmRokcT/3X3DOzqPLJxXqNFAHkGhajZatYfDjQtJBGraJLG+o2wQh7BYrSSKUSf3cuwUZ+9nIzVaxu4H8IaD4NQn/hJrPxBE89ptPmQiO8Msk5H9wxhmD9DvAzk17RRQB4vq93BD4T8XeEJSR4j1LW53s7TafMnE06vDMvqqqVy3RfLOcYq/ruqWOhy/EXS9az9v1ob9OgKEvfo9mkKRxD+Mh1ZSB0zk8HNes0UAZ2kWdzb+GLGyupWS6js44pJVwSrhACRnIJzzzmuUtdJvNL+LOj/bde1DWPM0a/2/bUgXysTWmdvlRp1zznPQYxzXeVy9//AMla0H/sC6j/AOjrOgDqKKKKAPAPiH/yHdc/6+l/9kr0D4U/8eGq/wDXyv8A6AK8/wDiH/yHdc/6+l/9kr0D4U/8eGq/9fK/+gCvTrf7uvkeVR/3mXzO/ooorzD1QooooAKKKKACiiigAooooAKKKKACiiigAooooAKKKKACiiigAooooAKKKKACiiigAooooAKKKKACiiigAooooAKKKKACiiigAooooAKKKKACiiigAooooAKKKKACiiigAooooAKKKKACiiigArl7/wD5K1oP/YF1H/0dZ11Fcvf/APJWtB/7Auo/+jrOgDqKKKKACiiigAooooAKKKKACiiigAooooAK5e//AOStaD/2BdR/9HWddRXL3/8AyVrQf+wLqP8A6Os6AOoooooA8A+If/Id1z/r6X/2SvQPhT/x4ar/ANfK/wDoArz/AOIf/Id1z/r6X/2SvQPhT/x4ar/18r/6AK9Ot/u6+R5VH/eZfM7+iiivMPVCiiigAooooAKKKKACiiigAooooAKKKKACiiigAooooAKKKKACiiigAooooAKKKKACiiigAooooAKKKKACiiigAooooAKKKKACiiigAooooAKKKKACiiigAooooAKKKKACiiigAooooAKKKKACuXv/APkrWg/9gXUf/R1nXUVy9/8A8la0H/sC6j/6Os6AOoooooAKKKKACiiigAooooAKKKKACiiigArl7/8A5K1oP/YF1H/0dZ11Fcvf/wDJWtB/7Auo/wDo6zoA6iiiigDwD4h/8h3XP+vpf/ZK9A+FP/Hhqv8A18r/AOgCvP8A4h/8h3XP+vpf/ZK9A+FP/Hhqv/Xyv/oAr063+7r5HlUf95l8zv6KKK8w9UKKKKACiiigAooooAKKKKACiiigAooooAKKKKACiiigAooooAKKKKACiiigAooooAKKKKACiiigAooooAKKKKACiiigAooooAKKKKACiiigAooooAKKKKACiiigAooooAKKKKACiiigAooooAK5e/8A+StaD/2BdR/9HWddRXL3/wDyVrQf+wLqP/o6zoA6iiiigAooooAKKKKACiiigAooooAKKKKACuXv/wDkrWg/9gXUf/R1nXUVy9//AMla0H/sC6j/AOjrOgDqKKKKAPAPiH/yHdc/6+l/9kr0D4U/8eGq/wDXyv8A6AK8/wDiH/yHdc/6+l/9kr0D4U/8eGq/9fK/+gCvTrf7uvkeVR/3mXzO/ooorzD1QooooAKKKKACiiigAooooAKKKKACiiigAooooAKKKKACiiigAooooAKKKKACiiigAooooAKKKKACiiigAooooAKKKKACiiigAooooAKKKKACiiigAooooAKKKKACiiigAooooAKKKKACiiigArl7/wD5K1oP/YF1H/0dZ11Fcvf/APJWtB/7Auo/+jrOgDqKKKKACiiigAooooAq6o1ymj3jWGftSwOYcAE79p28HrzivL7Pxpq/hnw7f3Xim81x9bt9FkvI9P1W1tI4JpEC7zE8CAkBiAVZshWzjuPVbuOaWzmjtZ/s87xsscxQP5bEcNtPXB5x3rj7nwDca/cSS+NNYTVF+wz2MMNpZ/ZUjWYASPy7kvhQAc4HPFAFX+19e8H67aW3iLVzrdvfabdXTZt44WgmgVHZU2AZRlZsBskFRyc1Bo2teJbKXwjqWtast9beJmEc1mLZESzkeB54/KZQGIGwqd5bOc8dK2NM8F3n9qRX3inWhrbWtlJZWqC0ECqkm3zGfDNvdgigkbRjOBzUWi+A7vT73RxqWutqOn6CrDTLY2ojdDsMatK+4+YVjZlBCr1ycmgDD0/xP4ifSdD8XXGqCTT9X1SO1bSfs8YSGCaYxRMrgby4JRiSSDlgAOKL3xP4iXSNX8YQaoE0/S9VktV0n7PGY5reKfyZGZyN4kOHYEEAcAg81sWfw8mtp7Gzk1sy+H9Ovvt9pp32UCRXDF0Rpt3zIjNkDaDwuScUXXw8muJ7yzTWzH4fv7/+0LnTfsoMjSFxI6LNu+WNnG4jaTyQCAaAO1lkEMLyOGKopYhVLHA9AOSfYVwtr4hs9e+LOj/YodQi8nRr/d9t06e1zma0xt81F3dOcZxxnqK7yuXv/wDkrWg/9gXUf/R1nQB1FFFFAHgHxD/5Duuf9fS/+yV6B8Kf+PDVf+vlf/QBXn/xD/5Duuf9fS/+yV6B8Kf+PDVf+vlf/QBXp1v93XyPKo/7zL5nf0UUV5h6oUUUUAFFFFABRRRQAUUUUAFFFFABRRRQAUUUUAFFFFABRRRQAUUUUAFFFFABRRRQAUUUUAFFFFABRRRQAUUUUAFFFFABRRRQAUUUUAFFFFABRRRQAUUUUAFFFFABRRRQAUUUUAFFFFABRRRQAVy9/wD8la0H/sC6j/6Os66iuXv/APkrWg/9gXUf/R1nQB1FFFFABRRRQAUUUUAFFFFABRRRQAUUUUAFcvf/APJWtB/7Auo/+jrOuorl7/8A5K1oP/YF1H/0dZ0AdRRRRQB4B8Q/+Q7rn/X0v/slLoni7WNAk1SHS5LdIwyyESQ7yTs9cj0pPiH/AMh3XP8Ar6X/ANkrGT/j81X/AHV/9Ar3IRjOnFS7L9TwZzlCrJx7v80fSdrK09nDK+N0kascepGalqvp/wDyDLX/AK4p/IVYrwz3gooooAKKKKACiiigAooooAKKKKACiiigAooooAKKKKACiiigAooooAKKKKACiiigAooooAKKKKACiiigAooooAKKKKACiiigAooooAKKKKACiiigAooooAKKKKACiiigAooooAKKKKACiiigArl7/wD5K1oP/YF1H/0dZ11Fcvf/APJWtB/7Auo/+jrOgDqKKKKACiiigAooooAKKKKACiiigAooooAK5e//AOStaD/2BdR/9HWddRXL3/8AyVrQf+wLqP8A6Os6AOoooooA8A+If/Id1z/r6X/2SsZP+PzVf91f/QK2fiH/AMh3XP8Ar6X/ANkrGT/j81X/AHV/9Ar3qXwR9F+TPn638SXq/wA0fSGn/wDIMtf+uKfyFWKr6f8A8gy1/wCuKfyFWK8E+gCiiigAooooAKKKKACiiigAooooAKKKKACiiigAooooAKKKKACiiigAooooAKKKKACiiigAooooAKKKKACiiigAooooAKKKKACiiigAooooAKKKKACiiigAooooAKKKKACiiigAooooAKKKKACuXv8A/krWg/8AYF1H/wBHWddRXL3/APyVrQf+wLqP/o6zoA6iiiigAooooAKKKKACiiigAooooAKKKKACuXv/APkrWg/9gXUf/R1nXUVy9/8A8la0H/sC6j/6Os6AOoooooA8A+If/Id1z/r6X/2SsZP+PzVf91f/AECtn4h/8h3XP+vpf/ZKxk/4/NV/3V/9Ar3qXwR9F+TPn638SXq/zR9Iaf8A8gy1/wCuKfyFWKr6f/yDLX/rin8hVivBPoAooooAKKKKACiiigAooooAKKKKACiiigAooooAKKKKACiiigAooooAKKKKACiiigAooooAKKKKACiiigAooooAKKKKACiiigAooooAKKKKACiiigAooooAKKKKACiiigAooooAKKKKACiiigArl7//AJK1oP8A2BdR/wDR1nXUVy9//wAla0H/ALAuo/8Ao6zoA6iiiigAooooAKKKKACiiigAooooAKxtd8W6L4bkhj1e7aOWZWdIooJJnKLjc5WNWIUZGWIwM9a2a4HVtYsPC3xWuNV8R3K2VjeaLFBa3UwITzI5pWkjB/vESIQOrY4zigDubS7t7+zhu7KZJ7edBJFLG2VdSMgg9wRXOX//ACVrQf8AsC6j/wCjrOovhvYXVp8MdLtblJbKZoXdEKgPAruzIMEEAqrKMEcYxioZPAN/Lq9vqb+ONfN3bwSQRSeVZfKkjIzjH2fHJjTqM8cd8gHZ0Vy//CJ6z/0PviD/AL8WH/yNWT4p0XxHo3hDWNT07xvr093Z2U08ETW1kwd0QsqkC3BOSAMDmgDz74h/8h3XP+vpf/ZKw3YrLrDLwRGpH/fuvUL/AODFrrE81zqPi3xDLLcsHlIa1UM3HYQADoKgPwJ0wmUnxV4i/fDEn7y3+YYx/wA8fSvShi4RilZ6I8yeDnKTd1qyb4Y+Ir27nnh1jVGliW0iaNZ2UbTkg44HtXpasrqGQhlIyCDkGvLP+FC6V5iufE/iAsqBAS9scL6f6mrun/B1NLeFrDxx4rh8j/VqLmAqvttMOMc9K4qjhKV46HbSjOMbS1PR6K4//hBtU/6KB4n/ADtP/kej/hBtU/6KB4n/ADtP/kesjY7CiuP/AOEG1T/ooHif87T/AOR6P+EG1T/ooHif87T/AOR6AOworzi58M6/F4y07S4/HPiVrO5sbm4lmxa5WSN4FRc+RgZErnBGTtGOhrX/AOEG1T/ooHif87T/AOR6AOworj/+EG1T/ooHif8AO0/+R6P+EG1T/ooHif8AO0/+R6AOworj/wDhBtU/6KB4n/O0/wDkej/hBtU/6KB4n/O0/wDkegDsKK4//hBtU/6KB4n/ADtP/kej/hBtU/6KB4n/ADtP/kegDsKK45vA+qBSR8QPE+QPW0/+MVleFvDGvaz4Q0fU9R8deJYLu8soZ54lFqoR3QMygGAkYJIweaAPRqK4/wD4QbVP+igeJ/ztP/kej/hBtU/6KB4n/O0/+R6AOworj/8AhBtU/wCigeJ/ztP/AJHo/wCEG1T/AKKB4n/O0/8AkegDsKK4/wD4QbVP+igeJ/ztP/kej/hBtU/6KB4n/O0/+R6AOworj/8AhBtU/wCigeJ/ztP/AJHrI1nwzr9hquhW9r458SyRX981vcsRany4xbzSBgRBx80aDJyOcdSKAPR6K4//AIQbVP8AooHif87T/wCR6P8AhBtU/wCigeJ/ztP/AJHoA7CiuP8A+EG1T/ooHif87T/5Ho/4QbVP+igeJ/ztP/kegDsKK4//AIQbVP8AooHif87T/wCR6P8AhBtU/wCigeJ/ztP/AJHoA7CiuP8A+EG1T/ooHif87T/5Ho/4QbVP+igeJ/ztP/kegDsKK840bwzr9/quu291458SxxWF8tvbMBajzIzbwyFiTBz80jjIwOMdQa1/+EG1T/ooHif87T/5HoA7CiuP/wCEG1T/AKKB4n/O0/8Akej/AIQbVP8AooHif87T/wCR6AOworj/APhBtU/6KB4n/O0/+R6P+EG1T/ooHif87T/5HoA7CiuP/wCEG1T/AKKB4n/O0/8Akej/AIQbVP8AooHif87T/wCR6AOworznxT4Y17RvCGsanp3jrxLPd2dlNPBEwtWDuiFlUgQAnJAGBzWqvgfVCoJ+IHifJHraf/GKAOxorj/+EG1T/ooHif8AO0/+R6P+EG1T/ooHif8AO0/+R6AOworj/wDhBtU/6KB4n/O0/wDkej/hBtU/6KB4n/O0/wDkegDsKK4//hBtU/6KB4n/ADtP/kej/hBtU/6KB4n/ADtP/kegDsKK4/8A4QbVP+igeJ/ztP8A5HrIufDOvxeMtO0uPxz4lazubG5uJZsWuVkjeBUXPkYGRK5wRk7RjoaAPR6K4/8A4QbVP+igeJ/ztP8A5Ho/4QbVP+igeJ/ztP8A5HoA7CiuP/4QbVP+igeJ/wA7T/5Ho/4QbVP+igeJ/wA7T/5HoA7CiuSi8F6tE25fH/iQnGPnWzYfkbepf+ET1n/offEH/fiw/wDkagDqK5e//wCStaD/ANgXUf8A0dZ0f8InrP8A0PviD/vxYf8AyNUmmeEZbLxFDrOoeItU1e4gtZbWJLxLdVRZGjZiPKiQk5iXqTQB0lFFFABRRRQAUUUUAFFFFABRRRQAUUUUAFFFFABWNr/iW30B7OBrS7v72+dktrKyRWll2jcx+ZlUKB1JIHI7kVs1x3itbjTfGnh/xGLG7vbK0gu7S5WzgaeSLzfKZXEagswzFtOAT8w7ZoA39A1208RaUL6xEqKJHhlhnTZJDIjFXR17MCCP5ZFaVcr4AsruDTdUvr61ls21XVbi+itp12yRxsQqbh/CxCBiO27B5rqqACiiigAooooAKwNH8XQav4kvtEOmajY3VnAlwTeRIiyxs7oGTDE4zG3UCt+vOYNXFz8YNRf+zNcitrrSoNNS6bSLhYvNSect85TaFAdTuztOetAG3pnxD0vVNRs4IrPUIbTUJXhsNRmhVbe8dQxIQhiwyFYgsqhgDjNA+IelnVhbfY9Q+xG+/s4ar5K/ZTc7tnl7t277/wAm7bt3cZrktFtdTutG8FeFJdFv7W78P3cL39zLbsluqW8bKGSU/LJvO3AUk4Y5ximCx1P/AIRNPAf9j6h9tGtiU3v2dvs32YX32nzvO+7nZxtzu3du9AHrdFFFABRRRQAVla1rcukGBbfRtS1WSbd8thGh2BccszuqjrwM5ODjpWrXKePPEuo6FZWtto2n3091qDtH9st9Pmu47FQBukdYlYk8/Kv8R6kAGgCVvHulf8I3a6vDDeTm7ujZQWKQ4uXuAzK0WwkAMpR85IACk5xSL4+0r/hH7zU7iG8tpLG5WznsJYR9pWdioSIKpIZm3ptIJBDA561zcmnQ6do/hPVdAsNWvLPRdSmmu4p7OVLuUTRSpJOYnVXZt8u84XkE4Haqd3pWq6n/AGt4pt9JvVjbXrC/gsJYjHcTwWyIjt5bYIY/OVU4J2j1FAHe6B4nt9emvLX7HeadfWJQXFleoqyIHBKN8jMpU4OCGPQjqK2q43wz9o1fx5rPiT7DeWNjJZWthbi9t2gkmMbSu7+W4DADzQoJAzg9q7KgAooooAKKKKAOa1HxpHpF/wCXqWi6tb2P2hLb+02jjNuHdgik4cuFLMBuKY5qFviHpaaq1sbPUDZLfDT21UQr9lW43bfLLbt33zs3bdu7jNc942H9uapCNI03xFJrVnewiGOaCcac3lzAmRw/7hht3EMPn+7jkCqEljqY8KT+Axo+oG9k1tpVvfs7fZvs7Xv2nzjN93IQ4253bhjHegDsNV+IemaTqN5BLZ6hPa6dIkeoajBCrW9mzAEByWDHAZSdqttBGcV1deUa1banZ6R438LxaLqF3deIbmZ9PuIbdnt2W4iRCXlHyx7CGyGI4AxnNep20P2e1ih3FvLQJuPfAxmgCSiiigAooooAK5hPiBoj67q+ms00a6PatdXV46DyNiEhwrZyxUgg8YBBGcgitrWbW9vdDvLXS70WF5NCyQ3Rj3+SxGA+3IzjrXkGp+AvFst9qeiwvprWr+FXsopLbT5oo3be5SPzHlYCQuQzMScgnjJ3UAej6L44stYv1s59P1HSZpLU3luNRiWP7RCCAzqVZsY3LlWww3DIqLRfiBputahZW0djqNrFqSO+m3d1CqRXyqNxMZDFh8vzAOFJAJGawbhb3x54isJYNK1HSYbHSbyG4kv7ZoNs1wqIsabh8+3axLLleBgnNV9GXUdXPgbSJNE1Cwl8OssuozXFu0cSNHavAEjkPyybmfIKEjaMnHSgD1CiiigAooooAK53WfFw0rxBBo1romp6tezWrXe2y8gBIw4QkmWVO7DgZroq4nxvb+GbnUEXxD4W1DWLkWxEE1rpss+0En5FkQYjbIzkleoOaANDVfG8Gl3MNoNH1W9vmtBez2lnFG8lrETjMnzhc5DABSxJU4BxS3njrTYrfS30u2vNal1a3N1aW+nxqzvCApMh3soVRvUckHJAAJrjvDR1/wAFXaX/AIn0zVNUn1DQ7OF3s4GupEuIDLmKQpnBKyr85+UkNk0aBpOpeA5PDF/qmm3l3FHoT6fdrp9u1y9rMZVlA2ICxX7y7gCAVGeDmgD0fQ9as/EOi2+qaazNbzg4DoVZWBKsrA9GDAgj1Bq/XMfD3TrzT/CpbUrd7S4vr67vjbPjdAs07yKhx3CsMjsc109ABRRRQAUyWWOCF5pnWOONSzuxwFA5JJ9KfWX4o0yXWvCGsaVbOEmvrGe2jYnAVnjZQfzNAFXQvFQ8QTI1rouqw2MsfmQahcxIkU68YKjf5gyDkbkGRVLTPiHpeqajZwRWeoQ2moSvDYajNCq2946hiQhDFhkKxBZVDAHGa47wfoRj1fw+mj6HqmjT29jLDr9xdQvGs7GIKAXbiZvM+YOuQADyM4qTRbXU7rRvBXhSXRb+1u/D93C9/cy27JbqlvGyhklPyybztwFJOGOcYoA60fEPSzqwtvseofYjff2cNV8lfspud2zy927d9/5N23bu4zXV15ILHU/+ETTwH/Y+ofbRrYlN79nb7N9mF99p87zvu52cbc7t3bvXrdABRRRQAUUUUAFFFFABRRRQAUUUUAFFFFABRRRQAUUUUAFFFFABRRRQAUUUUAFFFFABRRRQAUUUUAFFFFABRRRQAUUUUAFFFFABRRRQAUUUUAFFFFABRRRQAUUUUAFFFFABRXJ+K9e1yx8TeH9F8PpYb9W+0+ZNeo7CERIrBgFYbupGMjPHIrn4fHPiq98QWPh22t9Ji1L7Ve2l9cyRyNCphSGRJEQODhlmGUJzk/e45APTKK85bxbfaXPr0Ftp2mvqr65a6ZDJHG0Uc80ltCxlmOSSFBbpztVV96veIvFGu+ENBtjq76feajqF+tpayWdjcGNAUZyzQqzyNgI3CnnjpyQAdxRXJ+CPE+oa++pW+qWzBrJ4/LvF0+4s47lXBPEc43AqVIPLDkHPOK6ygAooooAKKKKACiiigAooooAKKKKACiiigAooooAKKKKACiiigAooooAKKKKACiiigAooooAKKKKACiiigAooooAKKKKACiiigAooooAKKKKACiiigAooooAKKKKACiiigAooooAKKKKACiiigAooooAKKKKACiiigAooooAKKKKACiiigAooooAKKKKAOO8X+F7zX/GHhq6tpbq1g08XbSXtpKiSW7OiBCA2Q2cMMFWGOoq1pXgPTNI1Cxv4bi8mu7RrmRpp5FZrmSfZ5jyfKMnEagbdoAGMdK6eigDm7vwNpV7Hq6zyXW7VL2K+aRJQr280aRojxMBlSPKU855z2OKJvBcN7o/2HVNY1W/ljuFure+mljWe2kUYVoyiKowM9VOdxBzmukooAzNG0eXSY5RcaxqGqySkEyXzxkrjsojRVH5c1p0UUAFFFFABRRRQAUUUUAFFFFABRRRQAUUUUAFFFFABRRRQAUUUUAFFFFABRRRQAUUUUAFFFFABRRRQAUUUUAf/2Q==)"
      ]
    },
    {
      "cell_type": "markdown",
      "metadata": {
        "id": "jP_FGTQC0g56"
      },
      "source": [
        "2.3.4.2 Zoom in graph detail"
      ]
    },
    {
      "cell_type": "code",
      "execution_count": null,
      "metadata": {
        "collapsed": true,
        "id": "Vlag4Z0F0iD3"
      },
      "outputs": [],
      "source": [
        "sns.histplot(dt_pd[dt_pd['price'] < 40]['price'], bins=10)"
      ]
    },
    {
      "cell_type": "markdown",
      "metadata": {
        "id": "wjVL1opaVuLz"
      },
      "source": [
        "![Histrogram 3.JPG](data:image/jpeg;base64,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)"
      ]
    },
    {
      "cell_type": "markdown",
      "metadata": {
        "id": "8qBzLaTJ0jAG"
      },
      "source": [
        "2.3.5 Scatterplot"
      ]
    },
    {
      "cell_type": "code",
      "execution_count": null,
      "metadata": {
        "collapsed": true,
        "id": "LjARY0Sx0k9z"
      },
      "outputs": [],
      "source": [
        "sns.scatterplot(x=dt_pd.quantity, y=dt_pd.price)"
      ]
    },
    {
      "cell_type": "markdown",
      "metadata": {
        "id": "NVuHX9NlWHR_"
      },
      "source": [
        "![Scrater plot.JPG](data:image/jpeg;base64,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)"
      ]
    },
    {
      "cell_type": "markdown",
      "metadata": {
        "id": "a07FmB_m0nR3"
      },
      "source": [
        "2.3.6 interactive chart with Plotly"
      ]
    },
    {
      "cell_type": "code",
      "execution_count": null,
      "metadata": {
        "collapsed": true,
        "id": "jtUc_Sbl0oTH"
      },
      "outputs": [],
      "source": [
        "import plotly.express as px\n",
        "fig = px.scatter(dt_pd, 'customer_id', 'price')\n",
        "fig.show()"
      ]
    },
    {
      "cell_type": "markdown",
      "metadata": {
        "id": "vC0E9pvLWuCb"
      },
      "source": [
        "![plotly.JPG](data:image/jpeg;base64,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)"
      ]
    },
    {
      "cell_type": "markdown",
      "metadata": {
        "id": "Qg13rvJA0q83"
      },
      "source": [
        "2.3.7 Data Visualization & EDA data with PyGWalker"
      ]
    },
    {
      "cell_type": "code",
      "execution_count": null,
      "metadata": {
        "collapsed": true,
        "id": "ianMhEDf0sV7"
      },
      "outputs": [],
      "source": [
        "!pip install pygwalker\n",
        "import pygwalker as pyg\n",
        "pyg.walk(dt.toPandas())"
      ]
    },
    {
      "cell_type": "markdown",
      "metadata": {
        "id": "o3PcRj_zYC-3"
      },
      "source": [
        "![py.JPG](data:image/jpeg;base64,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)"
      ]
    },
    {
      "cell_type": "markdown",
      "metadata": {
        "id": "HPEnpdgb0tfr"
      },
      "source": [
        "**2.4 Data Cleansing with PySpark**\n",
        "\n",
        "2.4.1 Data type\n",
        "\n",
        "One of the most common problems encountered with data is that the Data Type does not match what we want.\n",
        "\n",
        "2.4.1.1 Show data"
      ]
    },
    {
      "cell_type": "code",
      "execution_count": 159,
      "metadata": {
        "colab": {
          "base_uri": "https://localhost:8080/"
        },
        "id": "W3z3PKX00ynn",
        "outputId": "e9b959cf-e8df-4798-ad90-7d28468856de"
      },
      "outputs": [
        {
          "output_type": "stream",
          "name": "stdout",
          "text": [
            "+--------------+----------+----------+-----+--------+-----------+-----------------------------------+----------------+-------------+------------------+------------------+\n",
            "|transaction_id|date      |product_id|price|quantity|customer_id|product_name                       |customer_country|customer_name|total_amount      |thb_amount        |\n",
            "+--------------+----------+----------+-----+--------+-----------+-----------------------------------+----------------+-------------+------------------+------------------+\n",
            "|581482        |2024-05-10|22485     |21.47|12      |17490.0    |Set Of 2 Wooden Market Crates      |United Kingdom  |Sara Griffin |257.64            |11792.1828        |\n",
            "|581475        |2024-05-10|22596     |10.65|36      |13069.0    |Christmas Star Wish List Chalkboard|United Kingdom  |Michael Holt |383.40000000000003|17548.218000000004|\n",
            "|581475        |2024-05-10|23235     |11.53|12      |13069.0    |Storage Tin Vintage Leaf           |United Kingdom  |Michael Holt |138.35999999999999|6332.7372         |\n",
            "|581475        |2024-05-10|23272     |10.65|12      |13069.0    |Tree T-Light Holder Willie Winkie  |United Kingdom  |Michael Holt |127.80000000000001|5849.406000000001 |\n",
            "|581475        |2024-05-10|23239     |11.94|6       |13069.0    |Set Of 4 Knick Knack Tins Poppies  |United Kingdom  |Michael Holt |71.64             |3278.9628000000002|\n",
            "|581475        |2024-05-10|21705     |10.65|24      |13069.0    |Bag 500g Swirly Marbles            |United Kingdom  |Michael Holt |255.60000000000002|11698.812000000002|\n",
            "|581475        |2024-05-10|22118     |11.53|18      |13069.0    |Joy Wooden Block Letters           |United Kingdom  |Michael Holt |207.54            |9499.105800000001 |\n",
            "|581475        |2024-05-10|22119     |12.25|12      |13069.0    |Peace Wooden Block Letters         |United Kingdom  |Michael Holt |147.0             |6728.1900000000005|\n",
            "|581475        |2024-05-10|22217     |10.65|12      |13069.0    |T-Light Holder Hanging Lace        |United Kingdom  |Michael Holt |127.80000000000001|5849.406000000001 |\n",
            "|581475        |2024-05-10|22216     |10.55|24      |13069.0    |T-Light Holder White Lace          |United Kingdom  |Michael Holt |253.20000000000002|11588.964000000002|\n",
            "|581475        |2024-05-10|22380     |11.06|20      |13069.0    |Toy Tidy Spaceboy                  |United Kingdom  |Michael Holt |221.20000000000002|10124.324000000002|\n",
            "|581475        |2024-05-10|22442     |12.25|12      |13069.0    |Grow Your Own Flowers Set Of 3     |United Kingdom  |Michael Holt |147.0             |6728.1900000000005|\n",
            "|581475        |2024-05-10|22664     |11.06|20      |13069.0    |Toy Tidy Dolly Girl Design         |United Kingdom  |Michael Holt |221.20000000000002|10124.324000000002|\n",
            "|581475        |2024-05-10|22721     |12.25|12      |13069.0    |Set Of 3 Cake Tins Sketchbook      |United Kingdom  |Michael Holt |147.0             |6728.1900000000005|\n",
            "|581475        |2024-05-10|22723     |11.53|12      |13069.0    |Set Of 6 Herb Tins Sketchbook      |United Kingdom  |Michael Holt |138.35999999999999|6332.7372         |\n",
            "|581475        |2024-05-10|22785     |11.53|12      |13069.0    |Squarecushion Cover Pink Union Jack|United Kingdom  |Michael Holt |138.35999999999999|6332.7372         |\n",
            "|581475        |2024-05-10|22955     |11.06|24      |13069.0    |36 Foil Star Cake Cases            |United Kingdom  |Michael Holt |265.44            |12149.1888        |\n",
            "|581475        |2024-05-10|23141     |11.06|12      |13069.0    |Triple Wire Hook Pink Heart        |United Kingdom  |Michael Holt |132.72            |6074.5944         |\n",
            "|581475        |2024-05-10|22956     |11.06|24      |13069.0    |36 Foil Heart Cake Cases           |United Kingdom  |Michael Holt |265.44            |12149.1888        |\n",
            "|581475        |2024-05-10|22581     |10.55|48      |13069.0    |Wood Stocking Christmas Scandispot |United Kingdom  |Michael Holt |506.40000000000003|23177.928000000004|\n",
            "+--------------+----------+----------+-----+--------+-----------+-----------------------------------+----------------+-------------+------------------+------------------+\n",
            "only showing top 20 rows\n",
            "\n"
          ]
        }
      ],
      "source": [
        "dt.show(truncate=False)"
      ]
    },
    {
      "cell_type": "markdown",
      "metadata": {
        "id": "3EEenMRE05kv"
      },
      "source": [
        "2.4.1.2 Show schema"
      ]
    },
    {
      "cell_type": "code",
      "execution_count": 160,
      "metadata": {
        "colab": {
          "base_uri": "https://localhost:8080/"
        },
        "id": "Ve3eOD7m06t7",
        "outputId": "e2f6131d-3d41-404d-8925-b0562bbd39df"
      },
      "outputs": [
        {
          "output_type": "stream",
          "name": "stdout",
          "text": [
            "root\n",
            " |-- transaction_id: string (nullable = true)\n",
            " |-- date: string (nullable = true)\n",
            " |-- product_id: string (nullable = true)\n",
            " |-- price: double (nullable = true)\n",
            " |-- quantity: long (nullable = true)\n",
            " |-- customer_id: double (nullable = true)\n",
            " |-- product_name: string (nullable = true)\n",
            " |-- customer_country: string (nullable = true)\n",
            " |-- customer_name: string (nullable = true)\n",
            " |-- total_amount: double (nullable = true)\n",
            " |-- thb_amount: double (nullable = true)\n",
            "\n"
          ]
        }
      ],
      "source": [
        "dt.printSchema()"
      ]
    },
    {
      "cell_type": "markdown",
      "metadata": {
        "id": "JwNs9YP907hz"
      },
      "source": [
        "2.4.1.3 You can see that date is read as a string, but we want it to be a date and time. How do we do that? First, we need to look at what the date column looks like."
      ]
    },
    {
      "cell_type": "code",
      "execution_count": 161,
      "metadata": {
        "colab": {
          "base_uri": "https://localhost:8080/"
        },
        "id": "DTdTZkf309Aj",
        "outputId": "8ba04739-bec8-4de5-bfe9-b3b7c844c1be"
      },
      "outputs": [
        {
          "output_type": "stream",
          "name": "stdout",
          "text": [
            "+----------+\n",
            "|      date|\n",
            "+----------+\n",
            "|2024-05-10|\n",
            "|2024-05-10|\n",
            "|2024-05-10|\n",
            "|2024-05-10|\n",
            "|2024-05-10|\n",
            "|2024-05-10|\n",
            "|2024-05-10|\n",
            "|2024-05-10|\n",
            "|2024-05-10|\n",
            "|2024-05-10|\n",
            "+----------+\n",
            "only showing top 10 rows\n",
            "\n"
          ]
        }
      ],
      "source": [
        "dt.select(\"date\").show(10)"
      ]
    },
    {
      "cell_type": "markdown",
      "metadata": {
        "id": "q8YtZ0T70-yL"
      },
      "source": [
        "2.4.1.4 Convert string to datetime"
      ]
    },
    {
      "cell_type": "code",
      "execution_count": 162,
      "metadata": {
        "colab": {
          "base_uri": "https://localhost:8080/"
        },
        "id": "1u7wu28l0_7v",
        "outputId": "4415a105-a133-496d-a08b-4a9d9b546bb4"
      },
      "outputs": [
        {
          "output_type": "stream",
          "name": "stdout",
          "text": [
            "+--------------+-------------------+----------+-----+--------+-----------+--------------------+----------------+-------------+------------------+------------------+\n",
            "|transaction_id|               date|product_id|price|quantity|customer_id|        product_name|customer_country|customer_name|      total_amount|        thb_amount|\n",
            "+--------------+-------------------+----------+-----+--------+-----------+--------------------+----------------+-------------+------------------+------------------+\n",
            "|        581482|2024-05-10 00:00:00|     22485|21.47|      12|    17490.0|Set Of 2 Wooden M...|  United Kingdom| Sara Griffin|            257.64|        11792.1828|\n",
            "|        581475|2024-05-10 00:00:00|     22596|10.65|      36|    13069.0|Christmas Star Wi...|  United Kingdom| Michael Holt|383.40000000000003|17548.218000000004|\n",
            "|        581475|2024-05-10 00:00:00|     23235|11.53|      12|    13069.0|Storage Tin Vinta...|  United Kingdom| Michael Holt|138.35999999999999|         6332.7372|\n",
            "|        581475|2024-05-10 00:00:00|     23272|10.65|      12|    13069.0|Tree T-Light Hold...|  United Kingdom| Michael Holt|127.80000000000001| 5849.406000000001|\n",
            "|        581475|2024-05-10 00:00:00|     23239|11.94|       6|    13069.0|Set Of 4 Knick Kn...|  United Kingdom| Michael Holt|             71.64|3278.9628000000002|\n",
            "|        581475|2024-05-10 00:00:00|     21705|10.65|      24|    13069.0|Bag 500g Swirly M...|  United Kingdom| Michael Holt|255.60000000000002|11698.812000000002|\n",
            "|        581475|2024-05-10 00:00:00|     22118|11.53|      18|    13069.0|Joy Wooden Block ...|  United Kingdom| Michael Holt|            207.54| 9499.105800000001|\n",
            "|        581475|2024-05-10 00:00:00|     22119|12.25|      12|    13069.0|Peace Wooden Bloc...|  United Kingdom| Michael Holt|             147.0|6728.1900000000005|\n",
            "|        581475|2024-05-10 00:00:00|     22217|10.65|      12|    13069.0|T-Light Holder Ha...|  United Kingdom| Michael Holt|127.80000000000001| 5849.406000000001|\n",
            "|        581475|2024-05-10 00:00:00|     22216|10.55|      24|    13069.0|T-Light Holder Wh...|  United Kingdom| Michael Holt|253.20000000000002|11588.964000000002|\n",
            "|        581475|2024-05-10 00:00:00|     22380|11.06|      20|    13069.0|   Toy Tidy Spaceboy|  United Kingdom| Michael Holt|221.20000000000002|10124.324000000002|\n",
            "|        581475|2024-05-10 00:00:00|     22442|12.25|      12|    13069.0|Grow Your Own Flo...|  United Kingdom| Michael Holt|             147.0|6728.1900000000005|\n",
            "|        581475|2024-05-10 00:00:00|     22664|11.06|      20|    13069.0|Toy Tidy Dolly Gi...|  United Kingdom| Michael Holt|221.20000000000002|10124.324000000002|\n",
            "|        581475|2024-05-10 00:00:00|     22721|12.25|      12|    13069.0|Set Of 3 Cake Tin...|  United Kingdom| Michael Holt|             147.0|6728.1900000000005|\n",
            "|        581475|2024-05-10 00:00:00|     22723|11.53|      12|    13069.0|Set Of 6 Herb Tin...|  United Kingdom| Michael Holt|138.35999999999999|         6332.7372|\n",
            "|        581475|2024-05-10 00:00:00|     22785|11.53|      12|    13069.0|Squarecushion Cov...|  United Kingdom| Michael Holt|138.35999999999999|         6332.7372|\n",
            "|        581475|2024-05-10 00:00:00|     22955|11.06|      24|    13069.0|36 Foil Star Cake...|  United Kingdom| Michael Holt|            265.44|        12149.1888|\n",
            "|        581475|2024-05-10 00:00:00|     23141|11.06|      12|    13069.0|Triple Wire Hook ...|  United Kingdom| Michael Holt|            132.72|         6074.5944|\n",
            "|        581475|2024-05-10 00:00:00|     22956|11.06|      24|    13069.0|36 Foil Heart Cak...|  United Kingdom| Michael Holt|            265.44|        12149.1888|\n",
            "|        581475|2024-05-10 00:00:00|     22581|10.55|      48|    13069.0|Wood Stocking Chr...|  United Kingdom| Michael Holt|506.40000000000003|23177.928000000004|\n",
            "+--------------+-------------------+----------+-----+--------+-----------+--------------------+----------------+-------------+------------------+------------------+\n",
            "only showing top 20 rows\n",
            "\n"
          ]
        }
      ],
      "source": [
        "from pyspark.sql import functions as f\n",
        "dt_clean = dt.withColumn(\"date\",\n",
        "                        f.to_timestamp(dt.date, 'yyyy-MM-dd')\n",
        "                        )\n",
        "dt_clean.show()"
      ]
    },
    {
      "cell_type": "markdown",
      "metadata": {
        "id": "5d7w2wJS1CLL"
      },
      "source": [
        "2.4.1.5 Tips: If you use the standard Date format, you don't need to specify the Date Format when coding to_timestamp."
      ]
    },
    {
      "cell_type": "code",
      "execution_count": 163,
      "metadata": {
        "colab": {
          "base_uri": "https://localhost:8080/"
        },
        "id": "-WKwiZvT1Dsz",
        "outputId": "f4cae0df-a370-41a1-b9ce-1a68fff0112c"
      },
      "outputs": [
        {
          "output_type": "stream",
          "name": "stdout",
          "text": [
            "+--------------+-------------------+----------+-----+--------+-----------+--------------------+----------------+-------------+------------------+------------------+\n",
            "|transaction_id|               date|product_id|price|quantity|customer_id|        product_name|customer_country|customer_name|      total_amount|        thb_amount|\n",
            "+--------------+-------------------+----------+-----+--------+-----------+--------------------+----------------+-------------+------------------+------------------+\n",
            "|        581482|2024-05-10 00:00:00|     22485|21.47|      12|    17490.0|Set Of 2 Wooden M...|  United Kingdom| Sara Griffin|            257.64|        11792.1828|\n",
            "|        581475|2024-05-10 00:00:00|     22596|10.65|      36|    13069.0|Christmas Star Wi...|  United Kingdom| Michael Holt|383.40000000000003|17548.218000000004|\n",
            "|        581475|2024-05-10 00:00:00|     23235|11.53|      12|    13069.0|Storage Tin Vinta...|  United Kingdom| Michael Holt|138.35999999999999|         6332.7372|\n",
            "|        581475|2024-05-10 00:00:00|     23272|10.65|      12|    13069.0|Tree T-Light Hold...|  United Kingdom| Michael Holt|127.80000000000001| 5849.406000000001|\n",
            "|        581475|2024-05-10 00:00:00|     23239|11.94|       6|    13069.0|Set Of 4 Knick Kn...|  United Kingdom| Michael Holt|             71.64|3278.9628000000002|\n",
            "|        581475|2024-05-10 00:00:00|     21705|10.65|      24|    13069.0|Bag 500g Swirly M...|  United Kingdom| Michael Holt|255.60000000000002|11698.812000000002|\n",
            "|        581475|2024-05-10 00:00:00|     22118|11.53|      18|    13069.0|Joy Wooden Block ...|  United Kingdom| Michael Holt|            207.54| 9499.105800000001|\n",
            "|        581475|2024-05-10 00:00:00|     22119|12.25|      12|    13069.0|Peace Wooden Bloc...|  United Kingdom| Michael Holt|             147.0|6728.1900000000005|\n",
            "|        581475|2024-05-10 00:00:00|     22217|10.65|      12|    13069.0|T-Light Holder Ha...|  United Kingdom| Michael Holt|127.80000000000001| 5849.406000000001|\n",
            "|        581475|2024-05-10 00:00:00|     22216|10.55|      24|    13069.0|T-Light Holder Wh...|  United Kingdom| Michael Holt|253.20000000000002|11588.964000000002|\n",
            "|        581475|2024-05-10 00:00:00|     22380|11.06|      20|    13069.0|   Toy Tidy Spaceboy|  United Kingdom| Michael Holt|221.20000000000002|10124.324000000002|\n",
            "|        581475|2024-05-10 00:00:00|     22442|12.25|      12|    13069.0|Grow Your Own Flo...|  United Kingdom| Michael Holt|             147.0|6728.1900000000005|\n",
            "|        581475|2024-05-10 00:00:00|     22664|11.06|      20|    13069.0|Toy Tidy Dolly Gi...|  United Kingdom| Michael Holt|221.20000000000002|10124.324000000002|\n",
            "|        581475|2024-05-10 00:00:00|     22721|12.25|      12|    13069.0|Set Of 3 Cake Tin...|  United Kingdom| Michael Holt|             147.0|6728.1900000000005|\n",
            "|        581475|2024-05-10 00:00:00|     22723|11.53|      12|    13069.0|Set Of 6 Herb Tin...|  United Kingdom| Michael Holt|138.35999999999999|         6332.7372|\n",
            "|        581475|2024-05-10 00:00:00|     22785|11.53|      12|    13069.0|Squarecushion Cov...|  United Kingdom| Michael Holt|138.35999999999999|         6332.7372|\n",
            "|        581475|2024-05-10 00:00:00|     22955|11.06|      24|    13069.0|36 Foil Star Cake...|  United Kingdom| Michael Holt|            265.44|        12149.1888|\n",
            "|        581475|2024-05-10 00:00:00|     23141|11.06|      12|    13069.0|Triple Wire Hook ...|  United Kingdom| Michael Holt|            132.72|         6074.5944|\n",
            "|        581475|2024-05-10 00:00:00|     22956|11.06|      24|    13069.0|36 Foil Heart Cak...|  United Kingdom| Michael Holt|            265.44|        12149.1888|\n",
            "|        581475|2024-05-10 00:00:00|     22581|10.55|      48|    13069.0|Wood Stocking Chr...|  United Kingdom| Michael Holt|506.40000000000003|23177.928000000004|\n",
            "+--------------+-------------------+----------+-----+--------+-----------+--------------------+----------------+-------------+------------------+------------------+\n",
            "only showing top 20 rows\n",
            "\n"
          ]
        }
      ],
      "source": [
        "dt_clean = dt.withColumn(\"date\",\n",
        "                        f.to_timestamp(dt.date)\n",
        "                        )\n",
        "dt_clean.show()"
      ]
    },
    {
      "cell_type": "markdown",
      "metadata": {
        "id": "qFB9AZtO1FRy"
      },
      "source": [
        "2.4.1.6 Check from mix, max of date column to see if the data is complete."
      ]
    },
    {
      "cell_type": "code",
      "execution_count": 164,
      "metadata": {
        "colab": {
          "base_uri": "https://localhost:8080/"
        },
        "id": "FK2tl_U31Gr7",
        "outputId": "686941ee-d2e4-4ec5-8e9f-5ab501028374"
      },
      "outputs": [
        {
          "output_type": "stream",
          "name": "stdout",
          "text": [
            "+-------------------+-------------------+\n",
            "|          min(date)|          max(date)|\n",
            "+-------------------+-------------------+\n",
            "|2023-05-03 00:00:00|2024-05-10 00:00:00|\n",
            "+-------------------+-------------------+\n",
            "\n",
            "root\n",
            " |-- transaction_id: string (nullable = true)\n",
            " |-- date: timestamp (nullable = true)\n",
            " |-- product_id: string (nullable = true)\n",
            " |-- price: double (nullable = true)\n",
            " |-- quantity: long (nullable = true)\n",
            " |-- customer_id: double (nullable = true)\n",
            " |-- product_name: string (nullable = true)\n",
            " |-- customer_country: string (nullable = true)\n",
            " |-- customer_name: string (nullable = true)\n",
            " |-- total_amount: double (nullable = true)\n",
            " |-- thb_amount: double (nullable = true)\n",
            "\n"
          ]
        }
      ],
      "source": [
        "dt_clean.select(\n",
        "    f.min(dt_clean.date),\n",
        "    f.max(dt_clean.date)\n",
        ").show()\n",
        "\n",
        "dt_clean.printSchema()"
      ]
    },
    {
      "cell_type": "markdown",
      "metadata": {
        "id": "ShdsM9gg1OrP"
      },
      "source": [
        "2.4.1.7 Counting transactions for the first half of January 2024"
      ]
    },
    {
      "cell_type": "code",
      "execution_count": 165,
      "metadata": {
        "colab": {
          "base_uri": "https://localhost:8080/"
        },
        "id": "cgegIR8O1P0X",
        "outputId": "0cfa1b54-1d0d-4929-8776-8b68d7e0f961"
      },
      "outputs": [
        {
          "output_type": "execute_result",
          "data": {
            "text/plain": [
              "16398"
            ]
          },
          "metadata": {},
          "execution_count": 165
        }
      ],
      "source": [
        "dt_clean.where( (f.dayofmonth(dt_clean.date) <= 15) & ( f.month(dt_clean.date) == 1 ) & ( f.year(dt_clean.date) == 2024 ) ).count()"
      ]
    },
    {
      "cell_type": "markdown",
      "metadata": {
        "id": "CUYtGRHZ1SDX"
      },
      "source": [
        "2.4.1.8 Tips: Sometimes we don't convert Data type, but Spark is smart, it automatically converts String -> Timestamp."
      ]
    },
    {
      "cell_type": "code",
      "execution_count": 166,
      "metadata": {
        "colab": {
          "base_uri": "https://localhost:8080/"
        },
        "id": "cpra3m0T3F1H",
        "outputId": "cbcc7006-d9ce-4cc1-ff44-87fd84cb4409"
      },
      "outputs": [
        {
          "output_type": "execute_result",
          "data": {
            "text/plain": [
              "16398"
            ]
          },
          "metadata": {},
          "execution_count": 166
        }
      ],
      "source": [
        "dt.where( (f.dayofmonth(dt.date) <= 15) & ( f.month(dt.date) == 1 ) & ( f.year(dt.date) == 2024 ) ).count()"
      ]
    },
    {
      "cell_type": "markdown",
      "metadata": {
        "id": "lHkN8W4f3Ikj"
      },
      "source": [
        "2.4.2 Anomalies Check\n",
        "\n",
        "2.4.2.1 Syntactical Anomalies > Lexical errors. Find the misspelled country name and correct the misspelled name.\n"
      ]
    },
    {
      "cell_type": "code",
      "execution_count": 167,
      "metadata": {
        "colab": {
          "base_uri": "https://localhost:8080/"
        },
        "id": "nT24ldIO3NJn",
        "outputId": "82725dca-79cd-4b8d-e03c-ad31852c2483"
      },
      "outputs": [
        {
          "output_type": "stream",
          "name": "stdout",
          "text": [
            "+--------------------+\n",
            "|    customer_country|\n",
            "+--------------------+\n",
            "|           Australia|\n",
            "|             Austria|\n",
            "|             Bahrain|\n",
            "|             Belgium|\n",
            "|              Brazil|\n",
            "|              Canada|\n",
            "|     Channel Islands|\n",
            "|              Cyprus|\n",
            "|      Czech Republic|\n",
            "|             Denmark|\n",
            "|                EIRE|\n",
            "|  European Community|\n",
            "|             Finland|\n",
            "|              France|\n",
            "|             Germany|\n",
            "|              Greece|\n",
            "|           Hong Kong|\n",
            "|             Iceland|\n",
            "|              Israel|\n",
            "|               Italy|\n",
            "|               Japan|\n",
            "|              Japane|\n",
            "|             Lebanon|\n",
            "|           Lithuania|\n",
            "|               Malta|\n",
            "|         Netherlands|\n",
            "|              Norway|\n",
            "|              Poland|\n",
            "|            Portugal|\n",
            "|                 RSA|\n",
            "|        Saudi Arabia|\n",
            "|           Singapore|\n",
            "|               Spain|\n",
            "|              Sweden|\n",
            "|         Switzerland|\n",
            "|                 USA|\n",
            "|United Arab Emirates|\n",
            "|      United Kingdom|\n",
            "|         Unspecified|\n",
            "+--------------------+\n",
            "\n"
          ]
        }
      ],
      "source": [
        "dt_clean.select(\"customer_country\").distinct().count()\n",
        "dt_clean.select(\"customer_country\").distinct().sort(\"customer_country\").show( 40 )"
      ]
    },
    {
      "cell_type": "markdown",
      "metadata": {
        "id": "VY52lFQ73OCn"
      },
      "source": [
        "2.4.2.2 Correct misspelled name"
      ]
    },
    {
      "cell_type": "code",
      "execution_count": 168,
      "metadata": {
        "colab": {
          "base_uri": "https://localhost:8080/"
        },
        "id": "Bo_m6pRM3PXf",
        "outputId": "56c72d1f-d23c-45d4-cca4-71f23404c6ed"
      },
      "outputs": [
        {
          "output_type": "stream",
          "name": "stdout",
          "text": [
            "+--------------+-------------------+----------+-----+--------+-----------+--------------------+----------------+-------------+------------+-----------+\n",
            "|transaction_id|               date|product_id|price|quantity|customer_id|        product_name|customer_country|customer_name|total_amount| thb_amount|\n",
            "+--------------+-------------------+----------+-----+--------+-----------+--------------------+----------------+-------------+------------+-----------+\n",
            "|        566623|2024-02-14 00:00:00|     21787|11.12|      72|    12756.0|Rain Poncho Retro...|          Japane|    Troy Ball|      800.64|36331.44192|\n",
            "|        566623|2024-02-14 00:00:00|     21786|10.68|      24|    12756.0|   Polkadot Rain Hat|          Japane|    Troy Ball|      256.32|11631.28896|\n",
            "|        566623|2024-02-14 00:00:00|     21789|11.12|      24|    12756.0|  Kids Rain Mac Pink|          Japane|    Troy Ball|      266.88|12110.48064|\n",
            "|        566623|2024-02-14 00:00:00|     21788|11.12|      24|    12756.0|  Kids Rain Mac Blue|          Japane|    Troy Ball|      266.88|12110.48064|\n",
            "+--------------+-------------------+----------+-----+--------+-----------+--------------------+----------------+-------------+------------+-----------+\n",
            "\n"
          ]
        }
      ],
      "source": [
        "dt_clean.where(dt_clean['customer_country'] == 'Japane').show()\n",
        "from pyspark.sql.functions import when\n",
        "dt_clean_country = dt_clean.withColumn(\"customer_country_update\", when(dt_clean['customer_country'] == 'Japane', 'Japan').otherwise(dt_clean['customer_country']))"
      ]
    },
    {
      "cell_type": "markdown",
      "metadata": {
        "id": "Q5B9BDKj3RAP"
      },
      "source": [
        "2.4.2.3 Replace the country column with the customer_country_update column."
      ]
    },
    {
      "cell_type": "code",
      "execution_count": 169,
      "metadata": {
        "colab": {
          "base_uri": "https://localhost:8080/"
        },
        "id": "jYSrAu-t3VXz",
        "outputId": "e440bdf3-aa3e-418b-e880-715591355549"
      },
      "outputs": [
        {
          "output_type": "stream",
          "name": "stdout",
          "text": [
            "+--------------+-------------------+----------+-----+--------+-----------+--------------------+-------------+------------------+------------------+----------------+\n",
            "|transaction_id|               date|product_id|price|quantity|customer_id|        product_name|customer_name|      total_amount|        thb_amount|customer_country|\n",
            "+--------------+-------------------+----------+-----+--------+-----------+--------------------+-------------+------------------+------------------+----------------+\n",
            "|        576923|2024-04-18 00:00:00|     23009|25.57|      18|    12753.0|I Love London Bab...| Sandra Black|            460.26|       21061.03734|           Japan|\n",
            "|        576923|2024-04-18 00:00:00|     22660|17.51|      50|    12753.0|Doormat I Love Lo...| Sandra Black| 875.5000000000001|        40062.0045|           Japan|\n",
            "|        576923|2024-04-18 00:00:00|     20750|16.76|      48|    12753.0|Red Retrospot Min...| Sandra Black|            804.48|       36812.20032|           Japan|\n",
            "|        576923|2024-04-18 00:00:00|     22667|12.86|      48|    12753.0|Recipe Box Retrospot| Sandra Black|            617.28|       28246.11552|           Japan|\n",
            "|        576923|2024-04-18 00:00:00|     22911|12.86|      80|    12753.0|Paper Chain Kit L...| Sandra Black|            1028.8|        47076.8592|           Japan|\n",
            "|        576923|2024-04-18 00:00:00|     22902|11.98|      50|    12753.0|Tote Bag I Love L...| Sandra Black|             599.0|         27409.641|           Japan|\n",
            "|        576923|2024-04-18 00:00:00|     23365|10.92|      32|    12753.0|Set 12 Colour Pen...| Sandra Black|            349.44|       15990.02496|           Japan|\n",
            "|        576923|2024-04-18 00:00:00|     23391| 14.5|      40|    12753.0|I Love London Min...| Sandra Black|             580.0|          26540.22|           Japan|\n",
            "|        576923|2024-04-18 00:00:00|     23505|11.32|     100|    12753.0|Playing Cards I L...| Sandra Black|            1132.0|         51799.188|           Japan|\n",
            "|        576923|2024-04-18 00:00:00|     21197|11.74|      48|    12753.0|Multicolour Confe...| Sandra Black|            563.52|25786.111679999998|           Japan|\n",
            "|        576923|2024-04-18 00:00:00|     21199|11.74|      48|    12753.0|Pink Heart Confet...| Sandra Black|            563.52|25786.111679999998|           Japan|\n",
            "|        576923|2024-04-18 00:00:00|     21198|11.74|      48|    12753.0|White Heart Confe...| Sandra Black|            563.52|25786.111679999998|           Japan|\n",
            "|        576923|2024-04-18 00:00:00|     21439|11.53|      96|    12753.0|Basket Of Toadstools| Sandra Black|1106.8799999999999|50649.721919999996|           Japan|\n",
            "|        576923|2024-04-18 00:00:00|     22489|10.68|      96|    12753.0|Pack Of 12 Tradit...| Sandra Black|           1025.28|       46915.78752|           Japan|\n",
            "|        576923|2024-04-18 00:00:00|     22616|10.65|     144|    12753.0|Pack Of 12 London...| Sandra Black|1533.6000000000001| 70176.00240000001|           Japan|\n",
            "|        576923|2024-04-18 00:00:00|     22621|11.74|     192|    12753.0|Traditional Knitt...| Sandra Black|           2254.08|103144.44671999999|           Japan|\n",
            "|        576923|2024-04-18 00:00:00|     21731|11.74|     144|    12753.0|Red Toadstool Led...| Sandra Black|           1690.56| 77358.33503999999|           Japan|\n",
            "|        576923|2024-04-18 00:00:00|     22466|11.94|      96|    12753.0|Fairy Tale Cottag...| Sandra Black|           1146.24|       52450.79616|           Japan|\n",
            "|        576923|2024-04-18 00:00:00|     23084|12.08|     120|    12753.0|  Rabbit Night Light| Sandra Black|            1449.6| 66332.24639999999|           Japan|\n",
            "|        576923|2024-04-18 00:00:00|     23480|13.62|      96|    12753.0|Mini Lights Woodl...| Sandra Black|           1307.52|       59830.80768|           Japan|\n",
            "+--------------+-------------------+----------+-----+--------+-----------+--------------------+-------------+------------------+------------------+----------------+\n",
            "only showing top 20 rows\n",
            "\n"
          ]
        }
      ],
      "source": [
        "dt_clean_v2 = dt_clean_country.drop(\"customer_country\").withColumnRenamed('customer_country_update', 'customer_country')\n",
        "dt_clean_v2[ dt_clean_v2.transaction_id == '576923' ].show()"
      ]
    },
    {
      "cell_type": "markdown",
      "metadata": {
        "id": "Skqc05gJ3Zm8"
      },
      "source": [
        "2.4.3 Semantic Anomalies > Integrity constraints. The value is outside the range of acceptable values, for example, product_id is longer than it should be.\n",
        "\n",
        "2.4.3.1 Show product_id data"
      ]
    },
    {
      "cell_type": "code",
      "execution_count": 170,
      "metadata": {
        "colab": {
          "base_uri": "https://localhost:8080/"
        },
        "id": "eEHdk-wv3fbr",
        "outputId": "a2e497f0-af61-4481-8a57-df006c68bdd1"
      },
      "outputs": [
        {
          "output_type": "stream",
          "name": "stdout",
          "text": [
            "+----------+\n",
            "|product_id|\n",
            "+----------+\n",
            "|     22485|\n",
            "|     22596|\n",
            "|     23235|\n",
            "|     23272|\n",
            "|     23239|\n",
            "|     21705|\n",
            "|     22118|\n",
            "|     22119|\n",
            "|     22217|\n",
            "|     22216|\n",
            "|     22380|\n",
            "|     22442|\n",
            "|     22664|\n",
            "|     22721|\n",
            "|     22723|\n",
            "|     22785|\n",
            "|     22955|\n",
            "|     23141|\n",
            "|     22956|\n",
            "|     22581|\n",
            "|     23198|\n",
            "|     23197|\n",
            "|     23184|\n",
            "|     23168|\n",
            "|     23167|\n",
            "|     23166|\n",
            "|     23165|\n",
            "|     23004|\n",
            "|     23002|\n",
            "|     23000|\n",
            "|     22998|\n",
            "|     22994|\n",
            "|     22835|\n",
            "|     22730|\n",
            "|     22728|\n",
            "|     22727|\n",
            "|     22726|\n",
            "|     22720|\n",
            "|     22693|\n",
            "|     22670|\n",
            "|     22667|\n",
            "|     22666|\n",
            "|     22631|\n",
            "|     22628|\n",
            "|     22467|\n",
            "|     22197|\n",
            "|     22114|\n",
            "|     22112|\n",
            "|     21908|\n",
            "|     21874|\n",
            "|     21872|\n",
            "|     21871|\n",
            "|     21533|\n",
            "|     21481|\n",
            "|     21479|\n",
            "|     21248|\n",
            "|     21216|\n",
            "|     21181|\n",
            "|     21175|\n",
            "|     21169|\n",
            "|     21162|\n",
            "|     21159|\n",
            "|     21158|\n",
            "|     21154|\n",
            "|     16016|\n",
            "|     16014|\n",
            "|     16008|\n",
            "|     85152|\n",
            "|    84596F|\n",
            "|    84596B|\n",
            "|    84510A|\n",
            "|     82600|\n",
            "|     82581|\n",
            "|     72232|\n",
            "|    47559B|\n",
            "|    47504H|\n",
            "|     23493|\n",
            "|     23430|\n",
            "|     23429|\n",
            "|     23428|\n",
            "|     23358|\n",
            "|     23293|\n",
            "|     23243|\n",
            "|     23240|\n",
            "|     48111|\n",
            "|     22464|\n",
            "|     20982|\n",
            "|     20981|\n",
            "|     23424|\n",
            "|     23338|\n",
            "|    84970L|\n",
            "|     22457|\n",
            "|     22469|\n",
            "|     22909|\n",
            "|     84947|\n",
            "|     23503|\n",
            "|     23445|\n",
            "|     23530|\n",
            "|    84997C|\n",
            "|    84997D|\n",
            "+----------+\n",
            "only showing top 100 rows\n",
            "\n"
          ]
        }
      ],
      "source": [
        "dt_clean_v2.select(\"product_id\").show(100)"
      ]
    },
    {
      "cell_type": "markdown",
      "metadata": {
        "id": "ONkAzVr83i1X"
      },
      "source": [
        "2.4.3.2 Count row of product_id"
      ]
    },
    {
      "cell_type": "code",
      "execution_count": 171,
      "metadata": {
        "colab": {
          "base_uri": "https://localhost:8080/"
        },
        "id": "T9oGSWe63ki7",
        "outputId": "c82c02c0-f7d2-4f3e-8314-09eaa5c55422"
      },
      "outputs": [
        {
          "output_type": "execute_result",
          "data": {
            "text/plain": [
              "536350"
            ]
          },
          "metadata": {},
          "execution_count": 171
        }
      ],
      "source": [
        "dt_clean_v2.select(\"product_id\").count()"
      ]
    },
    {
      "cell_type": "markdown",
      "metadata": {
        "id": "xc6ryyMW3llz"
      },
      "source": [
        "2.4.3.3 Replace product_id values ​​that exceed 5 characters with all 5 characters.\n",
        "\n",
        "2.4.3.3.1 Find out if product_id is all 5 letters.\n"
      ]
    },
    {
      "cell_type": "code",
      "execution_count": 172,
      "metadata": {
        "colab": {
          "base_uri": "https://localhost:8080/"
        },
        "id": "AUvRc0bJ3oGL",
        "outputId": "da126949-8ac0-4708-89d9-e852762662a9"
      },
      "outputs": [
        {
          "output_type": "execute_result",
          "data": {
            "text/plain": [
              "0.9050601286473385"
            ]
          },
          "metadata": {},
          "execution_count": 172
        }
      ],
      "source": [
        "dt_clean_v2.where(dt_clean_v2[\"product_id\"].rlike(\"^.{5}$\")).count() / dt_clean_v2.count()"
      ]
    },
    {
      "cell_type": "markdown",
      "metadata": {
        "id": "GcYz9j-l3rJz"
      },
      "source": [
        "2.4.3.3.2 Let's take a look at what inaccurate information looks like."
      ]
    },
    {
      "cell_type": "code",
      "execution_count": 173,
      "metadata": {
        "colab": {
          "base_uri": "https://localhost:8080/"
        },
        "id": "_4lsHnTq3saT",
        "outputId": "702cd76d-0318-4b38-fd2f-1e88ad634260"
      },
      "outputs": [
        {
          "output_type": "stream",
          "name": "stdout",
          "text": [
            "+--------------+-------------------+----------+-----+--------+-----------+--------------------+---------------+------------------+------------------+----------------+\n",
            "|transaction_id|               date|product_id|price|quantity|customer_id|        product_name|  customer_name|      total_amount|        thb_amount|customer_country|\n",
            "+--------------+-------------------+----------+-----+--------+-----------+--------------------+---------------+------------------+------------------+----------------+\n",
            "|        581480|2024-05-10 00:00:00|    84029E|14.61|       8|    14441.0|Red Woolly Hottie...|    Thomas Hull|            116.88|         5349.5976|  United Kingdom|\n",
            "|        580727|2024-05-06 00:00:00|    47504H| 5.97|       6|    14096.0|English Rose Spir...|Christine Doyle|             35.82|         1652.7348|  United Kingdom|\n",
            "|        580727|2024-05-06 00:00:00|    85231B| 7.24|       1|    14096.0|Cinammon Set Of 9...|Christine Doyle|              7.24|          334.0536|  United Kingdom|\n",
            "|        580164|2024-05-03 00:00:00|    72351B| 6.19|      12|    18097.0|Set/6 Pink Butter...|   Paul Mcclain|             74.28|3426.5364000000004|  United Kingdom|\n",
            "|        580367|2024-05-03 00:00:00|    15044A| 6.19|       1|    13367.0|  Pink Paper Parasol|   Karina Kirby|              6.19|285.54470000000003|  United Kingdom|\n",
            "|        580065|2024-05-02 00:00:00|    84029G| 7.24|       4|    15434.0|Knitted Union Fla...|    Kevin Brown|             28.96|1335.5772800000002|  United Kingdom|\n",
            "|        580128|2024-05-02 00:00:00|    85123A| 6.19|       4|    17576.0|Cream Hanging Hea...|  Joseph Ibarra|             24.76|1141.8816800000002|  United Kingdom|\n",
            "|        579777|2024-05-01 00:00:00|    90181A| 7.24|       1|    13777.0|Amber Glass/Shell...| Troy Hendricks|              7.24|         335.42196|  United Kingdom|\n",
            "|        579284|2024-04-30 00:00:00|    16156S| 6.19|      75|    15061.0|Wrap Pink Fairy C...|    Drew Knight|464.25000000000006|21566.269500000002|  United Kingdom|\n",
            "|        579091|2024-04-29 00:00:00|    84032B| 5.97|       6|    14893.0|Charlie + Lola Re...|   Julie Morris|             35.82|        1665.16434|  United Kingdom|\n",
            "+--------------+-------------------+----------+-----+--------+-----------+--------------------+---------------+------------------+------------------+----------------+\n",
            "only showing top 10 rows\n",
            "\n"
          ]
        }
      ],
      "source": [
        "dt_correct_product = dt_clean_v2.filter(dt_clean_v2[\"product_id\"].rlike(\"^.{5}$\"))\n",
        "dt_incorrect_product = dt_clean_v2.subtract(dt_correct_product)\n",
        "\n",
        "dt_incorrect_product.show(10)"
      ]
    },
    {
      "cell_type": "markdown",
      "metadata": {
        "id": "FiKopIuR3uYD"
      },
      "source": [
        "2.4.3.3.3 Check again to see what the letters after product_id mean."
      ]
    },
    {
      "cell_type": "code",
      "execution_count": 174,
      "metadata": {
        "colab": {
          "base_uri": "https://localhost:8080/"
        },
        "id": "hVKaUmj13vnM",
        "outputId": "e11f1a3e-5ef1-4d3a-e8f2-289a4f366c50"
      },
      "outputs": [
        {
          "output_type": "stream",
          "name": "stdout",
          "text": [
            "+----------+--------------------+\n",
            "|product_id|product_name        |\n",
            "+----------+--------------------+\n",
            "|15044C    |Purple Paper Parasol|\n",
            "|15044A    |Pink Paper Parasol  |\n",
            "|15044D    |Red Paper Parasol   |\n",
            "|15044C    |Purple Paper Parasol|\n",
            "|15044A    |Pink Paper Parasol  |\n",
            "|15044A    |Pink Paper Parasol  |\n",
            "|15044D    |Red Paper Parasol   |\n",
            "|15044D    |Red Paper Parasol   |\n",
            "|15044C    |Purple Paper Parasol|\n",
            "|15044A    |Pink Paper Parasol  |\n",
            "|15044D    |Red Paper Parasol   |\n",
            "|15044A    |Pink Paper Parasol  |\n",
            "|15044C    |Purple Paper Parasol|\n",
            "|15044C    |Purple Paper Parasol|\n",
            "|15044D    |Red Paper Parasol   |\n",
            "|15044D    |Red Paper Parasol   |\n",
            "|15044C    |Purple Paper Parasol|\n",
            "|15044A    |Pink Paper Parasol  |\n",
            "|15044A    |Pink Paper Parasol  |\n",
            "|15044A    |Pink Paper Parasol  |\n",
            "+----------+--------------------+\n",
            "only showing top 20 rows\n",
            "\n"
          ]
        }
      ],
      "source": [
        "dt_clean_v2.where( dt_clean_v2['product_id'].startswith('15044') ).select('product_id', 'product_name').show(truncate = False)"
      ]
    },
    {
      "cell_type": "markdown",
      "metadata": {
        "id": "g7NVenKZ3wwn"
      },
      "source": [
        "2.4.3.3.4 Let's replace the product_id value."
      ]
    },
    {
      "cell_type": "code",
      "execution_count": 175,
      "metadata": {
        "id": "33dn-mkf3xsT"
      },
      "outputs": [],
      "source": [
        "dt_clean_v3 = dt_clean_v2.withColumn('product_id', f.substring('product_id', 1, 5))"
      ]
    },
    {
      "cell_type": "markdown",
      "metadata": {
        "id": "WLv1n-1h3yjj"
      },
      "source": [
        "2.4.3.3.5 Check the result"
      ]
    },
    {
      "cell_type": "code",
      "execution_count": 176,
      "metadata": {
        "colab": {
          "base_uri": "https://localhost:8080/"
        },
        "id": "jWikBViR3zRH",
        "outputId": "a0948b79-5625-4279-cd78-41a9ef26ccd4"
      },
      "outputs": [
        {
          "output_type": "stream",
          "name": "stdout",
          "text": [
            "+--------------+----+----------+-----+--------+-----------+------------+-------------+------------+----------+----------------+\n",
            "|transaction_id|date|product_id|price|quantity|customer_id|product_name|customer_name|total_amount|thb_amount|customer_country|\n",
            "+--------------+----+----------+-----+--------+-----------+------------+-------------+------------+----------+----------------+\n",
            "+--------------+----+----------+-----+--------+-----------+------------+-------------+------------+----------+----------------+\n",
            "\n"
          ]
        }
      ],
      "source": [
        "dt_correct_product = dt_clean_v3.filter(dt_clean_v3[\"product_id\"].rlike(\"^.{5}$\"))\n",
        "dt_incorrect_product = dt_clean_v3.subtract(dt_correct_product)\n",
        "\n",
        "dt_incorrect_product.show(10)"
      ]
    },
    {
      "cell_type": "markdown",
      "metadata": {
        "id": "NsfFMH-o32DT"
      },
      "source": [
        "2.4.4 Missing values\n",
        "\n",
        "2.4.4.1 Method 1"
      ]
    },
    {
      "cell_type": "code",
      "execution_count": 177,
      "metadata": {
        "colab": {
          "base_uri": "https://localhost:8080/"
        },
        "id": "OQFh9_OJ39n7",
        "outputId": "da36e63a-d956-4ed0-8e30-f91ea492ce9e"
      },
      "outputs": [
        {
          "output_type": "stream",
          "name": "stdout",
          "text": [
            "+--------------+----+----------+-----+--------+-----------+------------+-------------+------------+----------+----------------+\n",
            "|transaction_id|date|product_id|price|quantity|customer_id|product_name|customer_name|total_amount|thb_amount|customer_country|\n",
            "+--------------+----+----------+-----+--------+-----------+------------+-------------+------------+----------+----------------+\n",
            "|             0|   0|         0|    0|       0|         55|           0|            0|           0|         0|               0|\n",
            "+--------------+----+----------+-----+--------+-----------+------------+-------------+------------+----------+----------------+\n",
            "\n"
          ]
        }
      ],
      "source": [
        "from pyspark.sql.functions import col, sum\n",
        "\n",
        "dt_nulllist = dt_clean_v3.select([ sum(col(colname).isNull().cast(\"int\")).alias(colname) for colname in dt_clean_v3.columns ])\n",
        "\n",
        "dt_nulllist.show()"
      ]
    },
    {
      "cell_type": "markdown",
      "metadata": {
        "id": "ZB5AriC337eD"
      },
      "source": [
        "2.4.4.1 Method 2"
      ]
    },
    {
      "cell_type": "code",
      "execution_count": 178,
      "metadata": {
        "colab": {
          "base_uri": "https://localhost:8080/"
        },
        "id": "ao_yEuPc4IxP",
        "outputId": "aff54de4-e774-4d91-cd42-1c9cda8620d8"
      },
      "outputs": [
        {
          "output_type": "stream",
          "name": "stdout",
          "text": [
            "+-------+--------------+----------+------+--------+-----------+------------+-------------+------------+----------+----------------+\n",
            "|summary|transaction_id|product_id| price|quantity|customer_id|product_name|customer_name|total_amount|thb_amount|customer_country|\n",
            "+-------+--------------+----------+------+--------+-----------+------------+-------------+------------+----------+----------------+\n",
            "|  count|        536350|    536350|536350|  536350|     536295|      536350|       536350|      536350|    536350|          536350|\n",
            "+-------+--------------+----------+------+--------+-----------+------------+-------------+------------+----------+----------------+\n",
            "\n"
          ]
        }
      ],
      "source": [
        "dt_clean_v3.summary(\"count\").show()"
      ]
    },
    {
      "cell_type": "markdown",
      "metadata": {
        "id": "PUvoPGzQ4JmL"
      },
      "source": [
        "2.4.4.2 Look at the data to see which rows have customer_id is Null"
      ]
    },
    {
      "cell_type": "code",
      "execution_count": 179,
      "metadata": {
        "colab": {
          "base_uri": "https://localhost:8080/"
        },
        "id": "RXV92zVo4K7E",
        "outputId": "b9ed1a34-bbea-49df-c50b-c9285e13da8c"
      },
      "outputs": [
        {
          "output_type": "stream",
          "name": "stdout",
          "text": [
            "+--------------+-------------------+----------+-----+--------+-----------+--------------------+-------------+-------------------+-------------------+----------------+\n",
            "|transaction_id|               date|product_id|price|quantity|customer_id|        product_name|customer_name|       total_amount|         thb_amount|customer_country|\n",
            "+--------------+-------------------+----------+-----+--------+-----------+--------------------+-------------+-------------------+-------------------+----------------+\n",
            "|       C581406|2024-05-09 00:00:00|     46000| 6.19|    -240|       NULL|Polyester Filler ...| Allen Morgan|-1485.6000000000001|         -68397.024|  United Kingdom|\n",
            "|       C581406|2024-05-09 00:00:00|     46000| 6.19|    -300|       NULL|Polyester Filler ...| Allen Morgan|-1857.0000000000002| -85496.28000000001|  United Kingdom|\n",
            "|       C575153|2024-04-09 00:00:00|     22947|44.25|      -1|       NULL|Wooden Advent Cal...| Allen Morgan|             -44.25|-2036.4734999999998|  United Kingdom|\n",
            "|       C574288|2024-04-04 00:00:00|     22178|25.37|      -1|       NULL|Victorian Glass H...| Allen Morgan|             -25.37|        -1177.21874|  United Kingdom|\n",
            "|       C573180|2024-03-29 00:00:00|     23048| 14.5|      -1|       NULL|Set Of 10 Lantern...| Allen Morgan|              -14.5|           -665.463|  United Kingdom|\n",
            "|       C569495|2024-03-05 00:00:00|     21843|21.47|      -1|       NULL|Red Retrospot Cak...| Allen Morgan|             -21.47| -976.3911899999998|  United Kingdom|\n",
            "|       C567518|2024-02-20 00:00:00|     22846|27.62|      -1|       NULL|Bread Bin Diner S...| Allen Morgan|             -27.62|-1255.4947200000001|  United Kingdom|\n",
            "|       C567518|2024-02-20 00:00:00|     21871|11.94|     -12|       NULL| Save The Planet Mug| Allen Morgan|            -143.28|-6512.9356800000005|  United Kingdom|\n",
            "|       C563015|2024-01-11 00:00:00|     46000|10.25|    -160|       NULL|Polyester Filler ...| Allen Morgan|            -1640.0|          -73367.04|  United Kingdom|\n",
            "|       C563015|2024-01-11 00:00:00|     46000|10.25|    -220|       NULL|Polyester Filler ...| Allen Morgan|            -2255.0|         -100879.68|  United Kingdom|\n",
            "|       C562617|2024-01-08 00:00:00|     23243|15.32|      -2|       NULL|Set Of Tea Coffee...| Allen Morgan|             -30.64|         -1365.6248|  United Kingdom|\n",
            "|       C561966|2024-01-01 00:00:00|     22371|14.48|      -1|       NULL|Airline Bag Vinta...| Allen Morgan|             -14.48|         -633.25384|  United Kingdom|\n",
            "|       C562030|2024-01-01 00:00:00|     84595|13.62|      -1|       NULL|Large Tortilla De...| Allen Morgan|             -13.62| -595.6434599999999|  United Kingdom|\n",
            "|       C561239|2023-12-26 00:00:00|     22427|16.35|      -1|       NULL|Enamel Flower Jug...| Allen Morgan|             -16.35|          -719.0076|  United Kingdom|\n",
            "|       C561239|2023-12-26 00:00:00|     22426|14.09|      -1|       NULL|Enamel Wash Bowl ...| Allen Morgan|             -14.09|         -619.62184|  United Kingdom|\n",
            "|       C561239|2023-12-26 00:00:00|     84755|10.92|      -4|       NULL|Colour Glass T-Li...| Allen Morgan|             -43.68|        -1920.87168|  United Kingdom|\n",
            "|       C559949|2023-12-14 00:00:00|     22699|13.27|      -2|       NULL|Roses Regency Tea...| Allen Morgan|             -26.54|-1182.1181399999998|  United Kingdom|\n",
            "|       C559296|2023-12-07 00:00:00|     23001|10.25|    -200|       NULL|Travel Card Walle...| Allen Morgan|            -2050.0|          -90669.45|  United Kingdom|\n",
            "|       C559296|2023-12-07 00:00:00|     22616|10.25|    -204|       NULL|Pack Of 12 London...| Allen Morgan|            -2091.0| -92482.83899999999|  United Kingdom|\n",
            "|       C559296|2023-12-07 00:00:00|     23298|10.25|    -170|       NULL|      Spotty Bunting| Allen Morgan|            -1742.5|        -77069.0325|  United Kingdom|\n",
            "+--------------+-------------------+----------+-----+--------+-----------+--------------------+-------------+-------------------+-------------------+----------------+\n",
            "only showing top 20 rows\n",
            "\n"
          ]
        }
      ],
      "source": [
        "dt_clean_v3.where( dt_clean_v3.customer_id.isNull() ).show()"
      ]
    },
    {
      "cell_type": "markdown",
      "metadata": {
        "id": "4CvUsIUo4L9L"
      },
      "source": [
        "2.4.4.3 Coding to replace Null with 00000"
      ]
    },
    {
      "cell_type": "code",
      "execution_count": 180,
      "metadata": {
        "id": "oPKsqniK4Mqj"
      },
      "outputs": [],
      "source": [
        "dt_clean_v4 = dt_clean_v3.withColumn(\"customer_id\", when(dt_clean_v3['customer_id'].isNull(), '00000').otherwise(dt_clean_v3['customer_id']))"
      ]
    },
    {
      "cell_type": "markdown",
      "metadata": {
        "id": "TybLtvCm4OPf"
      },
      "source": [
        "2.4.4.4 Check if the NULL user ID is really gone."
      ]
    },
    {
      "cell_type": "code",
      "execution_count": 181,
      "metadata": {
        "colab": {
          "base_uri": "https://localhost:8080/"
        },
        "id": "dLKuZaFS4PJr",
        "outputId": "3ef0798e-a98d-4a48-8485-f3fe19caa924"
      },
      "outputs": [
        {
          "output_type": "stream",
          "name": "stdout",
          "text": [
            "+--------------+----+----------+-----+--------+-----------+------------+-------------+------------+----------+----------------+\n",
            "|transaction_id|date|product_id|price|quantity|customer_id|product_name|customer_name|total_amount|thb_amount|customer_country|\n",
            "+--------------+----+----------+-----+--------+-----------+------------+-------------+------------+----------+----------------+\n",
            "+--------------+----+----------+-----+--------+-----------+------------+-------------+------------+----------+----------------+\n",
            "\n"
          ]
        }
      ],
      "source": [
        "dt_clean_v4.where( dt_clean_v4.customer_id.isNull() ).show()"
      ]
    },
    {
      "cell_type": "markdown",
      "metadata": {
        "id": "9za_tP624P6_"
      },
      "source": [
        "2.4.5 Outliers\n",
        "\n",
        "2.4.5.1 Use Boxplot to find outliers in product prices."
      ]
    },
    {
      "cell_type": "code",
      "execution_count": null,
      "metadata": {
        "collapsed": true,
        "id": "cTTSoXKZ4RIT"
      },
      "outputs": [],
      "source": [
        "sns.boxplot(x = dt_clean_v4.toPandas()['price'])"
      ]
    },
    {
      "cell_type": "markdown",
      "metadata": {
        "id": "S0PXvGZFYo5v"
      },
      "source": [
        "![Boxplot 2.JPG](data:image/jpeg;base64,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)"
      ]
    },
    {
      "cell_type": "markdown",
      "metadata": {
        "id": "QN9tTOVc4UhP"
      },
      "source": [
        "2.4.5.2 As you can see, there are many products that are priced higher than most of the data. Let's take a look at which products are priced over $600."
      ]
    },
    {
      "cell_type": "code",
      "execution_count": 183,
      "metadata": {
        "colab": {
          "base_uri": "https://localhost:8080/"
        },
        "id": "mi1RAqy_4WCn",
        "outputId": "f0cdddff-2938-4081-f687-c82ae03a026e"
      },
      "outputs": [
        {
          "output_type": "stream",
          "name": "stdout",
          "text": [
            "+----------+----------------------------+------+\n",
            "|product_id|product_name                |price |\n",
            "+----------+----------------------------+------+\n",
            "|22656     |Vintage Blue Kitchen Cabinet|660.62|\n",
            "|22655     |Vintage Red Kitchen Cabinet |660.62|\n",
            "+----------+----------------------------+------+\n",
            "\n"
          ]
        }
      ],
      "source": [
        "dt_clean_v4.where( dt_clean_v4.price > 600 ).select(\"product_id\", \"product_name\", \"price\").distinct().show(truncate = False)"
      ]
    },
    {
      "cell_type": "markdown",
      "metadata": {
        "id": "Kdhem2TT4W_v"
      },
      "source": [
        "2.4.6 Clean Data with Spark SQL\n",
        "\n",
        "2.4.6.1 Convert data from Spark DataFrame to TempView."
      ]
    },
    {
      "cell_type": "code",
      "execution_count": 184,
      "metadata": {
        "colab": {
          "base_uri": "https://localhost:8080/"
        },
        "id": "-ESwRaq-4ZDD",
        "outputId": "f1857884-d13f-44e9-b5cc-adc066cf178d"
      },
      "outputs": [
        {
          "output_type": "stream",
          "name": "stdout",
          "text": [
            "+--------------+----------+----------+-----+--------+-----------+--------------------+----------------+-------------+------------------+------------------+\n",
            "|transaction_id|      date|product_id|price|quantity|customer_id|        product_name|customer_country|customer_name|      total_amount|        thb_amount|\n",
            "+--------------+----------+----------+-----+--------+-----------+--------------------+----------------+-------------+------------------+------------------+\n",
            "|        581482|2024-05-10|     22485|21.47|      12|    17490.0|Set Of 2 Wooden M...|  United Kingdom| Sara Griffin|            257.64|        11792.1828|\n",
            "|        581475|2024-05-10|     22596|10.65|      36|    13069.0|Christmas Star Wi...|  United Kingdom| Michael Holt|383.40000000000003|17548.218000000004|\n",
            "|        581475|2024-05-10|     23235|11.53|      12|    13069.0|Storage Tin Vinta...|  United Kingdom| Michael Holt|138.35999999999999|         6332.7372|\n",
            "|        581475|2024-05-10|     23272|10.65|      12|    13069.0|Tree T-Light Hold...|  United Kingdom| Michael Holt|127.80000000000001| 5849.406000000001|\n",
            "|        581475|2024-05-10|     23239|11.94|       6|    13069.0|Set Of 4 Knick Kn...|  United Kingdom| Michael Holt|             71.64|3278.9628000000002|\n",
            "|        581475|2024-05-10|     21705|10.65|      24|    13069.0|Bag 500g Swirly M...|  United Kingdom| Michael Holt|255.60000000000002|11698.812000000002|\n",
            "|        581475|2024-05-10|     22118|11.53|      18|    13069.0|Joy Wooden Block ...|  United Kingdom| Michael Holt|            207.54| 9499.105800000001|\n",
            "|        581475|2024-05-10|     22119|12.25|      12|    13069.0|Peace Wooden Bloc...|  United Kingdom| Michael Holt|             147.0|6728.1900000000005|\n",
            "|        581475|2024-05-10|     22217|10.65|      12|    13069.0|T-Light Holder Ha...|  United Kingdom| Michael Holt|127.80000000000001| 5849.406000000001|\n",
            "|        581475|2024-05-10|     22216|10.55|      24|    13069.0|T-Light Holder Wh...|  United Kingdom| Michael Holt|253.20000000000002|11588.964000000002|\n",
            "|        581475|2024-05-10|     22380|11.06|      20|    13069.0|   Toy Tidy Spaceboy|  United Kingdom| Michael Holt|221.20000000000002|10124.324000000002|\n",
            "|        581475|2024-05-10|     22442|12.25|      12|    13069.0|Grow Your Own Flo...|  United Kingdom| Michael Holt|             147.0|6728.1900000000005|\n",
            "|        581475|2024-05-10|     22664|11.06|      20|    13069.0|Toy Tidy Dolly Gi...|  United Kingdom| Michael Holt|221.20000000000002|10124.324000000002|\n",
            "|        581475|2024-05-10|     22721|12.25|      12|    13069.0|Set Of 3 Cake Tin...|  United Kingdom| Michael Holt|             147.0|6728.1900000000005|\n",
            "|        581475|2024-05-10|     22723|11.53|      12|    13069.0|Set Of 6 Herb Tin...|  United Kingdom| Michael Holt|138.35999999999999|         6332.7372|\n",
            "|        581475|2024-05-10|     22785|11.53|      12|    13069.0|Squarecushion Cov...|  United Kingdom| Michael Holt|138.35999999999999|         6332.7372|\n",
            "|        581475|2024-05-10|     22955|11.06|      24|    13069.0|36 Foil Star Cake...|  United Kingdom| Michael Holt|            265.44|        12149.1888|\n",
            "|        581475|2024-05-10|     23141|11.06|      12|    13069.0|Triple Wire Hook ...|  United Kingdom| Michael Holt|            132.72|         6074.5944|\n",
            "|        581475|2024-05-10|     22956|11.06|      24|    13069.0|36 Foil Heart Cak...|  United Kingdom| Michael Holt|            265.44|        12149.1888|\n",
            "|        581475|2024-05-10|     22581|10.55|      48|    13069.0|Wood Stocking Chr...|  United Kingdom| Michael Holt|506.40000000000003|23177.928000000004|\n",
            "+--------------+----------+----------+-----+--------+-----------+--------------------+----------------+-------------+------------------+------------------+\n",
            "only showing top 20 rows\n",
            "\n"
          ]
        }
      ],
      "source": [
        "dt.createOrReplaceTempView(\"data\")\n",
        "dt_sql = spark.sql(\"SELECT * FROM data\")\n",
        "\n",
        "dt_sql.show()"
      ]
    },
    {
      "cell_type": "markdown",
      "metadata": {
        "id": "rd642pq14bgD"
      },
      "source": [
        "2.4.6.2 Try converting the code for the country list to SQL."
      ]
    },
    {
      "cell_type": "code",
      "execution_count": 185,
      "metadata": {
        "colab": {
          "base_uri": "https://localhost:8080/"
        },
        "id": "EVynMEVl4fz_",
        "outputId": "7592bae7-60ef-4e55-f28e-6fc33e7ed088"
      },
      "outputs": [
        {
          "output_type": "stream",
          "name": "stdout",
          "text": [
            "+--------------------+\n",
            "|    customer_country|\n",
            "+--------------------+\n",
            "|           Australia|\n",
            "|             Austria|\n",
            "|             Bahrain|\n",
            "|             Belgium|\n",
            "|              Brazil|\n",
            "|              Canada|\n",
            "|     Channel Islands|\n",
            "|              Cyprus|\n",
            "|      Czech Republic|\n",
            "|             Denmark|\n",
            "|                EIRE|\n",
            "|  European Community|\n",
            "|             Finland|\n",
            "|              France|\n",
            "|             Germany|\n",
            "|              Greece|\n",
            "|           Hong Kong|\n",
            "|             Iceland|\n",
            "|              Israel|\n",
            "|               Italy|\n",
            "|               Japan|\n",
            "|              Japane|\n",
            "|             Lebanon|\n",
            "|           Lithuania|\n",
            "|               Malta|\n",
            "|         Netherlands|\n",
            "|              Norway|\n",
            "|              Poland|\n",
            "|            Portugal|\n",
            "|                 RSA|\n",
            "|        Saudi Arabia|\n",
            "|           Singapore|\n",
            "|               Spain|\n",
            "|              Sweden|\n",
            "|         Switzerland|\n",
            "|                 USA|\n",
            "|United Arab Emirates|\n",
            "|      United Kingdom|\n",
            "|         Unspecified|\n",
            "+--------------------+\n",
            "\n"
          ]
        }
      ],
      "source": [
        "dt_sql_country = spark.sql(\"\"\"\n",
        "SELECT distinct customer_country\n",
        "FROM data\n",
        "ORDER BY customer_country\n",
        "\"\"\")\n",
        "\n",
        "dt_sql_country.show(100)"
      ]
    },
    {
      "cell_type": "markdown",
      "metadata": {
        "id": "x-rhBq404h1T"
      },
      "source": [
        "2.4.6.3 Try converting the code to replace country names into SQL."
      ]
    },
    {
      "cell_type": "code",
      "execution_count": 186,
      "metadata": {
        "colab": {
          "base_uri": "https://localhost:8080/"
        },
        "id": "N3w6L_Y_4jhI",
        "outputId": "d8833a35-7f12-4ddb-d568-7bb811c476d7"
      },
      "outputs": [
        {
          "output_type": "stream",
          "name": "stdout",
          "text": [
            "+--------------+----------+----------+-----+--------+-----------+--------------------+----------------+-------------+------------------+------------------+\n",
            "|transaction_id|      date|product_id|price|quantity|customer_id|        product_name|customer_country|customer_name|      total_amount|        thb_amount|\n",
            "+--------------+----------+----------+-----+--------+-----------+--------------------+----------------+-------------+------------------+------------------+\n",
            "|        581482|2024-05-10|     22485|21.47|      12|    17490.0|Set Of 2 Wooden M...|  United Kingdom| Sara Griffin|            257.64|        11792.1828|\n",
            "|        581475|2024-05-10|     22596|10.65|      36|    13069.0|Christmas Star Wi...|  United Kingdom| Michael Holt|383.40000000000003|17548.218000000004|\n",
            "|        581475|2024-05-10|     23235|11.53|      12|    13069.0|Storage Tin Vinta...|  United Kingdom| Michael Holt|138.35999999999999|         6332.7372|\n",
            "|        581475|2024-05-10|     23272|10.65|      12|    13069.0|Tree T-Light Hold...|  United Kingdom| Michael Holt|127.80000000000001| 5849.406000000001|\n",
            "|        581475|2024-05-10|     23239|11.94|       6|    13069.0|Set Of 4 Knick Kn...|  United Kingdom| Michael Holt|             71.64|3278.9628000000002|\n",
            "|        581475|2024-05-10|     21705|10.65|      24|    13069.0|Bag 500g Swirly M...|  United Kingdom| Michael Holt|255.60000000000002|11698.812000000002|\n",
            "|        581475|2024-05-10|     22118|11.53|      18|    13069.0|Joy Wooden Block ...|  United Kingdom| Michael Holt|            207.54| 9499.105800000001|\n",
            "|        581475|2024-05-10|     22119|12.25|      12|    13069.0|Peace Wooden Bloc...|  United Kingdom| Michael Holt|             147.0|6728.1900000000005|\n",
            "|        581475|2024-05-10|     22217|10.65|      12|    13069.0|T-Light Holder Ha...|  United Kingdom| Michael Holt|127.80000000000001| 5849.406000000001|\n",
            "|        581475|2024-05-10|     22216|10.55|      24|    13069.0|T-Light Holder Wh...|  United Kingdom| Michael Holt|253.20000000000002|11588.964000000002|\n",
            "|        581475|2024-05-10|     22380|11.06|      20|    13069.0|   Toy Tidy Spaceboy|  United Kingdom| Michael Holt|221.20000000000002|10124.324000000002|\n",
            "|        581475|2024-05-10|     22442|12.25|      12|    13069.0|Grow Your Own Flo...|  United Kingdom| Michael Holt|             147.0|6728.1900000000005|\n",
            "|        581475|2024-05-10|     22664|11.06|      20|    13069.0|Toy Tidy Dolly Gi...|  United Kingdom| Michael Holt|221.20000000000002|10124.324000000002|\n",
            "|        581475|2024-05-10|     22721|12.25|      12|    13069.0|Set Of 3 Cake Tin...|  United Kingdom| Michael Holt|             147.0|6728.1900000000005|\n",
            "|        581475|2024-05-10|     22723|11.53|      12|    13069.0|Set Of 6 Herb Tin...|  United Kingdom| Michael Holt|138.35999999999999|         6332.7372|\n",
            "|        581475|2024-05-10|     22785|11.53|      12|    13069.0|Squarecushion Cov...|  United Kingdom| Michael Holt|138.35999999999999|         6332.7372|\n",
            "|        581475|2024-05-10|     22955|11.06|      24|    13069.0|36 Foil Star Cake...|  United Kingdom| Michael Holt|            265.44|        12149.1888|\n",
            "|        581475|2024-05-10|     23141|11.06|      12|    13069.0|Triple Wire Hook ...|  United Kingdom| Michael Holt|            132.72|         6074.5944|\n",
            "|        581475|2024-05-10|     22956|11.06|      24|    13069.0|36 Foil Heart Cak...|  United Kingdom| Michael Holt|            265.44|        12149.1888|\n",
            "|        581475|2024-05-10|     22581|10.55|      48|    13069.0|Wood Stocking Chr...|  United Kingdom| Michael Holt|506.40000000000003|23177.928000000004|\n",
            "+--------------+----------+----------+-----+--------+-----------+--------------------+----------------+-------------+------------------+------------------+\n",
            "only showing top 20 rows\n",
            "\n"
          ]
        }
      ],
      "source": [
        "dt_sql_transform = spark.sql(\"\"\"\n",
        "SELECT\n",
        "    transaction_id,\n",
        "    date,\n",
        "    product_id,\n",
        "    price,\n",
        "    quantity,\n",
        "    customer_id,\n",
        "    product_name,\n",
        "    CASE WHEN customer_country = 'Japane' THEN 'Japan' ELSE customer_country END AS customer_country,\n",
        "    customer_name,\n",
        "    total_amount,\n",
        "    thb_amount\n",
        "FROM\n",
        "    data\n",
        "\"\"\")\n",
        "\n",
        "dt_sql_transform.show()"
      ]
    },
    {
      "cell_type": "markdown",
      "metadata": {
        "id": "A_48e04I4oVL"
      },
      "source": [
        "2.4.6.4 Check the result"
      ]
    },
    {
      "cell_type": "code",
      "execution_count": 187,
      "metadata": {
        "colab": {
          "base_uri": "https://localhost:8080/"
        },
        "id": "HP3dHq9j4tL7",
        "outputId": "a4f29a2b-ac49-4a70-9572-137689660688"
      },
      "outputs": [
        {
          "output_type": "stream",
          "name": "stdout",
          "text": [
            "+--------------------+\n",
            "|    customer_country|\n",
            "+--------------------+\n",
            "|           Australia|\n",
            "|             Austria|\n",
            "|             Bahrain|\n",
            "|             Belgium|\n",
            "|              Brazil|\n",
            "|              Canada|\n",
            "|     Channel Islands|\n",
            "|              Cyprus|\n",
            "|      Czech Republic|\n",
            "|             Denmark|\n",
            "|                EIRE|\n",
            "|  European Community|\n",
            "|             Finland|\n",
            "|              France|\n",
            "|             Germany|\n",
            "|              Greece|\n",
            "|           Hong Kong|\n",
            "|             Iceland|\n",
            "|              Israel|\n",
            "|               Italy|\n",
            "|               Japan|\n",
            "|             Lebanon|\n",
            "|           Lithuania|\n",
            "|               Malta|\n",
            "|         Netherlands|\n",
            "|              Norway|\n",
            "|              Poland|\n",
            "|            Portugal|\n",
            "|                 RSA|\n",
            "|        Saudi Arabia|\n",
            "|           Singapore|\n",
            "|               Spain|\n",
            "|              Sweden|\n",
            "|         Switzerland|\n",
            "|                 USA|\n",
            "|United Arab Emirates|\n",
            "|      United Kingdom|\n",
            "|         Unspecified|\n",
            "+--------------------+\n",
            "\n"
          ]
        }
      ],
      "source": [
        "dt_sql_transform.select(\"customer_country\").distinct().sort(\"customer_country\").show(50)"
      ]
    },
    {
      "cell_type": "markdown",
      "metadata": {
        "id": "vqu-u0gI4zLn"
      },
      "source": [
        "2.4.7 Find out if product_id is all 5 letters with SQL."
      ]
    },
    {
      "cell_type": "code",
      "execution_count": 188,
      "metadata": {
        "colab": {
          "base_uri": "https://localhost:8080/"
        },
        "id": "XGW0VmZN41YD",
        "outputId": "c7b650f8-3292-4a56-f977-0ae3ff83acac"
      },
      "outputs": [
        {
          "output_type": "stream",
          "name": "stdout",
          "text": [
            "+--------------+----------+----------+-----+--------+-----------+--------------------+----------------+--------------+------------------+------------------+\n",
            "|transaction_id|      date|product_id|price|quantity|customer_id|        product_name|customer_country| customer_name|      total_amount|        thb_amount|\n",
            "+--------------+----------+----------+-----+--------+-----------+--------------------+----------------+--------------+------------------+------------------+\n",
            "|        581476|2024-05-10|    84596F|10.68|      32|    12433.0|Small Marshmallow...|          Norway|Kelli Sandoval|            341.76|        15642.3552|\n",
            "|        581476|2024-05-10|    84596B|10.68|      16|    12433.0|Small Dolly Mix D...|          Norway|Kelli Sandoval|            170.88|         7821.1776|\n",
            "|        581476|2024-05-10|    84510A|11.53|      20|    12433.0|Set Of 4 English ...|          Norway|Kelli Sandoval|             230.6|         10554.562|\n",
            "|        581476|2024-05-10|    47559B|11.53|      10|    12433.0| Tea Time Oven Glove|          Norway|Kelli Sandoval|             115.3|          5277.281|\n",
            "|        581476|2024-05-10|    47504H|11.06|      36|    12433.0|English Rose Spir...|          Norway|Kelli Sandoval|            398.16|        18223.7832|\n",
            "|        581477|2024-05-10|    84970L|11.53|      12|    13426.0|Single Heart Zinc...|  United Kingdom| Dalton Graves|138.35999999999999|         6332.7372|\n",
            "|        581478|2024-05-10|    84997C| 14.5|       4|    17364.0|Childrens Cutlery...|  United Kingdom|Michelle James|              58.0|2654.6600000000003|\n",
            "|        581478|2024-05-10|    84997D| 14.5|       4|    17364.0|Childrens Cutlery...|  United Kingdom|Michelle James|              58.0|2654.6600000000003|\n",
            "|        581480|2024-05-10|    84029E|14.61|       8|    14441.0|Red Woolly Hottie...|  United Kingdom|   Thomas Hull|            116.88|         5349.5976|\n",
            "|        581480|2024-05-10|    84029G|14.61|      12|    14441.0|Knitted Union Fla...|  United Kingdom|   Thomas Hull|            175.32|8024.3964000000005|\n",
            "|        581486|2024-05-10|    85099B| 6.19|      10|    17001.0|Jumbo Bag Red Ret...|  United Kingdom|  Kayla Stuart|61.900000000000006|2833.1630000000005|\n",
            "|        581492|2024-05-10|    35095A| 6.19|       1|    15492.0|Blue Victorian Fa...|  United Kingdom| April Simmons|              6.19|          283.3163|\n",
            "|        581492|2024-05-10|    35095B| 6.19|       1|    15492.0|Red Victorian Fab...|  United Kingdom| April Simmons|              6.19|          283.3163|\n",
            "|        581492|2024-05-10|    46776A| 7.24|       2|    15492.0|Woven Bubble Gum ...|  United Kingdom| April Simmons|             14.48| 662.7496000000001|\n",
            "|        581492|2024-05-10|    46776B| 7.24|       3|    15492.0|Woven Berries Cus...|  United Kingdom| April Simmons|             21.72|          994.1244|\n",
            "|        581492|2024-05-10|    46776C| 7.24|       1|    15492.0|Woven Frost Cushi...|  United Kingdom| April Simmons|              7.24|331.37480000000005|\n",
            "|        581492|2024-05-10|    46776D| 7.24|       2|    15492.0|Woven Sunset Cush...|  United Kingdom| April Simmons|             14.48| 662.7496000000001|\n",
            "|        581492|2024-05-10|    46776E| 7.24|       5|    15492.0|Woven Candy Cushi...|  United Kingdom| April Simmons|              36.2|1656.8740000000003|\n",
            "|        581492|2024-05-10|    46776F| 7.24|       6|    15492.0|Woven Rose Garden...|  United Kingdom| April Simmons|             43.44|         1988.2488|\n",
            "|        581492|2024-05-10|    47310M| 6.19|       1|    15492.0|Small Pop Box Fun...|  United Kingdom| April Simmons|              6.19|          283.3163|\n",
            "+--------------+----------+----------+-----+--------+-----------+--------------------+----------------+--------------+------------------+------------------+\n",
            "only showing top 20 rows\n",
            "\n"
          ]
        }
      ],
      "source": [
        "dt_sql_check_productid = spark.sql(\"\"\"\n",
        "SELECT *\n",
        "FROM data\n",
        "WHERE product_id NOT RLIKE '^.{5}$'\n",
        "\"\"\").show()"
      ]
    },
    {
      "cell_type": "markdown",
      "metadata": {
        "id": "uAKE7YpI43pD"
      },
      "source": [
        "2.4.7.1 Use CASE WHEN to replace the product_id value."
      ]
    },
    {
      "cell_type": "code",
      "execution_count": 189,
      "metadata": {
        "colab": {
          "base_uri": "https://localhost:8080/"
        },
        "id": "u0FFmoPG45AD",
        "outputId": "45d6af58-9db2-4960-ba39-6413eb24d468"
      },
      "outputs": [
        {
          "output_type": "stream",
          "name": "stdout",
          "text": [
            "+--------------+----------+----------+-----+--------+-----------+--------------------+----------------+-------------+------------------+------------------+\n",
            "|transaction_id|      date|product_id|price|quantity|customer_id|        product_name|customer_country|customer_name|      total_amount|        thb_amount|\n",
            "+--------------+----------+----------+-----+--------+-----------+--------------------+----------------+-------------+------------------+------------------+\n",
            "|        581482|2024-05-10|     22485|21.47|      12|    17490.0|Set Of 2 Wooden M...|  United Kingdom| Sara Griffin|            257.64|        11792.1828|\n",
            "|        581475|2024-05-10|     22596|10.65|      36|    13069.0|Christmas Star Wi...|  United Kingdom| Michael Holt|383.40000000000003|17548.218000000004|\n",
            "|        581475|2024-05-10|     23235|11.53|      12|    13069.0|Storage Tin Vinta...|  United Kingdom| Michael Holt|138.35999999999999|         6332.7372|\n",
            "|        581475|2024-05-10|     23272|10.65|      12|    13069.0|Tree T-Light Hold...|  United Kingdom| Michael Holt|127.80000000000001| 5849.406000000001|\n",
            "|        581475|2024-05-10|     23239|11.94|       6|    13069.0|Set Of 4 Knick Kn...|  United Kingdom| Michael Holt|             71.64|3278.9628000000002|\n",
            "|        581475|2024-05-10|     21705|10.65|      24|    13069.0|Bag 500g Swirly M...|  United Kingdom| Michael Holt|255.60000000000002|11698.812000000002|\n",
            "|        581475|2024-05-10|     22118|11.53|      18|    13069.0|Joy Wooden Block ...|  United Kingdom| Michael Holt|            207.54| 9499.105800000001|\n",
            "|        581475|2024-05-10|     22119|12.25|      12|    13069.0|Peace Wooden Bloc...|  United Kingdom| Michael Holt|             147.0|6728.1900000000005|\n",
            "|        581475|2024-05-10|     22217|10.65|      12|    13069.0|T-Light Holder Ha...|  United Kingdom| Michael Holt|127.80000000000001| 5849.406000000001|\n",
            "|        581475|2024-05-10|     22216|10.55|      24|    13069.0|T-Light Holder Wh...|  United Kingdom| Michael Holt|253.20000000000002|11588.964000000002|\n",
            "|        581475|2024-05-10|     22380|11.06|      20|    13069.0|   Toy Tidy Spaceboy|  United Kingdom| Michael Holt|221.20000000000002|10124.324000000002|\n",
            "|        581475|2024-05-10|     22442|12.25|      12|    13069.0|Grow Your Own Flo...|  United Kingdom| Michael Holt|             147.0|6728.1900000000005|\n",
            "|        581475|2024-05-10|     22664|11.06|      20|    13069.0|Toy Tidy Dolly Gi...|  United Kingdom| Michael Holt|221.20000000000002|10124.324000000002|\n",
            "|        581475|2024-05-10|     22721|12.25|      12|    13069.0|Set Of 3 Cake Tin...|  United Kingdom| Michael Holt|             147.0|6728.1900000000005|\n",
            "|        581475|2024-05-10|     22723|11.53|      12|    13069.0|Set Of 6 Herb Tin...|  United Kingdom| Michael Holt|138.35999999999999|         6332.7372|\n",
            "|        581475|2024-05-10|     22785|11.53|      12|    13069.0|Squarecushion Cov...|  United Kingdom| Michael Holt|138.35999999999999|         6332.7372|\n",
            "|        581475|2024-05-10|     22955|11.06|      24|    13069.0|36 Foil Star Cake...|  United Kingdom| Michael Holt|            265.44|        12149.1888|\n",
            "|        581475|2024-05-10|     23141|11.06|      12|    13069.0|Triple Wire Hook ...|  United Kingdom| Michael Holt|            132.72|         6074.5944|\n",
            "|        581475|2024-05-10|     22956|11.06|      24|    13069.0|36 Foil Heart Cak...|  United Kingdom| Michael Holt|            265.44|        12149.1888|\n",
            "|        581475|2024-05-10|     22581|10.55|      48|    13069.0|Wood Stocking Chr...|  United Kingdom| Michael Holt|506.40000000000003|23177.928000000004|\n",
            "+--------------+----------+----------+-----+--------+-----------+--------------------+----------------+-------------+------------------+------------------+\n",
            "only showing top 20 rows\n",
            "\n"
          ]
        }
      ],
      "source": [
        "dt_sql_productid_clean = spark.sql(\"\"\"\n",
        "SELECT\n",
        "    transaction_id,\n",
        "    date,\n",
        "    CASE\n",
        "      WHEN length(product_id) > 5\n",
        "      THEN substr(product_id, 1, 5)\n",
        "      ELSE product_id\n",
        "    END AS product_id,\n",
        "    price,\n",
        "    quantity,\n",
        "    customer_id,\n",
        "    product_name,\n",
        "    customer_country,\n",
        "    customer_name,\n",
        "    total_amount,\n",
        "    thb_amount\n",
        "FROM\n",
        "    data\n",
        "\"\"\")\n",
        "dt_sql_productid_clean.show()"
      ]
    },
    {
      "cell_type": "markdown",
      "metadata": {
        "id": "RrUpy6rq47h7"
      },
      "source": [
        "2.2.7.2 Check the result"
      ]
    },
    {
      "cell_type": "code",
      "execution_count": 190,
      "metadata": {
        "colab": {
          "base_uri": "https://localhost:8080/"
        },
        "id": "UXlPwuqq48pL",
        "outputId": "0e6571e5-ec22-4176-94ed-c47b5cb4c955"
      },
      "outputs": [
        {
          "output_type": "stream",
          "name": "stdout",
          "text": [
            "+--------------+----+----------+-----+--------+-----------+------------+----------------+-------------+------------+----------+\n",
            "|transaction_id|date|product_id|price|quantity|customer_id|product_name|customer_country|customer_name|total_amount|thb_amount|\n",
            "+--------------+----+----------+-----+--------+-----------+------------+----------------+-------------+------------+----------+\n",
            "+--------------+----+----------+-----+--------+-----------+------------+----------------+-------------+------------+----------+\n",
            "\n"
          ]
        }
      ],
      "source": [
        "dt_sql_productid_clean.filter(~dt_sql_productid_clean[\"product_id\"].rlike(\"^.{5}$\")).show()"
      ]
    },
    {
      "cell_type": "markdown",
      "metadata": {
        "id": "6n3FrgqX493b"
      },
      "source": [
        "2.2.8 Parquet Export"
      ]
    },
    {
      "cell_type": "code",
      "execution_count": 193,
      "metadata": {
        "id": "YXZT_p7g4-8v"
      },
      "outputs": [],
      "source": [
        "dt_clean.write.parquet(\"cleaned_data.parquet\")"
      ]
    },
    {
      "cell_type": "markdown",
      "metadata": {
        "id": "jeYkee6F5A60"
      },
      "source": [
        "2.2.8.1 Test read file"
      ]
    },
    {
      "cell_type": "code",
      "execution_count": 194,
      "metadata": {
        "colab": {
          "base_uri": "https://localhost:8080/"
        },
        "id": "76JcYN6p5Bm_",
        "outputId": "8abb423b-c87d-438b-8362-5a2b1c98623c"
      },
      "outputs": [
        {
          "output_type": "stream",
          "name": "stdout",
          "text": [
            "+--------------+-------------------+----------+-----+--------+-----------+--------------------+----------------+-------------+------------------+------------------+\n",
            "|transaction_id|               date|product_id|price|quantity|customer_id|        product_name|customer_country|customer_name|      total_amount|        thb_amount|\n",
            "+--------------+-------------------+----------+-----+--------+-----------+--------------------+----------------+-------------+------------------+------------------+\n",
            "|        581482|2024-05-10 00:00:00|     22485|21.47|      12|    17490.0|Set Of 2 Wooden M...|  United Kingdom| Sara Griffin|            257.64|        11792.1828|\n",
            "|        581475|2024-05-10 00:00:00|     22596|10.65|      36|    13069.0|Christmas Star Wi...|  United Kingdom| Michael Holt|383.40000000000003|17548.218000000004|\n",
            "|        581475|2024-05-10 00:00:00|     23235|11.53|      12|    13069.0|Storage Tin Vinta...|  United Kingdom| Michael Holt|138.35999999999999|         6332.7372|\n",
            "|        581475|2024-05-10 00:00:00|     23272|10.65|      12|    13069.0|Tree T-Light Hold...|  United Kingdom| Michael Holt|127.80000000000001| 5849.406000000001|\n",
            "|        581475|2024-05-10 00:00:00|     23239|11.94|       6|    13069.0|Set Of 4 Knick Kn...|  United Kingdom| Michael Holt|             71.64|3278.9628000000002|\n",
            "|        581475|2024-05-10 00:00:00|     21705|10.65|      24|    13069.0|Bag 500g Swirly M...|  United Kingdom| Michael Holt|255.60000000000002|11698.812000000002|\n",
            "|        581475|2024-05-10 00:00:00|     22118|11.53|      18|    13069.0|Joy Wooden Block ...|  United Kingdom| Michael Holt|            207.54| 9499.105800000001|\n",
            "|        581475|2024-05-10 00:00:00|     22119|12.25|      12|    13069.0|Peace Wooden Bloc...|  United Kingdom| Michael Holt|             147.0|6728.1900000000005|\n",
            "|        581475|2024-05-10 00:00:00|     22217|10.65|      12|    13069.0|T-Light Holder Ha...|  United Kingdom| Michael Holt|127.80000000000001| 5849.406000000001|\n",
            "|        581475|2024-05-10 00:00:00|     22216|10.55|      24|    13069.0|T-Light Holder Wh...|  United Kingdom| Michael Holt|253.20000000000002|11588.964000000002|\n",
            "+--------------+-------------------+----------+-----+--------+-----------+--------------------+----------------+-------------+------------------+------------------+\n",
            "only showing top 10 rows\n",
            "\n"
          ]
        }
      ],
      "source": [
        "dt2 = spark.read.parquet(\"cleaned_data.parquet\")\n",
        "dt2.show(10)"
      ]
    }
  ],
  "metadata": {
    "colab": {
      "provenance": []
    },
    "kernelspec": {
      "display_name": "Python 3",
      "name": "python3"
    },
    "language_info": {
      "name": "python"
    }
  },
  "nbformat": 4,
  "nbformat_minor": 0
}