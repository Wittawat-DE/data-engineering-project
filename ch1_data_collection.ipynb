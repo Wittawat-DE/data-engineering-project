{
 "cells": [
  {
   "cell_type": "markdown",
   "id": "85fc818a",
   "metadata": {},
   "source": [
    "# Chapter 1: Data Collection"
   ]
  },
  {
   "cell_type": "code",
   "execution_count": null,
   "id": "3b47113d",
   "metadata": {},
   "outputs": [],
   "source": [
    "!pip install pymysql"
   ]
  },
  {
   "cell_type": "code",
   "execution_count": null,
   "id": "0dd7dd79",
   "metadata": {},
   "outputs": [],
   "source": [
    "from google.colab import userdata\n",
    "class Config:\n",
    "    MYSQL_HOST = userdata.get(\"MYSQL_HOST\")\n",
    "    MYSQL_PORT = userdata.get(\"MYSQL_PORT\")\n",
    "    MYSQL_USER = userdata.get(\"MYSQL_USER\")\n",
    "    MYSQL_PASSWORD = userdata.get(\"MYSQL_PASSWORD\")\n",
    "    MYSQL_DB = 'r2de3'\n",
    "    MYSQL_CHARSET = 'utf8mb4'"
   ]
  },
  {
   "cell_type": "code",
   "execution_count": null,
   "id": "c05b0f39",
   "metadata": {},
   "outputs": [],
   "source": [
    "import sqlalchemy\n",
    "engine = sqlalchemy.create_engine(\n",
    "    \"mysql+pymysql://{user}:{password}@{host}:{port}/{db}\".format(\n",
    "        user=Config.MYSQL_USER,\n",
    "        password=Config.MYSQL_PASSWORD,\n",
    "        host=Config.MYSQL_HOST,\n",
    "        port=Config.MYSQL_PORT,\n",
    "        db=Config.MYSQL_DB,\n",
    "    )\n",
    ")"
   ]
  },
  {
   "cell_type": "code",
   "execution_count": null,
   "id": "3a3fe658",
   "metadata": {},
   "outputs": [],
   "source": [
    "with engine.connect() as connection:\n",
    "    result = connection.execute(sqlalchemy.text(\"show tables;\")).fetchall()\n",
    "result"
   ]
  },
  {
   "cell_type": "code",
   "execution_count": null,
   "id": "57a0023d",
   "metadata": {},
   "outputs": [],
   "source": [
    "with engine.connect() as connection:\n",
    "    desc_transaction = connection.execute(sqlalchemy.text(\"describe transaction\")).fetchall()\n",
    "    desc_customer = connection.execute(sqlalchemy.text(\"describe customer\")).fetchall()\n",
    "    desc_product = connection.execute(sqlalchemy.text(\"describe product\")).fetchall()\n",
    "print(\"== transaction ==\")\n",
    "print(desc_transaction)\n",
    "print(\"== customer ==\")\n",
    "print(desc_customer)\n",
    "print(\"== product ==\")\n",
    "print(desc_product)"
   ]
  },
  {
   "cell_type": "code",
   "execution_count": null,
   "id": "3defb27d",
   "metadata": {},
   "outputs": [],
   "source": [
    "import pandas as pd\n",
    "\n",
    "with engine.connect() as connection:\n",
    "    product_result = connection.execute(sqlalchemy.text(\"SELECT * FROM r2de3.product;\")).fetchall()\n",
    "\n",
    "product = pd.DataFrame(product_result)\n",
    "product = product.set_index(\"ProductNo\")"
   ]
  },
  {
   "cell_type": "code",
   "execution_count": null,
   "id": "b3dcfa01",
   "metadata": {},
   "outputs": [],
   "source": [
    "customer = pd.read_sql(\"SELECT * FROM r2de3.customer\", engine)\n",
    "transaction = pd.read_sql(\"SELECT * FROM r2de3.transaction\", engine)"
   ]
  },
  {
   "cell_type": "code",
   "execution_count": null,
   "id": "2f1e7091",
   "metadata": {},
   "outputs": [],
   "source": [
    "merged_transaction = transaction.merge(product, how=\"left\", left_on=\"ProductNo\", right_on=\"ProductNo\")\\\n",
    "    .merge(customer, how=\"left\", left_on=\"CustomerNo\", right_on=\"CustomerNo\")\n",
    "merged_transaction"
   ]
  },
  {
   "cell_type": "code",
   "execution_count": null,
   "id": "6f5b116f",
   "metadata": {},
   "outputs": [],
   "source": [
    "import requests\n",
    "\n",
    "url = \"https://r2de3-currency-api-vmftiryt6q-as.a.run.app/gbp_thb\"\n",
    "r = requests.get(url)\n",
    "result_conversion_rate = r.json()\n",
    "conversion_rate = pd.DataFrame(result_conversion_rate)\n",
    "conversion_rate = conversion_rate.drop(columns=['id'])\n",
    "conversion_rate['date'] = pd.to_datetime(conversion_rate['date'])\n",
    "conversion_rate.head()"
   ]
  },
  {
   "cell_type": "code",
   "execution_count": null,
   "id": "4d19bbef",
   "metadata": {},
   "outputs": [],
   "source": [
    "final_df = merged_transaction.merge(conversion_rate, how=\"left\", left_on=\"Date\", right_on=\"date\")\n",
    "final_df[\"total_amount\"] = final_df[\"Price\"] * final_df[\"Quantity\"]\n",
    "final_df[\"thb_amount\"] = final_df[\"total_amount\"] * final_df[\"gbp_thb\"]"
   ]
  },
  {
   "cell_type": "code",
   "execution_count": null,
   "id": "9766b884",
   "metadata": {},
   "outputs": [],
   "source": [
    "def convert_rate(price, rate):\n",
    "    return price * rate\n",
    "\n",
    "final_df[\"thb_amount\"] = final_df.apply(lambda row: convert_rate(row[\"total_amount\"], row[\"gbp_thb\"]), axis=1)"
   ]
  },
  {
   "cell_type": "code",
   "execution_count": null,
   "id": "51acbcd1",
   "metadata": {},
   "outputs": [],
   "source": [
    "final_df = final_df.drop([\"date\", \"gbp_thb\"], axis=1)\n",
    "final_df.columns = ['transaction_id', 'date', 'product_id', 'price', 'quantity', 'customer_id',\n",
    "                    'product_name', 'customer_country', 'customer_name',\n",
    "                    'total_amount', 'thb_amount']\n",
    "final_df"
   ]
  },
  {
   "cell_type": "code",
   "execution_count": null,
   "id": "692aa92e",
   "metadata": {},
   "outputs": [],
   "source": [
    "final_df.to_parquet(\"output.parquet\", index=False)\n",
    "final_df.to_csv(\"output.csv\", index=False)"
   ]
  }
 ],
 "metadata": {},
 "nbformat": 4,
 "nbformat_minor": 5
}